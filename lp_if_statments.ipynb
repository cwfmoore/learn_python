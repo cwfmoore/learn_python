{
 "cells": [
  {
   "cell_type": "code",
   "execution_count": 1,
   "id": "84663875",
   "metadata": {
    "slideshow": {
     "slide_type": "skip"
    }
   },
   "outputs": [],
   "source": [
    "# !pip install rich\n",
    "from rich import print"
   ]
  },
  {
   "cell_type": "markdown",
   "id": "41d93e7f",
   "metadata": {
    "slideshow": {
     "slide_type": "slide"
    }
   },
   "source": [
    "# <span style='color: blue'>Learn Python</span> - If Statements\n",
    "\n",
    "- [Basic Syntax](##basic-syntax)\n",
    "- [Comparison Operators](##comparison-operators)\n",
    "- [Logical Operators](##logical-operators)\n",
    "- [If-Else Statements](##if-else-statements)\n",
    "- [Nested If Statements](##nested-if-statements)\n",
    "- [Chained If Statements](##chained-if-statements)"
   ]
  },
  {
   "cell_type": "markdown",
   "id": "b460e7de",
   "metadata": {
    "slideshow": {
     "slide_type": "skip"
    }
   },
   "source": [
    "<span style='color: blue'>**Click**</span> on a link from the above menu to <span style='color: blue'>**go to that section**</span>"
   ]
  },
  {
   "cell_type": "markdown",
   "id": "bf74eb33",
   "metadata": {
    "slideshow": {
     "slide_type": "slide"
    }
   },
   "source": [
    "## <span style='color: blue'>**Basic Syntax**</span> <a id='#basic-syntax'></a>\n",
    "\n",
    "The <span style='color: blue'>**if statement**</span> is used to execute code <span style='color: magenta'>**conditionally**</span>. It starts with the <span style='color: blue'>**if keywords**</span>, followed by a <span style='color: magenta'>**condition**</span> and <span style='color: magenta'>**code to execute**</span> if the condition is <span style='color: magenta'>**true**</span> or <span style='color: magenta'>**false**</span>.\n",
    "\n",
    "The <span style='color: magenta'>**indented block of code**</span> is executed if the condition is true."
   ]
  },
  {
   "cell_type": "code",
   "execution_count": 2,
   "id": "bbe49971",
   "metadata": {
    "slideshow": {
     "slide_type": "-"
    }
   },
   "outputs": [
    {
     "data": {
      "text/html": [
       "<pre style=\"white-space:pre;overflow-x:auto;line-height:normal;font-family:Menlo,'DejaVu Sans Mono',consolas,'Courier New',monospace\">The animal is a dog\n",
       "</pre>\n"
      ],
      "text/plain": [
       "The animal is a dog\n"
      ]
     },
     "metadata": {},
     "output_type": "display_data"
    }
   ],
   "source": [
    "animal = 'dog'\n",
    "\n",
    "if animal == 'dog':\n",
    "    print('The animal is a dog')"
   ]
  },
  {
   "cell_type": "markdown",
   "id": "f5153d41",
   "metadata": {
    "slideshow": {
     "slide_type": "fragment"
    }
   },
   "source": [
    "- Check if the value of <span style='color: magenta'>**animal**</span> is equal to the string <span style='color: magenta'>**dog**</span> using an <span style='color: blue'>**if**</span> statement.\n",
    "- If the value of <span style='color: magenta'>**animals**</span> is equal to <span style='color: magenta'>**dog**</span>, print the string <span style='color: magenta'>**The animal is a dog**</span>."
   ]
  },
  {
   "cell_type": "markdown",
   "id": "bfd8a9f2",
   "metadata": {
    "slideshow": {
     "slide_type": "slide"
    }
   },
   "source": [
    "## <span style='color: blue'>**Comparision Operators**</span> <a id='#comparison-operators'></a> \n",
    "\n",
    "In Python <span style='color: blue'>**comparison operators**</span> (<span style='color: blue'>**comparators**</span>) are symbols used in programming to <span style='color: blue'>**compare values**</span> and determine whether they are equal, greater than, less than, or not equal to another value.\n",
    "\n",
    "| Operator | Description                  | Example     |\n",
    "| :--------: | :---------------------------- | :----------- |\n",
    "| ==       | Equal to                     | 5 == 5      |\n",
    "| !=       | Not equal to                 | 5 != 10     |\n",
    "| >        | Greater than                 | 10 > 5      |\n",
    "| <        | Less than                    | 5 < 10      |\n",
    "| >=       | Greater than or equal to     | 10 >= 10    |\n",
    "| <=       | Less than or equal to        | 5 <= 10     |\n"
   ]
  },
  {
   "cell_type": "markdown",
   "id": "aa3bc6e4",
   "metadata": {
    "slideshow": {
     "slide_type": "slide"
    }
   },
   "source": [
    "## <span style='color: blue'>**Logic Operators**</span> <a id='#logical-operators'></a>\n",
    "\n",
    "The <span style='color: blue'>**logic operators**</span> are symbols used in programming to <span style='color: magenta'>**combine multiple conditions**</span> and evaluate them as a <span style='color: magenta'>**single expression**</span>, returning a <span style='color: magenta'>**Boolean**</span> value of <span style='color: magenta'>**True**</span> or <span style='color: magenta'>**False**</span>. "
   ]
  },
  {
   "cell_type": "markdown",
   "id": "84a621e2",
   "metadata": {
    "slideshow": {
     "slide_type": "slide"
    }
   },
   "source": [
    "#### The <span style='color: blue'>**AND**</span> Operator\n",
    "\n",
    "Returns <span style='color: magenta'>**true**</span> if <span style='color: magenta'>**both expressions are true**</span>, otherwise <span style='color: magenta'>**returns false**</span>."
   ]
  },
  {
   "cell_type": "code",
   "execution_count": 3,
   "id": "15bbae0f",
   "metadata": {},
   "outputs": [
    {
     "data": {
      "text/html": [
       "<pre style=\"white-space:pre;overflow-x:auto;line-height:normal;font-family:Menlo,'DejaVu Sans Mono',consolas,'Courier New',monospace\">x is greater than <span style=\"color: #008080; text-decoration-color: #008080; font-weight: bold\">5</span> and less than <span style=\"color: #008080; text-decoration-color: #008080; font-weight: bold\">15</span>\n",
       "</pre>\n"
      ],
      "text/plain": [
       "x is greater than \u001b[1;36m5\u001b[0m and less than \u001b[1;36m15\u001b[0m\n"
      ]
     },
     "metadata": {},
     "output_type": "display_data"
    }
   ],
   "source": [
    "x = 10\n",
    "\n",
    "if x > 5 and x < 15:\n",
    "    print('x is greater than 5 and less than 15')"
   ]
  },
  {
   "cell_type": "markdown",
   "id": "a1302a68",
   "metadata": {
    "slideshow": {
     "slide_type": "slide"
    }
   },
   "source": [
    "#### The <span style='color: blue'>**OR**</span> Operator\n",
    "\n",
    "Returns <span style='color: magenta'>**true**</span> if <span style='color: magenta'>**at least one of the expressions is true**</span>, otherwise <span style='color: magenta'>**returns false**</span>."
   ]
  },
  {
   "cell_type": "code",
   "execution_count": 4,
   "id": "4998f523",
   "metadata": {},
   "outputs": [
    {
     "data": {
      "text/html": [
       "<pre style=\"white-space:pre;overflow-x:auto;line-height:normal;font-family:Menlo,'DejaVu Sans Mono',consolas,'Courier New',monospace\">x is greater than <span style=\"color: #008080; text-decoration-color: #008080; font-weight: bold\">5</span> or less than <span style=\"color: #008080; text-decoration-color: #008080; font-weight: bold\">9</span>\n",
       "</pre>\n"
      ],
      "text/plain": [
       "x is greater than \u001b[1;36m5\u001b[0m or less than \u001b[1;36m9\u001b[0m\n"
      ]
     },
     "metadata": {},
     "output_type": "display_data"
    }
   ],
   "source": [
    "x = 10\n",
    "\n",
    "if x > 5 or x < 9:\n",
    "    print('x is greater than 5 or less than 9')"
   ]
  },
  {
   "cell_type": "markdown",
   "id": "6b233f4f",
   "metadata": {
    "slideshow": {
     "slide_type": "slide"
    }
   },
   "source": [
    "#### The <span style='color: blue'>**NOT**</span> Operator\n",
    "\n",
    "Returns the <span style='color: magenta'>**opposite**</span> of the expression's value; <span style='color: magenta'>**true if false**</span>, <span style='color: magenta'>**false if true**</span>."
   ]
  },
  {
   "cell_type": "code",
   "execution_count": 5,
   "id": "c8fc40d2",
   "metadata": {},
   "outputs": [
    {
     "data": {
      "text/html": [
       "<pre style=\"white-space:pre;overflow-x:auto;line-height:normal;font-family:Menlo,'DejaVu Sans Mono',consolas,'Courier New',monospace\">x is not <span style=\"color: #008080; text-decoration-color: #008080; font-weight: bold\">5</span>\n",
       "</pre>\n"
      ],
      "text/plain": [
       "x is not \u001b[1;36m5\u001b[0m\n"
      ]
     },
     "metadata": {},
     "output_type": "display_data"
    }
   ],
   "source": [
    "x = 10\n",
    "\n",
    "if not x == 5:\n",
    "    print('x is not 5')"
   ]
  },
  {
   "cell_type": "markdown",
   "id": "3f9f2798",
   "metadata": {
    "slideshow": {
     "slide_type": "slide"
    }
   },
   "source": [
    "#### The <span style='color: blue'>**XOR**</span> Operator\n",
    "\n",
    "Returns <span style='color: magenta'>**true**</span> if only <span style='color: magenta'>**one of the expressions is true**</span>, otherwise returns <span style='color: magenta'>**false**</span>."
   ]
  },
  {
   "cell_type": "code",
   "execution_count": 6,
   "id": "e7a6509e",
   "metadata": {},
   "outputs": [
    {
     "data": {
      "text/html": [
       "<pre style=\"white-space:pre;overflow-x:auto;line-height:normal;font-family:Menlo,'DejaVu Sans Mono',consolas,'Courier New',monospace\">At least one value is equal to <span style=\"color: #00ff00; text-decoration-color: #00ff00; font-style: italic\">True</span>\n",
       "</pre>\n"
      ],
      "text/plain": [
       "At least one value is equal to \u001b[3;92mTrue\u001b[0m\n"
      ]
     },
     "metadata": {},
     "output_type": "display_data"
    }
   ],
   "source": [
    "x = True\n",
    "y = False\n",
    "\n",
    "if x ^ y:\n",
    "    print('At least one value is equal to True')"
   ]
  },
  {
   "cell_type": "markdown",
   "id": "b01791a8",
   "metadata": {
    "slideshow": {
     "slide_type": "slide"
    }
   },
   "source": [
    "Not that the <span style='color: blue'>**XOR**</span> operator requires use of its <span style='color: magenta'>**bitwise operator**</span>. Each logical operator has its own. \n",
    "\n",
    "Bitwise operators manipulate the binary representation of data by performing operations on the individual bits that make up the data."
   ]
  },
  {
   "cell_type": "markdown",
   "id": "dd4db5c3",
   "metadata": {},
   "source": [
    "| Logical Operator | Bitwise Operator | Description       |\n",
    "| :---------------: | :--------------: | :--------------- |\n",
    "|       and        |         &         | Returns \"True\" if both bits are \"True\", else returns \"False\". |\n",
    "|        or         |        &#124;        | Returns \"True\" if at least one bit is \"True\", else returns \"False\". |\n",
    "|       not        |         ~         | Flips all bits; returns \"False\" if the input is \"True\", and \"True\" if the input is \"False\". |\n",
    "|       xor        |         ^         | Returns \"True\" if exactly one bit is \"True\", else returns \"False\". |\n"
   ]
  },
  {
   "cell_type": "markdown",
   "id": "6d9e22db",
   "metadata": {
    "slideshow": {
     "slide_type": "slide"
    }
   },
   "source": [
    "## <span style='color: blue'>**If-Else Statements**</span> <a id='#if-else-statements'></a>\n",
    "\n",
    "Python <span style='color: blue'>**if-else statements**</span> are control structures in programming that execute a <span style='color: magenta'>**block of code if a condition is true**</span>, and <span style='color: magenta'>**another block of code if the condition is false**</span>."
   ]
  },
  {
   "cell_type": "code",
   "execution_count": 7,
   "id": "5b100c11",
   "metadata": {},
   "outputs": [
    {
     "data": {
      "text/html": [
       "<pre style=\"white-space:pre;overflow-x:auto;line-height:normal;font-family:Menlo,'DejaVu Sans Mono',consolas,'Courier New',monospace\">x is greater than y\n",
       "</pre>\n"
      ],
      "text/plain": [
       "x is greater than y\n"
      ]
     },
     "metadata": {},
     "output_type": "display_data"
    }
   ],
   "source": [
    "x = 10\n",
    "y = 5\n",
    "\n",
    "if x > y:\n",
    "    print(\"x is greater than y\")\n",
    "else:\n",
    "    print(\"y is greater than x\")"
   ]
  },
  {
   "cell_type": "markdown",
   "id": "f549813e",
   "metadata": {
    "slideshow": {
     "slide_type": "slide"
    }
   },
   "source": [
    "Python <span style='color: blue'>**elif statements**</span> allow for the evaluation of <span style='color: magenta'>**multiple conditions**</span> in a single if-else block."
   ]
  },
  {
   "cell_type": "code",
   "execution_count": 8,
   "id": "02fad3bf",
   "metadata": {},
   "outputs": [
    {
     "data": {
      "text/html": [
       "<pre style=\"white-space:pre;overflow-x:auto;line-height:normal;font-family:Menlo,'DejaVu Sans Mono',consolas,'Courier New',monospace\">x is positive\n",
       "</pre>\n"
      ],
      "text/plain": [
       "x is positive\n"
      ]
     },
     "metadata": {},
     "output_type": "display_data"
    }
   ],
   "source": [
    "x = 10\n",
    "\n",
    "if x < 0:\n",
    "    print(\"x is negative\")\n",
    "    \n",
    "elif x == 0:\n",
    "    print(\"x is zero\")\n",
    "    \n",
    "else:\n",
    "    print(\"x is positive\")"
   ]
  },
  {
   "cell_type": "markdown",
   "id": "195391d2",
   "metadata": {
    "slideshow": {
     "slide_type": "slide"
    }
   },
   "source": [
    "### <span style='color: blue'>**Nested If-Statements**</span> <a id='#nested-if-statments'></a>\n",
    "\n",
    "Nested <span style='color: blue'>**if statements**</span> allow for <span style='color: magenta'>**multiple conditions**</span> to be evaluated in a hierarchical manner by containing if <span style='color: magenta'>**statements within other if statements**</span>."
   ]
  },
  {
   "cell_type": "code",
   "execution_count": 9,
   "id": "3c630e74",
   "metadata": {},
   "outputs": [
    {
     "data": {
      "text/html": [
       "<pre style=\"white-space:pre;overflow-x:auto;line-height:normal;font-family:Menlo,'DejaVu Sans Mono',consolas,'Courier New',monospace\">x is positive\n",
       "</pre>\n"
      ],
      "text/plain": [
       "x is positive\n"
      ]
     },
     "metadata": {},
     "output_type": "display_data"
    },
    {
     "data": {
      "text/html": [
       "<pre style=\"white-space:pre;overflow-x:auto;line-height:normal;font-family:Menlo,'DejaVu Sans Mono',consolas,'Courier New',monospace\">x is greater than <span style=\"color: #008080; text-decoration-color: #008080; font-weight: bold\">5</span>\n",
       "</pre>\n"
      ],
      "text/plain": [
       "x is greater than \u001b[1;36m5\u001b[0m\n"
      ]
     },
     "metadata": {},
     "output_type": "display_data"
    }
   ],
   "source": [
    "x = 10\n",
    "\n",
    "if x > 0:\n",
    "    print(\"x is positive\")\n",
    "    \n",
    "    if x > 5:\n",
    "        print(\"x is greater than 5\")\n",
    "    else:\n",
    "        print(\"x is less than or equal to 5\")\n",
    "        \n",
    "else:\n",
    "    print(\"x is non-positive\")"
   ]
  },
  {
   "cell_type": "markdown",
   "id": "de0cbcf2",
   "metadata": {
    "slideshow": {
     "slide_type": "slide"
    }
   },
   "source": [
    "### <span style='color: blue'>**Chained If-Statments**</span> <a id='#chained-if-statements'></a>\n",
    "\n",
    "In Python <span style='color: blue'>**chained if statements**</span> check <span style='color: magenta'>**multiple conditions in sequence**</span> until one of them is <span style='color: magenta'>**true**</span>, and execute the corresponding code block."
   ]
  },
  {
   "cell_type": "code",
   "execution_count": 11,
   "id": "a2c052d5",
   "metadata": {},
   "outputs": [
    {
     "data": {
      "text/html": [
       "<pre style=\"white-space:pre;overflow-x:auto;line-height:normal;font-family:Menlo,'DejaVu Sans Mono',consolas,'Courier New',monospace\">x is medium\n",
       "</pre>\n"
      ],
      "text/plain": [
       "x is medium\n"
      ]
     },
     "metadata": {},
     "output_type": "display_data"
    }
   ],
   "source": [
    "x = 10\n",
    "\n",
    "if x < 0:\n",
    "    print(\"x is negative\")\n",
    "elif x == 0:\n",
    "    print(\"x is zero\")\n",
    "elif x < 10:\n",
    "    print(\"x is small\")\n",
    "elif x < 20:\n",
    "    print(\"x is medium\")\n",
    "else:\n",
    "    print(\"x is large\")\n"
   ]
  }
 ],
 "metadata": {
  "celltoolbar": "Slideshow",
  "kernelspec": {
   "display_name": "Python 3 (ipykernel)",
   "language": "python",
   "name": "python3"
  },
  "language_info": {
   "codemirror_mode": {
    "name": "ipython",
    "version": 3
   },
   "file_extension": ".py",
   "mimetype": "text/x-python",
   "name": "python",
   "nbconvert_exporter": "python",
   "pygments_lexer": "ipython3",
   "version": "3.11.1"
  }
 },
 "nbformat": 4,
 "nbformat_minor": 5
}
