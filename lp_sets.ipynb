{
 "cells": [
  {
   "cell_type": "code",
   "execution_count": 1,
   "id": "a1f79c65",
   "metadata": {
    "slideshow": {
     "slide_type": "skip"
    }
   },
   "outputs": [],
   "source": [
    "# !pip install rich\n",
    "from rich import print"
   ]
  },
  {
   "cell_type": "markdown",
   "id": "7a8a2b10",
   "metadata": {
    "slideshow": {
     "slide_type": "slide"
    }
   },
   "source": [
    "## <span style='color: blue'>Learn Python</span> - Sets\n",
    "\n",
    "- Creating Sets\n",
    "- Adding & Removing Elements\n",
    "- Set Operations (Union, Difference & Intersection)\n",
    "- Keywords & Functions\n",
    "- Subset Operators\n",
    "- Set Comprehensions"
   ]
  },
  {
   "cell_type": "markdown",
   "id": "0c85941d",
   "metadata": {
    "slideshow": {
     "slide_type": "slide"
    }
   },
   "source": [
    "<span style='color: blue'>**Creating Sets**</span>\n",
    "\n",
    "<span style='color: blue'>**Sets**</span> are <span style='color: magenta'>**unordered**</span> collections of <span style='color: magenta'>**unique**</span> elements, separated by <span style='color: magenta'>**commas**</span>, that can be created using the <span style='color: magenta'>**set()**</span> function.\n",
    "\n",
    "<span style='color: magenta'>**NOTE:**</span> that although the set uses curly braces an empty set cannot be created by using curly braces like so:\n",
    "```python\n",
    "    # Incorrect - This will create an empty dictionary.\n",
    "    new_set = {}\n",
    "    \n",
    "    # Correct\n",
    "    new_set = set()\n",
    "```"
   ]
  },
  {
   "cell_type": "markdown",
   "id": "f2297d92",
   "metadata": {
    "slideshow": {
     "slide_type": "slide"
    }
   },
   "source": [
    "<span style='color: blue'>**Adding & Removing Elements**</span>\n",
    "\n",
    "Adding elements to a <span style='color: blue'>**set**</span> can be done with the <span style='color: magenta'>**add()**</span> method."
   ]
  },
  {
   "cell_type": "code",
   "execution_count": 2,
   "id": "34721bd4",
   "metadata": {
    "slideshow": {
     "slide_type": "fragment"
    }
   },
   "outputs": [
    {
     "data": {
      "text/html": [
       "<pre style=\"white-space:pre;overflow-x:auto;line-height:normal;font-family:Menlo,'DejaVu Sans Mono',consolas,'Courier New',monospace\"><span style=\"font-weight: bold\">{</span><span style=\"color: #008000; text-decoration-color: #008000\">'Lamborghini'</span>, <span style=\"color: #008000; text-decoration-color: #008000\">'Bentley'</span>, <span style=\"color: #008000; text-decoration-color: #008000\">'Aston Martin'</span>, <span style=\"color: #008000; text-decoration-color: #008000\">'Ferrari'</span><span style=\"font-weight: bold\">}</span>\n",
       "</pre>\n"
      ],
      "text/plain": [
       "\u001b[1m{\u001b[0m\u001b[32m'Lamborghini'\u001b[0m, \u001b[32m'Bentley'\u001b[0m, \u001b[32m'Aston Martin'\u001b[0m, \u001b[32m'Ferrari'\u001b[0m\u001b[1m}\u001b[0m\n"
      ]
     },
     "metadata": {},
     "output_type": "display_data"
    }
   ],
   "source": [
    "# Create a populated set\n",
    "cars = {'Aston Martin', 'Bentley', 'Ferrari'}\n",
    "\n",
    "# Add a value with .add() method\n",
    "cars.add('Lamborghini')\n",
    "\n",
    "print(cars)"
   ]
  },
  {
   "cell_type": "markdown",
   "id": "5e2a434f",
   "metadata": {
    "slideshow": {
     "slide_type": "slide"
    }
   },
   "source": [
    "The <span style='color: blue'>**set**</span> method <span style='color: magenta'>**update()**</span> can add the elements from other <span style='color: magenta'>**sets**</span>, <span style='color: magenta'>**lists**</span>, <span style='color: magenta'>**tuples**</span> and <span style='color: magenta'>**dictionaries**</span>."
   ]
  },
  {
   "cell_type": "code",
   "execution_count": 3,
   "id": "ef187747",
   "metadata": {
    "slideshow": {
     "slide_type": "fragment"
    }
   },
   "outputs": [
    {
     "data": {
      "text/html": [
       "<pre style=\"white-space:pre;overflow-x:auto;line-height:normal;font-family:Menlo,'DejaVu Sans Mono',consolas,'Courier New',monospace\"><span style=\"font-weight: bold\">{</span><span style=\"color: #008000; text-decoration-color: #008000\">'Jaguar'</span>, <span style=\"color: #008000; text-decoration-color: #008000\">'BMW'</span>, <span style=\"color: #008000; text-decoration-color: #008000\">'Porsche'</span>, <span style=\"color: #008000; text-decoration-color: #008000\">'Ferrari'</span>, <span style=\"color: #008000; text-decoration-color: #008000\">'Aston Martin'</span>, <span style=\"color: #008000; text-decoration-color: #008000\">'Lexus'</span>, <span style=\"color: #008000; text-decoration-color: #008000\">'Bentley'</span><span style=\"font-weight: bold\">}</span>\n",
       "</pre>\n"
      ],
      "text/plain": [
       "\u001b[1m{\u001b[0m\u001b[32m'Jaguar'\u001b[0m, \u001b[32m'BMW'\u001b[0m, \u001b[32m'Porsche'\u001b[0m, \u001b[32m'Ferrari'\u001b[0m, \u001b[32m'Aston Martin'\u001b[0m, \u001b[32m'Lexus'\u001b[0m, \u001b[32m'Bentley'\u001b[0m\u001b[1m}\u001b[0m\n"
      ]
     },
     "metadata": {},
     "output_type": "display_data"
    }
   ],
   "source": [
    "# Create a populated set\n",
    "cars = {'Aston Martin', 'Bentley', 'Ferrari'}\n",
    "\n",
    "# Add more values with .update() and a set\n",
    "cars.update({'Lexus', 'Porsche'})\n",
    "\n",
    "# Add more values with .update() and a list\n",
    "cars.update(['BMW', 'Jaguar'])\n",
    "\n",
    "print(cars)"
   ]
  },
  {
   "cell_type": "markdown",
   "id": "3f71dca6",
   "metadata": {
    "slideshow": {
     "slide_type": "slide"
    }
   },
   "source": [
    "The <span style='color: blue'>**set**</span> method <span style='color: magenta'>**update()**</span> can take more than one data container as parameters."
   ]
  },
  {
   "cell_type": "code",
   "execution_count": 4,
   "id": "1cd07927",
   "metadata": {
    "slideshow": {
     "slide_type": "fragment"
    }
   },
   "outputs": [
    {
     "data": {
      "text/html": [
       "<pre style=\"white-space:pre;overflow-x:auto;line-height:normal;font-family:Menlo,'DejaVu Sans Mono',consolas,'Courier New',monospace\"><span style=\"font-weight: bold\">{</span><span style=\"color: #008000; text-decoration-color: #008000\">'Rolls-Royce'</span>, <span style=\"color: #008000; text-decoration-color: #008000\">'BMW'</span>, <span style=\"color: #008000; text-decoration-color: #008000\">'Porsche'</span>, <span style=\"color: #008000; text-decoration-color: #008000\">'Aston Martin'</span>, <span style=\"color: #008000; text-decoration-color: #008000\">'Lexus'</span>, <span style=\"color: #008000; text-decoration-color: #008000\">'Bentley'</span>, <span style=\"color: #008000; text-decoration-color: #008000\">'Ferrari'</span><span style=\"font-weight: bold\">}</span>\n",
       "</pre>\n"
      ],
      "text/plain": [
       "\u001b[1m{\u001b[0m\u001b[32m'Rolls-Royce'\u001b[0m, \u001b[32m'BMW'\u001b[0m, \u001b[32m'Porsche'\u001b[0m, \u001b[32m'Aston Martin'\u001b[0m, \u001b[32m'Lexus'\u001b[0m, \u001b[32m'Bentley'\u001b[0m, \u001b[32m'Ferrari'\u001b[0m\u001b[1m}\u001b[0m\n"
      ]
     },
     "metadata": {},
     "output_type": "display_data"
    }
   ],
   "source": [
    "# Create a populated set\n",
    "cars = {'Aston Martin', 'Bentley', 'Ferrari'}\n",
    "\n",
    "# Add more values with .update() and a list and a set\n",
    "cars.update(['Lexus', 'Porsche'], {'BMW', 'Rolls-Royce'})\n",
    "\n",
    "print(cars)"
   ]
  },
  {
   "cell_type": "markdown",
   "id": "3d2694c3",
   "metadata": {
    "slideshow": {
     "slide_type": "slide"
    }
   },
   "source": [
    "Python <span style='color: blue'>**sets**</span> will not allow <span style='color: magenta'>**duplicates**</span>.  <span style='color: magenta'>**Updating**</span> with a value that already exists in the <span style='color: blue'>**set**</span> will have no effect."
   ]
  },
  {
   "cell_type": "code",
   "execution_count": 5,
   "id": "91ac2881",
   "metadata": {
    "slideshow": {
     "slide_type": "fragment"
    }
   },
   "outputs": [
    {
     "data": {
      "text/html": [
       "<pre style=\"white-space:pre;overflow-x:auto;line-height:normal;font-family:Menlo,'DejaVu Sans Mono',consolas,'Courier New',monospace\"><span style=\"font-weight: bold\">{</span><span style=\"color: #008000; text-decoration-color: #008000\">'Kermit'</span>, <span style=\"color: #008000; text-decoration-color: #008000\">'Fozzie Bear'</span>, <span style=\"color: #008000; text-decoration-color: #008000\">'Miss Piggy'</span>, <span style=\"color: #008000; text-decoration-color: #008000\">'Gonzo'</span><span style=\"font-weight: bold\">}</span>\n",
       "</pre>\n"
      ],
      "text/plain": [
       "\u001b[1m{\u001b[0m\u001b[32m'Kermit'\u001b[0m, \u001b[32m'Fozzie Bear'\u001b[0m, \u001b[32m'Miss Piggy'\u001b[0m, \u001b[32m'Gonzo'\u001b[0m\u001b[1m}\u001b[0m\n"
      ]
     },
     "metadata": {},
     "output_type": "display_data"
    }
   ],
   "source": [
    "# Create a populated set\n",
    "muppets = {'Kermit', 'Miss Piggy', 'Fozzie Bear', 'Gonzo'}\n",
    "\n",
    "# Update with a muppet name that already exists in the set\n",
    "muppets.update({'Gonzo'})\n",
    "\n",
    "# Check update has had no effect\n",
    "print(muppets)\n"
   ]
  },
  {
   "cell_type": "markdown",
   "id": "88cfadee",
   "metadata": {
    "slideshow": {
     "slide_type": "slide"
    }
   },
   "source": [
    "The fact that <span style='color: blue'>**sets**</span> do <span style='color: magenta'>**not allow duplicates**</span> makes then ideal for removing duplicates from other data containers such as lists."
   ]
  },
  {
   "cell_type": "code",
   "execution_count": 6,
   "id": "e7591044",
   "metadata": {
    "slideshow": {
     "slide_type": "fragment"
    }
   },
   "outputs": [],
   "source": [
    "# Define a large list\n",
    "my_list = [1, 2, 3, 4, 5, 6, 7, 8, 9] * 10000"
   ]
  },
  {
   "cell_type": "code",
   "execution_count": 7,
   "id": "c65a8c58",
   "metadata": {
    "slideshow": {
     "slide_type": "fragment"
    }
   },
   "outputs": [
    {
     "name": "stdout",
     "output_type": "stream",
     "text": [
      "2.2 ms ± 34 µs per loop (mean ± std. dev. of 7 runs, 100 loops each)\n"
     ]
    }
   ],
   "source": [
    "# Use a list comprehension to remove duplcates and timeit\n",
    "unique_list = []\n",
    "%timeit [unique_list.append(x) for x in my_list if x not in unique_list]"
   ]
  },
  {
   "cell_type": "code",
   "execution_count": 8,
   "id": "cc209d4f",
   "metadata": {
    "slideshow": {
     "slide_type": "fragment"
    }
   },
   "outputs": [
    {
     "name": "stdout",
     "output_type": "stream",
     "text": [
      "620 µs ± 4.53 µs per loop (mean ± std. dev. of 7 runs, 1,000 loops each)\n"
     ]
    }
   ],
   "source": [
    "# Use the dict.fromkeys() method to remove duplicate and timeit\n",
    "%timeit unique_list = list(dict.fromkeys(my_list))"
   ]
  },
  {
   "cell_type": "code",
   "execution_count": 9,
   "id": "a532930b",
   "metadata": {
    "slideshow": {
     "slide_type": "fragment"
    }
   },
   "outputs": [
    {
     "name": "stdout",
     "output_type": "stream",
     "text": [
      "323 µs ± 4.51 µs per loop (mean ± std. dev. of 7 runs, 1,000 loops each)\n"
     ]
    }
   ],
   "source": [
    "# Use set casting to remove duplicates and timeit\n",
    "%timeit list(set(my_list))"
   ]
  },
  {
   "cell_type": "markdown",
   "id": "b6a89b0c",
   "metadata": {
    "slideshow": {
     "slide_type": "slide"
    }
   },
   "source": [
    "Elements can be <span style='color: magenta'>**removed**</span> from <span style='color: blue'>**sets**</span> in a number of different ways.\n",
    "\n",
    "The <span style='color: blue'>**remove()**</span> method will remove an element from a set.  <span style='color: magenta'>**Note**</span>: if the element is not found an <span style='color: magenta'>**error**</span> is raised."
   ]
  },
  {
   "cell_type": "code",
   "execution_count": 10,
   "id": "f4ae81aa",
   "metadata": {
    "slideshow": {
     "slide_type": "fragment"
    }
   },
   "outputs": [
    {
     "data": {
      "text/html": [
       "<pre style=\"white-space:pre;overflow-x:auto;line-height:normal;font-family:Menlo,'DejaVu Sans Mono',consolas,'Courier New',monospace\"><span style=\"font-weight: bold\">{</span><span style=\"color: #008000; text-decoration-color: #008000\">'Gobo'</span>, <span style=\"color: #008000; text-decoration-color: #008000\">'Red'</span>, <span style=\"color: #008000; text-decoration-color: #008000\">'Wembley'</span><span style=\"font-weight: bold\">}</span>\n",
       "</pre>\n"
      ],
      "text/plain": [
       "\u001b[1m{\u001b[0m\u001b[32m'Gobo'\u001b[0m, \u001b[32m'Red'\u001b[0m, \u001b[32m'Wembley'\u001b[0m\u001b[1m}\u001b[0m\n"
      ]
     },
     "metadata": {},
     "output_type": "display_data"
    }
   ],
   "source": [
    "# Create a populated set\n",
    "fraggles = {\"Gobo\", \"Mokey\", \"Red\", \"Wembley\"}\n",
    "\n",
    "# Remove an element using .remove()\n",
    "fraggles.remove(\"Mokey\")\n",
    "\n",
    "print(fraggles)"
   ]
  },
  {
   "cell_type": "markdown",
   "id": "c7ba39ab",
   "metadata": {
    "slideshow": {
     "slide_type": "slide"
    }
   },
   "source": [
    "The <span style='color: blue'>**discard()**</span> method is similar to the <span style='color: magenta'>**remove**</span> however it <span style='color: magenta'>**will not**</span> raise an <span style='color: magenta'>**error**</span>."
   ]
  },
  {
   "cell_type": "code",
   "execution_count": 11,
   "id": "4062e20f",
   "metadata": {
    "slideshow": {
     "slide_type": "fragment"
    }
   },
   "outputs": [
    {
     "data": {
      "text/html": [
       "<pre style=\"white-space:pre;overflow-x:auto;line-height:normal;font-family:Menlo,'DejaVu Sans Mono',consolas,'Courier New',monospace\"><span style=\"font-weight: bold\">{</span><span style=\"color: #008000; text-decoration-color: #008000\">'Gobo'</span>, <span style=\"color: #008000; text-decoration-color: #008000\">'Mokey'</span>, <span style=\"color: #008000; text-decoration-color: #008000\">'Red'</span>, <span style=\"color: #008000; text-decoration-color: #008000\">'Wembley'</span><span style=\"font-weight: bold\">}</span>\n",
       "</pre>\n"
      ],
      "text/plain": [
       "\u001b[1m{\u001b[0m\u001b[32m'Gobo'\u001b[0m, \u001b[32m'Mokey'\u001b[0m, \u001b[32m'Red'\u001b[0m, \u001b[32m'Wembley'\u001b[0m\u001b[1m}\u001b[0m\n"
      ]
     },
     "metadata": {},
     "output_type": "display_data"
    }
   ],
   "source": [
    "# Create a populated set\n",
    "fraggles = {\"Gobo\", \"Mokey\", \"Red\", \"Wembley\"}\n",
    "\n",
    "# Remove an element using .discard()\n",
    "fraggles.discard(\"Boober\")\n",
    "\n",
    "print(fraggles)\n"
   ]
  },
  {
   "cell_type": "markdown",
   "id": "68a74deb",
   "metadata": {
    "slideshow": {
     "slide_type": "slide"
    }
   },
   "source": [
    "The <span style='color: blue'>**pop()**</span> removes an <span style='color: magenta'>**arbitrary element**</span> from the set and <span style='color: magenta'>**returns**</span> the removed element. Since sets are <span style='color: magenta'>**unordered**</span>, the removed element is not necessarily the last element added to the set."
   ]
  },
  {
   "cell_type": "code",
   "execution_count": 12,
   "id": "b6c83528",
   "metadata": {
    "slideshow": {
     "slide_type": "fragment"
    }
   },
   "outputs": [
    {
     "data": {
      "text/html": [
       "<pre style=\"white-space:pre;overflow-x:auto;line-height:normal;font-family:Menlo,'DejaVu Sans Mono',consolas,'Courier New',monospace\">fraggles = <span style=\"font-weight: bold\">{</span><span style=\"color: #008000; text-decoration-color: #008000\">'Mokey'</span>, <span style=\"color: #008000; text-decoration-color: #008000\">'Red'</span>, <span style=\"color: #008000; text-decoration-color: #008000\">'Wembley'</span><span style=\"font-weight: bold\">}</span>\n",
       "</pre>\n"
      ],
      "text/plain": [
       "fraggles = \u001b[1m{\u001b[0m\u001b[32m'Mokey'\u001b[0m, \u001b[32m'Red'\u001b[0m, \u001b[32m'Wembley'\u001b[0m\u001b[1m}\u001b[0m\n"
      ]
     },
     "metadata": {},
     "output_type": "display_data"
    },
    {
     "data": {
      "text/html": [
       "<pre style=\"white-space:pre;overflow-x:auto;line-height:normal;font-family:Menlo,'DejaVu Sans Mono',consolas,'Courier New',monospace\">removed_fraggle = <span style=\"color: #008000; text-decoration-color: #008000\">'Gobo'</span>\n",
       "</pre>\n"
      ],
      "text/plain": [
       "removed_fraggle = \u001b[32m'Gobo'\u001b[0m\n"
      ]
     },
     "metadata": {},
     "output_type": "display_data"
    }
   ],
   "source": [
    "# Create a populated list\n",
    "fraggles = {\"Gobo\", \"Mokey\", \"Red\", \"Wembley\"}\n",
    "\n",
    "# Remove an element using .pop()\n",
    "removed_fraggle = fraggles.pop()\n",
    "\n",
    "print(f'{fraggles = }')\n",
    "print(f'{removed_fraggle = }')"
   ]
  },
  {
   "cell_type": "markdown",
   "id": "773f312d",
   "metadata": {
    "slideshow": {
     "slide_type": "slide"
    }
   },
   "source": [
    "The <span style='color: blue'>**clear()**</span> method <span style='color: magenta'>**removes**</span> all the elements from the <span style='color: blue'>**set**</span>"
   ]
  },
  {
   "cell_type": "code",
   "execution_count": 13,
   "id": "b5c917ab",
   "metadata": {
    "slideshow": {
     "slide_type": "fragment"
    }
   },
   "outputs": [
    {
     "data": {
      "text/html": [
       "<pre style=\"white-space:pre;overflow-x:auto;line-height:normal;font-family:Menlo,'DejaVu Sans Mono',consolas,'Courier New',monospace\"><span style=\"color: #800080; text-decoration-color: #800080; font-weight: bold\">set</span><span style=\"font-weight: bold\">()</span>\n",
       "</pre>\n"
      ],
      "text/plain": [
       "\u001b[1;35mset\u001b[0m\u001b[1m(\u001b[0m\u001b[1m)\u001b[0m\n"
      ]
     },
     "metadata": {},
     "output_type": "display_data"
    }
   ],
   "source": [
    "# Create a populated list\n",
    "fraggles = {\"Gobo\", \"Mokey\", \"Red\", \"Wembley\"}\n",
    "\n",
    "# Use .clear() to remove all elements\n",
    "fraggles.clear()\n",
    "\n",
    "print(fraggles)"
   ]
  },
  {
   "cell_type": "markdown",
   "id": "10b708f0",
   "metadata": {
    "slideshow": {
     "slide_type": "slide"
    }
   },
   "source": [
    "<span style='color: blue'>**Set Operations**</span> - Union, Difference & Intersection"
   ]
  },
  {
   "cell_type": "markdown",
   "id": "bef487b8",
   "metadata": {
    "slideshow": {
     "slide_type": "fragment"
    }
   },
   "source": [
    "The <span style='color: blue'>**union()**</span> method returns a set of <span style='color: magenta'>**all elements**</span> in both sets, without any duplicates."
   ]
  },
  {
   "cell_type": "code",
   "execution_count": 14,
   "id": "f5ebc23d",
   "metadata": {
    "slideshow": {
     "slide_type": "fragment"
    }
   },
   "outputs": [
    {
     "data": {
      "text/html": [
       "<pre style=\"white-space:pre;overflow-x:auto;line-height:normal;font-family:Menlo,'DejaVu Sans Mono',consolas,'Courier New',monospace\"><span style=\"font-weight: bold\">{</span><span style=\"color: #008000; text-decoration-color: #008000\">'Tweety'</span>, <span style=\"color: #008000; text-decoration-color: #008000\">'Felix'</span>, <span style=\"color: #008000; text-decoration-color: #008000\">'Garfield'</span>, <span style=\"color: #008000; text-decoration-color: #008000\">'Tom'</span>, <span style=\"color: #008000; text-decoration-color: #008000\">'Sylvester'</span>, <span style=\"color: #008000; text-decoration-color: #008000\">'Hello Kitty'</span>, <span style=\"color: #008000; text-decoration-color: #008000\">'Pink Panther'</span>, <span style=\"color: #008000; text-decoration-color: #008000\">'Top Cat'</span><span style=\"font-weight: bold\">}</span>\n",
       "</pre>\n"
      ],
      "text/plain": [
       "\u001b[1m{\u001b[0m\u001b[32m'Tweety'\u001b[0m, \u001b[32m'Felix'\u001b[0m, \u001b[32m'Garfield'\u001b[0m, \u001b[32m'Tom'\u001b[0m, \u001b[32m'Sylvester'\u001b[0m, \u001b[32m'Hello Kitty'\u001b[0m, \u001b[32m'Pink Panther'\u001b[0m, \u001b[32m'Top Cat'\u001b[0m\u001b[1m}\u001b[0m\n"
      ]
     },
     "metadata": {},
     "output_type": "display_data"
    }
   ],
   "source": [
    "# Create two populated sets\n",
    "cats_1 = {'Garfield', 'Tom', 'Felix', 'Hello Kitty', 'Sylvester'}\n",
    "cats_2 = {'Tom', 'Sylvester', 'Tweety', 'Top Cat', 'Pink Panther'}\n",
    "\n",
    "# Use the .union() method\n",
    "union = cats_1.union(cats_2)\n",
    "print(union)"
   ]
  },
  {
   "cell_type": "markdown",
   "id": "47630086",
   "metadata": {
    "slideshow": {
     "slide_type": "slide"
    }
   },
   "source": [
    "The <span style='color: blue'>**difference()**</span> method returns a set of all elements that are <span style='color: magenta'>**in one set**</span> but <span style='color: magenta'>**not in the other**</span>."
   ]
  },
  {
   "cell_type": "code",
   "execution_count": 15,
   "id": "659f4af6",
   "metadata": {
    "slideshow": {
     "slide_type": "fragment"
    }
   },
   "outputs": [
    {
     "data": {
      "text/html": [
       "<pre style=\"white-space:pre;overflow-x:auto;line-height:normal;font-family:Menlo,'DejaVu Sans Mono',consolas,'Courier New',monospace\"><span style=\"font-weight: bold\">{</span><span style=\"color: #008000; text-decoration-color: #008000\">'Hello Kitty'</span>, <span style=\"color: #008000; text-decoration-color: #008000\">'Felix'</span>, <span style=\"color: #008000; text-decoration-color: #008000\">'Garfield'</span><span style=\"font-weight: bold\">}</span>\n",
       "</pre>\n"
      ],
      "text/plain": [
       "\u001b[1m{\u001b[0m\u001b[32m'Hello Kitty'\u001b[0m, \u001b[32m'Felix'\u001b[0m, \u001b[32m'Garfield'\u001b[0m\u001b[1m}\u001b[0m\n"
      ]
     },
     "metadata": {},
     "output_type": "display_data"
    }
   ],
   "source": [
    "# Create two populated sets\n",
    "cats_1 = {'Garfield', 'Tom', 'Felix', 'Hello Kitty', 'Sylvester'}\n",
    "cats_2 = {'Tom', 'Sylvester', 'Tweety', 'Top Cat', 'Pink Panther'}\n",
    "\n",
    "# Use the .difference() method\n",
    "diff = cats_1.difference(cats_2)\n",
    "print(diff)"
   ]
  },
  {
   "cell_type": "markdown",
   "id": "55dd5162",
   "metadata": {
    "slideshow": {
     "slide_type": "slide"
    }
   },
   "source": [
    "The <span style='color: blue'>**symmetric_difference()**</span> of two sets is the set of elements that are in <span style='color: magenta'>**either**</span> of the sets, but <span style='color: magenta'>**not in both**</span>."
   ]
  },
  {
   "cell_type": "code",
   "execution_count": 16,
   "id": "69c7483a",
   "metadata": {
    "slideshow": {
     "slide_type": "fragment"
    }
   },
   "outputs": [
    {
     "data": {
      "text/html": [
       "<pre style=\"white-space:pre;overflow-x:auto;line-height:normal;font-family:Menlo,'DejaVu Sans Mono',consolas,'Courier New',monospace\"><span style=\"font-weight: bold\">{</span><span style=\"color: #008000; text-decoration-color: #008000\">'Tweety'</span>, <span style=\"color: #008000; text-decoration-color: #008000\">'Felix'</span>, <span style=\"color: #008000; text-decoration-color: #008000\">'Garfield'</span>, <span style=\"color: #008000; text-decoration-color: #008000\">'Hello Kitty'</span>, <span style=\"color: #008000; text-decoration-color: #008000\">'Pink Panther'</span>, <span style=\"color: #008000; text-decoration-color: #008000\">'Top Cat'</span><span style=\"font-weight: bold\">}</span>\n",
       "</pre>\n"
      ],
      "text/plain": [
       "\u001b[1m{\u001b[0m\u001b[32m'Tweety'\u001b[0m, \u001b[32m'Felix'\u001b[0m, \u001b[32m'Garfield'\u001b[0m, \u001b[32m'Hello Kitty'\u001b[0m, \u001b[32m'Pink Panther'\u001b[0m, \u001b[32m'Top Cat'\u001b[0m\u001b[1m}\u001b[0m\n"
      ]
     },
     "metadata": {},
     "output_type": "display_data"
    }
   ],
   "source": [
    "# Create two populated sets\n",
    "cats_1 = {'Garfield', 'Tom', 'Felix', 'Hello Kitty', 'Sylvester'}\n",
    "cats_2 = {'Tom', 'Sylvester', 'Tweety', 'Top Cat', 'Pink Panther'}\n",
    "\n",
    "# Use the .symmetric_difference() method\n",
    "sym_diff = cats_1.symmetric_difference(cats_2)\n",
    "print(sym_diff)"
   ]
  },
  {
   "cell_type": "markdown",
   "id": "2de325af",
   "metadata": {
    "slideshow": {
     "slide_type": "slide"
    }
   },
   "source": [
    "The <span style='color: blue'>**intersection()**</span> method returns a set of all elements that are <span style='color: magenta'>**in both sets**</span>."
   ]
  },
  {
   "cell_type": "code",
   "execution_count": 17,
   "id": "4b46db41",
   "metadata": {
    "slideshow": {
     "slide_type": "fragment"
    }
   },
   "outputs": [
    {
     "data": {
      "text/html": [
       "<pre style=\"white-space:pre;overflow-x:auto;line-height:normal;font-family:Menlo,'DejaVu Sans Mono',consolas,'Courier New',monospace\"><span style=\"font-weight: bold\">{</span><span style=\"color: #008000; text-decoration-color: #008000\">'Sylvester'</span>, <span style=\"color: #008000; text-decoration-color: #008000\">'Tom'</span><span style=\"font-weight: bold\">}</span>\n",
       "</pre>\n"
      ],
      "text/plain": [
       "\u001b[1m{\u001b[0m\u001b[32m'Sylvester'\u001b[0m, \u001b[32m'Tom'\u001b[0m\u001b[1m}\u001b[0m\n"
      ]
     },
     "metadata": {},
     "output_type": "display_data"
    }
   ],
   "source": [
    "# Create two populated sets\n",
    "cats_1 = {'Garfield', 'Tom', 'Felix', 'Hello Kitty', 'Sylvester'}\n",
    "cats_2 = {'Tom', 'Sylvester', 'Tweety', 'Top Cat', 'Pink Panther'}\n",
    "\n",
    "# Use the .intersection() method\n",
    "inter = cats_1.intersection(cats_2)\n",
    "print(inter)"
   ]
  },
  {
   "cell_type": "markdown",
   "id": "51abdc11",
   "metadata": {
    "slideshow": {
     "slide_type": "slide"
    }
   },
   "source": [
    "The <span style='color: blue'>**intersection_update()**</span> method <span style='color: magenta'>**differs**</span> from <span style='color: blue'>**intersection()**</span> in that it is an <span style='color: magenta'>**inplace**</span> operation."
   ]
  },
  {
   "cell_type": "code",
   "execution_count": 18,
   "id": "3819b3b0",
   "metadata": {
    "slideshow": {
     "slide_type": "fragment"
    }
   },
   "outputs": [
    {
     "data": {
      "text/html": [
       "<pre style=\"white-space:pre;overflow-x:auto;line-height:normal;font-family:Menlo,'DejaVu Sans Mono',consolas,'Courier New',monospace\"><span style=\"font-weight: bold\">{</span><span style=\"color: #008000; text-decoration-color: #008000\">'Sylvester'</span>, <span style=\"color: #008000; text-decoration-color: #008000\">'Tom'</span><span style=\"font-weight: bold\">}</span>\n",
       "</pre>\n"
      ],
      "text/plain": [
       "\u001b[1m{\u001b[0m\u001b[32m'Sylvester'\u001b[0m, \u001b[32m'Tom'\u001b[0m\u001b[1m}\u001b[0m\n"
      ]
     },
     "metadata": {},
     "output_type": "display_data"
    }
   ],
   "source": [
    "# Create two populated sets\n",
    "cats_1 = {'Garfield', 'Tom', 'Felix', 'Hello Kitty', 'Sylvester'}\n",
    "cats_2 = {'Tom', 'Sylvester', 'Tweety', 'Top Cat', 'Pink Panther'}\n",
    "\n",
    "# Use the .intersection_update() method\n",
    "cats_1.intersection_update(cats_2)\n",
    "print(cats_1)"
   ]
  },
  {
   "cell_type": "markdown",
   "id": "2235e4d3",
   "metadata": {
    "slideshow": {
     "slide_type": "fragment"
    }
   },
   "source": [
    "Just like the aforementioned method, there are also <span style='color: blue'>**difference_update()**</span> and <span style='color: blue'>**symmetric_difference_update()**</span> methods that differ from their <span style='color: magenta'>**non-update counterparts**</span> only in that they perform <span style='color: magenta'>**in-place**</span> operations."
   ]
  },
  {
   "cell_type": "markdown",
   "id": "f5ac8faf",
   "metadata": {
    "slideshow": {
     "slide_type": "slide"
    }
   },
   "source": [
    "The <span style='color: blue'>**set operations**</span> have <span style='color: magenta'>**mathematical operators**</span> that can be used as <span style='color: magenta'>**shorthand**</span>."
   ]
  },
  {
   "cell_type": "markdown",
   "id": "52b44637",
   "metadata": {
    "slideshow": {
     "slide_type": "-"
    }
   },
   "source": [
    "```python\n",
    "    # union using |\n",
    "    union_set = set1 | set2\n",
    "    \n",
    "    # difference using -\n",
    "    difference_set = set1 - set2\n",
    "```"
   ]
  },
  {
   "cell_type": "markdown",
   "id": "24e3041b",
   "metadata": {
    "slideshow": {
     "slide_type": "-"
    }
   },
   "source": [
    "```python\n",
    "    # symmetric difference using ^\n",
    "    symmetric_difference_set = set1 ^ set2\n",
    "    \n",
    "    # intersection using &\n",
    "    intersection_set = set1 & set2\n",
    "```"
   ]
  },
  {
   "cell_type": "markdown",
   "id": "a5762e1a",
   "metadata": {
    "slideshow": {
     "slide_type": "slide"
    }
   },
   "source": [
    "Python <span style='color: blue'>**sets**</span> are highly <span style='color: magenta'>**efficient**</span> and <span style='color: magenta'>**fast**</span> for comparing data containers. Using set operators can offer <span style='color: magenta'>**elegant solutions**</span> to complex problems that would otherwise require slower and more complicated functions"
   ]
  },
  {
   "cell_type": "code",
   "execution_count": 19,
   "id": "df7edd6c",
   "metadata": {
    "slideshow": {
     "slide_type": "fragment"
    }
   },
   "outputs": [
    {
     "data": {
      "text/html": [
       "<pre style=\"white-space:pre;overflow-x:auto;line-height:normal;font-family:Menlo,'DejaVu Sans Mono',consolas,'Courier New',monospace\">favorite_marvel_superheros = <span style=\"font-weight: bold\">{</span><span style=\"color: #008000; text-decoration-color: #008000\">'Spider-Man'</span>, <span style=\"color: #008000; text-decoration-color: #008000\">'Iron Man'</span><span style=\"font-weight: bold\">}</span>\n",
       "</pre>\n"
      ],
      "text/plain": [
       "favorite_marvel_superheros = \u001b[1m{\u001b[0m\u001b[32m'Spider-Man'\u001b[0m, \u001b[32m'Iron Man'\u001b[0m\u001b[1m}\u001b[0m\n"
      ]
     },
     "metadata": {},
     "output_type": "display_data"
    },
    {
     "data": {
      "text/html": [
       "<pre style=\"white-space:pre;overflow-x:auto;line-height:normal;font-family:Menlo,'DejaVu Sans Mono',consolas,'Courier New',monospace\">favorite_dc_superheros = <span style=\"font-weight: bold\">{</span><span style=\"color: #008000; text-decoration-color: #008000\">'Batman'</span>, <span style=\"color: #008000; text-decoration-color: #008000\">'Wonder Woman'</span><span style=\"font-weight: bold\">}</span>\n",
       "</pre>\n"
      ],
      "text/plain": [
       "favorite_dc_superheros = \u001b[1m{\u001b[0m\u001b[32m'Batman'\u001b[0m, \u001b[32m'Wonder Woman'\u001b[0m\u001b[1m}\u001b[0m\n"
      ]
     },
     "metadata": {},
     "output_type": "display_data"
    }
   ],
   "source": [
    "# Define the favorite, Marvel, and DC superhero lists\n",
    "favorite_superheroes = ['Spider-Man', 'Iron Man', 'Batman', 'Wonder Woman']\n",
    "marvel_superheroes = ['Iron Man', 'Spider-Man', 'Thor', 'Captain America']\n",
    "dc_superheroes = ['Superman', 'Batman', 'Wonder Woman', 'Flash']\n",
    "\n",
    "# Do intersections in two different ways\n",
    "favorite_marvel_superheros = set(favorite_superheroes).intersection(marvel_superheroes)\n",
    "favorite_dc_superheros = set(favorite_superheroes) & set(dc_superheroes)\n",
    "\n",
    "print(f'{favorite_marvel_superheros = }')\n",
    "print(f'{favorite_dc_superheros = }')\n"
   ]
  },
  {
   "cell_type": "markdown",
   "id": "3393546a",
   "metadata": {
    "slideshow": {
     "slide_type": "slide"
    }
   },
   "source": [
    "<span style='color: blue'>**Keywords & Functions**</span>\n",
    "\n",
    "There are a number of useful Python <span style='color: blue'>**keywords**</span> and <span style='color: blue'>**functions**</span> that can be used with <span style='color: blue'>**sets**</span>"
   ]
  },
  {
   "cell_type": "markdown",
   "id": "c312741f",
   "metadata": {
    "slideshow": {
     "slide_type": "fragment"
    }
   },
   "source": [
    "<span style='color: blue'>**In**</span> checks set membership, returning a <span style='color: magenta'>**Boolean**</span>."
   ]
  },
  {
   "cell_type": "code",
   "execution_count": 20,
   "id": "4009eb28",
   "metadata": {
    "slideshow": {
     "slide_type": "fragment"
    }
   },
   "outputs": [
    {
     "data": {
      "text/html": [
       "<pre style=\"white-space:pre;overflow-x:auto;line-height:normal;font-family:Menlo,'DejaVu Sans Mono',consolas,'Courier New',monospace\"><span style=\"color: #00ff00; text-decoration-color: #00ff00; font-style: italic\">True</span>\n",
       "</pre>\n"
      ],
      "text/plain": [
       "\u001b[3;92mTrue\u001b[0m\n"
      ]
     },
     "metadata": {},
     "output_type": "display_data"
    },
    {
     "data": {
      "text/html": [
       "<pre style=\"white-space:pre;overflow-x:auto;line-height:normal;font-family:Menlo,'DejaVu Sans Mono',consolas,'Courier New',monospace\"><span style=\"color: #ff0000; text-decoration-color: #ff0000; font-style: italic\">False</span>\n",
       "</pre>\n"
      ],
      "text/plain": [
       "\u001b[3;91mFalse\u001b[0m\n"
      ]
     },
     "metadata": {},
     "output_type": "display_data"
    }
   ],
   "source": [
    "# Create a populated set\n",
    "dogs = {'Scooby-Doo', 'Snoopy', 'Pluto', 'Lassie', 'Beethoven'}\n",
    "\n",
    "# Print Boolean value\n",
    "print('Scooby-Doo' in dogs)\n",
    "print('Droopy' in dogs)\n"
   ]
  },
  {
   "cell_type": "markdown",
   "id": "15489eea",
   "metadata": {
    "slideshow": {
     "slide_type": "slide"
    }
   },
   "source": [
    "The <span style='color: blue'>**len()**</span> function in Python can be used to find the <span style='color: magenta'>**number of elements**</span> in a set."
   ]
  },
  {
   "cell_type": "code",
   "execution_count": 21,
   "id": "0a9f4f7c",
   "metadata": {
    "slideshow": {
     "slide_type": "fragment"
    }
   },
   "outputs": [
    {
     "data": {
      "text/html": [
       "<pre style=\"white-space:pre;overflow-x:auto;line-height:normal;font-family:Menlo,'DejaVu Sans Mono',consolas,'Courier New',monospace\"><span style=\"color: #008080; text-decoration-color: #008080; font-weight: bold\">6</span>\n",
       "</pre>\n"
      ],
      "text/plain": [
       "\u001b[1;36m6\u001b[0m\n"
      ]
     },
     "metadata": {},
     "output_type": "display_data"
    }
   ],
   "source": [
    "# Create populated set\n",
    "looney_tunes = {'Bugs Bunny', 'Daffy Duck', 'Tweety', 'Sylvester', 'Elmer Fudd', 'Porky Pig'}\n",
    "\n",
    "# Use len() to get length \n",
    "number_of_characters = len(looney_tunes)\n",
    "\n",
    "print(number_of_characters)\n"
   ]
  },
  {
   "cell_type": "markdown",
   "id": "0e0af65e",
   "metadata": {
    "slideshow": {
     "slide_type": "slide"
    }
   },
   "source": [
    "<span style='color: blue'>**Subset Operators**</span> - issubset(), issuperset() & isdisjoint()"
   ]
  },
  {
   "cell_type": "markdown",
   "id": "d95b8e79",
   "metadata": {
    "slideshow": {
     "slide_type": "fragment"
    }
   },
   "source": [
    "The <span style='color: blue'>**issubset()**</span> method is used to check whether <span style='color: magenta'>**all elements**</span> in one set are also <span style='color: magenta'>**present**</span> in another <span style='color: magenta'>**set**</span>. Returns a <span style='color: magenta'>**Boolean**</span> value."
   ]
  },
  {
   "cell_type": "code",
   "execution_count": 22,
   "id": "bcdb11e7",
   "metadata": {
    "slideshow": {
     "slide_type": "fragment"
    }
   },
   "outputs": [
    {
     "data": {
      "text/html": [
       "<pre style=\"white-space:pre;overflow-x:auto;line-height:normal;font-family:Menlo,'DejaVu Sans Mono',consolas,'Courier New',monospace\"><span style=\"color: #00ff00; text-decoration-color: #00ff00; font-style: italic\">True</span>\n",
       "</pre>\n"
      ],
      "text/plain": [
       "\u001b[3;92mTrue\u001b[0m\n"
      ]
     },
     "metadata": {},
     "output_type": "display_data"
    }
   ],
   "source": [
    "# Create and poplate 2 sets\n",
    "soccer_players_1 = {'Messi', 'Suarez', 'Neymar', 'Alba', 'Pique'}\n",
    "soccer_players_2 = {'Suarez', 'Neymar', 'Alba'}\n",
    "\n",
    "# Store Boolean value in variable\n",
    "is_subset = soccer_players_2.issubset(soccer_players_1)\n",
    "\n",
    "print(is_subset)"
   ]
  },
  {
   "cell_type": "markdown",
   "id": "f8a2e903",
   "metadata": {
    "slideshow": {
     "slide_type": "slide"
    }
   },
   "source": [
    "The <span style='color: blue'>**issuperset()**</span> method is used to check whether a set contains <span style='color: magenta'>**all the elements**</span> of <span style='color: magenta'>**another set**</span>. It returns a <span style='color: magenta'>**Boolean**</span> response."
   ]
  },
  {
   "cell_type": "code",
   "execution_count": 23,
   "id": "0484a6e9",
   "metadata": {
    "slideshow": {
     "slide_type": "fragment"
    }
   },
   "outputs": [
    {
     "data": {
      "text/html": [
       "<pre style=\"white-space:pre;overflow-x:auto;line-height:normal;font-family:Menlo,'DejaVu Sans Mono',consolas,'Courier New',monospace\"><span style=\"color: #00ff00; text-decoration-color: #00ff00; font-style: italic\">True</span>\n",
       "</pre>\n"
      ],
      "text/plain": [
       "\u001b[3;92mTrue\u001b[0m\n"
      ]
     },
     "metadata": {},
     "output_type": "display_data"
    }
   ],
   "source": [
    "# Create and poplate 2 sets\n",
    "soccer_players_1 = {'Messi', 'Suarez', 'Neymar', 'Alba', 'Pique'}\n",
    "soccer_players_2 = {'Suarez', 'Neymar', 'Alba'}\n",
    "\n",
    "# Store Boolean value in variable\n",
    "is_superset = soccer_players_1.issuperset(soccer_players_2)\n",
    "\n",
    "# Print the result\n",
    "print(is_superset)"
   ]
  },
  {
   "cell_type": "markdown",
   "id": "6b371850",
   "metadata": {
    "slideshow": {
     "slide_type": "slide"
    }
   },
   "source": [
    "The <span style='color: blue'>**isdisjoint()**</span> method is used to check whether two sets have <span style='color: magenta'>**any elements**</span> in common. It returns a <span style='color: magenta'>**Boolean**</span> response."
   ]
  },
  {
   "cell_type": "code",
   "execution_count": 24,
   "id": "7b6fce89",
   "metadata": {
    "slideshow": {
     "slide_type": "fragment"
    }
   },
   "outputs": [
    {
     "data": {
      "text/html": [
       "<pre style=\"white-space:pre;overflow-x:auto;line-height:normal;font-family:Menlo,'DejaVu Sans Mono',consolas,'Courier New',monospace\"><span style=\"color: #00ff00; text-decoration-color: #00ff00; font-style: italic\">True</span>\n",
       "</pre>\n"
      ],
      "text/plain": [
       "\u001b[3;92mTrue\u001b[0m\n"
      ]
     },
     "metadata": {},
     "output_type": "display_data"
    }
   ],
   "source": [
    "# Create and poplate 2 sets\n",
    "soccer_players_1 = {'Messi', 'Suarez', 'Neymar', 'Alba', 'Pique'}\n",
    "soccer_players_2 = {'Ronaldo', 'Modric', 'Benzema', 'Casemiro', 'Kroos'}\n",
    "\n",
    "# Store Boolean value in variable\n",
    "is_disjoint = soccer_players_1.isdisjoint(soccer_players_2)\n",
    "\n",
    "print(is_disjoint)"
   ]
  },
  {
   "cell_type": "markdown",
   "id": "808d7461",
   "metadata": {
    "slideshow": {
     "slide_type": "fragment"
    }
   },
   "source": [
    "A <span style='color: blue'>**true**</span> response means the sets have <span style='color: magenta'>**no elements in common**</span>."
   ]
  },
  {
   "cell_type": "markdown",
   "id": "9e8c65e7",
   "metadata": {
    "slideshow": {
     "slide_type": "slide"
    }
   },
   "source": [
    "<span style='color: blue'>**Set Comprehensions**</span>\n",
    "\n",
    "Python <span style='color: blue'>**set comprehensions**</span> are a concise way to create sets using a <span style='color: magenta'>**single line of code**</span>. They can be used to apply a <span style='color: magenta'>**function**</span> to each element of an iterable and <span style='color: magenta'>**filter**</span> the results."
   ]
  },
  {
   "cell_type": "code",
   "execution_count": 25,
   "id": "4d0fb934",
   "metadata": {
    "slideshow": {
     "slide_type": "fragment"
    }
   },
   "outputs": [
    {
     "data": {
      "text/html": [
       "<pre style=\"white-space:pre;overflow-x:auto;line-height:normal;font-family:Menlo,'DejaVu Sans Mono',consolas,'Courier New',monospace\"><span style=\"font-weight: bold\">{</span><span style=\"color: #008000; text-decoration-color: #008000\">'LEONARDO'</span>, <span style=\"color: #008000; text-decoration-color: #008000\">'MICHELANGELO'</span>, <span style=\"color: #008000; text-decoration-color: #008000\">'DONATELLO'</span><span style=\"font-weight: bold\">}</span>\n",
       "</pre>\n"
      ],
      "text/plain": [
       "\u001b[1m{\u001b[0m\u001b[32m'LEONARDO'\u001b[0m, \u001b[32m'MICHELANGELO'\u001b[0m, \u001b[32m'DONATELLO'\u001b[0m\u001b[1m}\u001b[0m\n"
      ]
     },
     "metadata": {},
     "output_type": "display_data"
    }
   ],
   "source": [
    "# Example of create a new set without set comprehensions\n",
    "ninja_turtles = {'Leonardo', 'Michelangelo', 'Donatello', 'Raphael'}\n",
    "\n",
    "# Create an emtpy set to hold new uppercase strings\n",
    "uppercase_turtles = set()\n",
    "\n",
    "# Iterate over list applying expression and appending to new emtpy list\n",
    "for turtle in ninja_turtles:\n",
    "    \n",
    "    # Apply a condition\n",
    "    if turtle != 'Raphael':\n",
    "        uppercase_turtles.add(turtle.upper())\n",
    "\n",
    "print(uppercase_turtles)"
   ]
  },
  {
   "cell_type": "code",
   "execution_count": 26,
   "id": "0091e068",
   "metadata": {
    "slideshow": {
     "slide_type": "slide"
    }
   },
   "outputs": [
    {
     "data": {
      "text/html": [
       "<pre style=\"white-space:pre;overflow-x:auto;line-height:normal;font-family:Menlo,'DejaVu Sans Mono',consolas,'Courier New',monospace\"><span style=\"font-weight: bold\">{</span><span style=\"color: #008000; text-decoration-color: #008000\">'LEONARDO'</span>, <span style=\"color: #008000; text-decoration-color: #008000\">'MICHELANGELO'</span>, <span style=\"color: #008000; text-decoration-color: #008000\">'DONATELLO'</span><span style=\"font-weight: bold\">}</span>\n",
       "</pre>\n"
      ],
      "text/plain": [
       "\u001b[1m{\u001b[0m\u001b[32m'LEONARDO'\u001b[0m, \u001b[32m'MICHELANGELO'\u001b[0m, \u001b[32m'DONATELLO'\u001b[0m\u001b[1m}\u001b[0m\n"
      ]
     },
     "metadata": {},
     "output_type": "display_data"
    }
   ],
   "source": [
    "# Example of create a new set with set comprehensions\n",
    "ninja_turtles = {'Leonardo', 'Michelangelo', 'Donatello', 'Raphael'}\n",
    "\n",
    "# Code excuted in one line\n",
    "uppercase_turtles = {turtle.upper() for turtle in ninja_turtles if turtle != 'Raphael'}\n",
    "\n",
    "print(uppercase_turtles)"
   ]
  },
  {
   "cell_type": "markdown",
   "id": "5eeace95",
   "metadata": {
    "slideshow": {
     "slide_type": "slide"
    }
   },
   "source": [
    "<h3 style=\"text-align: center;\">\n",
    "    <span style='color: blue'>new_set</span> = {<span style='color: magenta'>expression</span> for <span style='color: magenta'>item</span> in <span style='color: magenta'>iterable</span> if <span style='color: magenta'>condition</span>} </h3>"
   ]
  },
  {
   "cell_type": "markdown",
   "id": "34b7bd5d",
   "metadata": {
    "slideshow": {
     "slide_type": "fragment"
    }
   },
   "source": [
    "| Term         | Python                   |\n",
    "|:--------------|:--------------------------|\n",
    "| Expression   | turtle.upper()           |\n",
    "| Item         | turtle                   |\n",
    "| Iterable     | ninja_turtles            |\n",
    "| Condition    | if turtle != 'Raphael'   |\n"
   ]
  }
 ],
 "metadata": {
  "celltoolbar": "Slideshow",
  "kernelspec": {
   "display_name": "Python 3 (ipykernel)",
   "language": "python",
   "name": "python3"
  },
  "language_info": {
   "codemirror_mode": {
    "name": "ipython",
    "version": 3
   },
   "file_extension": ".py",
   "mimetype": "text/x-python",
   "name": "python",
   "nbconvert_exporter": "python",
   "pygments_lexer": "ipython3",
   "version": "3.11.1"
  }
 },
 "nbformat": 4,
 "nbformat_minor": 5
}
