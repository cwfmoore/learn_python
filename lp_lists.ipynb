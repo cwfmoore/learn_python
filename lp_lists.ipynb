{
 "cells": [
  {
   "cell_type": "code",
   "execution_count": 1,
   "id": "40d18fa6",
   "metadata": {
    "slideshow": {
     "slide_type": "skip"
    }
   },
   "outputs": [
    {
     "name": "stdout",
     "output_type": "stream",
     "text": [
      "Requirement already satisfied: rich in c:\\users\\craig\\dropbox\\coding\\youtube\\python_env\\venv\\lib\\site-packages (13.3.1)\n",
      "Requirement already satisfied: markdown-it-py<3.0.0,>=2.1.0 in c:\\users\\craig\\dropbox\\coding\\youtube\\python_env\\venv\\lib\\site-packages (from rich) (2.1.0)\n",
      "Requirement already satisfied: pygments<3.0.0,>=2.14.0 in c:\\users\\craig\\dropbox\\coding\\youtube\\python_env\\venv\\lib\\site-packages (from rich) (2.14.0)\n",
      "Requirement already satisfied: mdurl~=0.1 in c:\\users\\craig\\dropbox\\coding\\youtube\\python_env\\venv\\lib\\site-packages (from markdown-it-py<3.0.0,>=2.1.0->rich) (0.1.2)\n"
     ]
    }
   ],
   "source": [
    "!pip install rich\n",
    "from rich import print"
   ]
  },
  {
   "cell_type": "markdown",
   "id": "bdf25e56",
   "metadata": {
    "slideshow": {
     "slide_type": "slide"
    }
   },
   "source": [
    "## <span style='color: blue'>Learn Python</span> - Integers & Floats\n",
    "\n",
    "- Creating Lists\n",
    "- Indexing, Slicing & Unpacking\n",
    "- Mathematical Operators (Concat and Repeat)\n",
    "- List Related Functions & Keywords\n",
    "- Sorting Lists\n",
    "- List Methods\n",
    "- Swapping Elements\n",
    "- Copying (Deep vs. Shallow Copies)\n",
    "- Filtering & Mapping Lists\n",
    "- Combinations and Permutations\n",
    "- List Comprehensions"
   ]
  },
  {
   "cell_type": "markdown",
   "id": "d0d311db",
   "metadata": {
    "slideshow": {
     "slide_type": "slide"
    }
   },
   "source": [
    "Python <span style='color: blue'>**lists**</span> are a widely used <span style='color: blue'>**data structure**</span> in which values of <span style='color: blue'>**different data types**</span>, including integers, strings, and other lists, can be collected and modified by adding, removing, or updating elements."
   ]
  },
  {
   "cell_type": "markdown",
   "id": "fa4be256",
   "metadata": {
    "slideshow": {
     "slide_type": "slide"
    }
   },
   "source": [
    "<span style='color: blue'>**Creating lists**</span>\n",
    "\n",
    "To create a <span style='color: blue'>**list**</span> define it with square <span style='color: blue'>**brackets**</span> and separate <span style='color: blue'>**elements**</span> with <span style='color: blue'>**commas**</span>."
   ]
  },
  {
   "cell_type": "code",
   "execution_count": null,
   "id": "00c7dff0",
   "metadata": {
    "slideshow": {
     "slide_type": "fragment"
    }
   },
   "outputs": [],
   "source": [
    "# Create an empty list\n",
    "\n",
    "my_list = []\n",
    "\n",
    "print(my_list, type(my_list))"
   ]
  },
  {
   "cell_type": "code",
   "execution_count": null,
   "id": "a6917b72",
   "metadata": {
    "slideshow": {
     "slide_type": "fragment"
    }
   },
   "outputs": [],
   "source": [
    "# Create a populated list\n",
    "\n",
    "my_list = [1, 2, 3, 4, 5]\n",
    "\n",
    "print(my_list, type(my_list))"
   ]
  },
  {
   "cell_type": "code",
   "execution_count": null,
   "id": "b17b37de",
   "metadata": {
    "slideshow": {
     "slide_type": "fragment"
    }
   },
   "outputs": [],
   "source": [
    "# Create a populated list of mixed data types\n",
    "\n",
    "my_list = [1, 'banana', 3.14, [1, 2, 3, 4, 5]]\n",
    "\n",
    "print(my_list, type(my_list))"
   ]
  },
  {
   "cell_type": "markdown",
   "id": "0d749437",
   "metadata": {
    "slideshow": {
     "slide_type": "fragment"
    }
   },
   "source": [
    "<span style='color: magenta'>**Note**</span>: In this last example a <span style='color: blue'>**list**</span> is stored within another <span style='color: blue'>**list**</span>.  This is refered to as a <span style='color: magenta'>**nested list**</span>."
   ]
  },
  {
   "cell_type": "markdown",
   "id": "1e248930",
   "metadata": {
    "slideshow": {
     "slide_type": "slide"
    }
   },
   "source": [
    "<span style='color: blue'>**Indexing, slicing & unpacking**</span>\n",
    "\n",
    "<span style='color: blue'>**Indexing**</span> is accessing individual list elements, <span style='color: blue'>**slicing**</span> is creating a new list from a range of elements, and <span style='color: blue'>**unpacking**</span> is assigning list values to multiple variables at once."
   ]
  },
  {
   "cell_type": "markdown",
   "id": "dd2bd340",
   "metadata": {
    "slideshow": {
     "slide_type": "fragment"
    }
   },
   "source": [
    "<span style='color: blue'>**Indexing**</span>: accessing individual elements of a list using their position.\n",
    "\n",
    "| Index |   0   |   1   |    2    |   3    |    4    |\n",
    "| ----- | :---: | :---: | :----: | :---: | :-----: |\n",
    "| Value |'Morty'|'Rick' |'Summer' |'Jerry' | 'Beth' |\n"
   ]
  },
  {
   "cell_type": "code",
   "execution_count": 2,
   "id": "4ff23b59",
   "metadata": {
    "slideshow": {
     "slide_type": "fragment"
    }
   },
   "outputs": [
    {
     "data": {
      "text/html": [
       "<pre style=\"white-space:pre;overflow-x:auto;line-height:normal;font-family:Menlo,'DejaVu Sans Mono',consolas,'Courier New',monospace\">Morty\n",
       "</pre>\n"
      ],
      "text/plain": [
       "Morty\n"
      ]
     },
     "metadata": {},
     "output_type": "display_data"
    }
   ],
   "source": [
    "my_list = ['Morty', 'Rick', 'Summer', 'Jerry', 'Beth']\n",
    "\n",
    "# Positive integers index from the beginning\n",
    "print(my_list[0])"
   ]
  },
  {
   "cell_type": "code",
   "execution_count": null,
   "id": "63f4beac",
   "metadata": {
    "slideshow": {
     "slide_type": "fragment"
    }
   },
   "outputs": [],
   "source": [
    "# Negative integers index from the end\n",
    "print(my_list[-1])"
   ]
  },
  {
   "cell_type": "markdown",
   "id": "5faca79b",
   "metadata": {
    "slideshow": {
     "slide_type": "slide"
    }
   },
   "source": [
    "<span style='color: blue'>**Slicing**</span>: creating a new list by extracting a range of elements."
   ]
  },
  {
   "cell_type": "markdown",
   "id": "bf45fe3d",
   "metadata": {
    "slideshow": {
     "slide_type": "fragment"
    }
   },
   "source": [
    "<h3 style=\"text-align: center;\">\n",
    "    <span style='color: blue'>string_name </span>[ <span style='color: magenta'>start</span> : <span style='color: magenta'>stop</span> : <span style='color: magenta'>step</span> ]</h3>\n"
   ]
  },
  {
   "cell_type": "markdown",
   "id": "b36c7f09",
   "metadata": {
    "slideshow": {
     "slide_type": "fragment"
    }
   },
   "source": [
    "The <span style='color: blue'>**start**</span> index is <span style='color: magenta'>**inclusive**</span> but the <span style='color: blue'>**stop**</span> index is <span style='color: magenta'>**exclusive**</span>."
   ]
  },
  {
   "cell_type": "code",
   "execution_count": null,
   "id": "0fe6e846",
   "metadata": {
    "slideshow": {
     "slide_type": "fragment"
    }
   },
   "outputs": [],
   "source": [
    "my_list = ['Stan', 'Kyle', 'Cartman', 'Kenny', 'Butters']\n",
    "\n",
    "print(my_list[0:1])"
   ]
  },
  {
   "cell_type": "markdown",
   "id": "3445dc76",
   "metadata": {
    "slideshow": {
     "slide_type": "slide"
    }
   },
   "source": [
    "There is <span style='color: blue'>**no need**</span> for a index if <span style='color: magenta'>**starting from the beginning**</span> or <span style='color: magenta'>**stoping at the end**</span>."
   ]
  },
  {
   "cell_type": "code",
   "execution_count": 4,
   "id": "8e422855",
   "metadata": {
    "slideshow": {
     "slide_type": "fragment"
    }
   },
   "outputs": [
    {
     "data": {
      "text/html": [
       "<pre style=\"white-space:pre;overflow-x:auto;line-height:normal;font-family:Menlo,'DejaVu Sans Mono',consolas,'Courier New',monospace\"><span style=\"font-weight: bold\">[</span><span style=\"color: #008000; text-decoration-color: #008000\">'Stan'</span>, <span style=\"color: #008000; text-decoration-color: #008000\">'Kyle'</span>, <span style=\"color: #008000; text-decoration-color: #008000\">'Cartman'</span>, <span style=\"color: #008000; text-decoration-color: #008000\">'Kenny'</span>, <span style=\"color: #008000; text-decoration-color: #008000\">'Butters'</span><span style=\"font-weight: bold\">]</span>\n",
       "</pre>\n"
      ],
      "text/plain": [
       "\u001b[1m[\u001b[0m\u001b[32m'Stan'\u001b[0m, \u001b[32m'Kyle'\u001b[0m, \u001b[32m'Cartman'\u001b[0m, \u001b[32m'Kenny'\u001b[0m, \u001b[32m'Butters'\u001b[0m\u001b[1m]\u001b[0m\n"
      ]
     },
     "metadata": {},
     "output_type": "display_data"
    }
   ],
   "source": [
    "my_list = ['Stan', 'Kyle', 'Cartman', 'Kenny', 'Butters']\n",
    "\n",
    "# Returns whole list\n",
    "print(my_list[:])"
   ]
  },
  {
   "cell_type": "code",
   "execution_count": null,
   "id": "5293a3a3",
   "metadata": {
    "slideshow": {
     "slide_type": "fragment"
    }
   },
   "outputs": [],
   "source": [
    "# Starts from the beginning\n",
    "print(my_list[:3])"
   ]
  },
  {
   "cell_type": "code",
   "execution_count": null,
   "id": "ab128847",
   "metadata": {
    "slideshow": {
     "slide_type": "fragment"
    }
   },
   "outputs": [],
   "source": [
    "# Stops at the end\n",
    "print(my_list[3:])"
   ]
  },
  {
   "cell_type": "markdown",
   "id": "95dd6ba9",
   "metadata": {
    "slideshow": {
     "slide_type": "slide"
    }
   },
   "source": [
    "<span style='color: blue'>**Slice assignment**</span> is a way to <span style='color: magenta'>**replace multiple elements**</span> in a list at once by specifying a range of indices using the syntax:\n",
    "```python\n",
    "my_list[start:end] = new_values\n",
    "```"
   ]
  },
  {
   "cell_type": "code",
   "execution_count": 5,
   "id": "d75628b3",
   "metadata": {},
   "outputs": [
    {
     "data": {
      "text/html": [
       "<pre style=\"white-space:pre;overflow-x:auto;line-height:normal;font-family:Menlo,'DejaVu Sans Mono',consolas,'Courier New',monospace\"><span style=\"font-weight: bold\">[</span><span style=\"color: #008000; text-decoration-color: #008000\">'Peter'</span>, <span style=\"color: #008000; text-decoration-color: #008000\">'Lois'</span>, <span style=\"color: #008000; text-decoration-color: #008000\">'Meg'</span>, <span style=\"color: #008000; text-decoration-color: #008000\">'Quagmire'</span>, <span style=\"color: #008000; text-decoration-color: #008000\">'Brian'</span><span style=\"font-weight: bold\">]</span>\n",
       "</pre>\n"
      ],
      "text/plain": [
       "\u001b[1m[\u001b[0m\u001b[32m'Peter'\u001b[0m, \u001b[32m'Lois'\u001b[0m, \u001b[32m'Meg'\u001b[0m, \u001b[32m'Quagmire'\u001b[0m, \u001b[32m'Brian'\u001b[0m\u001b[1m]\u001b[0m\n"
      ]
     },
     "metadata": {},
     "output_type": "display_data"
    }
   ],
   "source": [
    "my_list = ['Peter', 'Lois', 'Stewie', 'Chris', 'Brian']\n",
    "\n",
    "my_list[2:4] = ['Meg', 'Quagmire']\n",
    "\n",
    "print(my_list)"
   ]
  },
  {
   "cell_type": "markdown",
   "id": "64cffab9",
   "metadata": {
    "slideshow": {
     "slide_type": "slide"
    }
   },
   "source": [
    "<span style='color: blue'>**Slice assignment**</span> can be used to as a way to <span style='color: magenta'>**insert values**</span> into an existing list."
   ]
  },
  {
   "cell_type": "code",
   "execution_count": 6,
   "id": "1ffcddfa",
   "metadata": {
    "slideshow": {
     "slide_type": "fragment"
    }
   },
   "outputs": [
    {
     "data": {
      "text/html": [
       "<pre style=\"white-space:pre;overflow-x:auto;line-height:normal;font-family:Menlo,'DejaVu Sans Mono',consolas,'Courier New',monospace\"><span style=\"font-weight: bold\">[</span><span style=\"color: #008000; text-decoration-color: #008000\">'Homer'</span>, <span style=\"color: #008000; text-decoration-color: #008000\">'Marge'</span>, <span style=\"color: #008080; text-decoration-color: #008080; font-weight: bold\">1</span>, <span style=\"color: #008080; text-decoration-color: #008080; font-weight: bold\">2</span>, <span style=\"color: #008080; text-decoration-color: #008080; font-weight: bold\">3</span>, <span style=\"color: #008000; text-decoration-color: #008000\">'Bart'</span>, <span style=\"color: #008000; text-decoration-color: #008000\">'Lisa'</span><span style=\"font-weight: bold\">]</span>\n",
       "</pre>\n"
      ],
      "text/plain": [
       "\u001b[1m[\u001b[0m\u001b[32m'Homer'\u001b[0m, \u001b[32m'Marge'\u001b[0m, \u001b[1;36m1\u001b[0m, \u001b[1;36m2\u001b[0m, \u001b[1;36m3\u001b[0m, \u001b[32m'Bart'\u001b[0m, \u001b[32m'Lisa'\u001b[0m\u001b[1m]\u001b[0m\n"
      ]
     },
     "metadata": {},
     "output_type": "display_data"
    }
   ],
   "source": [
    "my_list = ['Homer', 'Marge', 'Bart', 'Lisa']\n",
    "\n",
    "my_list[2:2] = [1, 2, 3]\n",
    "\n",
    "print(my_list)"
   ]
  },
  {
   "cell_type": "markdown",
   "id": "9321f287",
   "metadata": {
    "slideshow": {
     "slide_type": "slide"
    }
   },
   "source": [
    "<span style='color: blue'>**Slicing**</span> with the <span style='color: magenta'>**step**</span> parameter can be used to return every <span style='color: magenta'>**nth**</span> character or in <span style='color: magenta'>**reverse order**</span>."
   ]
  },
  {
   "cell_type": "code",
   "execution_count": null,
   "id": "98435586",
   "metadata": {
    "slideshow": {
     "slide_type": "fragment"
    }
   },
   "outputs": [],
   "source": [
    "# Output a list with every second element of the original\n",
    "\n",
    "my_list = [1, 2, 3, 4, 5, 6, 7, 8, 9, 10]\n",
    "\n",
    "print(my_list[::2])"
   ]
  },
  {
   "cell_type": "code",
   "execution_count": null,
   "id": "5bff9859",
   "metadata": {
    "slideshow": {
     "slide_type": "fragment"
    }
   },
   "outputs": [],
   "source": [
    "# Output a list in reverse order of the original\n",
    "\n",
    "my_list = [1, 2, 3, 4, 5, 6, 7, 8, 9, 10]\n",
    "\n",
    "print(my_list[::-1])"
   ]
  },
  {
   "cell_type": "markdown",
   "id": "0d0bab03",
   "metadata": {
    "slideshow": {
     "slide_type": "slide"
    }
   },
   "source": [
    "<span style='color: blue'>**Unpacking**</span> allows you to assign the values of a list to multiple <span style='color: magenta'>**variables at once**</span>."
   ]
  },
  {
   "cell_type": "code",
   "execution_count": null,
   "id": "422559d8",
   "metadata": {},
   "outputs": [],
   "source": [
    "my_list = [1, 2, 3]\n",
    "\n",
    "a, b, c = my_list\n",
    "\n",
    "print(a, b, c)"
   ]
  },
  {
   "cell_type": "code",
   "execution_count": null,
   "id": "db7a5d59",
   "metadata": {},
   "outputs": [],
   "source": [
    "# Unpacking a list of unknown length\n",
    "\n",
    "my_list = [1, 2, 3]\n",
    "\n",
    "a, b, *other = my_list\n",
    "\n",
    "print(a, b, other)"
   ]
  },
  {
   "cell_type": "code",
   "execution_count": null,
   "id": "d0e90bad",
   "metadata": {},
   "outputs": [],
   "source": [
    "my_list = [1, 2, 3]\n",
    "\n",
    "# a, b, *other = my_list\n",
    "\n",
    "print(*my_list)"
   ]
  },
  {
   "cell_type": "code",
   "execution_count": null,
   "id": "b437da76",
   "metadata": {},
   "outputs": [],
   "source": [
    "# Unpacking nested lists\n",
    "\n",
    "my_list = [0, 1, [2, 3], 4]\n",
    "\n",
    "*other, (b, c), d = my_list\n",
    "\n",
    "print(f'{other = }')\n",
    "print(f'{b = }')\n",
    "print(f'{c = }')\n",
    "print(f'{d = }')"
   ]
  },
  {
   "cell_type": "markdown",
   "id": "4d75be01",
   "metadata": {
    "slideshow": {
     "slide_type": "slide"
    }
   },
   "source": [
    "<span style='color: blue'>**Mathematical Operators (Concat and Repeat)**</span>\n",
    "\n",
    "- Using the <span style='color: magenta'>**+**</span> on Python lists for <span style='color: magenta'>**concatenation**</span>.\n",
    "- Using the <span style='color: magenta'>**\\***</span> on Python lists for <span style='color: magenta'>**repetition**</span>."
   ]
  },
  {
   "cell_type": "code",
   "execution_count": null,
   "id": "c85d618c",
   "metadata": {
    "slideshow": {
     "slide_type": "fragment"
    }
   },
   "outputs": [],
   "source": [
    "# Example of concatenation with + operator\n",
    "list1 = ['Superman', 'Batman', 'Wonder Woman']\n",
    "list2 = ['The Flash', 'Green Lantern', 'Aquaman']\n",
    "\n",
    "concatenated_list = list1 + list2\n",
    "\n",
    "print(concatenated_list) # Output: ['Superman', 'Batman', 'Wonder Woman', 'The Flash', 'Green Lantern', 'Aquaman']"
   ]
  },
  {
   "cell_type": "code",
   "execution_count": null,
   "id": "76ef1570",
   "metadata": {
    "slideshow": {
     "slide_type": "fragment"
    }
   },
   "outputs": [],
   "source": [
    "# Example of repetition with * operator\n",
    "hero_list = ['Superman', 'Batman']\n",
    "repeated_list = hero_list * 2\n",
    "print(repeated_list)"
   ]
  },
  {
   "cell_type": "markdown",
   "id": "efe8bbe6",
   "metadata": {
    "slideshow": {
     "slide_type": "slide"
    }
   },
   "source": [
    "<span style='color: blue'>**List Related Functions & Keywords**</span>"
   ]
  },
  {
   "cell_type": "markdown",
   "id": "58a79180",
   "metadata": {
    "slideshow": {
     "slide_type": "slide"
    }
   },
   "source": [
    "The function <span style='color: blue'>**any()**</span> function takes an iterable (e.g. a list) and returns True if any element in the iterable is <span style='color: magenta'>**True**</span>. Otherwise, it returns <span style='color: magenta'>**False**</span>."
   ]
  },
  {
   "cell_type": "code",
   "execution_count": null,
   "id": "36abb277",
   "metadata": {
    "slideshow": {
     "slide_type": "fragment"
    }
   },
   "outputs": [],
   "source": [
    "# Check if a number is present\n",
    "\n",
    "numbers = [0, 3, 5, 7, 9]\n",
    "\n",
    "boolean = any(n == 2 for n in numbers)\n",
    "\n",
    "print(boolean)"
   ]
  },
  {
   "cell_type": "code",
   "execution_count": null,
   "id": "fd21bc65",
   "metadata": {
    "slideshow": {
     "slide_type": "fragment"
    }
   },
   "outputs": [],
   "source": [
    "# Check if any even numbers are in a list\n",
    "\n",
    "numbers = [1, 3, 5, 7, 9]\n",
    "\n",
    "boolean = any(n % 2 == 0 for n in numbers)\n",
    "\n",
    "print(boolean)"
   ]
  },
  {
   "cell_type": "markdown",
   "id": "a4638575",
   "metadata": {
    "slideshow": {
     "slide_type": "slide"
    }
   },
   "source": [
    "The <span style='color: blue'>**len()**</span> function return the <span style='color: magenta'>**length**</span> of a list as an integer."
   ]
  },
  {
   "cell_type": "code",
   "execution_count": null,
   "id": "9e6a1475",
   "metadata": {
    "slideshow": {
     "slide_type": "fragment"
    }
   },
   "outputs": [],
   "source": [
    "my_list = [0, 1, 2, 3, 4]\n",
    "\n",
    "print(len(my_list))"
   ]
  },
  {
   "cell_type": "markdown",
   "id": "fe117027",
   "metadata": {
    "slideshow": {
     "slide_type": "slide"
    }
   },
   "source": [
    "The functions <span style='color: blue'>**min()**</span>, <span style='color: blue'>**max()**</span>, and <span style='color: blue'>**sum()**</span> on lists in Python return the <span style='color: magenta'>**minimum**</span> value, <span style='color: magenta'>**maximum**</span> value, and <span style='color: magenta'>**sum**</span> of all values in the list, respectively."
   ]
  },
  {
   "cell_type": "code",
   "execution_count": null,
   "id": "446ef1da",
   "metadata": {
    "slideshow": {
     "slide_type": "fragment"
    }
   },
   "outputs": [],
   "source": [
    "numbers = [3, 1, 4, 1, 5, 9, 2, 6, 5, 3]\n",
    "\n",
    "minimum = min(numbers)\n",
    "maximum = max(numbers)\n",
    "total = sum(numbers)\n",
    "\n",
    "print(f'{minimum = }')\n",
    "print(f'{maximum = }')\n",
    "print(f'{total = }')"
   ]
  },
  {
   "cell_type": "markdown",
   "id": "e46ea1d2",
   "metadata": {
    "slideshow": {
     "slide_type": "slide"
    }
   },
   "source": [
    "The <span style='color: blue'>**in**</span> operator in Python checks if an element <span style='color: magenta'>**is present**</span> in a list and returns a <span style='color: magenta'>**Boolean**</span> value (True or False)."
   ]
  },
  {
   "cell_type": "code",
   "execution_count": null,
   "id": "246fdc5b",
   "metadata": {
    "slideshow": {
     "slide_type": "fragment"
    }
   },
   "outputs": [],
   "source": [
    "fruits = ['apple', 'banana', 'orange']\n",
    "\n",
    "boolean = 'banana' in fruits\n",
    "\n",
    "print(boolean)\n"
   ]
  },
  {
   "cell_type": "markdown",
   "id": "05015ae4",
   "metadata": {
    "slideshow": {
     "slide_type": "slide"
    }
   },
   "source": [
    "<span style='color: blue'>**Sorting Lists**</span>\n",
    "\n",
    "In Python, both the list method <span style='color: blue'>**sort()**</span> and the built in function <span style='color: magenta'>**sorted()**</span> are used to sort the elements of a list. However, there are some <span style='color: magenta'>**differences**</span> between the two:\n",
    "\n",
    "- <span style='color: blue'>**sort()**</span> modifies the original list, while <span style='color: magenta'>**sorted()**</span> returns a new sorted list.\n",
    "- <span style='color: blue'>**sort()**</span> only works with lists, while <span style='color: magenta'>**sorted()**</span> works with any iterable object.\n",
    "- <span style='color: blue'>**sort()**</span> has no return value, while <span style='color: magenta'>**sorted()**</span> returns a sorted list that can be assigned to a variable."
   ]
  },
  {
   "cell_type": "code",
   "execution_count": null,
   "id": "48c6400d",
   "metadata": {
    "slideshow": {
     "slide_type": "fragment"
    }
   },
   "outputs": [],
   "source": [
    "# Sort the list in place using sort()\n",
    "\n",
    "numbers = [3, 1, 4, 1, 5, 9, 2, 6, 5, 3, 5]\n",
    "\n",
    "numbers.sort()\n",
    "\n",
    "print(numbers)"
   ]
  },
  {
   "cell_type": "code",
   "execution_count": null,
   "id": "49198448",
   "metadata": {
    "slideshow": {
     "slide_type": "fragment"
    }
   },
   "outputs": [],
   "source": [
    "# Use sorted() to get a new sorted list\n",
    "\n",
    "numbers = [3, 1, 4, 1, 5, 9, 2, 6, 5, 3, 5]\n",
    "\n",
    "sorted_numbers = sorted(numbers)\n",
    "\n",
    "print(sorted_numbers)"
   ]
  },
  {
   "cell_type": "markdown",
   "id": "818df6d5",
   "metadata": {
    "slideshow": {
     "slide_type": "slide"
    }
   },
   "source": [
    "<span style='color: blue'>**Reverse**</span> sorting can be done by <span style='color: blue'>**sort()**</span> and <span style='color: magenta'>**sorted()**</span> by passing in the parameter <span style='color: blue'>**reverse**</span>=<span style='color: magenta'>**True**</span>."
   ]
  },
  {
   "cell_type": "code",
   "execution_count": null,
   "id": "7888520f",
   "metadata": {
    "slideshow": {
     "slide_type": "fragment"
    }
   },
   "outputs": [],
   "source": [
    "# Sort the list in place using sort() and reverse=True\n",
    "\n",
    "numbers = [3, 1, 4, 1, 5, 9, 2, 6, 5, 3, 5]\n",
    "\n",
    "numbers.sort(reverse=True)\n",
    "\n",
    "print(numbers)"
   ]
  },
  {
   "cell_type": "code",
   "execution_count": null,
   "id": "fa23b6d7",
   "metadata": {
    "slideshow": {
     "slide_type": "fragment"
    }
   },
   "outputs": [],
   "source": [
    "# Use sorted() to get a new sorted list\n",
    "\n",
    "numbers = [3, 1, 4, 1, 5, 9, 2, 6, 5, 3, 5]\n",
    "\n",
    "sorted_numbers = sorted(numbers, reverse=True)\n",
    "\n",
    "print(sorted_numbers)"
   ]
  },
  {
   "cell_type": "markdown",
   "id": "82a3e4f4",
   "metadata": {
    "slideshow": {
     "slide_type": "slide"
    }
   },
   "source": [
    "The functions <span style='color: blue'>**sort()**</span> and <span style='color: magenta'>**sorted()**</span> both provide a <span style='color: blue'>**key parameter**</span> that enables <span style='color: magenta'>**advanced sorting**</span>. Here is an example of how to sort strings in two ways: first <span style='color: blue'>**alphabetically**</span> and then by their <span style='color: magenta'>**length**</span>."
   ]
  },
  {
   "cell_type": "code",
   "execution_count": null,
   "id": "f9452228",
   "metadata": {
    "slideshow": {
     "slide_type": "fragment"
    }
   },
   "outputs": [],
   "source": [
    "# Sort alphabetically first then length second\n",
    "\n",
    "names = ['Abby', 'Bob', 'Charlie', 'David', 'Evelyn', 'Chester', 'Fred', 'Gina', 'Brian']\n",
    "\n",
    "sorted_names = sorted(names, key=lambda x: (x[0], len(x)))\n",
    "\n",
    "print(sorted_names)"
   ]
  },
  {
   "cell_type": "markdown",
   "id": "a4d4b701",
   "metadata": {
    "slideshow": {
     "slide_type": "slide"
    }
   },
   "source": [
    "<span style='color: blue'>**List methods**</span>\n",
    "\n",
    "The <span style='color: blue'>**list**</span> object contains various built-in <span style='color: blue'>**methods**</span> that allow for manipulation of its elements."
   ]
  },
  {
   "cell_type": "markdown",
   "id": "6d946e8a",
   "metadata": {
    "slideshow": {
     "slide_type": "fragment"
    }
   },
   "source": [
    "The <span style='color: blue'>**append()**</span> method modifies a list by adding an element to the end of it.  It is an <span style='color: magenta'>**inplace-operation**</span> which modifies the existing list."
   ]
  },
  {
   "cell_type": "code",
   "execution_count": null,
   "id": "47ea0f19",
   "metadata": {
    "slideshow": {
     "slide_type": "fragment"
    }
   },
   "outputs": [],
   "source": [
    "# Add a new element to the end of an existing list\n",
    "\n",
    "fruits = ['apple', 'banana', 'cherry']\n",
    "\n",
    "fruits.append('orange')\n",
    "\n",
    "print(fruits)"
   ]
  },
  {
   "cell_type": "code",
   "execution_count": null,
   "id": "6965a56a",
   "metadata": {
    "slideshow": {
     "slide_type": "fragment"
    }
   },
   "outputs": [],
   "source": [
    "# Appending a list to a list will create a nested list\n",
    "\n",
    "fruits = ['apple', 'banana', 'cherry']\n",
    "\n",
    "fruits.append(['orange', 'pear'])\n",
    "\n",
    "print(fruits)"
   ]
  },
  {
   "cell_type": "markdown",
   "id": "03f69098",
   "metadata": {
    "slideshow": {
     "slide_type": "slide"
    }
   },
   "source": [
    "The <span style='color: blue'>**extend()**</span> method in Python's list class allows you to <span style='color: magenta'>**add elements**</span> of one list to <span style='color: magenta'>**another list**</span>."
   ]
  },
  {
   "cell_type": "code",
   "execution_count": null,
   "id": "03bf1807",
   "metadata": {
    "slideshow": {
     "slide_type": "fragment"
    }
   },
   "outputs": [],
   "source": [
    "# Extend a list with the contents of another list\n",
    "\n",
    "list1 = [1, 2, 3]\n",
    "\n",
    "list2 = [4, 5, 6]\n",
    "\n",
    "list1.extend(list2)\n",
    "\n",
    "print(list1)"
   ]
  },
  {
   "cell_type": "markdown",
   "id": "0378615f",
   "metadata": {
    "slideshow": {
     "slide_type": "slide"
    }
   },
   "source": [
    "The method <span style='color: blue'>**extend()**</span> is not limited to adding the elements of list to lists.  This method will work with any Python iterable objects such as <span style='color: magenta'>**tuples**</span>, <span style='color: magenta'>**sets**</span>, <span style='color: magenta'>**strings**</span>, <span style='color: magenta'>**dictionary keys**</span> and <span style='color: magenta'>**values**</span>."
   ]
  },
  {
   "cell_type": "code",
   "execution_count": null,
   "id": "67600de4",
   "metadata": {
    "slideshow": {
     "slide_type": "fragment"
    }
   },
   "outputs": [],
   "source": [
    "# Extending lists with tuples\n",
    "\n",
    "list1 = [1, 2, 3]\n",
    "tuple1 = (4, 5, 6)\n",
    "\n",
    "list1.extend(tuple1)\n",
    "\n",
    "print(list1)"
   ]
  },
  {
   "cell_type": "code",
   "execution_count": null,
   "id": "255d969c",
   "metadata": {
    "slideshow": {
     "slide_type": "fragment"
    }
   },
   "outputs": [],
   "source": [
    "# Extending lists with sets\n",
    "\n",
    "list1 = [1, 2, 3]\n",
    "set1 = {4, 5, 6}\n",
    "\n",
    "list1.extend(set1)\n",
    "\n",
    "print(list1)"
   ]
  },
  {
   "cell_type": "code",
   "execution_count": null,
   "id": "55b7eaac",
   "metadata": {
    "slideshow": {
     "slide_type": "fragment"
    }
   },
   "outputs": [],
   "source": [
    "# Extending lists with dictionary keys or values\n",
    "\n",
    "list1 = [1, 2, 3]\n",
    "dict1 = {\"a\": 4, \"b\": 5, \"c\": 6}\n",
    "\n",
    "list1.extend(dict1.keys())\n",
    "\n",
    "print(list1)"
   ]
  },
  {
   "cell_type": "markdown",
   "id": "77068483",
   "metadata": {
    "slideshow": {
     "slide_type": "slide"
    }
   },
   "source": [
    "The method <span style='color: blue'>**remove()**</span> removes <span style='color: magenta'>**first occurrence**</span> of element in list, modifies original list, and raises <span style='color: magenta'>**ValueError**</span> if element not found."
   ]
  },
  {
   "cell_type": "code",
   "execution_count": null,
   "id": "9e2ffff9",
   "metadata": {
    "slideshow": {
     "slide_type": "fragment"
    }
   },
   "outputs": [],
   "source": [
    "# Remove element from a list\n",
    "\n",
    "fruits = ['apple', 'banana', 'cherry', 'banana', 'apple']\n",
    "\n",
    "fruits.remove('banana')\n",
    "\n",
    "print(fruits)"
   ]
  },
  {
   "cell_type": "markdown",
   "id": "06c0f3a9",
   "metadata": {
    "slideshow": {
     "slide_type": "slide"
    }
   },
   "source": [
    "The <span style='color: blue'>**pop()**</span> method is used to <span style='color: magenta'>**remove**</span> and <span style='color: magenta'>**return**</span> the element at a specified index in a list.\n",
    "\n",
    "- If you don't specify an index when calling <span style='color: blue'>**pop()**</span>, it will remove and return <span style='color: magenta'>**the last element**</span> in the list by default.\n",
    "\n",
    "- If you try to <span style='color: blue'>**pop()**</span> an element from an empty list, it will raise an <span style='color: magenta'>**IndexError**</span>.\n",
    "\n",
    "- You can use negative indexing with <span style='color: blue'>**pop()**</span> to remove and return elements from the <span style='color: magenta'>**end**</span> of the list"
   ]
  },
  {
   "cell_type": "code",
   "execution_count": null,
   "id": "d4446055",
   "metadata": {
    "slideshow": {
     "slide_type": "fragment"
    }
   },
   "outputs": [],
   "source": [
    "# Remove and return a specific element from a list\n",
    "\n",
    "fruits = ['apple', 'banana', 'cherry']\n",
    "\n",
    "popped_fruit = fruits.pop(1)\n",
    "\n",
    "print(popped_fruit)\n",
    "\n",
    "print(fruits)\n"
   ]
  },
  {
   "cell_type": "markdown",
   "id": "2cc20dc7",
   "metadata": {
    "slideshow": {
     "slide_type": "slide"
    }
   },
   "source": [
    "The <span style='color: blue'>**index()**</span> method in Python's list data type returns the <span style='color: magenta'>**index**</span> of the <span style='color: magenta'>**first occurrence**</span> of a specified element in the list.\n",
    "\n",
    "- The <span style='color: blue'>**index**</span> method in Python raises a <span style='color: magenta'>**ValueError**</span> if the specified element is <span style='color: magenta'>**not found**</span> in the list.\n",
    "- The <span style='color: blue'>**index()**</span> method takes <span style='color: magenta'>**longer to search large lists**</span>, and <span style='color: magenta'>**faster for smaller lists**</span>. Other data structures like dictionaries and sets have faster lookup times."
   ]
  },
  {
   "cell_type": "code",
   "execution_count": null,
   "id": "d57e8530",
   "metadata": {
    "slideshow": {
     "slide_type": "fragment"
    }
   },
   "outputs": [],
   "source": [
    "# Find the index of 'Black Widow' in the list\n",
    "\n",
    "marvel_heroes = ['Iron Man', 'Spider-Man', 'Black Widow', 'Thor', 'Spider-Man']\n",
    "\n",
    "index_of_widow = marvel_heroes.index('Black Widow')\n",
    "\n",
    "print(index_of_widow)"
   ]
  },
  {
   "cell_type": "markdown",
   "id": "33f82925",
   "metadata": {
    "slideshow": {
     "slide_type": "slide"
    }
   },
   "source": [
    "The methods <span style='color: blue'>**pop()**</span> and <span style='color: blue'>**index()**</span>\n",
    "can be used together to <span style='color: magenta'>**remove**</span> and <span style='color: magenta'>**return**</span> an element in a list by name."
   ]
  },
  {
   "cell_type": "code",
   "execution_count": null,
   "id": "c2a60d72",
   "metadata": {
    "slideshow": {
     "slide_type": "fragment"
    }
   },
   "outputs": [],
   "source": [
    "car_manufacturers = ['Ford', 'Toyota', 'Chevrolet', 'Honda', 'Toyota']\n",
    "\n",
    "# Find the index of 'Chevrolet' in the list\n",
    "index_of_chevy = car_manufacturers.index('Chevrolet')\n",
    "\n",
    "# Remove 'Chevrolet' from the list using the index found above\n",
    "car_manufacturers.pop(index_of_chevy)\n",
    "\n",
    "# Print the modified list\n",
    "print(car_manufacturers)\n"
   ]
  },
  {
   "cell_type": "markdown",
   "id": "17b60e3b",
   "metadata": {
    "slideshow": {
     "slide_type": "slide"
    }
   },
   "source": [
    "The method <span style='color: blue'>**count()**</span> method <span style='color: magenta'>**counts occurrences**</span> of an element in a list.\n",
    "\n",
    "- Takes <span style='color: magenta'>**one**</span> argument, which is the element to count.\n",
    "- If the element is <span style='color: magenta'>**not found**</span> in the list <span style='color: magenta'>**0**</span> is returned.\n",
    "- The arguments are <span style='color: magenta'>**case-sensitive**</span> when searching for a string element, meaning that it distinguishes between <span style='color: magenta'>**uppercase**</span> and <span style='color: magenta'>**lowercase**</span> characters in the search.\n",
    "- The time it takes to run <span style='color: magenta'>**increases linearly**</span> with the number of elements in the list."
   ]
  },
  {
   "cell_type": "code",
   "execution_count": null,
   "id": "1c1bc1d0",
   "metadata": {
    "slideshow": {
     "slide_type": "fragment"
    }
   },
   "outputs": [],
   "source": [
    "my_list = [1, 2, 3, 2, 4, 5, 2]\n",
    "\n",
    "count = my_list.count(2)\n",
    "\n",
    "print(count)"
   ]
  },
  {
   "cell_type": "markdown",
   "id": "4c078806",
   "metadata": {
    "slideshow": {
     "slide_type": "slide"
    }
   },
   "source": [
    "<span style='color: blue'>**Swapping List Elements**</span>\n",
    "\n",
    "Swapping the elements in two locations of a list can be done more than one way. The first example uses a <span style='color: magenta'>**temporary**</span> variable, the second utilises <span style='color: magenta'>**unpacking**</span>."
   ]
  },
  {
   "cell_type": "code",
   "execution_count": null,
   "id": "a9911241",
   "metadata": {
    "slideshow": {
     "slide_type": "fragment"
    }
   },
   "outputs": [],
   "source": [
    "bear_names = ['Yogi', 'Winnie', 'Smokey', 'Paddington', 'Baloo']\n",
    "\n",
    "# Swap the first and last elements using a temporary variable\n",
    "temp = bear_names[0]\n",
    "bear_names[0] = bear_names[-1]\n",
    "bear_names[-1] = temp\n",
    "\n",
    "# Print the updated list\n",
    "print(bear_names)\n"
   ]
  },
  {
   "cell_type": "code",
   "execution_count": null,
   "id": "154848ed",
   "metadata": {
    "slideshow": {
     "slide_type": "fragment"
    }
   },
   "outputs": [],
   "source": [
    "bear_names = ['Yogi', 'Winnie', 'Smokey', 'Paddington', 'Baloo']\n",
    "\n",
    "# Swap the first and last elements without using a temporary variable\n",
    "bear_names[0], bear_names[-1] = bear_names[-1], bear_names[0]\n",
    "\n",
    "# Print the updated list\n",
    "print(bear_names)\n"
   ]
  },
  {
   "cell_type": "markdown",
   "id": "4c039493",
   "metadata": {
    "slideshow": {
     "slide_type": "slide"
    }
   },
   "source": [
    "<span style='color: blue'>**Copying (deep vs. shallow copies)**</span>\n",
    "\n",
    "Copying lists in Python creates a new list with the same elements. <span style='color: blue'>**Shallow copy**</span> creates a <span style='color: magenta'>**new list**</span> with references to the <span style='color: magenta'>**original elements**</span>, while <span style='color: blue'>**deep copy**</span> creates a <span style='color: magenta'>**new list**</span> with <span style='color: magenta'>**new copies**</span> of the elements.\n",
    "\n",
    "- <span style='color: magenta'>**Shallow copy**</span> can be created using the <span style='color: magenta'>**copy()**</span> method or the <span style='color: magenta'>**slice operator**</span>.\n",
    "- <span style='color: magenta'>**Deep copy**</span> requires the <span style='color: magenta'>**copy**</span> module to be imported.\n",
    "- Changes to the <span style='color: magenta'>**original list**</span> can affect a <span style='color: magenta'>**shallow copy**</span>.\n",
    "- A <span style='color: magenta'>**deep copy**</span> is independent of the original list and changes to it <span style='color: magenta'>**will not affect**</span> the original."
   ]
  },
  {
   "cell_type": "code",
   "execution_count": null,
   "id": "b0124f84",
   "metadata": {
    "slideshow": {
     "slide_type": "slide"
    }
   },
   "outputs": [],
   "source": [
    "# Example 1. Not using the copy method. New list becomes a duplicate of the original\n",
    "original = ['Garfield', 'Tom', 'Sylvester']\n",
    "new_list = original\n",
    "\n",
    "# Modify the new list\n",
    "new_list[0] = 'Hello Kitty'\n",
    "\n",
    "# The original list is also modified\n",
    "print(f'{original = }, ID: {id(original)}')\n",
    "print(f'{new_list = }, ID: {id(new_list)}')"
   ]
  },
  {
   "cell_type": "code",
   "execution_count": null,
   "id": "e472ef88",
   "metadata": {
    "slideshow": {
     "slide_type": "slide"
    }
   },
   "outputs": [],
   "source": [
    "# Example 2. Using the copy method\n",
    "original = ['Garfield', 'Tom', 'Sylvester']\n",
    "shallow_copy = original.copy()\n",
    "\n",
    "# Modify the shallow copy\n",
    "original[0] = 'Hello Kitty'\n",
    "\n",
    "# The original list is not modified\n",
    "print(f'{original = }, ID: {id(original)}')\n",
    "print(f'{shallow_copy = }, ID: {id(shallow_copy)}')"
   ]
  },
  {
   "cell_type": "code",
   "execution_count": null,
   "id": "64e2dc98",
   "metadata": {
    "slideshow": {
     "slide_type": "slide"
    }
   },
   "outputs": [],
   "source": [
    "# Example 3. Using shallow copy on nested lists\n",
    "original = [['Garfield', 'Tom'], ['Sylvester', 'Felix']]\n",
    "shallow_copy = original.copy()\n",
    "\n",
    "# Modify the shallow copy\n",
    "shallow_copy[0][0] = 'Hello Kitty'\n",
    "\n",
    "# The original list is also modified\n",
    "print(f'{original = }, ID: {id(original[0])}')\n",
    "print(f'{shallow_copy = }, ID: {id(shallow_copy[0])}')"
   ]
  },
  {
   "cell_type": "code",
   "execution_count": null,
   "id": "44db1d6c",
   "metadata": {
    "slideshow": {
     "slide_type": "slide"
    }
   },
   "outputs": [],
   "source": [
    "# Example 4. Using deep copy on nested lists\n",
    "import copy\n",
    "\n",
    "original = [['Garfield', 'Tom'], ['Sylvester', 'Felix']]\n",
    "deep_copy = copy.deepcopy(original)\n",
    "\n",
    "# Modify the deep copy\n",
    "deep_copy[0][0] = 'Hello Kitty'\n",
    "\n",
    "# The original list is not modified\n",
    "print(f'{original = }, ID: {id(original[0])}')\n",
    "print(f'{deep_copy = }, ID: {id(deep_copy[0])}')"
   ]
  },
  {
   "cell_type": "markdown",
   "id": "e2d17838",
   "metadata": {
    "slideshow": {
     "slide_type": "slide"
    }
   },
   "source": [
    "<span style='color: blue'>**Filtering & Mapping lists**</span>\n",
    "\n",
    "<span style='color: blue'>**Filter()**</span> extracts a subset of elements from an iterable that <span style='color: magenta'>**meets a condition**</span>."
   ]
  },
  {
   "cell_type": "code",
   "execution_count": null,
   "id": "a24eda1b",
   "metadata": {
    "slideshow": {
     "slide_type": "fragment"
    }
   },
   "outputs": [],
   "source": [
    "dog_names = ['Scooby-Doo', 'Snoopy', 'Droopy', 'Clifford', 'Spike', 'Pluto']\n",
    "\n",
    "# Create a named function\n",
    "def is_short_name(name):\n",
    "    return len(name) <= 6\n",
    "\n",
    "filtered_dog_names = list(filter(is_short_name, dog_names))\n",
    "print(filtered_dog_names)"
   ]
  },
  {
   "cell_type": "markdown",
   "id": "2ad2af23",
   "metadata": {
    "slideshow": {
     "slide_type": "fragment"
    }
   },
   "source": [
    "- It takes a <span style='color: magenta'>**function**</span> and a <span style='color: magenta'>**sequence**</span> as arguments.\n",
    "- The filtered elements are returned as a <span style='color: magenta'>**new**</span> iterable.\n",
    "- The original sequence is <span style='color: magenta'>**not modified**</span> by the filter function.\n",
    "- The function argument can be a <span style='color: magenta'>**lambda**</span> expression or a <span style='color: magenta'>**named function**</span>."
   ]
  },
  {
   "cell_type": "markdown",
   "id": "93f0e4ac",
   "metadata": {
    "slideshow": {
     "slide_type": "slide"
    }
   },
   "source": [
    " <span style='color: blue'>**Map()**</span> applies a <span style='color: magenta'>**function**</span> to each element of an iterable and returns a new iterable with the results."
   ]
  },
  {
   "cell_type": "code",
   "execution_count": null,
   "id": "cea0a4b3",
   "metadata": {
    "slideshow": {
     "slide_type": "fragment"
    }
   },
   "outputs": [],
   "source": [
    "dog_names = [\"Scooby-Doo\", \"Snoopy\", \"Odie\", \"Clifford\", \"Goofy\"]\n",
    "\n",
    "# Example used a lambda expression, but could use a named function\n",
    "dog_names_upper = list(map(lambda x: x.upper(), dog_names))\n",
    "\n",
    "print(dog_names_upper)"
   ]
  },
  {
   "cell_type": "code",
   "execution_count": null,
   "id": "42accc10",
   "metadata": {
    "slideshow": {
     "slide_type": "fragment"
    }
   },
   "outputs": [],
   "source": [
    "# In the example map can be passed multiple lists\n",
    "def add_lists(x, y):\n",
    "    return x + y\n",
    "\n",
    "list1 = [1, 2, 3, 4, 5]\n",
    "list2 = [10, 20, 30, 40, 50]\n",
    "\n",
    "sums = list(map(add_lists, list1, list2))\n",
    "print(sums)"
   ]
  },
  {
   "cell_type": "markdown",
   "id": "5a0320a1",
   "metadata": {
    "slideshow": {
     "slide_type": "fragment"
    }
   },
   "source": [
    "- It returns a <span style='color: magenta'>**new iterable**</span> with the results.\n",
    "- It's <span style='color: magenta'>**faster**</span> than a <span style='color: magenta'>**for loop**</span> in some cases.\n",
    "- It can be used with <span style='color: magenta'>**multiple iterables**</span> simultaneously."
   ]
  },
  {
   "cell_type": "markdown",
   "id": "6433befd",
   "metadata": {
    "slideshow": {
     "slide_type": "slide"
    }
   },
   "source": [
    "<span style='color: blue'>**Combinations and Permutations**</span>\n",
    "\n",
    "The Python library <span style='color: blue'>**itertools**</span> offers list <span style='color: magenta'>**combination**</span> and <span style='color: magenta'>**permutation**</span> functions to reorganize or merge elements in a list in different ways.\n",
    "\n",
    "A <span style='color: blue'>**combination**</span> is considered a number of subsets of elements from an iterable where order <span style='color: magenta'>**does not matter**</span>.\n",
    "\n",
    "A <span style='color: blue'>**permutation**</span> is an ordered arrangement of elements from a set, where the <span style='color: magenta'>**order matters**</span>."
   ]
  },
  {
   "cell_type": "code",
   "execution_count": null,
   "id": "258fbece",
   "metadata": {},
   "outputs": [],
   "source": [
    "# Example of combinations\n",
    "import itertools\n",
    "\n",
    "fish = ['Nemo', 'Flounder', 'Blinky']\n",
    "combs = list(itertools.combinations(fish, 2))\n",
    "\n",
    "# Returns a list of tuples\n",
    "print(combs)"
   ]
  },
  {
   "cell_type": "code",
   "execution_count": null,
   "id": "ca1e2ca9",
   "metadata": {},
   "outputs": [],
   "source": [
    "# Example of permutations\n",
    "import itertools\n",
    "\n",
    "fish = ['Nemo', 'Flounder', 'Blinky']\n",
    "perms = list(itertools.permutations(fish, 2))\n",
    "\n",
    "# Returns a list of tuples\n",
    "print(perms)"
   ]
  },
  {
   "cell_type": "code",
   "execution_count": null,
   "id": "59fb3d09",
   "metadata": {},
   "outputs": [],
   "source": []
  }
 ],
 "metadata": {
  "celltoolbar": "Slideshow",
  "kernelspec": {
   "display_name": "Python 3 (ipykernel)",
   "language": "python",
   "name": "python3"
  },
  "language_info": {
   "codemirror_mode": {
    "name": "ipython",
    "version": 3
   },
   "file_extension": ".py",
   "mimetype": "text/x-python",
   "name": "python",
   "nbconvert_exporter": "python",
   "pygments_lexer": "ipython3",
   "version": "3.11.1"
  }
 },
 "nbformat": 4,
 "nbformat_minor": 5
}
