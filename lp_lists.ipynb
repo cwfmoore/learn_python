{
 "cells": [
  {
   "cell_type": "code",
   "execution_count": 1,
   "id": "40d18fa6",
   "metadata": {
    "slideshow": {
     "slide_type": "skip"
    }
   },
   "outputs": [],
   "source": [
    "# !pip install rich\n",
    "from rich import print"
   ]
  },
  {
   "cell_type": "markdown",
   "id": "bdf25e56",
   "metadata": {
    "slideshow": {
     "slide_type": "slide"
    }
   },
   "source": [
    "## <span style='color: blue'>Learn Python</span> - Integers & Floats\n",
    "\n",
    "- [Creating Lists](##creating-lists)\n",
    "- [Indexing, Slicing & Unpacking](##indexing-slicing-unpacking)\n",
    "- [Mathematical Operators (Concat and Repeat)](##mathematical-operators-concat-and-repeat)\n",
    "- [List Related Functions & Keywords](##list-related-functions-keywords)\n",
    "- [Sorting Lists](##sorting-lists)\n",
    "- [Removing Duplicates](##removing-duplicates)\n",
    "- [List Methods](##list-methods)\n",
    "- [Swapping Elements](##swapping-elements)\n",
    "- [Copying (Deep vs. Shallow Copies)](##copying-deep-vs-shallow-copies)\n",
    "- [Filtering & Mapping Lists](##filtering-mapping-lists)\n",
    "- [Combinations and Permutations](##combinations-and-permutations)\n",
    "- [List Comprehensions](##list-comprehensions)"
   ]
  },
  {
   "cell_type": "markdown",
   "id": "96b3b207",
   "metadata": {
    "slideshow": {
     "slide_type": "skip"
    }
   },
   "source": [
    "<span style='color: blue'>**Click**</span> on a link from the above menu to <span style='color: blue'>**go to that section**</span>"
   ]
  },
  {
   "cell_type": "markdown",
   "id": "fa4be256",
   "metadata": {
    "slideshow": {
     "slide_type": "slide"
    }
   },
   "source": [
    "## <span style='color: blue'>**Creating lists**</span> <a id='#creating-lists'></a>\n",
    "\n",
    "Python <span style='color: blue'>**lists**</span> are a widely used <span style='color: blue'>**data structure**</span> in which values of <span style='color: blue'>**different data types**</span>, can be collected and modified.\n",
    "\n",
    "To create a <span style='color: blue'>**list**</span> define it with square <span style='color: blue'>**brackets**</span> and separate <span style='color: blue'>**elements**</span> with <span style='color: blue'>**commas**</span>.\n",
    "\n",
    "```python\n",
    "    # Create an empty list\n",
    "    my_list = []\n",
    "    \n",
    "    # Create an empty list using the list() constructor\n",
    "    my_list = list()\n",
    "```"
   ]
  },
  {
   "cell_type": "markdown",
   "id": "5a5a73f2",
   "metadata": {},
   "source": [
    "```python\n",
    "    # Create a populated list\n",
    "    my_list = [\"Mercedes-Benz\", \"BMW\", \"Audi\", \"Lexus\", \"Porsche\"]\n",
    "\n",
    "    # Create a populated list of mixed data types\n",
    "    my_list = ['Porsche', 3.14, [1, 2, 3]]\n",
    "```"
   ]
  },
  {
   "cell_type": "markdown",
   "id": "1e248930",
   "metadata": {
    "slideshow": {
     "slide_type": "slide"
    }
   },
   "source": [
    "## <span style='color: blue'>**Indexing, slicing & unpacking**</span> <a id='#indexing-slicing-unpacking'></a>\n",
    "\n",
    "- <span style='color: blue'>**Indexing**</span> is accessing individual list elements.\n",
    "- <span style='color: blue'>**Slicing**</span> is creating a new list from a range of elements.\n",
    "- <span style='color: blue'>**Unpacking**</span> is assigning list values to multiple variables at once."
   ]
  },
  {
   "cell_type": "markdown",
   "id": "dd2bd340",
   "metadata": {
    "slideshow": {
     "slide_type": "fragment"
    }
   },
   "source": [
    "<span style='color: blue'>**Indexing**</span>: accessing individual elements of a list using their position.\n",
    "\n",
    "| Index |   0   |   1   |    2    |   3    |    4    |\n",
    "| ----- | :---: | :---: | :----: | :---: | :-----: |\n",
    "| Value |'Morty'|'Rick' |'Summer' |'Jerry' | 'Beth' |\n"
   ]
  },
  {
   "cell_type": "code",
   "execution_count": 2,
   "id": "4ff23b59",
   "metadata": {
    "slideshow": {
     "slide_type": "fragment"
    }
   },
   "outputs": [
    {
     "data": {
      "text/html": [
       "<pre style=\"white-space:pre;overflow-x:auto;line-height:normal;font-family:Menlo,'DejaVu Sans Mono',consolas,'Courier New',monospace\">Morty\n",
       "</pre>\n"
      ],
      "text/plain": [
       "Morty\n"
      ]
     },
     "metadata": {},
     "output_type": "display_data"
    }
   ],
   "source": [
    "my_list = ['Morty', 'Rick', 'Summer', 'Jerry', 'Beth']\n",
    "\n",
    "# Positive integers index from the beginning\n",
    "print(my_list[0])"
   ]
  },
  {
   "cell_type": "code",
   "execution_count": 3,
   "id": "63f4beac",
   "metadata": {
    "slideshow": {
     "slide_type": "fragment"
    }
   },
   "outputs": [
    {
     "data": {
      "text/html": [
       "<pre style=\"white-space:pre;overflow-x:auto;line-height:normal;font-family:Menlo,'DejaVu Sans Mono',consolas,'Courier New',monospace\">Beth\n",
       "</pre>\n"
      ],
      "text/plain": [
       "Beth\n"
      ]
     },
     "metadata": {},
     "output_type": "display_data"
    }
   ],
   "source": [
    "# Negative integers index from the end\n",
    "print(my_list[-1])"
   ]
  },
  {
   "cell_type": "markdown",
   "id": "5faca79b",
   "metadata": {
    "slideshow": {
     "slide_type": "slide"
    }
   },
   "source": [
    "<span style='color: blue'>**Slicing**</span>: creating a new list by extracting a range of elements."
   ]
  },
  {
   "cell_type": "markdown",
   "id": "bf45fe3d",
   "metadata": {
    "slideshow": {
     "slide_type": "fragment"
    }
   },
   "source": [
    "<h3 style=\"text-align: center;\">\n",
    "    <span style='color: blue'>string_name </span>[ <span style='color: magenta'>start</span> : <span style='color: magenta'>stop</span> : <span style='color: magenta'>step</span> ]</h3>\n"
   ]
  },
  {
   "cell_type": "markdown",
   "id": "b36c7f09",
   "metadata": {
    "slideshow": {
     "slide_type": "fragment"
    }
   },
   "source": [
    "The <span style='color: blue'>**start**</span> index is <span style='color: magenta'>**inclusive**</span> but the <span style='color: blue'>**stop**</span> index is <span style='color: magenta'>**exclusive**</span>."
   ]
  },
  {
   "cell_type": "code",
   "execution_count": 4,
   "id": "0fe6e846",
   "metadata": {
    "slideshow": {
     "slide_type": "fragment"
    }
   },
   "outputs": [
    {
     "data": {
      "text/html": [
       "<pre style=\"white-space:pre;overflow-x:auto;line-height:normal;font-family:Menlo,'DejaVu Sans Mono',consolas,'Courier New',monospace\"><span style=\"font-weight: bold\">[</span><span style=\"color: #008000; text-decoration-color: #008000\">'Stan'</span><span style=\"font-weight: bold\">]</span>\n",
       "</pre>\n"
      ],
      "text/plain": [
       "\u001b[1m[\u001b[0m\u001b[32m'Stan'\u001b[0m\u001b[1m]\u001b[0m\n"
      ]
     },
     "metadata": {},
     "output_type": "display_data"
    }
   ],
   "source": [
    "my_list = ['Stan', 'Kyle', 'Cartman', 'Kenny', 'Butters']\n",
    "\n",
    "print(my_list[0:1])"
   ]
  },
  {
   "cell_type": "markdown",
   "id": "3445dc76",
   "metadata": {
    "slideshow": {
     "slide_type": "slide"
    }
   },
   "source": [
    "There is <span style='color: blue'>**no need**</span> for a index if <span style='color: magenta'>**starting from the beginning**</span> or <span style='color: magenta'>**stoping at the end**</span>."
   ]
  },
  {
   "cell_type": "code",
   "execution_count": 5,
   "id": "8e422855",
   "metadata": {
    "slideshow": {
     "slide_type": "-"
    }
   },
   "outputs": [
    {
     "data": {
      "text/html": [
       "<pre style=\"white-space:pre;overflow-x:auto;line-height:normal;font-family:Menlo,'DejaVu Sans Mono',consolas,'Courier New',monospace\"><span style=\"font-weight: bold\">[</span><span style=\"color: #008000; text-decoration-color: #008000\">'Stan'</span>, <span style=\"color: #008000; text-decoration-color: #008000\">'Kyle'</span>, <span style=\"color: #008000; text-decoration-color: #008000\">'Cartman'</span>, <span style=\"color: #008000; text-decoration-color: #008000\">'Kenny'</span>, <span style=\"color: #008000; text-decoration-color: #008000\">'Butters'</span><span style=\"font-weight: bold\">]</span>\n",
       "</pre>\n"
      ],
      "text/plain": [
       "\u001b[1m[\u001b[0m\u001b[32m'Stan'\u001b[0m, \u001b[32m'Kyle'\u001b[0m, \u001b[32m'Cartman'\u001b[0m, \u001b[32m'Kenny'\u001b[0m, \u001b[32m'Butters'\u001b[0m\u001b[1m]\u001b[0m\n"
      ]
     },
     "metadata": {},
     "output_type": "display_data"
    }
   ],
   "source": [
    "my_list = ['Stan', 'Kyle', 'Cartman', 'Kenny', 'Butters']\n",
    "\n",
    "# Returns whole list\n",
    "print(my_list[:])"
   ]
  },
  {
   "cell_type": "code",
   "execution_count": 6,
   "id": "5293a3a3",
   "metadata": {
    "slideshow": {
     "slide_type": "fragment"
    }
   },
   "outputs": [
    {
     "data": {
      "text/html": [
       "<pre style=\"white-space:pre;overflow-x:auto;line-height:normal;font-family:Menlo,'DejaVu Sans Mono',consolas,'Courier New',monospace\"><span style=\"font-weight: bold\">[</span><span style=\"color: #008000; text-decoration-color: #008000\">'Stan'</span>, <span style=\"color: #008000; text-decoration-color: #008000\">'Kyle'</span>, <span style=\"color: #008000; text-decoration-color: #008000\">'Cartman'</span><span style=\"font-weight: bold\">]</span>\n",
       "</pre>\n"
      ],
      "text/plain": [
       "\u001b[1m[\u001b[0m\u001b[32m'Stan'\u001b[0m, \u001b[32m'Kyle'\u001b[0m, \u001b[32m'Cartman'\u001b[0m\u001b[1m]\u001b[0m\n"
      ]
     },
     "metadata": {},
     "output_type": "display_data"
    }
   ],
   "source": [
    "# Starts from the beginning\n",
    "print(my_list[:3])"
   ]
  },
  {
   "cell_type": "code",
   "execution_count": 7,
   "id": "ab128847",
   "metadata": {
    "slideshow": {
     "slide_type": "fragment"
    }
   },
   "outputs": [
    {
     "data": {
      "text/html": [
       "<pre style=\"white-space:pre;overflow-x:auto;line-height:normal;font-family:Menlo,'DejaVu Sans Mono',consolas,'Courier New',monospace\"><span style=\"font-weight: bold\">[</span><span style=\"color: #008000; text-decoration-color: #008000\">'Kenny'</span>, <span style=\"color: #008000; text-decoration-color: #008000\">'Butters'</span><span style=\"font-weight: bold\">]</span>\n",
       "</pre>\n"
      ],
      "text/plain": [
       "\u001b[1m[\u001b[0m\u001b[32m'Kenny'\u001b[0m, \u001b[32m'Butters'\u001b[0m\u001b[1m]\u001b[0m\n"
      ]
     },
     "metadata": {},
     "output_type": "display_data"
    }
   ],
   "source": [
    "# Stops at the end\n",
    "print(my_list[3:])"
   ]
  },
  {
   "cell_type": "markdown",
   "id": "95dd6ba9",
   "metadata": {
    "slideshow": {
     "slide_type": "slide"
    }
   },
   "source": [
    "<span style='color: blue'>**Slice assignment**</span> is a way to <span style='color: magenta'>**replace multiple elements**</span> in a list at once by specifying a range of indices using the syntax:\n",
    "```python\n",
    "my_list[start:end] = new_values\n",
    "```"
   ]
  },
  {
   "cell_type": "code",
   "execution_count": 8,
   "id": "d75628b3",
   "metadata": {},
   "outputs": [
    {
     "data": {
      "text/html": [
       "<pre style=\"white-space:pre;overflow-x:auto;line-height:normal;font-family:Menlo,'DejaVu Sans Mono',consolas,'Courier New',monospace\"><span style=\"font-weight: bold\">[</span><span style=\"color: #008000; text-decoration-color: #008000\">'Peter'</span>, <span style=\"color: #008000; text-decoration-color: #008000\">'Lois'</span>, <span style=\"color: #008000; text-decoration-color: #008000\">'Meg'</span>, <span style=\"color: #008000; text-decoration-color: #008000\">'Quagmire'</span>, <span style=\"color: #008000; text-decoration-color: #008000\">'Brian'</span><span style=\"font-weight: bold\">]</span>\n",
       "</pre>\n"
      ],
      "text/plain": [
       "\u001b[1m[\u001b[0m\u001b[32m'Peter'\u001b[0m, \u001b[32m'Lois'\u001b[0m, \u001b[32m'Meg'\u001b[0m, \u001b[32m'Quagmire'\u001b[0m, \u001b[32m'Brian'\u001b[0m\u001b[1m]\u001b[0m\n"
      ]
     },
     "metadata": {},
     "output_type": "display_data"
    }
   ],
   "source": [
    "my_list = ['Peter', 'Lois', 'Stewie', 'Chris', 'Brian']\n",
    "\n",
    "my_list[2:4] = ['Meg', 'Quagmire']\n",
    "\n",
    "print(my_list)"
   ]
  },
  {
   "cell_type": "markdown",
   "id": "64cffab9",
   "metadata": {
    "slideshow": {
     "slide_type": "slide"
    }
   },
   "source": [
    "<span style='color: blue'>**Slice assignment**</span> can be used to as a way to <span style='color: magenta'>**insert values**</span> into an existing list."
   ]
  },
  {
   "cell_type": "code",
   "execution_count": 9,
   "id": "1ffcddfa",
   "metadata": {
    "slideshow": {
     "slide_type": "-"
    }
   },
   "outputs": [
    {
     "data": {
      "text/html": [
       "<pre style=\"white-space:pre;overflow-x:auto;line-height:normal;font-family:Menlo,'DejaVu Sans Mono',consolas,'Courier New',monospace\"><span style=\"font-weight: bold\">[</span><span style=\"color: #008000; text-decoration-color: #008000\">'Homer'</span>, <span style=\"color: #008000; text-decoration-color: #008000\">'Marge'</span>, <span style=\"color: #008080; text-decoration-color: #008080; font-weight: bold\">1</span>, <span style=\"color: #008080; text-decoration-color: #008080; font-weight: bold\">2</span>, <span style=\"color: #008080; text-decoration-color: #008080; font-weight: bold\">3</span>, <span style=\"color: #008000; text-decoration-color: #008000\">'Bart'</span>, <span style=\"color: #008000; text-decoration-color: #008000\">'Lisa'</span><span style=\"font-weight: bold\">]</span>\n",
       "</pre>\n"
      ],
      "text/plain": [
       "\u001b[1m[\u001b[0m\u001b[32m'Homer'\u001b[0m, \u001b[32m'Marge'\u001b[0m, \u001b[1;36m1\u001b[0m, \u001b[1;36m2\u001b[0m, \u001b[1;36m3\u001b[0m, \u001b[32m'Bart'\u001b[0m, \u001b[32m'Lisa'\u001b[0m\u001b[1m]\u001b[0m\n"
      ]
     },
     "metadata": {},
     "output_type": "display_data"
    }
   ],
   "source": [
    "my_list = ['Homer', 'Marge', 'Bart', 'Lisa']\n",
    "\n",
    "my_list[2:2] = [1, 2, 3]\n",
    "\n",
    "print(my_list)"
   ]
  },
  {
   "cell_type": "markdown",
   "id": "9321f287",
   "metadata": {
    "slideshow": {
     "slide_type": "slide"
    }
   },
   "source": [
    "<span style='color: blue'>**Slicing**</span> with the <span style='color: magenta'>**step**</span> parameter can be used to return every <span style='color: magenta'>**nth**</span> character or in <span style='color: magenta'>**reverse order**</span>."
   ]
  },
  {
   "cell_type": "code",
   "execution_count": 10,
   "id": "98435586",
   "metadata": {
    "slideshow": {
     "slide_type": "fragment"
    }
   },
   "outputs": [
    {
     "data": {
      "text/html": [
       "<pre style=\"white-space:pre;overflow-x:auto;line-height:normal;font-family:Menlo,'DejaVu Sans Mono',consolas,'Courier New',monospace\"><span style=\"font-weight: bold\">[</span><span style=\"color: #008080; text-decoration-color: #008080; font-weight: bold\">1</span>, <span style=\"color: #008080; text-decoration-color: #008080; font-weight: bold\">3</span>, <span style=\"color: #008080; text-decoration-color: #008080; font-weight: bold\">5</span>, <span style=\"color: #008080; text-decoration-color: #008080; font-weight: bold\">7</span>, <span style=\"color: #008080; text-decoration-color: #008080; font-weight: bold\">9</span><span style=\"font-weight: bold\">]</span>\n",
       "</pre>\n"
      ],
      "text/plain": [
       "\u001b[1m[\u001b[0m\u001b[1;36m1\u001b[0m, \u001b[1;36m3\u001b[0m, \u001b[1;36m5\u001b[0m, \u001b[1;36m7\u001b[0m, \u001b[1;36m9\u001b[0m\u001b[1m]\u001b[0m\n"
      ]
     },
     "metadata": {},
     "output_type": "display_data"
    }
   ],
   "source": [
    "# Output a list with every second element of the original\n",
    "\n",
    "my_list = [1, 2, 3, 4, 5, 6, 7, 8, 9, 10]\n",
    "\n",
    "print(my_list[::2])"
   ]
  },
  {
   "cell_type": "code",
   "execution_count": 11,
   "id": "5bff9859",
   "metadata": {
    "slideshow": {
     "slide_type": "fragment"
    }
   },
   "outputs": [
    {
     "data": {
      "text/html": [
       "<pre style=\"white-space:pre;overflow-x:auto;line-height:normal;font-family:Menlo,'DejaVu Sans Mono',consolas,'Courier New',monospace\"><span style=\"font-weight: bold\">[</span><span style=\"color: #008080; text-decoration-color: #008080; font-weight: bold\">10</span>, <span style=\"color: #008080; text-decoration-color: #008080; font-weight: bold\">9</span>, <span style=\"color: #008080; text-decoration-color: #008080; font-weight: bold\">8</span>, <span style=\"color: #008080; text-decoration-color: #008080; font-weight: bold\">7</span>, <span style=\"color: #008080; text-decoration-color: #008080; font-weight: bold\">6</span>, <span style=\"color: #008080; text-decoration-color: #008080; font-weight: bold\">5</span>, <span style=\"color: #008080; text-decoration-color: #008080; font-weight: bold\">4</span>, <span style=\"color: #008080; text-decoration-color: #008080; font-weight: bold\">3</span>, <span style=\"color: #008080; text-decoration-color: #008080; font-weight: bold\">2</span>, <span style=\"color: #008080; text-decoration-color: #008080; font-weight: bold\">1</span><span style=\"font-weight: bold\">]</span>\n",
       "</pre>\n"
      ],
      "text/plain": [
       "\u001b[1m[\u001b[0m\u001b[1;36m10\u001b[0m, \u001b[1;36m9\u001b[0m, \u001b[1;36m8\u001b[0m, \u001b[1;36m7\u001b[0m, \u001b[1;36m6\u001b[0m, \u001b[1;36m5\u001b[0m, \u001b[1;36m4\u001b[0m, \u001b[1;36m3\u001b[0m, \u001b[1;36m2\u001b[0m, \u001b[1;36m1\u001b[0m\u001b[1m]\u001b[0m\n"
      ]
     },
     "metadata": {},
     "output_type": "display_data"
    }
   ],
   "source": [
    "# Output a list in reverse order of the original\n",
    "\n",
    "my_list = [1, 2, 3, 4, 5, 6, 7, 8, 9, 10]\n",
    "\n",
    "print(my_list[::-1])"
   ]
  },
  {
   "cell_type": "markdown",
   "id": "0d0bab03",
   "metadata": {
    "slideshow": {
     "slide_type": "slide"
    }
   },
   "source": [
    "<span style='color: blue'>**Unpacking**</span> allows you to assign the values of a list to multiple <span style='color: magenta'>**variables at once**</span>."
   ]
  },
  {
   "cell_type": "code",
   "execution_count": 12,
   "id": "422559d8",
   "metadata": {
    "slideshow": {
     "slide_type": "fragment"
    }
   },
   "outputs": [
    {
     "data": {
      "text/html": [
       "<pre style=\"white-space:pre;overflow-x:auto;line-height:normal;font-family:Menlo,'DejaVu Sans Mono',consolas,'Courier New',monospace\"><span style=\"color: #008080; text-decoration-color: #008080; font-weight: bold\">1</span> <span style=\"color: #008080; text-decoration-color: #008080; font-weight: bold\">2</span> <span style=\"color: #008080; text-decoration-color: #008080; font-weight: bold\">3</span>\n",
       "</pre>\n"
      ],
      "text/plain": [
       "\u001b[1;36m1\u001b[0m \u001b[1;36m2\u001b[0m \u001b[1;36m3\u001b[0m\n"
      ]
     },
     "metadata": {},
     "output_type": "display_data"
    }
   ],
   "source": [
    "my_list = [1, 2, 3]\n",
    "\n",
    "a, b, c = my_list\n",
    "\n",
    "print(a, b, c)"
   ]
  },
  {
   "cell_type": "code",
   "execution_count": 13,
   "id": "db7a5d59",
   "metadata": {
    "slideshow": {
     "slide_type": "fragment"
    }
   },
   "outputs": [
    {
     "data": {
      "text/html": [
       "<pre style=\"white-space:pre;overflow-x:auto;line-height:normal;font-family:Menlo,'DejaVu Sans Mono',consolas,'Courier New',monospace\">a = <span style=\"color: #008080; text-decoration-color: #008080; font-weight: bold\">1</span>\n",
       "</pre>\n"
      ],
      "text/plain": [
       "a = \u001b[1;36m1\u001b[0m\n"
      ]
     },
     "metadata": {},
     "output_type": "display_data"
    },
    {
     "data": {
      "text/html": [
       "<pre style=\"white-space:pre;overflow-x:auto;line-height:normal;font-family:Menlo,'DejaVu Sans Mono',consolas,'Courier New',monospace\">b = <span style=\"color: #008080; text-decoration-color: #008080; font-weight: bold\">2</span>\n",
       "</pre>\n"
      ],
      "text/plain": [
       "b = \u001b[1;36m2\u001b[0m\n"
      ]
     },
     "metadata": {},
     "output_type": "display_data"
    },
    {
     "data": {
      "text/html": [
       "<pre style=\"white-space:pre;overflow-x:auto;line-height:normal;font-family:Menlo,'DejaVu Sans Mono',consolas,'Courier New',monospace\">other = <span style=\"font-weight: bold\">[</span><span style=\"color: #008080; text-decoration-color: #008080; font-weight: bold\">3</span><span style=\"font-weight: bold\">]</span>\n",
       "</pre>\n"
      ],
      "text/plain": [
       "other = \u001b[1m[\u001b[0m\u001b[1;36m3\u001b[0m\u001b[1m]\u001b[0m\n"
      ]
     },
     "metadata": {},
     "output_type": "display_data"
    }
   ],
   "source": [
    "# Unpacking a list of unknown length\n",
    "\n",
    "my_list = [1, 2, 3]\n",
    "\n",
    "a, b, *other = my_list\n",
    "\n",
    "print(f'{a = }')\n",
    "print(f'{b = }')\n",
    "print(f'{other = }')"
   ]
  },
  {
   "cell_type": "code",
   "execution_count": 14,
   "id": "d0e90bad",
   "metadata": {
    "slideshow": {
     "slide_type": "slide"
    }
   },
   "outputs": [
    {
     "data": {
      "text/html": [
       "<pre style=\"white-space:pre;overflow-x:auto;line-height:normal;font-family:Menlo,'DejaVu Sans Mono',consolas,'Courier New',monospace\">a = <span style=\"color: #008080; text-decoration-color: #008080; font-weight: bold\">1</span>\n",
       "</pre>\n"
      ],
      "text/plain": [
       "a = \u001b[1;36m1\u001b[0m\n"
      ]
     },
     "metadata": {},
     "output_type": "display_data"
    },
    {
     "data": {
      "text/html": [
       "<pre style=\"white-space:pre;overflow-x:auto;line-height:normal;font-family:Menlo,'DejaVu Sans Mono',consolas,'Courier New',monospace\">z = <span style=\"color: #008080; text-decoration-color: #008080; font-weight: bold\">3</span>\n",
       "</pre>\n"
      ],
      "text/plain": [
       "z = \u001b[1;36m3\u001b[0m\n"
      ]
     },
     "metadata": {},
     "output_type": "display_data"
    },
    {
     "data": {
      "text/html": [
       "<pre style=\"white-space:pre;overflow-x:auto;line-height:normal;font-family:Menlo,'DejaVu Sans Mono',consolas,'Courier New',monospace\">other = <span style=\"font-weight: bold\">[</span><span style=\"color: #008080; text-decoration-color: #008080; font-weight: bold\">2</span><span style=\"font-weight: bold\">]</span>\n",
       "</pre>\n"
      ],
      "text/plain": [
       "other = \u001b[1m[\u001b[0m\u001b[1;36m2\u001b[0m\u001b[1m]\u001b[0m\n"
      ]
     },
     "metadata": {},
     "output_type": "display_data"
    }
   ],
   "source": [
    "my_list = [1, 2, 3]\n",
    "\n",
    "a, *other, z = my_list\n",
    "\n",
    "print(f'{a = }')\n",
    "print(f'{z = }')\n",
    "print(f'{other = }')"
   ]
  },
  {
   "cell_type": "code",
   "execution_count": 15,
   "id": "b437da76",
   "metadata": {
    "slideshow": {
     "slide_type": "fragment"
    }
   },
   "outputs": [
    {
     "data": {
      "text/html": [
       "<pre style=\"white-space:pre;overflow-x:auto;line-height:normal;font-family:Menlo,'DejaVu Sans Mono',consolas,'Courier New',monospace\">other = <span style=\"font-weight: bold\">[</span><span style=\"color: #008080; text-decoration-color: #008080; font-weight: bold\">0</span>, <span style=\"color: #008080; text-decoration-color: #008080; font-weight: bold\">1</span><span style=\"font-weight: bold\">]</span>\n",
       "</pre>\n"
      ],
      "text/plain": [
       "other = \u001b[1m[\u001b[0m\u001b[1;36m0\u001b[0m, \u001b[1;36m1\u001b[0m\u001b[1m]\u001b[0m\n"
      ]
     },
     "metadata": {},
     "output_type": "display_data"
    },
    {
     "data": {
      "text/html": [
       "<pre style=\"white-space:pre;overflow-x:auto;line-height:normal;font-family:Menlo,'DejaVu Sans Mono',consolas,'Courier New',monospace\">b = <span style=\"color: #008080; text-decoration-color: #008080; font-weight: bold\">2</span>\n",
       "</pre>\n"
      ],
      "text/plain": [
       "b = \u001b[1;36m2\u001b[0m\n"
      ]
     },
     "metadata": {},
     "output_type": "display_data"
    },
    {
     "data": {
      "text/html": [
       "<pre style=\"white-space:pre;overflow-x:auto;line-height:normal;font-family:Menlo,'DejaVu Sans Mono',consolas,'Courier New',monospace\">c = <span style=\"color: #008080; text-decoration-color: #008080; font-weight: bold\">3</span>\n",
       "</pre>\n"
      ],
      "text/plain": [
       "c = \u001b[1;36m3\u001b[0m\n"
      ]
     },
     "metadata": {},
     "output_type": "display_data"
    },
    {
     "data": {
      "text/html": [
       "<pre style=\"white-space:pre;overflow-x:auto;line-height:normal;font-family:Menlo,'DejaVu Sans Mono',consolas,'Courier New',monospace\">d = <span style=\"color: #008080; text-decoration-color: #008080; font-weight: bold\">4</span>\n",
       "</pre>\n"
      ],
      "text/plain": [
       "d = \u001b[1;36m4\u001b[0m\n"
      ]
     },
     "metadata": {},
     "output_type": "display_data"
    }
   ],
   "source": [
    "# Unpacking nested lists\n",
    "\n",
    "my_list = [0, 1, [2, 3], 4]\n",
    "\n",
    "*other, (b, c), d = my_list\n",
    "\n",
    "print(f'{other = }')\n",
    "print(f'{b = }')\n",
    "print(f'{c = }')\n",
    "print(f'{d = }')"
   ]
  },
  {
   "cell_type": "markdown",
   "id": "4d75be01",
   "metadata": {
    "slideshow": {
     "slide_type": "slide"
    }
   },
   "source": [
    "## <span style='color: blue'>**Mathematical Operators (Concat and Repeat)**</span> <a id='#mathematical-operators-concat-and-repeat'></a>\n",
    "\n",
    "- Using the <span style='color: magenta'>**+**</span> on Python lists for <span style='color: magenta'>**concatenation**</span>.\n",
    "- Using the <span style='color: magenta'>**\\***</span> on Python lists for <span style='color: magenta'>**repetition**</span>."
   ]
  },
  {
   "cell_type": "code",
   "execution_count": 16,
   "id": "c85d618c",
   "metadata": {
    "slideshow": {
     "slide_type": "fragment"
    }
   },
   "outputs": [
    {
     "data": {
      "text/html": [
       "<pre style=\"white-space:pre;overflow-x:auto;line-height:normal;font-family:Menlo,'DejaVu Sans Mono',consolas,'Courier New',monospace\"><span style=\"font-weight: bold\">[</span><span style=\"color: #008000; text-decoration-color: #008000\">'Superman'</span>, <span style=\"color: #008000; text-decoration-color: #008000\">'Batman'</span>, <span style=\"color: #008000; text-decoration-color: #008000\">'Wonder Woman'</span>, <span style=\"color: #008000; text-decoration-color: #008000\">'The Flash'</span>, <span style=\"color: #008000; text-decoration-color: #008000\">'Green Lantern'</span>, <span style=\"color: #008000; text-decoration-color: #008000\">'Aquaman'</span><span style=\"font-weight: bold\">]</span>\n",
       "</pre>\n"
      ],
      "text/plain": [
       "\u001b[1m[\u001b[0m\u001b[32m'Superman'\u001b[0m, \u001b[32m'Batman'\u001b[0m, \u001b[32m'Wonder Woman'\u001b[0m, \u001b[32m'The Flash'\u001b[0m, \u001b[32m'Green Lantern'\u001b[0m, \u001b[32m'Aquaman'\u001b[0m\u001b[1m]\u001b[0m\n"
      ]
     },
     "metadata": {},
     "output_type": "display_data"
    }
   ],
   "source": [
    "# Example of concatenation with + operator\n",
    "heroes_1 = ['Superman', 'Batman', 'Wonder Woman']\n",
    "heroes_2 = ['The Flash', 'Green Lantern', 'Aquaman']\n",
    "\n",
    "concatenated_list = heroes_1 + heroes_2\n",
    "\n",
    "print(concatenated_list)"
   ]
  },
  {
   "cell_type": "code",
   "execution_count": 17,
   "id": "76ef1570",
   "metadata": {
    "slideshow": {
     "slide_type": "fragment"
    }
   },
   "outputs": [
    {
     "data": {
      "text/html": [
       "<pre style=\"white-space:pre;overflow-x:auto;line-height:normal;font-family:Menlo,'DejaVu Sans Mono',consolas,'Courier New',monospace\"><span style=\"font-weight: bold\">[</span><span style=\"color: #008000; text-decoration-color: #008000\">'Superman'</span>, <span style=\"color: #008000; text-decoration-color: #008000\">'Batman'</span>, <span style=\"color: #008000; text-decoration-color: #008000\">'Superman'</span>, <span style=\"color: #008000; text-decoration-color: #008000\">'Batman'</span><span style=\"font-weight: bold\">]</span>\n",
       "</pre>\n"
      ],
      "text/plain": [
       "\u001b[1m[\u001b[0m\u001b[32m'Superman'\u001b[0m, \u001b[32m'Batman'\u001b[0m, \u001b[32m'Superman'\u001b[0m, \u001b[32m'Batman'\u001b[0m\u001b[1m]\u001b[0m\n"
      ]
     },
     "metadata": {},
     "output_type": "display_data"
    }
   ],
   "source": [
    "# Example of repetition with * operator\n",
    "heroes = ['Superman', 'Batman']\n",
    "repeated_list = heroes * 2\n",
    "print(repeated_list)"
   ]
  },
  {
   "cell_type": "markdown",
   "id": "58a79180",
   "metadata": {
    "slideshow": {
     "slide_type": "fragment"
    }
   },
   "source": [
    "## <span style='color: blue'>**List Related Functions & Keywords**</span> <a id='#list-related-functions-keywords'></a>\n",
    "\n",
    "The function <span style='color: blue'>**any()**</span> function takes an iterable (e.g. a list) and returns a <span style='color: magenta'>**Boolean**</span> value.<br>\n",
    "\n",
    "<span style='color: magenta'>**True**</span> if any element <span style='color: blue'>**meets the condition**</span>, otherwise it returns <span style='color: magenta'>**False**</span>."
   ]
  },
  {
   "cell_type": "code",
   "execution_count": 18,
   "id": "36abb277",
   "metadata": {
    "slideshow": {
     "slide_type": "fragment"
    }
   },
   "outputs": [
    {
     "data": {
      "text/html": [
       "<pre style=\"white-space:pre;overflow-x:auto;line-height:normal;font-family:Menlo,'DejaVu Sans Mono',consolas,'Courier New',monospace\"><span style=\"color: #ff0000; text-decoration-color: #ff0000; font-style: italic\">False</span>\n",
       "</pre>\n"
      ],
      "text/plain": [
       "\u001b[3;91mFalse\u001b[0m\n"
      ]
     },
     "metadata": {},
     "output_type": "display_data"
    }
   ],
   "source": [
    "# Check if a number is present\n",
    "\n",
    "numbers = [0, 3, 5, 7, 9]\n",
    "\n",
    "boolean = any(n == 2 for n in numbers)\n",
    "\n",
    "print(boolean)"
   ]
  },
  {
   "cell_type": "code",
   "execution_count": 19,
   "id": "fd21bc65",
   "metadata": {
    "slideshow": {
     "slide_type": "fragment"
    }
   },
   "outputs": [
    {
     "data": {
      "text/html": [
       "<pre style=\"white-space:pre;overflow-x:auto;line-height:normal;font-family:Menlo,'DejaVu Sans Mono',consolas,'Courier New',monospace\"><span style=\"color: #ff0000; text-decoration-color: #ff0000; font-style: italic\">False</span>\n",
       "</pre>\n"
      ],
      "text/plain": [
       "\u001b[3;91mFalse\u001b[0m\n"
      ]
     },
     "metadata": {},
     "output_type": "display_data"
    }
   ],
   "source": [
    "# Check if any even numbers are in a list\n",
    "\n",
    "numbers = [1, 3, 5, 7, 9]\n",
    "\n",
    "boolean = any(n % 2 == 0 for n in numbers)\n",
    "\n",
    "print(boolean)"
   ]
  },
  {
   "cell_type": "markdown",
   "id": "a4638575",
   "metadata": {
    "slideshow": {
     "slide_type": "slide"
    }
   },
   "source": [
    "The <span style='color: blue'>**len()**</span> function return the <span style='color: magenta'>**length**</span> of a list as an integer."
   ]
  },
  {
   "cell_type": "code",
   "execution_count": 20,
   "id": "9e6a1475",
   "metadata": {
    "slideshow": {
     "slide_type": "fragment"
    }
   },
   "outputs": [
    {
     "data": {
      "text/html": [
       "<pre style=\"white-space:pre;overflow-x:auto;line-height:normal;font-family:Menlo,'DejaVu Sans Mono',consolas,'Courier New',monospace\"><span style=\"color: #008080; text-decoration-color: #008080; font-weight: bold\">5</span>\n",
       "</pre>\n"
      ],
      "text/plain": [
       "\u001b[1;36m5\u001b[0m\n"
      ]
     },
     "metadata": {},
     "output_type": "display_data"
    }
   ],
   "source": [
    "my_list = [0, 1, 2, 3, 4]\n",
    "\n",
    "print(len(my_list))"
   ]
  },
  {
   "cell_type": "markdown",
   "id": "fe117027",
   "metadata": {
    "slideshow": {
     "slide_type": "slide"
    }
   },
   "source": [
    "The functions <span style='color: blue'>**min()**</span>, <span style='color: blue'>**max()**</span>, and <span style='color: blue'>**sum()**</span> on lists in Python return the <span style='color: magenta'>**minimum**</span> value, <span style='color: magenta'>**maximum**</span> value, and <span style='color: magenta'>**sum**</span> of all values in the list, respectively."
   ]
  },
  {
   "cell_type": "code",
   "execution_count": 21,
   "id": "446ef1da",
   "metadata": {
    "slideshow": {
     "slide_type": "fragment"
    }
   },
   "outputs": [
    {
     "data": {
      "text/html": [
       "<pre style=\"white-space:pre;overflow-x:auto;line-height:normal;font-family:Menlo,'DejaVu Sans Mono',consolas,'Courier New',monospace\">minimum = <span style=\"color: #008080; text-decoration-color: #008080; font-weight: bold\">1</span>\n",
       "</pre>\n"
      ],
      "text/plain": [
       "minimum = \u001b[1;36m1\u001b[0m\n"
      ]
     },
     "metadata": {},
     "output_type": "display_data"
    },
    {
     "data": {
      "text/html": [
       "<pre style=\"white-space:pre;overflow-x:auto;line-height:normal;font-family:Menlo,'DejaVu Sans Mono',consolas,'Courier New',monospace\">maximum = <span style=\"color: #008080; text-decoration-color: #008080; font-weight: bold\">9</span>\n",
       "</pre>\n"
      ],
      "text/plain": [
       "maximum = \u001b[1;36m9\u001b[0m\n"
      ]
     },
     "metadata": {},
     "output_type": "display_data"
    },
    {
     "data": {
      "text/html": [
       "<pre style=\"white-space:pre;overflow-x:auto;line-height:normal;font-family:Menlo,'DejaVu Sans Mono',consolas,'Courier New',monospace\">total = <span style=\"color: #008080; text-decoration-color: #008080; font-weight: bold\">39</span>\n",
       "</pre>\n"
      ],
      "text/plain": [
       "total = \u001b[1;36m39\u001b[0m\n"
      ]
     },
     "metadata": {},
     "output_type": "display_data"
    }
   ],
   "source": [
    "numbers = [3, 1, 4, 1, 5, 9, 2, 6, 5, 3]\n",
    "\n",
    "minimum = min(numbers)\n",
    "maximum = max(numbers)\n",
    "total = sum(numbers)\n",
    "\n",
    "print(f'{minimum = }')\n",
    "print(f'{maximum = }')\n",
    "print(f'{total = }')"
   ]
  },
  {
   "cell_type": "markdown",
   "id": "e46ea1d2",
   "metadata": {
    "slideshow": {
     "slide_type": "slide"
    }
   },
   "source": [
    "The <span style='color: blue'>**in**</span> operator in Python checks if an element <span style='color: magenta'>**is present**</span> in a list and returns a <span style='color: magenta'>**Boolean**</span> value."
   ]
  },
  {
   "cell_type": "code",
   "execution_count": 22,
   "id": "246fdc5b",
   "metadata": {
    "slideshow": {
     "slide_type": "fragment"
    }
   },
   "outputs": [
    {
     "data": {
      "text/html": [
       "<pre style=\"white-space:pre;overflow-x:auto;line-height:normal;font-family:Menlo,'DejaVu Sans Mono',consolas,'Courier New',monospace\"><span style=\"color: #00ff00; text-decoration-color: #00ff00; font-style: italic\">True</span>\n",
       "</pre>\n"
      ],
      "text/plain": [
       "\u001b[3;92mTrue\u001b[0m\n"
      ]
     },
     "metadata": {},
     "output_type": "display_data"
    }
   ],
   "source": [
    "dinosaur_names = ['Tyrannosaurus', 'Stegosaurus', 'Velociraptor']\n",
    "\n",
    "print('Stegosaurus' in dinosaur_names)"
   ]
  },
  {
   "cell_type": "markdown",
   "id": "05015ae4",
   "metadata": {
    "slideshow": {
     "slide_type": "slide"
    }
   },
   "source": [
    "## <span style='color: blue'>**Sorting Lists**</span> <a id='#sorting-lists'></a>\n",
    "\n",
    "In Python, both the list method <span style='color: blue'>**sort()**</span> and the built in function <span style='color: magenta'>**sorted()**</span> are used to sort the elements of a list. However, there are some <span style='color: magenta'>**differences**</span> between the two:\n",
    "\n",
    "- <span style='color: blue'>**sort()**</span> modifies the original list, while <span style='color: magenta'>**sorted()**</span> returns a new sorted list.\n",
    "- <span style='color: blue'>**sort()**</span> only works with lists, while <span style='color: magenta'>**sorted()**</span> works with any iterable object.\n",
    "- <span style='color: blue'>**sort()**</span> has no return value, while <span style='color: magenta'>**sorted()**</span> returns a sorted list that can be assigned to a variable."
   ]
  },
  {
   "cell_type": "code",
   "execution_count": 23,
   "id": "48c6400d",
   "metadata": {
    "slideshow": {
     "slide_type": "fragment"
    }
   },
   "outputs": [
    {
     "data": {
      "text/html": [
       "<pre style=\"white-space:pre;overflow-x:auto;line-height:normal;font-family:Menlo,'DejaVu Sans Mono',consolas,'Courier New',monospace\"><span style=\"font-weight: bold\">[</span><span style=\"color: #008080; text-decoration-color: #008080; font-weight: bold\">1</span>, <span style=\"color: #008080; text-decoration-color: #008080; font-weight: bold\">1</span>, <span style=\"color: #008080; text-decoration-color: #008080; font-weight: bold\">2</span>, <span style=\"color: #008080; text-decoration-color: #008080; font-weight: bold\">3</span>, <span style=\"color: #008080; text-decoration-color: #008080; font-weight: bold\">3</span>, <span style=\"color: #008080; text-decoration-color: #008080; font-weight: bold\">4</span>, <span style=\"color: #008080; text-decoration-color: #008080; font-weight: bold\">5</span>, <span style=\"color: #008080; text-decoration-color: #008080; font-weight: bold\">5</span>, <span style=\"color: #008080; text-decoration-color: #008080; font-weight: bold\">5</span>, <span style=\"color: #008080; text-decoration-color: #008080; font-weight: bold\">6</span>, <span style=\"color: #008080; text-decoration-color: #008080; font-weight: bold\">9</span><span style=\"font-weight: bold\">]</span>\n",
       "</pre>\n"
      ],
      "text/plain": [
       "\u001b[1m[\u001b[0m\u001b[1;36m1\u001b[0m, \u001b[1;36m1\u001b[0m, \u001b[1;36m2\u001b[0m, \u001b[1;36m3\u001b[0m, \u001b[1;36m3\u001b[0m, \u001b[1;36m4\u001b[0m, \u001b[1;36m5\u001b[0m, \u001b[1;36m5\u001b[0m, \u001b[1;36m5\u001b[0m, \u001b[1;36m6\u001b[0m, \u001b[1;36m9\u001b[0m\u001b[1m]\u001b[0m\n"
      ]
     },
     "metadata": {},
     "output_type": "display_data"
    }
   ],
   "source": [
    "# Sort the list in place using sort()\n",
    "\n",
    "numbers = [3, 1, 4, 1, 5, 9, 2, 6, 5, 3, 5]\n",
    "\n",
    "numbers.sort()\n",
    "\n",
    "print(numbers)"
   ]
  },
  {
   "cell_type": "code",
   "execution_count": 24,
   "id": "49198448",
   "metadata": {
    "slideshow": {
     "slide_type": "fragment"
    }
   },
   "outputs": [
    {
     "data": {
      "text/html": [
       "<pre style=\"white-space:pre;overflow-x:auto;line-height:normal;font-family:Menlo,'DejaVu Sans Mono',consolas,'Courier New',monospace\"><span style=\"font-weight: bold\">[</span><span style=\"color: #008080; text-decoration-color: #008080; font-weight: bold\">1</span>, <span style=\"color: #008080; text-decoration-color: #008080; font-weight: bold\">1</span>, <span style=\"color: #008080; text-decoration-color: #008080; font-weight: bold\">2</span>, <span style=\"color: #008080; text-decoration-color: #008080; font-weight: bold\">3</span>, <span style=\"color: #008080; text-decoration-color: #008080; font-weight: bold\">3</span>, <span style=\"color: #008080; text-decoration-color: #008080; font-weight: bold\">4</span>, <span style=\"color: #008080; text-decoration-color: #008080; font-weight: bold\">5</span>, <span style=\"color: #008080; text-decoration-color: #008080; font-weight: bold\">5</span>, <span style=\"color: #008080; text-decoration-color: #008080; font-weight: bold\">5</span>, <span style=\"color: #008080; text-decoration-color: #008080; font-weight: bold\">6</span>, <span style=\"color: #008080; text-decoration-color: #008080; font-weight: bold\">9</span><span style=\"font-weight: bold\">]</span>\n",
       "</pre>\n"
      ],
      "text/plain": [
       "\u001b[1m[\u001b[0m\u001b[1;36m1\u001b[0m, \u001b[1;36m1\u001b[0m, \u001b[1;36m2\u001b[0m, \u001b[1;36m3\u001b[0m, \u001b[1;36m3\u001b[0m, \u001b[1;36m4\u001b[0m, \u001b[1;36m5\u001b[0m, \u001b[1;36m5\u001b[0m, \u001b[1;36m5\u001b[0m, \u001b[1;36m6\u001b[0m, \u001b[1;36m9\u001b[0m\u001b[1m]\u001b[0m\n"
      ]
     },
     "metadata": {},
     "output_type": "display_data"
    }
   ],
   "source": [
    "# Use sorted() to get a new sorted list\n",
    "\n",
    "numbers = [3, 1, 4, 1, 5, 9, 2, 6, 5, 3, 5]\n",
    "\n",
    "sorted_numbers = sorted(numbers)\n",
    "\n",
    "print(sorted_numbers)"
   ]
  },
  {
   "cell_type": "markdown",
   "id": "818df6d5",
   "metadata": {
    "slideshow": {
     "slide_type": "slide"
    }
   },
   "source": [
    "<span style='color: blue'>**Reverse**</span> sorting can be done by <span style='color: blue'>**sort()**</span> and <span style='color: magenta'>**sorted()**</span> by passing in the parameter <span style='color: blue'>**reverse**</span>=<span style='color: magenta'>**True**</span>."
   ]
  },
  {
   "cell_type": "code",
   "execution_count": 25,
   "id": "7888520f",
   "metadata": {
    "slideshow": {
     "slide_type": "fragment"
    }
   },
   "outputs": [
    {
     "data": {
      "text/html": [
       "<pre style=\"white-space:pre;overflow-x:auto;line-height:normal;font-family:Menlo,'DejaVu Sans Mono',consolas,'Courier New',monospace\"><span style=\"font-weight: bold\">[</span><span style=\"color: #008080; text-decoration-color: #008080; font-weight: bold\">9</span>, <span style=\"color: #008080; text-decoration-color: #008080; font-weight: bold\">6</span>, <span style=\"color: #008080; text-decoration-color: #008080; font-weight: bold\">5</span>, <span style=\"color: #008080; text-decoration-color: #008080; font-weight: bold\">5</span>, <span style=\"color: #008080; text-decoration-color: #008080; font-weight: bold\">5</span>, <span style=\"color: #008080; text-decoration-color: #008080; font-weight: bold\">4</span>, <span style=\"color: #008080; text-decoration-color: #008080; font-weight: bold\">3</span>, <span style=\"color: #008080; text-decoration-color: #008080; font-weight: bold\">3</span>, <span style=\"color: #008080; text-decoration-color: #008080; font-weight: bold\">2</span>, <span style=\"color: #008080; text-decoration-color: #008080; font-weight: bold\">1</span>, <span style=\"color: #008080; text-decoration-color: #008080; font-weight: bold\">1</span><span style=\"font-weight: bold\">]</span>\n",
       "</pre>\n"
      ],
      "text/plain": [
       "\u001b[1m[\u001b[0m\u001b[1;36m9\u001b[0m, \u001b[1;36m6\u001b[0m, \u001b[1;36m5\u001b[0m, \u001b[1;36m5\u001b[0m, \u001b[1;36m5\u001b[0m, \u001b[1;36m4\u001b[0m, \u001b[1;36m3\u001b[0m, \u001b[1;36m3\u001b[0m, \u001b[1;36m2\u001b[0m, \u001b[1;36m1\u001b[0m, \u001b[1;36m1\u001b[0m\u001b[1m]\u001b[0m\n"
      ]
     },
     "metadata": {},
     "output_type": "display_data"
    }
   ],
   "source": [
    "# Sort the list in place using sort() and reverse=True\n",
    "\n",
    "numbers = [3, 1, 4, 1, 5, 9, 2, 6, 5, 3, 5]\n",
    "\n",
    "numbers.sort(reverse=True)\n",
    "\n",
    "print(numbers)"
   ]
  },
  {
   "cell_type": "code",
   "execution_count": 26,
   "id": "fa23b6d7",
   "metadata": {
    "slideshow": {
     "slide_type": "fragment"
    }
   },
   "outputs": [
    {
     "data": {
      "text/html": [
       "<pre style=\"white-space:pre;overflow-x:auto;line-height:normal;font-family:Menlo,'DejaVu Sans Mono',consolas,'Courier New',monospace\"><span style=\"font-weight: bold\">[</span><span style=\"color: #008080; text-decoration-color: #008080; font-weight: bold\">9</span>, <span style=\"color: #008080; text-decoration-color: #008080; font-weight: bold\">6</span>, <span style=\"color: #008080; text-decoration-color: #008080; font-weight: bold\">5</span>, <span style=\"color: #008080; text-decoration-color: #008080; font-weight: bold\">5</span>, <span style=\"color: #008080; text-decoration-color: #008080; font-weight: bold\">5</span>, <span style=\"color: #008080; text-decoration-color: #008080; font-weight: bold\">4</span>, <span style=\"color: #008080; text-decoration-color: #008080; font-weight: bold\">3</span>, <span style=\"color: #008080; text-decoration-color: #008080; font-weight: bold\">3</span>, <span style=\"color: #008080; text-decoration-color: #008080; font-weight: bold\">2</span>, <span style=\"color: #008080; text-decoration-color: #008080; font-weight: bold\">1</span>, <span style=\"color: #008080; text-decoration-color: #008080; font-weight: bold\">1</span><span style=\"font-weight: bold\">]</span>\n",
       "</pre>\n"
      ],
      "text/plain": [
       "\u001b[1m[\u001b[0m\u001b[1;36m9\u001b[0m, \u001b[1;36m6\u001b[0m, \u001b[1;36m5\u001b[0m, \u001b[1;36m5\u001b[0m, \u001b[1;36m5\u001b[0m, \u001b[1;36m4\u001b[0m, \u001b[1;36m3\u001b[0m, \u001b[1;36m3\u001b[0m, \u001b[1;36m2\u001b[0m, \u001b[1;36m1\u001b[0m, \u001b[1;36m1\u001b[0m\u001b[1m]\u001b[0m\n"
      ]
     },
     "metadata": {},
     "output_type": "display_data"
    }
   ],
   "source": [
    "# Use sorted() to get a new sorted list\n",
    "\n",
    "numbers = [3, 1, 4, 1, 5, 9, 2, 6, 5, 3, 5]\n",
    "\n",
    "sorted_numbers = sorted(numbers, reverse=True)\n",
    "\n",
    "print(sorted_numbers)"
   ]
  },
  {
   "cell_type": "markdown",
   "id": "82a3e4f4",
   "metadata": {
    "slideshow": {
     "slide_type": "slide"
    }
   },
   "source": [
    "The functions <span style='color: blue'>**sort()**</span> and <span style='color: magenta'>**sorted()**</span> both accept a <span style='color: blue'>**key parameter**</span> that enables <span style='color: magenta'>**advanced sorting**</span>. Here is an example of how to sort strings in two ways: first <span style='color: blue'>**alphabetically**</span> and then by their <span style='color: magenta'>**length**</span>."
   ]
  },
  {
   "cell_type": "code",
   "execution_count": 27,
   "id": "f9452228",
   "metadata": {
    "slideshow": {
     "slide_type": "fragment"
    }
   },
   "outputs": [
    {
     "data": {
      "text/html": [
       "<pre style=\"white-space:pre;overflow-x:auto;line-height:normal;font-family:Menlo,'DejaVu Sans Mono',consolas,'Courier New',monospace\"><span style=\"font-weight: bold\">[</span><span style=\"color: #008000; text-decoration-color: #008000\">'Aldrin'</span>, <span style=\"color: #008000; text-decoration-color: #008000\">'Armstrong'</span>, <span style=\"color: #008000; text-decoration-color: #008000\">'Bean'</span>, <span style=\"color: #008000; text-decoration-color: #008000\">'Collins'</span>, <span style=\"color: #008000; text-decoration-color: #008000\">'Glenn'</span>, <span style=\"color: #008000; text-decoration-color: #008000\">'Lovell'</span>, <span style=\"color: #008000; text-decoration-color: #008000\">'Shepard'</span>, <span style=\"color: #008000; text-decoration-color: #008000\">'White'</span><span style=\"font-weight: bold\">]</span>\n",
       "</pre>\n"
      ],
      "text/plain": [
       "\u001b[1m[\u001b[0m\u001b[32m'Aldrin'\u001b[0m, \u001b[32m'Armstrong'\u001b[0m, \u001b[32m'Bean'\u001b[0m, \u001b[32m'Collins'\u001b[0m, \u001b[32m'Glenn'\u001b[0m, \u001b[32m'Lovell'\u001b[0m, \u001b[32m'Shepard'\u001b[0m, \u001b[32m'White'\u001b[0m\u001b[1m]\u001b[0m\n"
      ]
     },
     "metadata": {},
     "output_type": "display_data"
    }
   ],
   "source": [
    "# Define a list of famous astronaut names\n",
    "astronauts  = ['Armstrong', 'Aldrin', 'Bean', 'Collins', 'Glenn', 'Lovell', 'Shepard', 'White']\n",
    "\n",
    "# Sort the list alphabetically first and then by length second\n",
    "sorted_astronauts = sorted(astronauts, key=lambda x: (x[0], len(x)))\n",
    "\n",
    "# Print the sorted list\n",
    "print(sorted_astronauts)"
   ]
  },
  {
   "cell_type": "markdown",
   "id": "a65302bc",
   "metadata": {
    "slideshow": {
     "slide_type": "slide"
    }
   },
   "source": [
    "## <span style='color: blue'>**Removing Duplicates**</span> <a id='#removing-duplicates'></a>\n",
    "\n",
    "There are several ways to remove <span style='color: magenta'>**duplicates**</span> from a Python list."
   ]
  },
  {
   "cell_type": "code",
   "execution_count": 28,
   "id": "cc9b3462",
   "metadata": {
    "slideshow": {
     "slide_type": "fragment"
    }
   },
   "outputs": [
    {
     "data": {
      "text/html": [
       "<pre style=\"white-space:pre;overflow-x:auto;line-height:normal;font-family:Menlo,'DejaVu Sans Mono',consolas,'Courier New',monospace\"><span style=\"font-weight: bold\">[</span><span style=\"color: #008000; text-decoration-color: #008000\">'Simon'</span>, <span style=\"color: #008000; text-decoration-color: #008000\">'Alvin'</span>, <span style=\"color: #008000; text-decoration-color: #008000\">'Theodore'</span><span style=\"font-weight: bold\">]</span>\n",
       "</pre>\n"
      ],
      "text/plain": [
       "\u001b[1m[\u001b[0m\u001b[32m'Simon'\u001b[0m, \u001b[32m'Alvin'\u001b[0m, \u001b[32m'Theodore'\u001b[0m\u001b[1m]\u001b[0m\n"
      ]
     },
     "metadata": {},
     "output_type": "display_data"
    }
   ],
   "source": [
    "# Example 1. Convert to a set and back to a list\n",
    "chipmunks = ['Alvin', 'Simon', 'Theodore', 'Simon', 'Alvin']\n",
    "\n",
    "unique_chipmunks = list(set(chipmunks))\n",
    "\n",
    "print(unique_chipmunks)"
   ]
  },
  {
   "cell_type": "code",
   "execution_count": 29,
   "id": "4be479cc",
   "metadata": {
    "slideshow": {
     "slide_type": "fragment"
    }
   },
   "outputs": [
    {
     "data": {
      "text/html": [
       "<pre style=\"white-space:pre;overflow-x:auto;line-height:normal;font-family:Menlo,'DejaVu Sans Mono',consolas,'Courier New',monospace\"><span style=\"font-weight: bold\">[</span><span style=\"color: #008000; text-decoration-color: #008000\">'Alvin'</span>, <span style=\"color: #008000; text-decoration-color: #008000\">'Simon'</span>, <span style=\"color: #008000; text-decoration-color: #008000\">'Theodore'</span><span style=\"font-weight: bold\">]</span>\n",
       "</pre>\n"
      ],
      "text/plain": [
       "\u001b[1m[\u001b[0m\u001b[32m'Alvin'\u001b[0m, \u001b[32m'Simon'\u001b[0m, \u001b[32m'Theodore'\u001b[0m\u001b[1m]\u001b[0m\n"
      ]
     },
     "metadata": {},
     "output_type": "display_data"
    }
   ],
   "source": [
    "# Example 2. Use a list comprehension\n",
    "chipmunks = ['Alvin', 'Simon', 'Theodore', 'Simon', 'Alvin']\n",
    "\n",
    "unique_chipmunks = []\n",
    "\n",
    "# List comprehesion - covered in more detail an the end of this tutorial\n",
    "[unique_chipmunks.append(x) for x in chipmunks if x not in unique_chipmunks]\n",
    "\n",
    "print(unique_chipmunks)"
   ]
  },
  {
   "cell_type": "code",
   "execution_count": 30,
   "id": "37420cfc",
   "metadata": {
    "slideshow": {
     "slide_type": "fragment"
    }
   },
   "outputs": [
    {
     "data": {
      "text/html": [
       "<pre style=\"white-space:pre;overflow-x:auto;line-height:normal;font-family:Menlo,'DejaVu Sans Mono',consolas,'Courier New',monospace\"><span style=\"font-weight: bold\">[</span><span style=\"color: #008000; text-decoration-color: #008000\">'Alvin'</span>, <span style=\"color: #008000; text-decoration-color: #008000\">'Simon'</span>, <span style=\"color: #008000; text-decoration-color: #008000\">'Theodore'</span><span style=\"font-weight: bold\">]</span>\n",
       "</pre>\n"
      ],
      "text/plain": [
       "\u001b[1m[\u001b[0m\u001b[32m'Alvin'\u001b[0m, \u001b[32m'Simon'\u001b[0m, \u001b[32m'Theodore'\u001b[0m\u001b[1m]\u001b[0m\n"
      ]
     },
     "metadata": {},
     "output_type": "display_data"
    }
   ],
   "source": [
    "# Examples 3. Using dict.fromkeys()\n",
    "chipmunks = ['Alvin', 'Simon', 'Theodore', 'Simon', 'Alvin']\n",
    "\n",
    "unique_chipmunks = list(dict.fromkeys(chipmunks))\n",
    "\n",
    "print(unique_chipmunks)  # Output: ['Alvin', 'Simon', 'Theodore']"
   ]
  },
  {
   "cell_type": "markdown",
   "id": "67a0e690",
   "metadata": {
    "slideshow": {
     "slide_type": "slide"
    }
   },
   "source": [
    "<span style='color: blue'>**Preferred methods of removing duplicates in order**</span>:\n",
    "\n",
    "1. Using <span style='color: magenta'>**Set**</span>: Preferred because it's concise and fast.\n",
    "\n",
    "2. Using <span style='color: magenta'>**List Comprehension**</span>: Slightly less preferred because it's less concise, but still fast and effective.\n",
    "\n",
    "3. Using <span style='color: magenta'>**dict.fromkeys()**</span>: Least preferred because it requires creating a dictionary, which can be less efficient and may not preserve the order of the original list.\n"
   ]
  },
  {
   "cell_type": "markdown",
   "id": "a4d4b701",
   "metadata": {
    "slideshow": {
     "slide_type": "slide"
    }
   },
   "source": [
    "## <span style='color: blue'>**List methods**</span> <a id='#list-methods'></a>\n",
    "\n",
    "The <span style='color: blue'>**list**</span> object contains various built-in <span style='color: blue'>**methods**</span> that allow for manipulation of its elements."
   ]
  },
  {
   "cell_type": "markdown",
   "id": "6d946e8a",
   "metadata": {
    "slideshow": {
     "slide_type": "fragment"
    }
   },
   "source": [
    "The <span style='color: blue'>**append()**</span> method modifies a list by adding an element to the end of it.  It is an <span style='color: magenta'>**inplace-operation**</span> which modifies the existing list."
   ]
  },
  {
   "cell_type": "code",
   "execution_count": 31,
   "id": "47ea0f19",
   "metadata": {
    "slideshow": {
     "slide_type": "fragment"
    }
   },
   "outputs": [
    {
     "data": {
      "text/html": [
       "<pre style=\"white-space:pre;overflow-x:auto;line-height:normal;font-family:Menlo,'DejaVu Sans Mono',consolas,'Courier New',monospace\"><span style=\"font-weight: bold\">[</span><span style=\"color: #008000; text-decoration-color: #008000\">'LeBron James'</span>, <span style=\"color: #008000; text-decoration-color: #008000\">'Kevin Durant'</span>, <span style=\"color: #008000; text-decoration-color: #008000\">'Stephen Curry'</span>, <span style=\"color: #008000; text-decoration-color: #008000\">'Kawhi Leonard'</span><span style=\"font-weight: bold\">]</span>\n",
       "</pre>\n"
      ],
      "text/plain": [
       "\u001b[1m[\u001b[0m\u001b[32m'LeBron James'\u001b[0m, \u001b[32m'Kevin Durant'\u001b[0m, \u001b[32m'Stephen Curry'\u001b[0m, \u001b[32m'Kawhi Leonard'\u001b[0m\u001b[1m]\u001b[0m\n"
      ]
     },
     "metadata": {},
     "output_type": "display_data"
    }
   ],
   "source": [
    "nba_stars = ['LeBron James', 'Kevin Durant', 'Stephen Curry']\n",
    "\n",
    "nba_stars.append('Kawhi Leonard')\n",
    "\n",
    "print(nba_stars)"
   ]
  },
  {
   "cell_type": "code",
   "execution_count": 32,
   "id": "6965a56a",
   "metadata": {
    "slideshow": {
     "slide_type": "fragment"
    }
   },
   "outputs": [
    {
     "data": {
      "text/html": [
       "<pre style=\"white-space:pre;overflow-x:auto;line-height:normal;font-family:Menlo,'DejaVu Sans Mono',consolas,'Courier New',monospace\"><span style=\"font-weight: bold\">[</span><span style=\"color: #008000; text-decoration-color: #008000\">'LeBron James'</span>, <span style=\"color: #008000; text-decoration-color: #008000\">'Kevin Durant'</span>, <span style=\"color: #008000; text-decoration-color: #008000\">'Stephen Curry'</span>, <span style=\"font-weight: bold\">[</span><span style=\"color: #008000; text-decoration-color: #008000\">'Kawhi Leonard'</span>, <span style=\"color: #008000; text-decoration-color: #008000\">'James Harden'</span><span style=\"font-weight: bold\">]]</span>\n",
       "</pre>\n"
      ],
      "text/plain": [
       "\u001b[1m[\u001b[0m\u001b[32m'LeBron James'\u001b[0m, \u001b[32m'Kevin Durant'\u001b[0m, \u001b[32m'Stephen Curry'\u001b[0m, \u001b[1m[\u001b[0m\u001b[32m'Kawhi Leonard'\u001b[0m, \u001b[32m'James Harden'\u001b[0m\u001b[1m]\u001b[0m\u001b[1m]\u001b[0m\n"
      ]
     },
     "metadata": {},
     "output_type": "display_data"
    }
   ],
   "source": [
    "nba_stars = ['LeBron James', 'Kevin Durant', 'Stephen Curry']\n",
    "\n",
    "nba_stars.append(['Kawhi Leonard', 'James Harden'])\n",
    "\n",
    "print(nba_stars)"
   ]
  },
  {
   "cell_type": "markdown",
   "id": "03f69098",
   "metadata": {
    "slideshow": {
     "slide_type": "slide"
    }
   },
   "source": [
    "The <span style='color: blue'>**extend()**</span> method in Python's list class allows you to <span style='color: magenta'>**add elements**</span> of one list to <span style='color: magenta'>**another list**</span>."
   ]
  },
  {
   "cell_type": "code",
   "execution_count": 33,
   "id": "03bf1807",
   "metadata": {
    "slideshow": {
     "slide_type": "fragment"
    }
   },
   "outputs": [
    {
     "data": {
      "text/html": [
       "<pre style=\"white-space:pre;overflow-x:auto;line-height:normal;font-family:Menlo,'DejaVu Sans Mono',consolas,'Courier New',monospace\"><span style=\"font-weight: bold\">[</span><span style=\"color: #008000; text-decoration-color: #008000\">'Lionel Messi'</span>, <span style=\"color: #008000; text-decoration-color: #008000\">'Cristiano Ronaldo'</span>, <span style=\"color: #008000; text-decoration-color: #008000\">'Neymar'</span>, <span style=\"color: #008000; text-decoration-color: #008000\">'Mohamed Salah'</span><span style=\"font-weight: bold\">]</span>\n",
       "</pre>\n"
      ],
      "text/plain": [
       "\u001b[1m[\u001b[0m\u001b[32m'Lionel Messi'\u001b[0m, \u001b[32m'Cristiano Ronaldo'\u001b[0m, \u001b[32m'Neymar'\u001b[0m, \u001b[32m'Mohamed Salah'\u001b[0m\u001b[1m]\u001b[0m\n"
      ]
     },
     "metadata": {},
     "output_type": "display_data"
    }
   ],
   "source": [
    "# Create two lists\n",
    "list1 = ['Lionel Messi', 'Cristiano Ronaldo']\n",
    "list2 = ['Neymar', 'Mohamed Salah']\n",
    "\n",
    "# Extend list1 with the elements of list2\n",
    "list1.extend(list2)\n",
    "\n",
    "print(list1)"
   ]
  },
  {
   "cell_type": "markdown",
   "id": "0378615f",
   "metadata": {
    "slideshow": {
     "slide_type": "fragment"
    }
   },
   "source": [
    "The method <span style='color: blue'>**extend()**</span> is not limited to adding the elements of list to lists.  This method will work with any Python iterable objects such as <span style='color: magenta'>**tuples**</span>, <span style='color: magenta'>**sets**</span>, <span style='color: magenta'>**strings**</span>, <span style='color: magenta'>**dictionary keys**</span> and <span style='color: magenta'>**values**</span>."
   ]
  },
  {
   "cell_type": "markdown",
   "id": "77068483",
   "metadata": {
    "slideshow": {
     "slide_type": "slide"
    }
   },
   "source": [
    "The method <span style='color: blue'>**remove()**</span> removes <span style='color: magenta'>**first occurrence**</span> of element in list, modifies original list, and raises <span style='color: magenta'>**ValueError**</span> if element not found."
   ]
  },
  {
   "cell_type": "code",
   "execution_count": 34,
   "id": "9e2ffff9",
   "metadata": {
    "slideshow": {
     "slide_type": "fragment"
    }
   },
   "outputs": [
    {
     "data": {
      "text/html": [
       "<pre style=\"white-space:pre;overflow-x:auto;line-height:normal;font-family:Menlo,'DejaVu Sans Mono',consolas,'Courier New',monospace\"><span style=\"font-weight: bold\">[</span><span style=\"color: #008000; text-decoration-color: #008000\">'Jack Nicklaus'</span>, <span style=\"color: #008000; text-decoration-color: #008000\">'Arnold Palmer'</span>, <span style=\"color: #008000; text-decoration-color: #008000\">'Phil Mickelson'</span>, <span style=\"color: #008000; text-decoration-color: #008000\">'Tiger Woods'</span><span style=\"font-weight: bold\">]</span>\n",
       "</pre>\n"
      ],
      "text/plain": [
       "\u001b[1m[\u001b[0m\u001b[32m'Jack Nicklaus'\u001b[0m, \u001b[32m'Arnold Palmer'\u001b[0m, \u001b[32m'Phil Mickelson'\u001b[0m, \u001b[32m'Tiger Woods'\u001b[0m\u001b[1m]\u001b[0m\n"
      ]
     },
     "metadata": {},
     "output_type": "display_data"
    }
   ],
   "source": [
    "# Remove element from a list\n",
    "\n",
    "golfers = ['Tiger Woods', 'Jack Nicklaus', 'Arnold Palmer', 'Phil Mickelson', 'Tiger Woods']\n",
    "\n",
    "golfers.remove('Tiger Woods')\n",
    "\n",
    "print(golfers)"
   ]
  },
  {
   "cell_type": "markdown",
   "id": "06c0f3a9",
   "metadata": {
    "slideshow": {
     "slide_type": "slide"
    }
   },
   "source": [
    "The <span style='color: blue'>**pop()**</span> method is used to <span style='color: magenta'>**remove**</span> and <span style='color: magenta'>**return**</span> the element at a specified index in a list.\n",
    "\n",
    "- If you don't specify an index when calling <span style='color: blue'>**pop()**</span>, it will remove and return <span style='color: magenta'>**the last element**</span> in the list by default.\n",
    "\n",
    "- If you try to <span style='color: blue'>**pop()**</span> an element from an empty list, it will raise an <span style='color: magenta'>**IndexError**</span>.\n",
    "\n",
    "- You can use negative indexing with <span style='color: blue'>**pop()**</span> to remove and return elements from the <span style='color: magenta'>**end**</span> of the list"
   ]
  },
  {
   "cell_type": "code",
   "execution_count": 35,
   "id": "d4446055",
   "metadata": {
    "slideshow": {
     "slide_type": "fragment"
    }
   },
   "outputs": [
    {
     "data": {
      "text/html": [
       "<pre style=\"white-space:pre;overflow-x:auto;line-height:normal;font-family:Menlo,'DejaVu Sans Mono',consolas,'Courier New',monospace\">The Dark Knight\n",
       "</pre>\n"
      ],
      "text/plain": [
       "The Dark Knight\n"
      ]
     },
     "metadata": {},
     "output_type": "display_data"
    },
    {
     "data": {
      "text/html": [
       "<pre style=\"white-space:pre;overflow-x:auto;line-height:normal;font-family:Menlo,'DejaVu Sans Mono',consolas,'Courier New',monospace\"><span style=\"font-weight: bold\">[</span><span style=\"color: #008000; text-decoration-color: #008000\">'The Shawshank Redemption'</span>, <span style=\"color: #008000; text-decoration-color: #008000\">'The Godfather'</span>, <span style=\"color: #008000; text-decoration-color: #008000\">'The Matrix'</span><span style=\"font-weight: bold\">]</span>\n",
       "</pre>\n"
      ],
      "text/plain": [
       "\u001b[1m[\u001b[0m\u001b[32m'The Shawshank Redemption'\u001b[0m, \u001b[32m'The Godfather'\u001b[0m, \u001b[32m'The Matrix'\u001b[0m\u001b[1m]\u001b[0m\n"
      ]
     },
     "metadata": {},
     "output_type": "display_data"
    }
   ],
   "source": [
    "# Create a list of movies\n",
    "movies = ['The Shawshank Redemption', 'The Godfather', 'The Dark Knight', 'The Matrix']\n",
    "\n",
    "# Pop the element at index 2\n",
    "popped_movie = movies.pop(2)\n",
    "\n",
    "print(popped_movie)\n",
    "\n",
    "print(movies)"
   ]
  },
  {
   "cell_type": "markdown",
   "id": "2cc20dc7",
   "metadata": {
    "slideshow": {
     "slide_type": "slide"
    }
   },
   "source": [
    "The <span style='color: blue'>**index()**</span> method in Python's list data type returns the <span style='color: magenta'>**index**</span> of the <span style='color: magenta'>**first occurrence**</span> of a specified element in the list.\n",
    "\n",
    "- The <span style='color: blue'>**index**</span> method in Python raises a <span style='color: magenta'>**ValueError**</span> if the specified element is <span style='color: magenta'>**not found**</span> in the list.\n",
    "- The <span style='color: blue'>**index()**</span> method takes <span style='color: magenta'>**longer to search large lists**</span>, and <span style='color: magenta'>**faster for smaller lists**</span>. Other data structures like dictionaries and sets have faster lookup times."
   ]
  },
  {
   "cell_type": "code",
   "execution_count": 36,
   "id": "d57e8530",
   "metadata": {
    "slideshow": {
     "slide_type": "fragment"
    }
   },
   "outputs": [
    {
     "data": {
      "text/html": [
       "<pre style=\"white-space:pre;overflow-x:auto;line-height:normal;font-family:Menlo,'DejaVu Sans Mono',consolas,'Courier New',monospace\"><span style=\"color: #008080; text-decoration-color: #008080; font-weight: bold\">2</span>\n",
       "</pre>\n"
      ],
      "text/plain": [
       "\u001b[1;36m2\u001b[0m\n"
      ]
     },
     "metadata": {},
     "output_type": "display_data"
    }
   ],
   "source": [
    "# Find the index of 'Black Widow' in the list\n",
    "\n",
    "marvel_heroes = ['Iron Man', 'Spider-Man', 'Black Widow', 'Thor', 'Spider-Man']\n",
    "\n",
    "index_of_widow = marvel_heroes.index('Black Widow')\n",
    "\n",
    "print(index_of_widow)"
   ]
  },
  {
   "cell_type": "markdown",
   "id": "33f82925",
   "metadata": {
    "slideshow": {
     "slide_type": "slide"
    }
   },
   "source": [
    "The methods <span style='color: blue'>**pop()**</span> and <span style='color: blue'>**index()**</span>\n",
    "can be used together to <span style='color: magenta'>**remove**</span> and <span style='color: magenta'>**return**</span> an element in a list by name."
   ]
  },
  {
   "cell_type": "code",
   "execution_count": 37,
   "id": "c2a60d72",
   "metadata": {
    "slideshow": {
     "slide_type": "fragment"
    }
   },
   "outputs": [
    {
     "data": {
      "text/html": [
       "<pre style=\"white-space:pre;overflow-x:auto;line-height:normal;font-family:Menlo,'DejaVu Sans Mono',consolas,'Courier New',monospace\"><span style=\"font-weight: bold\">[</span><span style=\"color: #008000; text-decoration-color: #008000\">'Ford'</span>, <span style=\"color: #008000; text-decoration-color: #008000\">'Toyota'</span>, <span style=\"color: #008000; text-decoration-color: #008000\">'Honda'</span>, <span style=\"color: #008000; text-decoration-color: #008000\">'Toyota'</span><span style=\"font-weight: bold\">]</span>\n",
       "</pre>\n"
      ],
      "text/plain": [
       "\u001b[1m[\u001b[0m\u001b[32m'Ford'\u001b[0m, \u001b[32m'Toyota'\u001b[0m, \u001b[32m'Honda'\u001b[0m, \u001b[32m'Toyota'\u001b[0m\u001b[1m]\u001b[0m\n"
      ]
     },
     "metadata": {},
     "output_type": "display_data"
    }
   ],
   "source": [
    "car_manufacturers = ['Ford', 'Toyota', 'Chevrolet', 'Honda', 'Toyota']\n",
    "\n",
    "# Find the index of 'Chevrolet' in the list\n",
    "index_of_chevy = car_manufacturers.index('Chevrolet')\n",
    "\n",
    "# Remove 'Chevrolet' from the list using the index found above\n",
    "car_manufacturers.pop(index_of_chevy)\n",
    "\n",
    "# Print the modified list\n",
    "print(car_manufacturers)\n"
   ]
  },
  {
   "cell_type": "markdown",
   "id": "17b60e3b",
   "metadata": {
    "slideshow": {
     "slide_type": "slide"
    }
   },
   "source": [
    "The method <span style='color: blue'>**count()**</span> method <span style='color: magenta'>**counts occurrences**</span> of an element in a list.\n",
    "\n",
    "- Takes <span style='color: magenta'>**one**</span> argument, which is the element to count.\n",
    "- If the element is <span style='color: magenta'>**not found**</span> in the list <span style='color: magenta'>**0**</span> is returned.\n",
    "- The arguments are <span style='color: magenta'>**case-sensitive**</span> when searching for a string element, meaning that it distinguishes between <span style='color: magenta'>**uppercase**</span> and <span style='color: magenta'>**lowercase**</span> characters in the search.\n",
    "- The time it takes to run <span style='color: magenta'>**increases linearly**</span> with the number of elements in the list."
   ]
  },
  {
   "cell_type": "code",
   "execution_count": 38,
   "id": "1c1bc1d0",
   "metadata": {
    "slideshow": {
     "slide_type": "fragment"
    }
   },
   "outputs": [
    {
     "data": {
      "text/html": [
       "<pre style=\"white-space:pre;overflow-x:auto;line-height:normal;font-family:Menlo,'DejaVu Sans Mono',consolas,'Courier New',monospace\"><span style=\"color: #008080; text-decoration-color: #008080; font-weight: bold\">2</span>\n",
       "</pre>\n"
      ],
      "text/plain": [
       "\u001b[1;36m2\u001b[0m\n"
      ]
     },
     "metadata": {},
     "output_type": "display_data"
    }
   ],
   "source": [
    "characters = ['Big Bird', 'Elmo', 'Cookie Monster', 'Elmo']\n",
    "\n",
    "count = characters.count('Elmo')\n",
    "\n",
    "print(count)"
   ]
  },
  {
   "cell_type": "markdown",
   "id": "4c078806",
   "metadata": {
    "slideshow": {
     "slide_type": "slide"
    }
   },
   "source": [
    "## <span style='color: blue'>**Swapping List Elements**</span> <a id='#swapping-elements'></a>\n",
    "\n",
    "Swapping the elements in two locations of a list can be done more than one way. The first example uses a <span style='color: magenta'>**temporary**</span> variable, the second utilises <span style='color: magenta'>**unpacking**</span>."
   ]
  },
  {
   "cell_type": "code",
   "execution_count": 39,
   "id": "a9911241",
   "metadata": {
    "slideshow": {
     "slide_type": "fragment"
    }
   },
   "outputs": [
    {
     "data": {
      "text/html": [
       "<pre style=\"white-space:pre;overflow-x:auto;line-height:normal;font-family:Menlo,'DejaVu Sans Mono',consolas,'Courier New',monospace\"><span style=\"font-weight: bold\">[</span><span style=\"color: #008000; text-decoration-color: #008000\">'Baloo'</span>, <span style=\"color: #008000; text-decoration-color: #008000\">'Winnie'</span>, <span style=\"color: #008000; text-decoration-color: #008000\">'Smokey'</span>, <span style=\"color: #008000; text-decoration-color: #008000\">'Paddington'</span>, <span style=\"color: #008000; text-decoration-color: #008000\">'Yogi'</span><span style=\"font-weight: bold\">]</span>\n",
       "</pre>\n"
      ],
      "text/plain": [
       "\u001b[1m[\u001b[0m\u001b[32m'Baloo'\u001b[0m, \u001b[32m'Winnie'\u001b[0m, \u001b[32m'Smokey'\u001b[0m, \u001b[32m'Paddington'\u001b[0m, \u001b[32m'Yogi'\u001b[0m\u001b[1m]\u001b[0m\n"
      ]
     },
     "metadata": {},
     "output_type": "display_data"
    }
   ],
   "source": [
    "# Example swapping the first element with the last element\n",
    "bear_names = ['Yogi', 'Winnie', 'Smokey', 'Paddington', 'Baloo']\n",
    "\n",
    "# Swap the first and last elements using a temporary variable\n",
    "temp = bear_names[0]\n",
    "bear_names[0] = bear_names[-1]\n",
    "bear_names[-1] = temp\n",
    "\n",
    "# Print the updated list\n",
    "print(bear_names)\n"
   ]
  },
  {
   "cell_type": "code",
   "execution_count": 40,
   "id": "154848ed",
   "metadata": {
    "slideshow": {
     "slide_type": "fragment"
    }
   },
   "outputs": [
    {
     "data": {
      "text/html": [
       "<pre style=\"white-space:pre;overflow-x:auto;line-height:normal;font-family:Menlo,'DejaVu Sans Mono',consolas,'Courier New',monospace\"><span style=\"font-weight: bold\">[</span><span style=\"color: #008000; text-decoration-color: #008000\">'Baloo'</span>, <span style=\"color: #008000; text-decoration-color: #008000\">'Winnie'</span>, <span style=\"color: #008000; text-decoration-color: #008000\">'Smokey'</span>, <span style=\"color: #008000; text-decoration-color: #008000\">'Paddington'</span>, <span style=\"color: #008000; text-decoration-color: #008000\">'Yogi'</span><span style=\"font-weight: bold\">]</span>\n",
       "</pre>\n"
      ],
      "text/plain": [
       "\u001b[1m[\u001b[0m\u001b[32m'Baloo'\u001b[0m, \u001b[32m'Winnie'\u001b[0m, \u001b[32m'Smokey'\u001b[0m, \u001b[32m'Paddington'\u001b[0m, \u001b[32m'Yogi'\u001b[0m\u001b[1m]\u001b[0m\n"
      ]
     },
     "metadata": {},
     "output_type": "display_data"
    }
   ],
   "source": [
    "bear_names = ['Yogi', 'Winnie', 'Smokey', 'Paddington', 'Baloo']\n",
    "\n",
    "# Swap the first and last elements without using a temporary variable\n",
    "bear_names[0], bear_names[-1] = bear_names[-1], bear_names[0]\n",
    "\n",
    "# Print the updated list\n",
    "print(bear_names)\n"
   ]
  },
  {
   "cell_type": "markdown",
   "id": "4c039493",
   "metadata": {
    "slideshow": {
     "slide_type": "slide"
    }
   },
   "source": [
    "## <span style='color: blue'>**Copying (deep vs. shallow copies)**</span> <a id='#copying-deep-vs-shallow-copies'></a>\n",
    "\n",
    "Creating copies of a lists can be a difficult concept for beginners. So, let's first take a look at it and then provide a summary of the process."
   ]
  },
  {
   "cell_type": "code",
   "execution_count": 41,
   "id": "b0124f84",
   "metadata": {
    "slideshow": {
     "slide_type": "fragment"
    }
   },
   "outputs": [
    {
     "data": {
      "text/html": [
       "<pre style=\"white-space:pre;overflow-x:auto;line-height:normal;font-family:Menlo,'DejaVu Sans Mono',consolas,'Courier New',monospace\">original = <span style=\"font-weight: bold\">[</span><span style=\"color: #008000; text-decoration-color: #008000\">'Hello Kitty'</span>, <span style=\"color: #008000; text-decoration-color: #008000\">'Tom'</span>, <span style=\"color: #008000; text-decoration-color: #008000\">'Sylvester'</span><span style=\"font-weight: bold\">]</span>, ID: <span style=\"color: #008080; text-decoration-color: #008080; font-weight: bold\">2559688916352</span>\n",
       "</pre>\n"
      ],
      "text/plain": [
       "original = \u001b[1m[\u001b[0m\u001b[32m'Hello Kitty'\u001b[0m, \u001b[32m'Tom'\u001b[0m, \u001b[32m'Sylvester'\u001b[0m\u001b[1m]\u001b[0m, ID: \u001b[1;36m2559688916352\u001b[0m\n"
      ]
     },
     "metadata": {},
     "output_type": "display_data"
    },
    {
     "data": {
      "text/html": [
       "<pre style=\"white-space:pre;overflow-x:auto;line-height:normal;font-family:Menlo,'DejaVu Sans Mono',consolas,'Courier New',monospace\">new_list = <span style=\"font-weight: bold\">[</span><span style=\"color: #008000; text-decoration-color: #008000\">'Hello Kitty'</span>, <span style=\"color: #008000; text-decoration-color: #008000\">'Tom'</span>, <span style=\"color: #008000; text-decoration-color: #008000\">'Sylvester'</span><span style=\"font-weight: bold\">]</span>, ID: <span style=\"color: #008080; text-decoration-color: #008080; font-weight: bold\">2559688916352</span>\n",
       "</pre>\n"
      ],
      "text/plain": [
       "new_list = \u001b[1m[\u001b[0m\u001b[32m'Hello Kitty'\u001b[0m, \u001b[32m'Tom'\u001b[0m, \u001b[32m'Sylvester'\u001b[0m\u001b[1m]\u001b[0m, ID: \u001b[1;36m2559688916352\u001b[0m\n"
      ]
     },
     "metadata": {},
     "output_type": "display_data"
    }
   ],
   "source": [
    "# Example 1. Not using the copy method. New list becomes a duplicate of the original\n",
    "original = ['Garfield', 'Tom', 'Sylvester']\n",
    "new_list = original\n",
    "\n",
    "# Modify the new list\n",
    "new_list[0] = 'Hello Kitty'\n",
    "\n",
    "# The original list is also modified\n",
    "print(f'{original = }, ID: {id(original)}')\n",
    "print(f'{new_list = }, ID: {id(new_list)}')"
   ]
  },
  {
   "cell_type": "code",
   "execution_count": 42,
   "id": "e472ef88",
   "metadata": {
    "slideshow": {
     "slide_type": "slide"
    }
   },
   "outputs": [
    {
     "data": {
      "text/html": [
       "<pre style=\"white-space:pre;overflow-x:auto;line-height:normal;font-family:Menlo,'DejaVu Sans Mono',consolas,'Courier New',monospace\">original = <span style=\"font-weight: bold\">[</span><span style=\"color: #008000; text-decoration-color: #008000\">'Garfield'</span>, <span style=\"color: #008000; text-decoration-color: #008000\">'Tom'</span>, <span style=\"color: #008000; text-decoration-color: #008000\">'Sylvester'</span><span style=\"font-weight: bold\">]</span>, ID: <span style=\"color: #008080; text-decoration-color: #008080; font-weight: bold\">2559689022208</span>\n",
       "</pre>\n"
      ],
      "text/plain": [
       "original = \u001b[1m[\u001b[0m\u001b[32m'Garfield'\u001b[0m, \u001b[32m'Tom'\u001b[0m, \u001b[32m'Sylvester'\u001b[0m\u001b[1m]\u001b[0m, ID: \u001b[1;36m2559689022208\u001b[0m\n"
      ]
     },
     "metadata": {},
     "output_type": "display_data"
    },
    {
     "data": {
      "text/html": [
       "<pre style=\"white-space:pre;overflow-x:auto;line-height:normal;font-family:Menlo,'DejaVu Sans Mono',consolas,'Courier New',monospace\">shallow_copy = <span style=\"font-weight: bold\">[</span><span style=\"color: #008000; text-decoration-color: #008000\">'Hello Kitty'</span>, <span style=\"color: #008000; text-decoration-color: #008000\">'Tom'</span>, <span style=\"color: #008000; text-decoration-color: #008000\">'Sylvester'</span><span style=\"font-weight: bold\">]</span>, ID: <span style=\"color: #008080; text-decoration-color: #008080; font-weight: bold\">2559689018944</span>\n",
       "</pre>\n"
      ],
      "text/plain": [
       "shallow_copy = \u001b[1m[\u001b[0m\u001b[32m'Hello Kitty'\u001b[0m, \u001b[32m'Tom'\u001b[0m, \u001b[32m'Sylvester'\u001b[0m\u001b[1m]\u001b[0m, ID: \u001b[1;36m2559689018944\u001b[0m\n"
      ]
     },
     "metadata": {},
     "output_type": "display_data"
    }
   ],
   "source": [
    "# Example 2. Using the copy method\n",
    "original = ['Garfield', 'Tom', 'Sylvester']\n",
    "shallow_copy = original.copy()\n",
    "\n",
    "# Modify the shallow copy\n",
    "shallow_copy[0] = 'Hello Kitty'\n",
    "\n",
    "# The original list is not modified\n",
    "print(f'{original = }, ID: {id(original)}')\n",
    "print(f'{shallow_copy = }, ID: {id(shallow_copy)}')"
   ]
  },
  {
   "cell_type": "code",
   "execution_count": 43,
   "id": "64e2dc98",
   "metadata": {
    "slideshow": {
     "slide_type": "slide"
    }
   },
   "outputs": [
    {
     "data": {
      "text/html": [
       "<pre style=\"white-space:pre;overflow-x:auto;line-height:normal;font-family:Menlo,'DejaVu Sans Mono',consolas,'Courier New',monospace\">original = <span style=\"font-weight: bold\">[[</span><span style=\"color: #008000; text-decoration-color: #008000\">'Hello Kitty'</span>, <span style=\"color: #008000; text-decoration-color: #008000\">'Tom'</span><span style=\"font-weight: bold\">]</span>, <span style=\"font-weight: bold\">[</span><span style=\"color: #008000; text-decoration-color: #008000\">'Sylvester'</span>, <span style=\"color: #008000; text-decoration-color: #008000\">'Felix'</span><span style=\"font-weight: bold\">]]</span>, ID: <span style=\"color: #008080; text-decoration-color: #008080; font-weight: bold\">2559689031296</span>\n",
       "</pre>\n"
      ],
      "text/plain": [
       "original = \u001b[1m[\u001b[0m\u001b[1m[\u001b[0m\u001b[32m'Hello Kitty'\u001b[0m, \u001b[32m'Tom'\u001b[0m\u001b[1m]\u001b[0m, \u001b[1m[\u001b[0m\u001b[32m'Sylvester'\u001b[0m, \u001b[32m'Felix'\u001b[0m\u001b[1m]\u001b[0m\u001b[1m]\u001b[0m, ID: \u001b[1;36m2559689031296\u001b[0m\n"
      ]
     },
     "metadata": {},
     "output_type": "display_data"
    },
    {
     "data": {
      "text/html": [
       "<pre style=\"white-space:pre;overflow-x:auto;line-height:normal;font-family:Menlo,'DejaVu Sans Mono',consolas,'Courier New',monospace\">shallow_copy = <span style=\"font-weight: bold\">[[</span><span style=\"color: #008000; text-decoration-color: #008000\">'Hello Kitty'</span>, <span style=\"color: #008000; text-decoration-color: #008000\">'Tom'</span><span style=\"font-weight: bold\">]</span>, <span style=\"font-weight: bold\">[</span><span style=\"color: #008000; text-decoration-color: #008000\">'Sylvester'</span>, <span style=\"color: #008000; text-decoration-color: #008000\">'Felix'</span><span style=\"font-weight: bold\">]]</span>, ID: <span style=\"color: #008080; text-decoration-color: #008080; font-weight: bold\">2559689031296</span>\n",
       "</pre>\n"
      ],
      "text/plain": [
       "shallow_copy = \u001b[1m[\u001b[0m\u001b[1m[\u001b[0m\u001b[32m'Hello Kitty'\u001b[0m, \u001b[32m'Tom'\u001b[0m\u001b[1m]\u001b[0m, \u001b[1m[\u001b[0m\u001b[32m'Sylvester'\u001b[0m, \u001b[32m'Felix'\u001b[0m\u001b[1m]\u001b[0m\u001b[1m]\u001b[0m, ID: \u001b[1;36m2559689031296\u001b[0m\n"
      ]
     },
     "metadata": {},
     "output_type": "display_data"
    }
   ],
   "source": [
    "# Example 3. Using shallow copy on nested lists\n",
    "original = [['Garfield', 'Tom'], ['Sylvester', 'Felix']]\n",
    "shallow_copy = original.copy()\n",
    "\n",
    "# Modify the shallow copy\n",
    "shallow_copy[0][0] = 'Hello Kitty'\n",
    "\n",
    "# The original list is also modified\n",
    "print(f'{original = }, ID: {id(original[0])}')\n",
    "print(f'{shallow_copy = }, ID: {id(shallow_copy[0])}')"
   ]
  },
  {
   "cell_type": "code",
   "execution_count": 44,
   "id": "44db1d6c",
   "metadata": {
    "slideshow": {
     "slide_type": "slide"
    }
   },
   "outputs": [
    {
     "data": {
      "text/html": [
       "<pre style=\"white-space:pre;overflow-x:auto;line-height:normal;font-family:Menlo,'DejaVu Sans Mono',consolas,'Courier New',monospace\">original = <span style=\"font-weight: bold\">[[</span><span style=\"color: #008000; text-decoration-color: #008000\">'Garfield'</span>, <span style=\"color: #008000; text-decoration-color: #008000\">'Tom'</span><span style=\"font-weight: bold\">]</span>, <span style=\"font-weight: bold\">[</span><span style=\"color: #008000; text-decoration-color: #008000\">'Sylvester'</span>, <span style=\"color: #008000; text-decoration-color: #008000\">'Felix'</span><span style=\"font-weight: bold\">]]</span>, ID: <span style=\"color: #008080; text-decoration-color: #008080; font-weight: bold\">2559689008832</span>\n",
       "</pre>\n"
      ],
      "text/plain": [
       "original = \u001b[1m[\u001b[0m\u001b[1m[\u001b[0m\u001b[32m'Garfield'\u001b[0m, \u001b[32m'Tom'\u001b[0m\u001b[1m]\u001b[0m, \u001b[1m[\u001b[0m\u001b[32m'Sylvester'\u001b[0m, \u001b[32m'Felix'\u001b[0m\u001b[1m]\u001b[0m\u001b[1m]\u001b[0m, ID: \u001b[1;36m2559689008832\u001b[0m\n"
      ]
     },
     "metadata": {},
     "output_type": "display_data"
    },
    {
     "data": {
      "text/html": [
       "<pre style=\"white-space:pre;overflow-x:auto;line-height:normal;font-family:Menlo,'DejaVu Sans Mono',consolas,'Courier New',monospace\">deep_copy = <span style=\"font-weight: bold\">[[</span><span style=\"color: #008000; text-decoration-color: #008000\">'Hello Kitty'</span>, <span style=\"color: #008000; text-decoration-color: #008000\">'Tom'</span><span style=\"font-weight: bold\">]</span>, <span style=\"font-weight: bold\">[</span><span style=\"color: #008000; text-decoration-color: #008000\">'Sylvester'</span>, <span style=\"color: #008000; text-decoration-color: #008000\">'Felix'</span><span style=\"font-weight: bold\">]]</span>, ID: <span style=\"color: #008080; text-decoration-color: #008080; font-weight: bold\">2559688888576</span>\n",
       "</pre>\n"
      ],
      "text/plain": [
       "deep_copy = \u001b[1m[\u001b[0m\u001b[1m[\u001b[0m\u001b[32m'Hello Kitty'\u001b[0m, \u001b[32m'Tom'\u001b[0m\u001b[1m]\u001b[0m, \u001b[1m[\u001b[0m\u001b[32m'Sylvester'\u001b[0m, \u001b[32m'Felix'\u001b[0m\u001b[1m]\u001b[0m\u001b[1m]\u001b[0m, ID: \u001b[1;36m2559688888576\u001b[0m\n"
      ]
     },
     "metadata": {},
     "output_type": "display_data"
    }
   ],
   "source": [
    "# Example 4. Using deep copy on nested lists\n",
    "import copy\n",
    "\n",
    "original = [['Garfield', 'Tom'], ['Sylvester', 'Felix']]\n",
    "deep_copy = copy.deepcopy(original)\n",
    "\n",
    "# Modify the deep copy\n",
    "deep_copy[0][0] = 'Hello Kitty'\n",
    "\n",
    "# The original list is not modified\n",
    "print(f'{original = }, ID: {id(original[0])}')\n",
    "print(f'{deep_copy = }, ID: {id(deep_copy[0])}')"
   ]
  },
  {
   "cell_type": "markdown",
   "id": "37c921bf",
   "metadata": {
    "slideshow": {
     "slide_type": "slide"
    }
   },
   "source": [
    "Copying lists in Python creates a new list with the same elements. <span style='color: blue'>**Shallow copy**</span> creates a <span style='color: magenta'>**new list**</span> with references to the <span style='color: magenta'>**original elements**</span> in <span style='color: magenta'>**nested lists**</span>, while <span style='color: blue'>**deep copy**</span> creates a <span style='color: magenta'>**new list**</span> with <span style='color: magenta'>**new copies**</span> of the elements.\n",
    "\n",
    "- A <span style='color: blue'>**shallow copy**</span> can be created using the <span style='color: magenta'>**copy()**</span> method or the <span style='color: magenta'>**slice operator**</span>.\n",
    "- <span style='color: blue'>**Shallow copies**</span> create a new object but refer to the original object's elements in <span style='color: magenta'>**nested lists**</span>.\n",
    "- Changes made to the <span style='color: magenta'>**original**</span> object will affect the <span style='color: blue'>**shallow copy**</span> and vice versa.\n",
    "- A <span style='color: blue'>**deep copy**</span> requires the <span style='color: magenta'>**copy**</span> module to be imported.\n",
    "- A <span style='color: blue'>**deep copy**</span> is independent of the original list and changes to it <span style='color: magenta'>**will not affect**</span> the original."
   ]
  },
  {
   "cell_type": "markdown",
   "id": "e2d17838",
   "metadata": {
    "slideshow": {
     "slide_type": "slide"
    }
   },
   "source": [
    "## <span style='color: blue'>**Filtering & Mapping lists**</span> <a id='#filtering-mapping-lists'></a>\n",
    "\n",
    "<span style='color: blue'>**Filter()**</span> extracts a subset of elements from an iterable that <span style='color: magenta'>**meet a condition**</span>."
   ]
  },
  {
   "cell_type": "code",
   "execution_count": 45,
   "id": "a24eda1b",
   "metadata": {
    "slideshow": {
     "slide_type": "fragment"
    }
   },
   "outputs": [
    {
     "data": {
      "text/html": [
       "<pre style=\"white-space:pre;overflow-x:auto;line-height:normal;font-family:Menlo,'DejaVu Sans Mono',consolas,'Courier New',monospace\"><span style=\"font-weight: bold\">[</span><span style=\"color: #008000; text-decoration-color: #008000\">'Snoopy'</span>, <span style=\"color: #008000; text-decoration-color: #008000\">'Droopy'</span>, <span style=\"color: #008000; text-decoration-color: #008000\">'Spike'</span>, <span style=\"color: #008000; text-decoration-color: #008000\">'Pluto'</span><span style=\"font-weight: bold\">]</span>\n",
       "</pre>\n"
      ],
      "text/plain": [
       "\u001b[1m[\u001b[0m\u001b[32m'Snoopy'\u001b[0m, \u001b[32m'Droopy'\u001b[0m, \u001b[32m'Spike'\u001b[0m, \u001b[32m'Pluto'\u001b[0m\u001b[1m]\u001b[0m\n"
      ]
     },
     "metadata": {},
     "output_type": "display_data"
    }
   ],
   "source": [
    "dog_names = ['Scooby-Doo', 'Snoopy', 'Droopy', 'Clifford', 'Spike', 'Pluto']\n",
    "\n",
    "# Create a named function\n",
    "def is_short_name(name):\n",
    "    return len(name) <= 6\n",
    "\n",
    "filtered_dog_names = list(filter(is_short_name, dog_names))\n",
    "print(filtered_dog_names)"
   ]
  },
  {
   "cell_type": "markdown",
   "id": "2ad2af23",
   "metadata": {
    "slideshow": {
     "slide_type": "fragment"
    }
   },
   "source": [
    "- It takes a <span style='color: magenta'>**function**</span> and a <span style='color: magenta'>**sequence**</span> as arguments.\n",
    "- The filtered elements are returned as a <span style='color: magenta'>**new**</span> iterable.\n",
    "- The original sequence is <span style='color: magenta'>**not modified**</span> by the filter function.\n",
    "- The function argument can be a <span style='color: magenta'>**lambda**</span> expression or a <span style='color: magenta'>**named function**</span>."
   ]
  },
  {
   "cell_type": "markdown",
   "id": "93f0e4ac",
   "metadata": {
    "slideshow": {
     "slide_type": "slide"
    }
   },
   "source": [
    " <span style='color: blue'>**Map()**</span> applies a <span style='color: magenta'>**function**</span> to each element of an iterable and returns a new iterable with the results."
   ]
  },
  {
   "cell_type": "code",
   "execution_count": 46,
   "id": "cea0a4b3",
   "metadata": {
    "slideshow": {
     "slide_type": "fragment"
    }
   },
   "outputs": [
    {
     "data": {
      "text/html": [
       "<pre style=\"white-space:pre;overflow-x:auto;line-height:normal;font-family:Menlo,'DejaVu Sans Mono',consolas,'Courier New',monospace\"><span style=\"font-weight: bold\">[</span><span style=\"color: #008000; text-decoration-color: #008000\">'SCOOBY-DOO'</span>, <span style=\"color: #008000; text-decoration-color: #008000\">'SNOOPY'</span>, <span style=\"color: #008000; text-decoration-color: #008000\">'ODIE'</span>, <span style=\"color: #008000; text-decoration-color: #008000\">'CLIFFORD'</span>, <span style=\"color: #008000; text-decoration-color: #008000\">'GOOFY'</span><span style=\"font-weight: bold\">]</span>\n",
       "</pre>\n"
      ],
      "text/plain": [
       "\u001b[1m[\u001b[0m\u001b[32m'SCOOBY-DOO'\u001b[0m, \u001b[32m'SNOOPY'\u001b[0m, \u001b[32m'ODIE'\u001b[0m, \u001b[32m'CLIFFORD'\u001b[0m, \u001b[32m'GOOFY'\u001b[0m\u001b[1m]\u001b[0m\n"
      ]
     },
     "metadata": {},
     "output_type": "display_data"
    }
   ],
   "source": [
    "dog_names = [\"Scooby-Doo\", \"Snoopy\", \"Odie\", \"Clifford\", \"Goofy\"]\n",
    "\n",
    "# Example used a lambda expression, but could use a named function\n",
    "dog_names_upper = list(map(lambda x: x.upper(), dog_names))\n",
    "\n",
    "print(dog_names_upper)"
   ]
  },
  {
   "cell_type": "code",
   "execution_count": 47,
   "id": "42accc10",
   "metadata": {
    "slideshow": {
     "slide_type": "fragment"
    }
   },
   "outputs": [
    {
     "data": {
      "text/html": [
       "<pre style=\"white-space:pre;overflow-x:auto;line-height:normal;font-family:Menlo,'DejaVu Sans Mono',consolas,'Courier New',monospace\"><span style=\"font-weight: bold\">[</span><span style=\"color: #008080; text-decoration-color: #008080; font-weight: bold\">11</span>, <span style=\"color: #008080; text-decoration-color: #008080; font-weight: bold\">22</span>, <span style=\"color: #008080; text-decoration-color: #008080; font-weight: bold\">33</span>, <span style=\"color: #008080; text-decoration-color: #008080; font-weight: bold\">44</span>, <span style=\"color: #008080; text-decoration-color: #008080; font-weight: bold\">55</span><span style=\"font-weight: bold\">]</span>\n",
       "</pre>\n"
      ],
      "text/plain": [
       "\u001b[1m[\u001b[0m\u001b[1;36m11\u001b[0m, \u001b[1;36m22\u001b[0m, \u001b[1;36m33\u001b[0m, \u001b[1;36m44\u001b[0m, \u001b[1;36m55\u001b[0m\u001b[1m]\u001b[0m\n"
      ]
     },
     "metadata": {},
     "output_type": "display_data"
    }
   ],
   "source": [
    "# In the example map can be passed multiple lists\n",
    "def add_lists(x, y):\n",
    "    return x + y\n",
    "\n",
    "list1 = [1, 2, 3, 4, 5]\n",
    "list2 = [10, 20, 30, 40, 50]\n",
    "\n",
    "sums = list(map(add_lists, list1, list2))\n",
    "print(sums)"
   ]
  },
  {
   "cell_type": "markdown",
   "id": "5a0320a1",
   "metadata": {
    "slideshow": {
     "slide_type": "fragment"
    }
   },
   "source": [
    "- It returns a <span style='color: magenta'>**new iterable**</span> with the results.\n",
    "- It's <span style='color: magenta'>**faster**</span> than a <span style='color: magenta'>**for loop**</span> in some cases.\n",
    "- It can be used with <span style='color: magenta'>**multiple iterables**</span> simultaneously."
   ]
  },
  {
   "cell_type": "markdown",
   "id": "6433befd",
   "metadata": {
    "slideshow": {
     "slide_type": "slide"
    }
   },
   "source": [
    "## <span style='color: blue'>**Combinations and Permutations**</span> <a id='#combinations-and-permutations'></a>\n",
    "\n",
    "The Python library <span style='color: blue'>**itertools**</span> offers list <span style='color: magenta'>**combination**</span> and <span style='color: magenta'>**permutation**</span> functions to reorganize or merge elements in a list in different ways.\n",
    "\n",
    "A <span style='color: blue'>**Combination**</span> refers to a collection of subsets of items from an iterable in which the <span style='color: magenta'>**sequence is unimportant**</span>.\n",
    "\n",
    "On the other hand, a <span style='color: blue'>**Permutation**</span> is a specific ordering of elements from a set where the <span style='color: magenta'>**sequence is important**</span>."
   ]
  },
  {
   "cell_type": "code",
   "execution_count": 48,
   "id": "af9fe413",
   "metadata": {
    "slideshow": {
     "slide_type": "fragment"
    }
   },
   "outputs": [
    {
     "data": {
      "text/html": [
       "<pre style=\"white-space:pre;overflow-x:auto;line-height:normal;font-family:Menlo,'DejaVu Sans Mono',consolas,'Courier New',monospace\"><span style=\"font-weight: bold\">[(</span><span style=\"color: #008000; text-decoration-color: #008000\">'Nemo'</span>, <span style=\"color: #008000; text-decoration-color: #008000\">'Flounder'</span>, <span style=\"color: #008000; text-decoration-color: #008000\">'Blinky'</span><span style=\"font-weight: bold\">)]</span>\n",
       "</pre>\n"
      ],
      "text/plain": [
       "\u001b[1m[\u001b[0m\u001b[1m(\u001b[0m\u001b[32m'Nemo'\u001b[0m, \u001b[32m'Flounder'\u001b[0m, \u001b[32m'Blinky'\u001b[0m\u001b[1m)\u001b[0m\u001b[1m]\u001b[0m\n"
      ]
     },
     "metadata": {},
     "output_type": "display_data"
    }
   ],
   "source": [
    "## Example of combinations\n",
    "import itertools\n",
    "\n",
    "fish = ['Nemo', 'Flounder', 'Blinky']\n",
    "combs = list(itertools.combinations(fish, 3))\n",
    "\n",
    "# Returns a list of tuples\n",
    "print(combs)"
   ]
  },
  {
   "cell_type": "code",
   "execution_count": 49,
   "id": "ca1e2ca9",
   "metadata": {
    "slideshow": {
     "slide_type": "slide"
    }
   },
   "outputs": [
    {
     "data": {
      "text/html": [
       "<pre style=\"white-space:pre;overflow-x:auto;line-height:normal;font-family:Menlo,'DejaVu Sans Mono',consolas,'Courier New',monospace\"><span style=\"font-weight: bold\">[</span>\n",
       "    <span style=\"font-weight: bold\">(</span><span style=\"color: #008000; text-decoration-color: #008000\">'Nemo'</span>, <span style=\"color: #008000; text-decoration-color: #008000\">'Flounder'</span><span style=\"font-weight: bold\">)</span>,\n",
       "    <span style=\"font-weight: bold\">(</span><span style=\"color: #008000; text-decoration-color: #008000\">'Nemo'</span>, <span style=\"color: #008000; text-decoration-color: #008000\">'Blinky'</span><span style=\"font-weight: bold\">)</span>,\n",
       "    <span style=\"font-weight: bold\">(</span><span style=\"color: #008000; text-decoration-color: #008000\">'Flounder'</span>, <span style=\"color: #008000; text-decoration-color: #008000\">'Nemo'</span><span style=\"font-weight: bold\">)</span>,\n",
       "    <span style=\"font-weight: bold\">(</span><span style=\"color: #008000; text-decoration-color: #008000\">'Flounder'</span>, <span style=\"color: #008000; text-decoration-color: #008000\">'Blinky'</span><span style=\"font-weight: bold\">)</span>,\n",
       "    <span style=\"font-weight: bold\">(</span><span style=\"color: #008000; text-decoration-color: #008000\">'Blinky'</span>, <span style=\"color: #008000; text-decoration-color: #008000\">'Nemo'</span><span style=\"font-weight: bold\">)</span>,\n",
       "    <span style=\"font-weight: bold\">(</span><span style=\"color: #008000; text-decoration-color: #008000\">'Blinky'</span>, <span style=\"color: #008000; text-decoration-color: #008000\">'Flounder'</span><span style=\"font-weight: bold\">)</span>\n",
       "<span style=\"font-weight: bold\">]</span>\n",
       "</pre>\n"
      ],
      "text/plain": [
       "\u001b[1m[\u001b[0m\n",
       "    \u001b[1m(\u001b[0m\u001b[32m'Nemo'\u001b[0m, \u001b[32m'Flounder'\u001b[0m\u001b[1m)\u001b[0m,\n",
       "    \u001b[1m(\u001b[0m\u001b[32m'Nemo'\u001b[0m, \u001b[32m'Blinky'\u001b[0m\u001b[1m)\u001b[0m,\n",
       "    \u001b[1m(\u001b[0m\u001b[32m'Flounder'\u001b[0m, \u001b[32m'Nemo'\u001b[0m\u001b[1m)\u001b[0m,\n",
       "    \u001b[1m(\u001b[0m\u001b[32m'Flounder'\u001b[0m, \u001b[32m'Blinky'\u001b[0m\u001b[1m)\u001b[0m,\n",
       "    \u001b[1m(\u001b[0m\u001b[32m'Blinky'\u001b[0m, \u001b[32m'Nemo'\u001b[0m\u001b[1m)\u001b[0m,\n",
       "    \u001b[1m(\u001b[0m\u001b[32m'Blinky'\u001b[0m, \u001b[32m'Flounder'\u001b[0m\u001b[1m)\u001b[0m\n",
       "\u001b[1m]\u001b[0m\n"
      ]
     },
     "metadata": {},
     "output_type": "display_data"
    }
   ],
   "source": [
    "# Example of permutations\n",
    "import itertools\n",
    "\n",
    "fish = ['Nemo', 'Flounder', 'Blinky']\n",
    "perms = list(itertools.permutations(fish, 2))\n",
    "\n",
    "# Returns a list of tuples\n",
    "print(perms)"
   ]
  },
  {
   "cell_type": "markdown",
   "id": "38f9bd7a",
   "metadata": {
    "slideshow": {
     "slide_type": "slide"
    }
   },
   "source": [
    "## <span style='color: blue'>**List Comprehensions**</span> <a id='#list-comprehensions'></a>\n",
    "\n",
    "Python <span style='color: blue'>**list comprehensions**</span> are a concise way to create lists using a <span style='color: magenta'>**single line of code**</span>. They can be used to apply a <span style='color: magenta'>**function**</span> to each element of an iterable and <span style='color: magenta'>**filter**</span> the results."
   ]
  },
  {
   "cell_type": "code",
   "execution_count": 50,
   "id": "fa61ec0a",
   "metadata": {
    "slideshow": {
     "slide_type": "fragment"
    }
   },
   "outputs": [
    {
     "data": {
      "text/html": [
       "<pre style=\"white-space:pre;overflow-x:auto;line-height:normal;font-family:Menlo,'DejaVu Sans Mono',consolas,'Courier New',monospace\"><span style=\"font-weight: bold\">[</span><span style=\"color: #008000; text-decoration-color: #008000\">'LEONARDO'</span>, <span style=\"color: #008000; text-decoration-color: #008000\">'MICHELANGELO'</span>, <span style=\"color: #008000; text-decoration-color: #008000\">'DONATELLO'</span><span style=\"font-weight: bold\">]</span>\n",
       "</pre>\n"
      ],
      "text/plain": [
       "\u001b[1m[\u001b[0m\u001b[32m'LEONARDO'\u001b[0m, \u001b[32m'MICHELANGELO'\u001b[0m, \u001b[32m'DONATELLO'\u001b[0m\u001b[1m]\u001b[0m\n"
      ]
     },
     "metadata": {},
     "output_type": "display_data"
    }
   ],
   "source": [
    "# Example of create a new list without list comprehensions\n",
    "ninja_turtles = ['Leonardo', 'Michelangelo', 'Donatello', 'Raphael']\n",
    "\n",
    "# Create an emtpy list to hold new uppercase strings\n",
    "uppercase_turtles = []\n",
    "\n",
    "# Iterate over list applying expression and appending to new emtpy list\n",
    "for turtle in ninja_turtles:\n",
    "    \n",
    "    # Apply a condition\n",
    "    if turtle != 'Raphael':\n",
    "        uppercase_turtles.append(turtle.upper())\n",
    "\n",
    "print(uppercase_turtles)"
   ]
  },
  {
   "cell_type": "code",
   "execution_count": 51,
   "id": "c2218a6d",
   "metadata": {
    "slideshow": {
     "slide_type": "slide"
    }
   },
   "outputs": [
    {
     "data": {
      "text/html": [
       "<pre style=\"white-space:pre;overflow-x:auto;line-height:normal;font-family:Menlo,'DejaVu Sans Mono',consolas,'Courier New',monospace\"><span style=\"font-weight: bold\">[</span><span style=\"color: #008000; text-decoration-color: #008000\">'LEONARDO'</span>, <span style=\"color: #008000; text-decoration-color: #008000\">'MICHELANGELO'</span>, <span style=\"color: #008000; text-decoration-color: #008000\">'DONATELLO'</span><span style=\"font-weight: bold\">]</span>\n",
       "</pre>\n"
      ],
      "text/plain": [
       "\u001b[1m[\u001b[0m\u001b[32m'LEONARDO'\u001b[0m, \u001b[32m'MICHELANGELO'\u001b[0m, \u001b[32m'DONATELLO'\u001b[0m\u001b[1m]\u001b[0m\n"
      ]
     },
     "metadata": {},
     "output_type": "display_data"
    }
   ],
   "source": [
    "# Example of create a new list with list comprehensions\n",
    "ninja_turtles = [\"Leonardo\", \"Michelangelo\", \"Donatello\", \"Raphael\"]\n",
    "\n",
    "# Code excuted in one line\n",
    "uppercase_turtles = [turtle.upper() for turtle in ninja_turtles if turtle != 'Raphael']\n",
    "\n",
    "print(uppercase_turtles)"
   ]
  },
  {
   "cell_type": "markdown",
   "id": "d516546d",
   "metadata": {
    "slideshow": {
     "slide_type": "fragment"
    }
   },
   "source": [
    "<h3 style=\"text-align: center;\">\n",
    "    <span style='color: blue'>new_list</span> = [<span style='color: magenta'>expression</span> for <span style='color: magenta'>item</span> in <span style='color: magenta'>iterable</span> if <span style='color: magenta'>condition</span>] </h3>\n",
    "    \n",
    "```python\n",
    "        uppercase_turtles = [turtle.upper() for turtle in ninja_turtles if turtle != 'Raphael']\n",
    "```"
   ]
  },
  {
   "cell_type": "markdown",
   "id": "92d26af7",
   "metadata": {
    "slideshow": {
     "slide_type": "slide"
    }
   },
   "source": [
    "<span style='color: blue'>**List comprehensions**</span> can handle <span style='color: magenta'>**multiple interables**</span>. In the following example a <span style='color: magenta'>**nested list**</span> is converted into a <span style='color: magenta'>**one-dimensional list**</span>."
   ]
  },
  {
   "cell_type": "code",
   "execution_count": 52,
   "id": "601587a6",
   "metadata": {
    "slideshow": {
     "slide_type": "fragment"
    }
   },
   "outputs": [
    {
     "data": {
      "text/html": [
       "<pre style=\"white-space:pre;overflow-x:auto;line-height:normal;font-family:Menlo,'DejaVu Sans Mono',consolas,'Courier New',monospace\"><span style=\"font-weight: bold\">[</span><span style=\"color: #008000; text-decoration-color: #008000\">'Tweety'</span>, <span style=\"color: #008000; text-decoration-color: #008000\">'Woodstock'</span>, <span style=\"color: #008000; text-decoration-color: #008000\">'Iago'</span>, <span style=\"color: #008000; text-decoration-color: #008000\">'Scuttle'</span>, <span style=\"color: #008000; text-decoration-color: #008000\">'Zazu'</span>, <span style=\"color: #008000; text-decoration-color: #008000\">'Big Bird'</span><span style=\"font-weight: bold\">]</span>\n",
       "</pre>\n"
      ],
      "text/plain": [
       "\u001b[1m[\u001b[0m\u001b[32m'Tweety'\u001b[0m, \u001b[32m'Woodstock'\u001b[0m, \u001b[32m'Iago'\u001b[0m, \u001b[32m'Scuttle'\u001b[0m, \u001b[32m'Zazu'\u001b[0m, \u001b[32m'Big Bird'\u001b[0m\u001b[1m]\u001b[0m\n"
      ]
     },
     "metadata": {},
     "output_type": "display_data"
    }
   ],
   "source": [
    "# Create a nested list of bird names\n",
    "nested_list = [['Tweety', 'Woodstock', 'Iago'], ['Scuttle', 'Zazu', 'Big Bird']]\n",
    "\n",
    "# Use a list comprehension to convert to a one dimensional list\n",
    "one_dim_list = [item for sublist in nested_list for item in sublist]\n",
    "\n",
    "print(one_dim_list)"
   ]
  }
 ],
 "metadata": {
  "celltoolbar": "Slideshow",
  "kernelspec": {
   "display_name": "Python 3 (ipykernel)",
   "language": "python",
   "name": "python3"
  },
  "language_info": {
   "codemirror_mode": {
    "name": "ipython",
    "version": 3
   },
   "file_extension": ".py",
   "mimetype": "text/x-python",
   "name": "python",
   "nbconvert_exporter": "python",
   "pygments_lexer": "ipython3",
   "version": "3.11.1"
  }
 },
 "nbformat": 4,
 "nbformat_minor": 5
}
