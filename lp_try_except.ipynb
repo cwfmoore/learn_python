{
 "cells": [
  {
   "cell_type": "markdown",
   "id": "e57fa81b",
   "metadata": {
    "slideshow": {
     "slide_type": "slide"
    }
   },
   "source": [
    "# <span style='color: blue'>**Try - Except Statments**</span>\n",
    "\n",
    "In Python, the <span style='color: blue'>**try-except statement**</span> is used for <span style='color: magenta'>**error handling**</span>. It allows you to <span style='color: magenta'>**catch and handle exceptions**</span> that might be raised during the execution of your code."
   ]
  },
  {
   "cell_type": "markdown",
   "id": "785ed047",
   "metadata": {
    "slideshow": {
     "slide_type": "slide"
    }
   },
   "source": [
    "Python can raise various <span style='color: magenta'>**types of exceptions**</span> or errors depending on the code being executed. By using <span style='color: blue'>**try-except statements**</span>, you can handle these exceptions <span style='color: magenta'>**differently based on their types**</span>."
   ]
  },
  {
   "cell_type": "markdown",
   "id": "1cc0b4e4",
   "metadata": {},
   "source": [
    "| Exception Type | Description |\n",
    "| :--- | :--- |\n",
    "| ValueError | Raised when a built-in operation or function receives an argument that has the right type but an inappropriate value |\n",
    "| TypeError | Raised when an operation or function is applied to an object of inappropriate type |\n",
    "| NameError | Raised when a local or global name is not found |\n",
    "| IndexError | Raised when an index is not found in a sequence |\n",
    "| KeyError | Raised when a key is not found in a dictionary |\n",
    "| AttributeError | Raised when an attribute reference or assignment fails |\n",
    "| IOError | Raised when an input/output operation fails |\n",
    "| ZeroDivisionError | Raised when division or modulo by zero takes place |\n",
    "| MemoryError | Raised when an operation runs out of memory |\n",
    "| ImportError | Raised when an import statement fails to find the module definition |"
   ]
  },
  {
   "cell_type": "markdown",
   "id": "8663c0ba",
   "metadata": {},
   "source": [
    "A ValueError"
   ]
  },
  {
   "cell_type": "code",
   "execution_count": 10,
   "id": "85007aad",
   "metadata": {},
   "outputs": [
    {
     "name": "stdout",
     "output_type": "stream",
     "text": [
      "Enter your age: ten\n",
      "Invalid input. Please enter a valid integer.\n"
     ]
    }
   ],
   "source": [
    "age = input(\"Enter your age: \")\n",
    "try:\n",
    "    age_int = int(age)\n",
    "except ValueError:\n",
    "    print(\"Invalid input. Please enter a valid integer.\")"
   ]
  },
  {
   "cell_type": "code",
   "execution_count": null,
   "id": "933e3fb0",
   "metadata": {},
   "outputs": [],
   "source": [
    "try:\n",
    "    file = open(\"myfile.txt\", \"r\")\n",
    "    content = file.read()\n",
    "    print(result)\n",
    "except FileNotFoundError:\n",
    "    print(\"File not found.\")\n",
    "except PermissionError:\n",
    "    print(\"Please close file.\")\n",
    "finally:\n",
    "    file.close()"
   ]
  },
  {
   "cell_type": "markdown",
   "id": "4f5b836a",
   "metadata": {
    "slideshow": {
     "slide_type": "slide"
    }
   },
   "source": [
    "A typical application of <span style='color: blue'>**try-except statements**</span> involves <span style='color: magenta'>**safeguarding users against executing infeasible mathematical operations**</span>, such as attempting to <span style='color: magenta'>**divide by zero**</span> as demonstrated in this instance."
   ]
  },
  {
   "cell_type": "code",
   "execution_count": 5,
   "id": "f34a317e",
   "metadata": {},
   "outputs": [
    {
     "name": "stdout",
     "output_type": "stream",
     "text": [
      "Enter a number: 0\n",
      "Cannot divide by zero.\n"
     ]
    }
   ],
   "source": [
    "try:\n",
    "    num = int(input(\"Enter a number: \"))\n",
    "    result = 100 / num\n",
    "    print(result)\n",
    "except ZeroDivisionError:\n",
    "    print(\"Cannot divide by zero.\")"
   ]
  },
  {
   "cell_type": "code",
   "execution_count": null,
   "id": "31d8728e",
   "metadata": {},
   "outputs": [],
   "source": []
  }
 ],
 "metadata": {
  "celltoolbar": "Slideshow",
  "kernelspec": {
   "display_name": "Python 3 (ipykernel)",
   "language": "python",
   "name": "python3"
  },
  "language_info": {
   "codemirror_mode": {
    "name": "ipython",
    "version": 3
   },
   "file_extension": ".py",
   "mimetype": "text/x-python",
   "name": "python",
   "nbconvert_exporter": "python",
   "pygments_lexer": "ipython3",
   "version": "3.11.1"
  }
 },
 "nbformat": 4,
 "nbformat_minor": 5
}
