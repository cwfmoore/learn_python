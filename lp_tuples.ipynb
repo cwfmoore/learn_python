{
 "cells": [
  {
   "cell_type": "code",
   "execution_count": 1,
   "id": "b1e1a271",
   "metadata": {
    "slideshow": {
     "slide_type": "skip"
    }
   },
   "outputs": [],
   "source": [
    "# !pip install rich\n",
    "from rich import print"
   ]
  },
  {
   "cell_type": "markdown",
   "id": "0fa726e8",
   "metadata": {
    "slideshow": {
     "slide_type": "slide"
    }
   },
   "source": [
    "## <span style='color: blue'>Learn Python</span> - Tuples\n",
    "\n",
    "- Creating Tuples\n",
    "- Indexing & Slicing Tuples\n",
    "- Upacking Tuples\n",
    "- Modifying Tuples\n",
    "- Tuples Methods\n",
    "- Keywords & Functions\n",
    "- Tuple Comprehensions"
   ]
  },
  {
   "cell_type": "markdown",
   "id": "a70a4965",
   "metadata": {
    "slideshow": {
     "slide_type": "slide"
    }
   },
   "source": [
    "<span style='color: blue'>**Creating Tuples**</span>\n",
    "\n",
    "In Python, a <span style='color: blue'>**tuple**</span> is an <span style='color: magenta'>**ordered**</span>, <span style='color: magenta'>**immutable**</span> collection of elements. This means that once a tuple is created, its contents <span style='color: magenta'>**cannot be modified**</span>. \n",
    "\n",
    "New empty <span style='color: blue'>**Tuples**</span> can be created using <span style='color: magenta'>**parentheses**</span> or the <span style='color: blue'>**tuple()**</span> constructor.\n",
    "\n",
    "```python\n",
    "    # Create new empty tuple using parentheses\n",
    "    new_tuple = ()\n",
    "    \n",
    "    # Create new empty tuple using the tuple constructor\n",
    "    new_tuple = tuple()\n",
    "```\n",
    "\n",
    "Both of these methods are <span style='color: magenta'>**valid**</span> and their use depends on <span style='color: magenta'>**personal preference**</span> or <span style='color: magenta'>**code requirements**</span>."
   ]
  },
  {
   "cell_type": "markdown",
   "id": "2ed1cec8",
   "metadata": {
    "slideshow": {
     "slide_type": "slide"
    }
   },
   "source": [
    "To create a <span style='color: blue'>**populated tuple**</span> you can enclose a sequence of values in parentheses, <span style='color: magenta'>**separated by commas**</span>.\n",
    "\n",
    "```python\n",
    "    # Create a populated tuple\n",
    "    my_tuple = (1, 2, 3, 4, 5)\n",
    "```"
   ]
  },
  {
   "cell_type": "markdown",
   "id": "84351023",
   "metadata": {
    "slideshow": {
     "slide_type": "fragment"
    }
   },
   "source": [
    "You can also create a <span style='color: blue'>**tuple**</span> with just one element by including a <span style='color: magenta'>**trailing comma**</span> after the value, like this:\n",
    "\n",
    "```python\n",
    "    my_tuple = (1,)\n",
    "``` "
   ]
  },
  {
   "cell_type": "markdown",
   "id": "3e1932ae",
   "metadata": {
    "slideshow": {
     "slide_type": "slide"
    }
   },
   "source": [
    "Tuples can also be created by using the <span style='color: blue'>**tuple()**</span> constructor on other iterables, like <span style='color: blue'>**lists**</span>."
   ]
  },
  {
   "cell_type": "code",
   "execution_count": 2,
   "id": "765e9a4e",
   "metadata": {},
   "outputs": [
    {
     "data": {
      "text/html": [
       "<pre style=\"white-space:pre;overflow-x:auto;line-height:normal;font-family:Menlo,'DejaVu Sans Mono',consolas,'Courier New',monospace\">dog_tuple = <span style=\"font-weight: bold\">(</span><span style=\"color: #008000; text-decoration-color: #008000\">'Beagle'</span>, <span style=\"color: #008000; text-decoration-color: #008000\">'Corgi'</span>, <span style=\"color: #008000; text-decoration-color: #008000\">'Poodle'</span>, <span style=\"color: #008000; text-decoration-color: #008000\">'Terrier'</span><span style=\"font-weight: bold\">)</span>\n",
       "</pre>\n"
      ],
      "text/plain": [
       "dog_tuple = \u001b[1m(\u001b[0m\u001b[32m'Beagle'\u001b[0m, \u001b[32m'Corgi'\u001b[0m, \u001b[32m'Poodle'\u001b[0m, \u001b[32m'Terrier'\u001b[0m\u001b[1m)\u001b[0m\n"
      ]
     },
     "metadata": {},
     "output_type": "display_data"
    }
   ],
   "source": [
    "# Create a populated list\n",
    "dog_list = [\"Beagle\", \"Corgi\", \"Poodle\", \"Terrier\"]\n",
    "\n",
    "# Convert to a tuple using the constructor\n",
    "dog_tuple = tuple(dog_list)\n",
    "\n",
    "print(f'{dog_tuple = }')"
   ]
  },
  {
   "cell_type": "markdown",
   "id": "76328ca3",
   "metadata": {
    "slideshow": {
     "slide_type": "slide"
    }
   },
   "source": [
    "<span style='color: blue'>**Indexing & Slicing Tuples**</span>\n",
    "\n",
    "To access a tuple element by <span style='color: magenta'>**indexing**</span>, use <span style='color: magenta'>**square brackets**</span> <span style='color: blue'>**[ ]**</span> with the <span style='color: magenta'>**0-based index**</span> of the element."
   ]
  },
  {
   "cell_type": "code",
   "execution_count": 3,
   "id": "2742f86e",
   "metadata": {},
   "outputs": [
    {
     "data": {
      "text/html": [
       "<pre style=\"white-space:pre;overflow-x:auto;line-height:normal;font-family:Menlo,'DejaVu Sans Mono',consolas,'Courier New',monospace\">tuple_index = <span style=\"color: #008000; text-decoration-color: #008000\">'The Last of Us'</span>\n",
       "</pre>\n"
      ],
      "text/plain": [
       "tuple_index = \u001b[32m'The Last of Us'\u001b[0m\n"
      ]
     },
     "metadata": {},
     "output_type": "display_data"
    }
   ],
   "source": [
    "# Create a populated tuple\n",
    "video_games = (\n",
    "    'The Legend of Zelda',\n",
    "    'Red Dead Redemption 2',\n",
    "    'The Last of Us',\n",
    "    'Minecraft',\n",
    "    'Call of Duty: Warzone'\n",
    ")\n",
    "\n",
    "# Return the element using indexing\n",
    "tuple_index = video_games[2]\n",
    "\n",
    "print(f'{tuple_index = }')"
   ]
  },
  {
   "cell_type": "markdown",
   "id": "c0821263",
   "metadata": {
    "slideshow": {
     "slide_type": "slide"
    }
   },
   "source": [
    "<span style='color: blue'>**Tuple slicing**</span> is a way to create a <span style='color: magenta'>**new tuple**</span> by selecting a <span style='color: magenta'>**subset of elements**</span> from an existing tuple. It involves specifying a <span style='color: magenta'>**range of indices**</span> to include in the new tuple.  The <span style='color: magenta'>**syntax**</span> is:\n",
    "<h3 style=\"text-align: center;\">\n",
    "    <span style='color: blue'>tuple_name </span>[ <span style='color: magenta'>start</span> : <span style='color: magenta'>stop</span> : <span style='color: magenta'>step</span> ]</h3>"
   ]
  },
  {
   "cell_type": "code",
   "execution_count": 4,
   "id": "315f47f2",
   "metadata": {
    "slideshow": {
     "slide_type": "slide"
    }
   },
   "outputs": [
    {
     "data": {
      "text/html": [
       "<pre style=\"white-space:pre;overflow-x:auto;line-height:normal;font-family:Menlo,'DejaVu Sans Mono',consolas,'Courier New',monospace\">pokemon<span style=\"font-weight: bold\">[</span><span style=\"color: #00ff00; text-decoration-color: #00ff00; font-weight: bold\">1:3</span><span style=\"font-weight: bold\">]</span> = <span style=\"font-weight: bold\">(</span><span style=\"color: #008000; text-decoration-color: #008000\">'Charmander'</span>, <span style=\"color: #008000; text-decoration-color: #008000\">'Vaporeon'</span><span style=\"font-weight: bold\">)</span>\n",
       "</pre>\n"
      ],
      "text/plain": [
       "pokemon\u001b[1m[\u001b[0m\u001b[1;92m1:3\u001b[0m\u001b[1m]\u001b[0m = \u001b[1m(\u001b[0m\u001b[32m'Charmander'\u001b[0m, \u001b[32m'Vaporeon'\u001b[0m\u001b[1m)\u001b[0m\n"
      ]
     },
     "metadata": {},
     "output_type": "display_data"
    }
   ],
   "source": [
    "# Create a populated tuple\n",
    "pokemon = (\n",
    "    'Pikachu', \n",
    "    'Charmander', \n",
    "    'Vaporeon', \n",
    "    'Bulbasaur', \n",
    "    'Jigglypuff'\n",
    ")\n",
    "\n",
    "# Start index is inclusive, stop is exclusive\n",
    "print(f'{pokemon[1:3] = }')"
   ]
  },
  {
   "cell_type": "code",
   "execution_count": 5,
   "id": "3fffdea5",
   "metadata": {
    "slideshow": {
     "slide_type": "fragment"
    }
   },
   "outputs": [
    {
     "data": {
      "text/html": [
       "<pre style=\"white-space:pre;overflow-x:auto;line-height:normal;font-family:Menlo,'DejaVu Sans Mono',consolas,'Courier New',monospace\">pokemon<span style=\"font-weight: bold\">[</span>:<span style=\"color: #008080; text-decoration-color: #008080; font-weight: bold\">2</span><span style=\"font-weight: bold\">]</span> = <span style=\"font-weight: bold\">(</span><span style=\"color: #008000; text-decoration-color: #008000\">'Pikachu'</span>, <span style=\"color: #008000; text-decoration-color: #008000\">'Charmander'</span><span style=\"font-weight: bold\">)</span>\n",
       "</pre>\n"
      ],
      "text/plain": [
       "pokemon\u001b[1m[\u001b[0m:\u001b[1;36m2\u001b[0m\u001b[1m]\u001b[0m = \u001b[1m(\u001b[0m\u001b[32m'Pikachu'\u001b[0m, \u001b[32m'Charmander'\u001b[0m\u001b[1m)\u001b[0m\n"
      ]
     },
     "metadata": {},
     "output_type": "display_data"
    }
   ],
   "source": [
    "# Starting at the beginning doesn't require an index\n",
    "print(f'{pokemon[:2] = }')"
   ]
  },
  {
   "cell_type": "code",
   "execution_count": 6,
   "id": "a062dbb0",
   "metadata": {
    "slideshow": {
     "slide_type": "fragment"
    }
   },
   "outputs": [
    {
     "data": {
      "text/html": [
       "<pre style=\"white-space:pre;overflow-x:auto;line-height:normal;font-family:Menlo,'DejaVu Sans Mono',consolas,'Courier New',monospace\">pokemon<span style=\"font-weight: bold\">[</span><span style=\"color: #008080; text-decoration-color: #008080; font-weight: bold\">3</span>:<span style=\"font-weight: bold\">]</span> = <span style=\"font-weight: bold\">(</span><span style=\"color: #008000; text-decoration-color: #008000\">'Bulbasaur'</span>, <span style=\"color: #008000; text-decoration-color: #008000\">'Jigglypuff'</span><span style=\"font-weight: bold\">)</span>\n",
       "</pre>\n"
      ],
      "text/plain": [
       "pokemon\u001b[1m[\u001b[0m\u001b[1;36m3\u001b[0m:\u001b[1m]\u001b[0m = \u001b[1m(\u001b[0m\u001b[32m'Bulbasaur'\u001b[0m, \u001b[32m'Jigglypuff'\u001b[0m\u001b[1m)\u001b[0m\n"
      ]
     },
     "metadata": {},
     "output_type": "display_data"
    }
   ],
   "source": [
    "# Stopping at the end doesn't require an index\n",
    "print(f'{pokemon[3:] = }')"
   ]
  },
  {
   "cell_type": "code",
   "execution_count": 7,
   "id": "54dcba4d",
   "metadata": {
    "slideshow": {
     "slide_type": "fragment"
    }
   },
   "outputs": [
    {
     "data": {
      "text/html": [
       "<pre style=\"white-space:pre;overflow-x:auto;line-height:normal;font-family:Menlo,'DejaVu Sans Mono',consolas,'Courier New',monospace\">pokemon<span style=\"font-weight: bold\">[</span><span style=\"color: #008080; text-decoration-color: #008080; font-weight: bold\">-2</span>:<span style=\"font-weight: bold\">]</span> = <span style=\"font-weight: bold\">(</span><span style=\"color: #008000; text-decoration-color: #008000\">'Bulbasaur'</span>, <span style=\"color: #008000; text-decoration-color: #008000\">'Jigglypuff'</span><span style=\"font-weight: bold\">)</span>\n",
       "</pre>\n"
      ],
      "text/plain": [
       "pokemon\u001b[1m[\u001b[0m\u001b[1;36m-2\u001b[0m:\u001b[1m]\u001b[0m = \u001b[1m(\u001b[0m\u001b[32m'Bulbasaur'\u001b[0m, \u001b[32m'Jigglypuff'\u001b[0m\u001b[1m)\u001b[0m\n"
      ]
     },
     "metadata": {},
     "output_type": "display_data"
    }
   ],
   "source": [
    "# Negative indexing starts from the end of the tuple\n",
    "print(f'{pokemon[-2:] = }')"
   ]
  },
  {
   "cell_type": "code",
   "execution_count": 8,
   "id": "ace7d31b",
   "metadata": {
    "slideshow": {
     "slide_type": "fragment"
    }
   },
   "outputs": [
    {
     "data": {
      "text/html": [
       "<pre style=\"white-space:pre;overflow-x:auto;line-height:normal;font-family:Menlo,'DejaVu Sans Mono',consolas,'Courier New',monospace\">pokemon<span style=\"font-weight: bold\">[</span>::<span style=\"color: #008080; text-decoration-color: #008080; font-weight: bold\">-1</span><span style=\"font-weight: bold\">]</span> = <span style=\"font-weight: bold\">(</span><span style=\"color: #008000; text-decoration-color: #008000\">'Jigglypuff'</span>, <span style=\"color: #008000; text-decoration-color: #008000\">'Bulbasaur'</span>, <span style=\"color: #008000; text-decoration-color: #008000\">'Vaporeon'</span>, <span style=\"color: #008000; text-decoration-color: #008000\">'Charmander'</span>, <span style=\"color: #008000; text-decoration-color: #008000\">'Pikachu'</span><span style=\"font-weight: bold\">)</span>\n",
       "</pre>\n"
      ],
      "text/plain": [
       "pokemon\u001b[1m[\u001b[0m::\u001b[1;36m-1\u001b[0m\u001b[1m]\u001b[0m = \u001b[1m(\u001b[0m\u001b[32m'Jigglypuff'\u001b[0m, \u001b[32m'Bulbasaur'\u001b[0m, \u001b[32m'Vaporeon'\u001b[0m, \u001b[32m'Charmander'\u001b[0m, \u001b[32m'Pikachu'\u001b[0m\u001b[1m)\u001b[0m\n"
      ]
     },
     "metadata": {},
     "output_type": "display_data"
    }
   ],
   "source": [
    "# Double colon :: in slicing specifies the step or sequence of the resulting string.\n",
    "print(f'{pokemon[::-1] = }')"
   ]
  },
  {
   "cell_type": "markdown",
   "id": "4c3b8713",
   "metadata": {
    "slideshow": {
     "slide_type": "slide"
    }
   },
   "source": [
    "<span style='color: blue'>**Unpacking Tuples**</span>\n",
    "\n",
    "<span style='color: blue'>**Tuple**</span> unpacking is a way to <span style='color: magenta'>**extract**</span> the individual elements of a tuple and <span style='color: magenta'>**assign**</span> them to separate variables in a <span style='color: magenta'>**single statement**</span>."
   ]
  },
  {
   "cell_type": "code",
   "execution_count": 9,
   "id": "412db5c2",
   "metadata": {
    "slideshow": {
     "slide_type": "fragment"
    }
   },
   "outputs": [
    {
     "data": {
      "text/html": [
       "<pre style=\"white-space:pre;overflow-x:auto;line-height:normal;font-family:Menlo,'DejaVu Sans Mono',consolas,'Courier New',monospace\">first_movie = <span style=\"color: #008000; text-decoration-color: #008000\">'The Matrix'</span>, last_movie = <span style=\"color: #008000; text-decoration-color: #008000\">'Starship Troopers'</span>\n",
       "</pre>\n"
      ],
      "text/plain": [
       "first_movie = \u001b[32m'The Matrix'\u001b[0m, last_movie = \u001b[32m'Starship Troopers'\u001b[0m\n"
      ]
     },
     "metadata": {},
     "output_type": "display_data"
    }
   ],
   "source": [
    "# Create a populated tuple\n",
    "sci_fi = ('The Matrix', 'Terminator 2', 'Jurassic Park', 'The Fifth Element', 'Starship Troopers')\n",
    "\n",
    "# Unpack the first and last elements\n",
    "first_movie, last_movie = sci_fi[0], sci_fi[-1]\n",
    "print(f'{first_movie = }, {last_movie = }')"
   ]
  },
  {
   "cell_type": "code",
   "execution_count": 10,
   "id": "80f882d4",
   "metadata": {
    "slideshow": {
     "slide_type": "fragment"
    }
   },
   "outputs": [
    {
     "data": {
      "text/html": [
       "<pre style=\"white-space:pre;overflow-x:auto;line-height:normal;font-family:Menlo,'DejaVu Sans Mono',consolas,'Courier New',monospace\">second_last_movie = <span style=\"color: #008000; text-decoration-color: #008000\">'The Fifth Element'</span>, last_movie = <span style=\"color: #008000; text-decoration-color: #008000\">'Starship Troopers'</span>\n",
       "</pre>\n"
      ],
      "text/plain": [
       "second_last_movie = \u001b[32m'The Fifth Element'\u001b[0m, last_movie = \u001b[32m'Starship Troopers'\u001b[0m\n"
      ]
     },
     "metadata": {},
     "output_type": "display_data"
    }
   ],
   "source": [
    "# Upack the last two movies\n",
    "second_last_movie, last_movie = sci_fi[-2:]\n",
    "print(f'{second_last_movie = }, {last_movie = }')"
   ]
  },
  {
   "cell_type": "code",
   "execution_count": 11,
   "id": "d2630958",
   "metadata": {
    "slideshow": {
     "slide_type": "fragment"
    }
   },
   "outputs": [
    {
     "data": {
      "text/html": [
       "<pre style=\"white-space:pre;overflow-x:auto;line-height:normal;font-family:Menlo,'DejaVu Sans Mono',consolas,'Courier New',monospace\">first_movie = <span style=\"color: #008000; text-decoration-color: #008000\">'The Matrix'</span>\n",
       "other_movies = <span style=\"font-weight: bold\">[</span><span style=\"color: #008000; text-decoration-color: #008000\">'Terminator 2'</span>, <span style=\"color: #008000; text-decoration-color: #008000\">'Jurassic Park'</span>, <span style=\"color: #008000; text-decoration-color: #008000\">'The Fifth Element'</span>, <span style=\"color: #008000; text-decoration-color: #008000\">'Starship Troopers'</span><span style=\"font-weight: bold\">]</span>\n",
       "</pre>\n"
      ],
      "text/plain": [
       "first_movie = \u001b[32m'The Matrix'\u001b[0m\n",
       "other_movies = \u001b[1m[\u001b[0m\u001b[32m'Terminator 2'\u001b[0m, \u001b[32m'Jurassic Park'\u001b[0m, \u001b[32m'The Fifth Element'\u001b[0m, \u001b[32m'Starship Troopers'\u001b[0m\u001b[1m]\u001b[0m\n"
      ]
     },
     "metadata": {},
     "output_type": "display_data"
    }
   ],
   "source": [
    "# For tuples of unknown length * can be used\n",
    "first_movie, *other_movies = sci_fi\n",
    "print(f'{first_movie = }\\n{other_movies = }')"
   ]
  },
  {
   "cell_type": "markdown",
   "id": "9ab753fa",
   "metadata": {
    "slideshow": {
     "slide_type": "slide"
    }
   },
   "source": [
    "<span style='color: blue'>**Tuple**</span> unpacking cannot be used as conveniently as <span style='color: blue'>**lists**</span> to <span style='color: magenta'>**swap the position of elements**</span> as tuples are <span style='color: magenta'>**immutable**</span>. Nevertheless, it can be achieved using indexing and slicing."
   ]
  },
  {
   "cell_type": "code",
   "execution_count": 12,
   "id": "1ddc6faa",
   "metadata": {},
   "outputs": [
    {
     "data": {
      "text/html": [
       "<pre style=\"white-space:pre;overflow-x:auto;line-height:normal;font-family:Menlo,'DejaVu Sans Mono',consolas,'Courier New',monospace\">Before: <span style=\"font-weight: bold\">(</span><span style=\"color: #008000; text-decoration-color: #008000\">'The Matrix'</span>, <span style=\"color: #008000; text-decoration-color: #008000\">'Terminator 2'</span>, <span style=\"color: #008000; text-decoration-color: #008000\">'Jurassic Park'</span>, <span style=\"color: #008000; text-decoration-color: #008000\">'The Fifth Element'</span>, <span style=\"color: #008000; text-decoration-color: #008000\">'Starship Troopers'</span><span style=\"font-weight: bold\">)</span>\n",
       "</pre>\n"
      ],
      "text/plain": [
       "Before: \u001b[1m(\u001b[0m\u001b[32m'The Matrix'\u001b[0m, \u001b[32m'Terminator 2'\u001b[0m, \u001b[32m'Jurassic Park'\u001b[0m, \u001b[32m'The Fifth Element'\u001b[0m, \u001b[32m'Starship Troopers'\u001b[0m\u001b[1m)\u001b[0m\n"
      ]
     },
     "metadata": {},
     "output_type": "display_data"
    },
    {
     "data": {
      "text/html": [
       "<pre style=\"white-space:pre;overflow-x:auto;line-height:normal;font-family:Menlo,'DejaVu Sans Mono',consolas,'Courier New',monospace\">After: <span style=\"font-weight: bold\">(</span><span style=\"color: #008000; text-decoration-color: #008000\">'Starship Troopers'</span>, <span style=\"color: #008000; text-decoration-color: #008000\">'Terminator 2'</span>, <span style=\"color: #008000; text-decoration-color: #008000\">'Jurassic Park'</span>, <span style=\"color: #008000; text-decoration-color: #008000\">'The Fifth Element'</span>, <span style=\"color: #008000; text-decoration-color: #008000\">'The Matrix'</span><span style=\"font-weight: bold\">)</span>\n",
       "</pre>\n"
      ],
      "text/plain": [
       "After: \u001b[1m(\u001b[0m\u001b[32m'Starship Troopers'\u001b[0m, \u001b[32m'Terminator 2'\u001b[0m, \u001b[32m'Jurassic Park'\u001b[0m, \u001b[32m'The Fifth Element'\u001b[0m, \u001b[32m'The Matrix'\u001b[0m\u001b[1m)\u001b[0m\n"
      ]
     },
     "metadata": {},
     "output_type": "display_data"
    }
   ],
   "source": [
    "# Create a populated tuple\n",
    "sci_fi = ('The Matrix', 'Terminator 2', 'Jurassic Park', 'The Fifth Element', 'Starship Troopers')\n",
    "print(f'Before: {sci_fi}')\n",
    "\n",
    "# Swap the first and last elements locations in tuple using indexing and slicing\n",
    "sci_fi = sci_fi[-1:] + sci_fi[1:-1] + sci_fi[:1]\n",
    "print(f'After: {sci_fi}')"
   ]
  },
  {
   "cell_type": "markdown",
   "id": "cc96bbb8",
   "metadata": {
    "slideshow": {
     "slide_type": "slide"
    }
   },
   "source": [
    "If you attempt to <span style='color: magenta'>**slice**</span> a <span style='color: blue'>**tuple**</span> using an index range that goes <span style='color: magenta'>**beyond the bounds**</span> of the <span style='color: blue'>**tuple**</span>, an <span style='color: magenta'>**error**</span> will be raised. <span style='color: magenta'>**However**</span>, when the <span style='color: magenta'>**slice**</span> range is outside the bounds of the tuple, slicing will return a <span style='color: magenta'>**truncated**</span> range of indexes."
   ]
  },
  {
   "cell_type": "code",
   "execution_count": 13,
   "id": "f4c6cc46",
   "metadata": {},
   "outputs": [
    {
     "data": {
      "text/html": [
       "<pre style=\"white-space:pre;overflow-x:auto;line-height:normal;font-family:Menlo,'DejaVu Sans Mono',consolas,'Courier New',monospace\">error = <span style=\"color: #800080; text-decoration-color: #800080; font-weight: bold\">IndexError</span><span style=\"font-weight: bold\">(</span><span style=\"color: #008000; text-decoration-color: #008000\">'tuple index out of range'</span><span style=\"font-weight: bold\">)</span>\n",
       "</pre>\n"
      ],
      "text/plain": [
       "error = \u001b[1;35mIndexError\u001b[0m\u001b[1m(\u001b[0m\u001b[32m'tuple index out of range'\u001b[0m\u001b[1m)\u001b[0m\n"
      ]
     },
     "metadata": {},
     "output_type": "display_data"
    },
    {
     "data": {
      "text/html": [
       "<pre style=\"white-space:pre;overflow-x:auto;line-height:normal;font-family:Menlo,'DejaVu Sans Mono',consolas,'Courier New',monospace\">sci_fi<span style=\"font-weight: bold\">[</span>:<span style=\"color: #008080; text-decoration-color: #008080; font-weight: bold\">100</span><span style=\"font-weight: bold\">]</span> = <span style=\"font-weight: bold\">(</span><span style=\"color: #008000; text-decoration-color: #008000\">'The Matrix'</span>, <span style=\"color: #008000; text-decoration-color: #008000\">'Terminator 2'</span>, <span style=\"color: #008000; text-decoration-color: #008000\">'Jurassic Park'</span>, <span style=\"color: #008000; text-decoration-color: #008000\">'The Fifth Element'</span>, <span style=\"color: #008000; text-decoration-color: #008000\">'Starship Troopers'</span><span style=\"font-weight: bold\">)</span>\n",
       "</pre>\n"
      ],
      "text/plain": [
       "sci_fi\u001b[1m[\u001b[0m:\u001b[1;36m100\u001b[0m\u001b[1m]\u001b[0m = \u001b[1m(\u001b[0m\u001b[32m'The Matrix'\u001b[0m, \u001b[32m'Terminator 2'\u001b[0m, \u001b[32m'Jurassic Park'\u001b[0m, \u001b[32m'The Fifth Element'\u001b[0m, \u001b[32m'Starship Troopers'\u001b[0m\u001b[1m)\u001b[0m\n"
      ]
     },
     "metadata": {},
     "output_type": "display_data"
    }
   ],
   "source": [
    "# Create a populated tuple\n",
    "sci_fi = ('The Matrix', 'Terminator 2', 'Jurassic Park', 'The Fifth Element', 'Starship Troopers')\n",
    "\n",
    "# Try-except block used to catch error when indexing out of range\n",
    "try:\n",
    "    print(sci_fi[100])\n",
    "except Exception as error:\n",
    "    print(f'{error = }')\n",
    "    \n",
    "# Slicing used out of range to return truncated range of elements\n",
    "print(f'{sci_fi[:100] = }')"
   ]
  },
  {
   "cell_type": "markdown",
   "id": "1150b462",
   "metadata": {
    "slideshow": {
     "slide_type": "slide"
    }
   },
   "source": [
    "<span style='color: blue'>**Modifying Tuples**</span>\n",
    "\n",
    "<span style='color: blue'>**Tuples**</span> are <span style='color: magenta'>**immutable**</span> in Python, unlike <span style='color: blue'>**lists**</span>, which can be modified. Although there are operations that <span style='color: magenta'>**seem to modify tuples**</span>, they <span style='color: magenta'>**actually create new tuples**</span> with updated elements."
   ]
  },
  {
   "cell_type": "markdown",
   "id": "b797459b",
   "metadata": {},
   "source": [
    "<span style='color: magenta'>**Concatenation**</span> is the process of <span style='color: magenta'>**joining two or more tuples together**</span> to create a new tuple, accomplished using the <span style='color: blue'>**+ operator**</span>."
   ]
  },
  {
   "cell_type": "code",
   "execution_count": 14,
   "id": "52c3e258",
   "metadata": {},
   "outputs": [
    {
     "data": {
      "text/html": [
       "<pre style=\"white-space:pre;overflow-x:auto;line-height:normal;font-family:Menlo,'DejaVu Sans Mono',consolas,'Courier New',monospace\"><span style=\"font-weight: bold\">(</span><span style=\"color: #008000; text-decoration-color: #008000\">'Tyrannosaurus'</span>, <span style=\"color: #008000; text-decoration-color: #008000\">'Stegosaurus'</span>, <span style=\"color: #008000; text-decoration-color: #008000\">'Velociraptor'</span>, <span style=\"color: #008000; text-decoration-color: #008000\">'Triceratops'</span><span style=\"font-weight: bold\">)</span>\n",
       "</pre>\n"
      ],
      "text/plain": [
       "\u001b[1m(\u001b[0m\u001b[32m'Tyrannosaurus'\u001b[0m, \u001b[32m'Stegosaurus'\u001b[0m, \u001b[32m'Velociraptor'\u001b[0m, \u001b[32m'Triceratops'\u001b[0m\u001b[1m)\u001b[0m\n"
      ]
     },
     "metadata": {},
     "output_type": "display_data"
    }
   ],
   "source": [
    "# Create two populated tuples\n",
    "dinosaurs_1 = ('Tyrannosaurus', 'Stegosaurus')\n",
    "dinosaurs_2 = ('Velociraptor', 'Triceratops')\n",
    "\n",
    "# Concatenate with the + operator\n",
    "all_dinosaurs = dinosaurs_1 + dinosaurs_2\n",
    "print(all_dinosaurs)"
   ]
  },
  {
   "cell_type": "markdown",
   "id": "c15339bf",
   "metadata": {
    "slideshow": {
     "slide_type": "slide"
    }
   },
   "source": [
    "The <span style='color: blue'>**\\* operator**</span> can be used to <span style='color: magenta'>**duplicate**</span> the elements in a <span style='color: blue'>**tuple**</span>, resulting in a <span style='color: magenta'>**new tuple**</span> with repeated elements."
   ]
  },
  {
   "cell_type": "code",
   "execution_count": 15,
   "id": "d1747da2",
   "metadata": {},
   "outputs": [
    {
     "data": {
      "text/html": [
       "<pre style=\"white-space:pre;overflow-x:auto;line-height:normal;font-family:Menlo,'DejaVu Sans Mono',consolas,'Courier New',monospace\"><span style=\"font-weight: bold\">(</span><span style=\"color: #008000; text-decoration-color: #008000\">'Tyrannosaurus'</span>, <span style=\"color: #008000; text-decoration-color: #008000\">'Stegosaurus'</span>, <span style=\"color: #008000; text-decoration-color: #008000\">'Tyrannosaurus'</span>, <span style=\"color: #008000; text-decoration-color: #008000\">'Stegosaurus'</span>, <span style=\"color: #008000; text-decoration-color: #008000\">'Tyrannosaurus'</span>, <span style=\"color: #008000; text-decoration-color: #008000\">'Stegosaurus'</span><span style=\"font-weight: bold\">)</span>\n",
       "</pre>\n"
      ],
      "text/plain": [
       "\u001b[1m(\u001b[0m\u001b[32m'Tyrannosaurus'\u001b[0m, \u001b[32m'Stegosaurus'\u001b[0m, \u001b[32m'Tyrannosaurus'\u001b[0m, \u001b[32m'Stegosaurus'\u001b[0m, \u001b[32m'Tyrannosaurus'\u001b[0m, \u001b[32m'Stegosaurus'\u001b[0m\u001b[1m)\u001b[0m\n"
      ]
     },
     "metadata": {},
     "output_type": "display_data"
    }
   ],
   "source": [
    "# Create a populated tuple\n",
    "dinosaurs = ('Tyrannosaurus', 'Stegosaurus')\n",
    "\n",
    "# Use the * operator to repeat the tuples\n",
    "repeat_dinosaurs = dinosaurs * 3\n",
    "print(repeat_dinosaurs)\n"
   ]
  },
  {
   "cell_type": "markdown",
   "id": "71b061f8",
   "metadata": {
    "slideshow": {
     "slide_type": "slide"
    }
   },
   "source": [
    "A <span style='color: magenta'>**new element**</span> can be added at a desired index in a tuple by <span style='color: magenta'>**splitting the tuple into two parts**</span> through slicing and then <span style='color: magenta'>**joining the new element using concatenation**</span>."
   ]
  },
  {
   "cell_type": "code",
   "execution_count": 16,
   "id": "621256c3",
   "metadata": {},
   "outputs": [
    {
     "data": {
      "text/html": [
       "<pre style=\"white-space:pre;overflow-x:auto;line-height:normal;font-family:Menlo,'DejaVu Sans Mono',consolas,'Courier New',monospace\">Before: <span style=\"font-weight: bold\">(</span><span style=\"color: #008000; text-decoration-color: #008000\">'Peter Venkman'</span>, <span style=\"color: #008000; text-decoration-color: #008000\">'Ray Stantz'</span>, <span style=\"color: #008000; text-decoration-color: #008000\">'Egon Spengler'</span>, <span style=\"color: #008000; text-decoration-color: #008000\">'Winston Zeddemore'</span><span style=\"font-weight: bold\">)</span>\n",
       "</pre>\n"
      ],
      "text/plain": [
       "Before: \u001b[1m(\u001b[0m\u001b[32m'Peter Venkman'\u001b[0m, \u001b[32m'Ray Stantz'\u001b[0m, \u001b[32m'Egon Spengler'\u001b[0m, \u001b[32m'Winston Zeddemore'\u001b[0m\u001b[1m)\u001b[0m\n"
      ]
     },
     "metadata": {},
     "output_type": "display_data"
    },
    {
     "data": {
      "text/html": [
       "<pre style=\"white-space:pre;overflow-x:auto;line-height:normal;font-family:Menlo,'DejaVu Sans Mono',consolas,'Courier New',monospace\">After: <span style=\"font-weight: bold\">(</span><span style=\"color: #008000; text-decoration-color: #008000\">'Peter Venkman'</span>, <span style=\"color: #008000; text-decoration-color: #008000\">'Ray Stantz'</span>, <span style=\"color: #008000; text-decoration-color: #008000\">'Slimer'</span>, <span style=\"color: #008000; text-decoration-color: #008000\">'Egon Spengler'</span>, <span style=\"color: #008000; text-decoration-color: #008000\">'Winston Zeddemore'</span><span style=\"font-weight: bold\">)</span>\n",
       "</pre>\n"
      ],
      "text/plain": [
       "After: \u001b[1m(\u001b[0m\u001b[32m'Peter Venkman'\u001b[0m, \u001b[32m'Ray Stantz'\u001b[0m, \u001b[32m'Slimer'\u001b[0m, \u001b[32m'Egon Spengler'\u001b[0m, \u001b[32m'Winston Zeddemore'\u001b[0m\u001b[1m)\u001b[0m\n"
      ]
     },
     "metadata": {},
     "output_type": "display_data"
    }
   ],
   "source": [
    "# Create a populated tuple\n",
    "ghostbusters = (\"Peter Venkman\", \"Ray Stantz\", \"Egon Spengler\", \"Winston Zeddemore\")\n",
    "print(f'Before: {ghostbusters}')\n",
    "\n",
    "# Define a new  to insert as a tuple with trailing comma\n",
    "new_ghostbuster = ('Slimer',)\n",
    "\n",
    "# Use slicing to insert the element into the original tuple\n",
    "ghostbusters = ghostbusters[:2] + new_ghostbuster + ghostbusters[2:]\n",
    "print(f'After: {ghostbusters}')"
   ]
  },
  {
   "cell_type": "markdown",
   "id": "ea738ed2",
   "metadata": {
    "slideshow": {
     "slide_type": "slide"
    }
   },
   "source": [
    "<span style='color: blue'>**Tuple Methods**</span>\n",
    "\n",
    "<span style='color: blue'>**Methods**</span> are <span style='color: magenta'>**built-in functions**</span> that can be used to manipulate and operate on tuples."
   ]
  },
  {
   "cell_type": "markdown",
   "id": "266630ae",
   "metadata": {
    "slideshow": {
     "slide_type": "fragment"
    }
   },
   "source": [
    "<span style='color: blue'>**Count()**</span> returns the <span style='color: magenta'>**number of occurrences**</span> of element x in the tuple. "
   ]
  },
  {
   "cell_type": "code",
   "execution_count": 17,
   "id": "39d39b7c",
   "metadata": {},
   "outputs": [
    {
     "data": {
      "text/html": [
       "<pre style=\"white-space:pre;overflow-x:auto;line-height:normal;font-family:Menlo,'DejaVu Sans Mono',consolas,'Courier New',monospace\">count_of_tom = <span style=\"color: #008080; text-decoration-color: #008080; font-weight: bold\">1</span>\n",
       "</pre>\n"
      ],
      "text/plain": [
       "count_of_tom = \u001b[1;36m1\u001b[0m\n"
      ]
     },
     "metadata": {},
     "output_type": "display_data"
    }
   ],
   "source": [
    "# Create a tuple of cartoon cat names\n",
    "cartoon_cats = ('Tom', 'Sylvester', 'Garfield', 'Top Cat')\n",
    "\n",
    "# Count how many times the name 'Tom' appears in the tuple\n",
    "count_of_tom = cartoon_cats.count('Tom')\n",
    "\n",
    "# Print the count of how many times 'Tom' appears in the tuple\n",
    "print(f'{count_of_tom = }')"
   ]
  },
  {
   "cell_type": "markdown",
   "id": "dd940901",
   "metadata": {
    "slideshow": {
     "slide_type": "slide"
    }
   },
   "source": [
    "<span style='color: blue'>**Index()**</span> returns the <span style='color: magenta'>**index of the first occurrence**</span> of an element in the tuple. "
   ]
  },
  {
   "cell_type": "code",
   "execution_count": 18,
   "id": "323a30dc",
   "metadata": {},
   "outputs": [
    {
     "data": {
      "text/html": [
       "<pre style=\"white-space:pre;overflow-x:auto;line-height:normal;font-family:Menlo,'DejaVu Sans Mono',consolas,'Courier New',monospace\">index_of_goofy = <span style=\"color: #008080; text-decoration-color: #008080; font-weight: bold\">2</span>\n",
       "</pre>\n"
      ],
      "text/plain": [
       "index_of_goofy = \u001b[1;36m2\u001b[0m\n"
      ]
     },
     "metadata": {},
     "output_type": "display_data"
    }
   ],
   "source": [
    "# Create a tuple of cartoon dog names\n",
    "cartoon_dogs = ('Snoopy', 'Scooby-Doo', 'Goofy', 'Pluto')\n",
    "\n",
    "# Use the index method to find the index of 'Goofy' in the tuple\n",
    "index_of_goofy = cartoon_dogs.index('Goofy')\n",
    "\n",
    "# Print the index of 'Goofy'\n",
    "print(f'{index_of_goofy = }')\n"
   ]
  },
  {
   "cell_type": "markdown",
   "id": "b34c3164",
   "metadata": {
    "slideshow": {
     "slide_type": "slide"
    }
   },
   "source": [
    "<span style='color: blue'>**Keywords & Functions**</span>\n",
    "\n",
    "There are a number of useful <span style='color: blue'>**keywords**</span> and built in <span style='color: blue'>**functions**</span> that can be used with tuples to <span style='color: magenta'>**improve their functionality**</span>."
   ]
  },
  {
   "cell_type": "markdown",
   "id": "97bf2ece",
   "metadata": {
    "slideshow": {
     "slide_type": "fragment"
    }
   },
   "source": [
    "The keywords <span style='color: blue'>**in**</span> and <span style='color: blue'>**not in**</span> are <span style='color: magenta'>**membership operators**</span> that can be used with tuples to check if an <span style='color: magenta'>**element is present**</span> in the tuple or not. A <span style='color: magenta'>**Boolean**</span> response is returned."
   ]
  },
  {
   "cell_type": "code",
   "execution_count": 19,
   "id": "11528648",
   "metadata": {},
   "outputs": [
    {
     "data": {
      "text/html": [
       "<pre style=\"white-space:pre;overflow-x:auto;line-height:normal;font-family:Menlo,'DejaVu Sans Mono',consolas,'Courier New',monospace\"><span style=\"color: #00ff00; text-decoration-color: #00ff00; font-style: italic\">True</span>\n",
       "</pre>\n"
      ],
      "text/plain": [
       "\u001b[3;92mTrue\u001b[0m\n"
      ]
     },
     "metadata": {},
     "output_type": "display_data"
    },
    {
     "data": {
      "text/html": [
       "<pre style=\"white-space:pre;overflow-x:auto;line-height:normal;font-family:Menlo,'DejaVu Sans Mono',consolas,'Courier New',monospace\"><span style=\"color: #00ff00; text-decoration-color: #00ff00; font-style: italic\">True</span>\n",
       "</pre>\n"
      ],
      "text/plain": [
       "\u001b[3;92mTrue\u001b[0m\n"
      ]
     },
     "metadata": {},
     "output_type": "display_data"
    }
   ],
   "source": [
    "# Creating a tuple of cartoon fish\n",
    "cartoon_fish = ('Nemo', 'Dory', 'Gill', 'Bubbles', 'Flounder')\n",
    "\n",
    "# Use the 'in' keyword\n",
    "print('Nemo' in cartoon_fish)\n",
    "\n",
    "# Use the 'not in' keywords\n",
    "print('Blinky' not in cartoon_fish)"
   ]
  },
  {
   "cell_type": "markdown",
   "id": "c90ab470",
   "metadata": {
    "slideshow": {
     "slide_type": "slide"
    }
   },
   "source": [
    "The built in function <span style='color: blue'>**len()**</span> can be used to find the <span style='color: magenta'>**length**</span> of a <span style='color: blue'>**tuple**</span>, which is the number of elements in the tuple."
   ]
  },
  {
   "cell_type": "code",
   "execution_count": 20,
   "id": "cac8b19b",
   "metadata": {},
   "outputs": [
    {
     "data": {
      "text/html": [
       "<pre style=\"white-space:pre;overflow-x:auto;line-height:normal;font-family:Menlo,'DejaVu Sans Mono',consolas,'Courier New',monospace\">num_birds = <span style=\"color: #008080; text-decoration-color: #008080; font-weight: bold\">4</span>\n",
       "</pre>\n"
      ],
      "text/plain": [
       "num_birds = \u001b[1;36m4\u001b[0m\n"
      ]
     },
     "metadata": {},
     "output_type": "display_data"
    }
   ],
   "source": [
    "# create a tuple of 4 cartoon birds\n",
    "cartoon_birds = ('Tweety', 'Donald Duck', 'Woody Woodpecker', 'Daffy Duck')\n",
    "\n",
    "# use the len() function to get the length of the tuple\n",
    "num_birds = len(cartoon_birds)\n",
    "\n",
    "# print the number of birds in the tuple\n",
    "print(f'{num_birds = }')\n"
   ]
  },
  {
   "cell_type": "markdown",
   "id": "0ec8d9e8",
   "metadata": {
    "slideshow": {
     "slide_type": "slide"
    }
   },
   "source": [
    "The built in functions <span style='color: blue'>**min()**</span>, <span style='color: blue'>**max()**</span>, and <span style='color: blue'>**sum()**</span> can be used with <span style='color: blue'>**tuples**</span> to find the <span style='color: magenta'>**minimum**</span> and <span style='color: magenta'>**maximum**</span> values, as well as calculate the <span style='color: magenta'>**sum**</span> of all the values in the tuple."
   ]
  },
  {
   "cell_type": "code",
   "execution_count": 21,
   "id": "96206d0c",
   "metadata": {},
   "outputs": [
    {
     "data": {
      "text/html": [
       "<pre style=\"white-space:pre;overflow-x:auto;line-height:normal;font-family:Menlo,'DejaVu Sans Mono',consolas,'Courier New',monospace\">min_num = <span style=\"color: #008080; text-decoration-color: #008080; font-weight: bold\">2</span>\n",
       "</pre>\n"
      ],
      "text/plain": [
       "min_num = \u001b[1;36m2\u001b[0m\n"
      ]
     },
     "metadata": {},
     "output_type": "display_data"
    },
    {
     "data": {
      "text/html": [
       "<pre style=\"white-space:pre;overflow-x:auto;line-height:normal;font-family:Menlo,'DejaVu Sans Mono',consolas,'Courier New',monospace\">max_num = <span style=\"color: #008080; text-decoration-color: #008080; font-weight: bold\">11</span>\n",
       "</pre>\n"
      ],
      "text/plain": [
       "max_num = \u001b[1;36m11\u001b[0m\n"
      ]
     },
     "metadata": {},
     "output_type": "display_data"
    },
    {
     "data": {
      "text/html": [
       "<pre style=\"white-space:pre;overflow-x:auto;line-height:normal;font-family:Menlo,'DejaVu Sans Mono',consolas,'Courier New',monospace\">sum_num = <span style=\"color: #008080; text-decoration-color: #008080; font-weight: bold\">28</span>\n",
       "</pre>\n"
      ],
      "text/plain": [
       "sum_num = \u001b[1;36m28\u001b[0m\n"
      ]
     },
     "metadata": {},
     "output_type": "display_data"
    }
   ],
   "source": [
    "# create a tuple of 5 prime numbers\n",
    "prime_nums = (2, 3, 5, 7, 11)\n",
    "\n",
    "# find the minimum value in the tuple\n",
    "min_num = min(prime_nums)\n",
    "print(f'{min_num = }')\n",
    "\n",
    "# find the maximum value in the tuple\n",
    "max_num = max(prime_nums)\n",
    "print(f'{max_num = }')\n",
    "\n",
    "# calculate the sum of all values in the tuple\n",
    "sum_num = sum(prime_nums)\n",
    "print(f'{sum_num = }')"
   ]
  },
  {
   "cell_type": "markdown",
   "id": "1dfcdf0a",
   "metadata": {
    "slideshow": {
     "slide_type": "slide"
    }
   },
   "source": [
    "The built in function <span style='color: blue'>**sorted()**</span> can be used with <span style='color: blue'>**tuples**</span> to <span style='color: magenta'>**sort**</span> the elements in ascending or descending order, <span style='color: magenta'>**returning a new sorted list**</span>."
   ]
  },
  {
   "cell_type": "code",
   "execution_count": 22,
   "id": "f4be24e0",
   "metadata": {},
   "outputs": [
    {
     "data": {
      "text/html": [
       "<pre style=\"white-space:pre;overflow-x:auto;line-height:normal;font-family:Menlo,'DejaVu Sans Mono',consolas,'Courier New',monospace\">fibonacci_sorted = <span style=\"font-weight: bold\">(</span><span style=\"color: #008080; text-decoration-color: #008080; font-weight: bold\">1</span>, <span style=\"color: #008080; text-decoration-color: #008080; font-weight: bold\">1</span>, <span style=\"color: #008080; text-decoration-color: #008080; font-weight: bold\">2</span>, <span style=\"color: #008080; text-decoration-color: #008080; font-weight: bold\">3</span>, <span style=\"color: #008080; text-decoration-color: #008080; font-weight: bold\">5</span>, <span style=\"color: #008080; text-decoration-color: #008080; font-weight: bold\">8</span>, <span style=\"color: #008080; text-decoration-color: #008080; font-weight: bold\">13</span>, <span style=\"color: #008080; text-decoration-color: #008080; font-weight: bold\">21</span>, <span style=\"color: #008080; text-decoration-color: #008080; font-weight: bold\">34</span>, <span style=\"color: #008080; text-decoration-color: #008080; font-weight: bold\">55</span><span style=\"font-weight: bold\">)</span>\n",
       "</pre>\n"
      ],
      "text/plain": [
       "fibonacci_sorted = \u001b[1m(\u001b[0m\u001b[1;36m1\u001b[0m, \u001b[1;36m1\u001b[0m, \u001b[1;36m2\u001b[0m, \u001b[1;36m3\u001b[0m, \u001b[1;36m5\u001b[0m, \u001b[1;36m8\u001b[0m, \u001b[1;36m13\u001b[0m, \u001b[1;36m21\u001b[0m, \u001b[1;36m34\u001b[0m, \u001b[1;36m55\u001b[0m\u001b[1m)\u001b[0m\n"
      ]
     },
     "metadata": {},
     "output_type": "display_data"
    },
    {
     "data": {
      "text/html": [
       "<pre style=\"white-space:pre;overflow-x:auto;line-height:normal;font-family:Menlo,'DejaVu Sans Mono',consolas,'Courier New',monospace\">fibonacci_sorted_desc = <span style=\"font-weight: bold\">(</span><span style=\"color: #008080; text-decoration-color: #008080; font-weight: bold\">55</span>, <span style=\"color: #008080; text-decoration-color: #008080; font-weight: bold\">34</span>, <span style=\"color: #008080; text-decoration-color: #008080; font-weight: bold\">21</span>, <span style=\"color: #008080; text-decoration-color: #008080; font-weight: bold\">13</span>, <span style=\"color: #008080; text-decoration-color: #008080; font-weight: bold\">8</span>, <span style=\"color: #008080; text-decoration-color: #008080; font-weight: bold\">5</span>, <span style=\"color: #008080; text-decoration-color: #008080; font-weight: bold\">3</span>, <span style=\"color: #008080; text-decoration-color: #008080; font-weight: bold\">2</span>, <span style=\"color: #008080; text-decoration-color: #008080; font-weight: bold\">1</span>, <span style=\"color: #008080; text-decoration-color: #008080; font-weight: bold\">1</span><span style=\"font-weight: bold\">)</span>\n",
       "</pre>\n"
      ],
      "text/plain": [
       "fibonacci_sorted_desc = \u001b[1m(\u001b[0m\u001b[1;36m55\u001b[0m, \u001b[1;36m34\u001b[0m, \u001b[1;36m21\u001b[0m, \u001b[1;36m13\u001b[0m, \u001b[1;36m8\u001b[0m, \u001b[1;36m5\u001b[0m, \u001b[1;36m3\u001b[0m, \u001b[1;36m2\u001b[0m, \u001b[1;36m1\u001b[0m, \u001b[1;36m1\u001b[0m\u001b[1m)\u001b[0m\n"
      ]
     },
     "metadata": {},
     "output_type": "display_data"
    }
   ],
   "source": [
    "# Define the tuple\n",
    "fibonacci = (5, 1, 8, 21, 3, 13, 2, 34, 55, 1)\n",
    "\n",
    "# Sort the tuple in ascending order\n",
    "fibonacci_sorted = tuple(sorted(fibonacci))\n",
    "\n",
    "# Print the sorted tuple\n",
    "print(f'{fibonacci_sorted = }')\n",
    "\n",
    "# Sort the tuple in descending order\n",
    "fibonacci_sorted_desc = tuple(sorted(fibonacci, reverse=True))\n",
    "\n",
    "# Print the sorted tuple in descending order\n",
    "print(f'{fibonacci_sorted_desc = }')"
   ]
  },
  {
   "cell_type": "markdown",
   "id": "cf49d598",
   "metadata": {
    "slideshow": {
     "slide_type": "slide"
    }
   },
   "source": [
    "Using the <span style='color: blue'>**sorted()**</span> function with the <span style='color: blue'>**key**</span> parameter allows advanced sorting of a <span style='color: magenta'>**tuple**</span>. In this example a <span style='color: magenta'>**nested tuple**</span> is sorted based on the <span style='color: magenta'>**second index**</span>."
   ]
  },
  {
   "cell_type": "code",
   "execution_count": 23,
   "id": "25b3922e",
   "metadata": {},
   "outputs": [
    {
     "data": {
      "text/html": [
       "<pre style=\"white-space:pre;overflow-x:auto;line-height:normal;font-family:Menlo,'DejaVu Sans Mono',consolas,'Courier New',monospace\">sorted_bond_actors = <span style=\"font-weight: bold\">((</span><span style=\"color: #008000; text-decoration-color: #008000\">'Daniel Craig'</span>, <span style=\"color: #008080; text-decoration-color: #008080; font-weight: bold\">53</span><span style=\"font-weight: bold\">)</span>, <span style=\"font-weight: bold\">(</span><span style=\"color: #008000; text-decoration-color: #008000\">'Pierce Brosnan'</span>, <span style=\"color: #008080; text-decoration-color: #008080; font-weight: bold\">68</span><span style=\"font-weight: bold\">)</span>, <span style=\"font-weight: bold\">(</span><span style=\"color: #008000; text-decoration-color: #008000\">'Roger Moore'</span>, <span style=\"color: #008080; text-decoration-color: #008080; font-weight: bold\">89</span><span style=\"font-weight: bold\">)</span>, <span style=\"font-weight: bold\">(</span><span style=\"color: #008000; text-decoration-color: #008000\">'Sean Connery'</span>, <span style=\"color: #008080; text-decoration-color: #008080; font-weight: bold\">90</span><span style=\"font-weight: bold\">))</span>\n",
       "</pre>\n"
      ],
      "text/plain": [
       "sorted_bond_actors = \u001b[1m(\u001b[0m\u001b[1m(\u001b[0m\u001b[32m'Daniel Craig'\u001b[0m, \u001b[1;36m53\u001b[0m\u001b[1m)\u001b[0m, \u001b[1m(\u001b[0m\u001b[32m'Pierce Brosnan'\u001b[0m, \u001b[1;36m68\u001b[0m\u001b[1m)\u001b[0m, \u001b[1m(\u001b[0m\u001b[32m'Roger Moore'\u001b[0m, \u001b[1;36m89\u001b[0m\u001b[1m)\u001b[0m, \u001b[1m(\u001b[0m\u001b[32m'Sean Connery'\u001b[0m, \u001b[1;36m90\u001b[0m\u001b[1m)\u001b[0m\u001b[1m)\u001b[0m\n"
      ]
     },
     "metadata": {},
     "output_type": "display_data"
    }
   ],
   "source": [
    "# Create a nested tuple of bond actors\n",
    "bond_actors = (\n",
    "    ('Pierce Brosnan', 68),\n",
    "    ('Sean Connery', 90),\n",
    "    ('Daniel Craig', 53),\n",
    "    ('Roger Moore', 89)\n",
    ")\n",
    "\n",
    "# Sort the bond actors in ascending order of age\n",
    "sorted_bond_actors = tuple(sorted(bond_actors, key=lambda actor: actor[1]))\n",
    "\n",
    "print(f'{sorted_bond_actors = }')"
   ]
  },
  {
   "cell_type": "markdown",
   "id": "1a7eb3ac",
   "metadata": {
    "slideshow": {
     "slide_type": "slide"
    }
   },
   "source": [
    "The built in function <span style='color: blue'>**filter()**</span> can be used on <span style='color: blue'>**tuples**</span> to generate a <span style='color: magenta'>**new tuple**</span> by <span style='color: magenta'>**selectively removing elements**</span> from the original tuple based on a specific criterion."
   ]
  },
  {
   "cell_type": "code",
   "execution_count": 24,
   "id": "6e2834d3",
   "metadata": {},
   "outputs": [
    {
     "data": {
      "text/html": [
       "<pre style=\"white-space:pre;overflow-x:auto;line-height:normal;font-family:Menlo,'DejaVu Sans Mono',consolas,'Courier New',monospace\">short_named_bears = <span style=\"font-weight: bold\">(</span><span style=\"color: #008000; text-decoration-color: #008000\">'Yogi Bear'</span>, <span style=\"color: #008000; text-decoration-color: #008000\">'Baloo'</span><span style=\"font-weight: bold\">)</span>\n",
       "</pre>\n"
      ],
      "text/plain": [
       "short_named_bears = \u001b[1m(\u001b[0m\u001b[32m'Yogi Bear'\u001b[0m, \u001b[32m'Baloo'\u001b[0m\u001b[1m)\u001b[0m\n"
      ]
     },
     "metadata": {},
     "output_type": "display_data"
    }
   ],
   "source": [
    "# Creating a tuple of cartoon bears\n",
    "cartoon_bears = ('Yogi Bear', 'Winnie the Pooh', 'Baloo', 'Teddy Ruxpin', 'Grizzly Bear')\n",
    "\n",
    "# Filtering the cartoon bears with names of length 9 or less\n",
    "short_named_bears = tuple(filter(lambda x: len(x) <= 9, cartoon_bears))\n",
    "\n",
    "# Printing the resulting tuple of bears with names of length 9 or less\n",
    "print(f'{short_named_bears = }')"
   ]
  },
  {
   "cell_type": "markdown",
   "id": "39989ec5",
   "metadata": {
    "slideshow": {
     "slide_type": "slide"
    }
   },
   "source": [
    "<span style='color: blue'>**Map()**</span> is a built-in function in Python that <span style='color: magenta'>**applies a function to each element**</span> of an iterable, such as a tuple. It returns a new iterable with the transformed values."
   ]
  },
  {
   "cell_type": "code",
   "execution_count": 25,
   "id": "2e91b7f5",
   "metadata": {},
   "outputs": [
    {
     "data": {
      "text/html": [
       "<pre style=\"white-space:pre;overflow-x:auto;line-height:normal;font-family:Menlo,'DejaVu Sans Mono',consolas,'Courier New',monospace\">uppercase_mice = <span style=\"font-weight: bold\">(</span><span style=\"color: #008000; text-decoration-color: #008000\">'MICKEY MOUSE'</span>, <span style=\"color: #008000; text-decoration-color: #008000\">'JERRY MOUSE'</span>, <span style=\"color: #008000; text-decoration-color: #008000\">'SPEEDY GONZALES'</span>, <span style=\"color: #008000; text-decoration-color: #008000\">'ITCHY'</span>, <span style=\"color: #008000; text-decoration-color: #008000\">'STUART LITTLE'</span><span style=\"font-weight: bold\">)</span>\n",
       "</pre>\n"
      ],
      "text/plain": [
       "uppercase_mice = \u001b[1m(\u001b[0m\u001b[32m'MICKEY MOUSE'\u001b[0m, \u001b[32m'JERRY MOUSE'\u001b[0m, \u001b[32m'SPEEDY GONZALES'\u001b[0m, \u001b[32m'ITCHY'\u001b[0m, \u001b[32m'STUART LITTLE'\u001b[0m\u001b[1m)\u001b[0m\n"
      ]
     },
     "metadata": {},
     "output_type": "display_data"
    }
   ],
   "source": [
    "# Create a tuple of cartoon mice\n",
    "cartoon_mice = ('Mickey Mouse', 'Jerry Mouse', 'Speedy Gonzales', 'Itchy', 'Stuart Little')\n",
    "\n",
    "# Use map() to convert each string in the tuple to uppercase\n",
    "uppercase_mice = tuple(map(str.upper, cartoon_mice))\n",
    "\n",
    "# Print\n",
    "print(f'{uppercase_mice = }')"
   ]
  },
  {
   "cell_type": "markdown",
   "id": "bf69a91f",
   "metadata": {
    "slideshow": {
     "slide_type": "slide"
    }
   },
   "source": [
    "<span style='color: blue'>**Tuple Comprehensions**</span>\n",
    "\n",
    "Python <span style='color: blue'>**tuple comprehensions**</span> are a concise way to create tuples using a <span style='color: magenta'>**single line of code**</span>. They can be used to apply a <span style='color: magenta'>**function**</span> to each element of an iterable and <span style='color: magenta'>**filter**</span> the results."
   ]
  },
  {
   "cell_type": "code",
   "execution_count": 26,
   "id": "02a9f071",
   "metadata": {
    "slideshow": {
     "slide_type": "fragment"
    }
   },
   "outputs": [
    {
     "data": {
      "text/html": [
       "<pre style=\"white-space:pre;overflow-x:auto;line-height:normal;font-family:Menlo,'DejaVu Sans Mono',consolas,'Courier New',monospace\">reversed_turtles = <span style=\"font-weight: bold\">(</span><span style=\"color: #008000; text-decoration-color: #008000\">'odranoeL'</span>, <span style=\"color: #008000; text-decoration-color: #008000\">'olegnalehciM'</span>, <span style=\"color: #008000; text-decoration-color: #008000\">'olletanoD'</span><span style=\"font-weight: bold\">)</span>\n",
       "</pre>\n"
      ],
      "text/plain": [
       "reversed_turtles = \u001b[1m(\u001b[0m\u001b[32m'odranoeL'\u001b[0m, \u001b[32m'olegnalehciM'\u001b[0m, \u001b[32m'olletanoD'\u001b[0m\u001b[1m)\u001b[0m\n"
      ]
     },
     "metadata": {},
     "output_type": "display_data"
    }
   ],
   "source": [
    "# Example of creating a new tuple without list comprehensions\n",
    "ninja_turtles = ('Leonardo', 'Michelangelo', 'Donatello', 'Raphael')\n",
    "\n",
    "# Create an empty tuple to hold new reversed strings\n",
    "reversed_turtles = ()\n",
    "\n",
    "# Iterate over tuple applying expression updating the value of reversed_turtles\n",
    "for turtle in ninja_turtles:\n",
    "\n",
    "    # Apply a condition\n",
    "    if turtle != 'Raphael':\n",
    "        reversed_turtles += (turtle[::-1],)\n",
    "\n",
    "print(f'{reversed_turtles = }')"
   ]
  },
  {
   "cell_type": "markdown",
   "id": "0b3802d6",
   "metadata": {
    "slideshow": {
     "slide_type": "-"
    }
   },
   "source": [
    "This code <span style='color: magenta'>**reverses each string**</span> using <span style='color: blue'>**[::-1]**</span> and adds the resulting reversed strings to reversed_turtles <span style='color: magenta'>**using +=**</span>. As tuples are immutable, a new tuple is created instead of modifying the original one."
   ]
  },
  {
   "cell_type": "code",
   "execution_count": 27,
   "id": "717032e3",
   "metadata": {
    "slideshow": {
     "slide_type": "slide"
    }
   },
   "outputs": [
    {
     "data": {
      "text/html": [
       "<pre style=\"white-space:pre;overflow-x:auto;line-height:normal;font-family:Menlo,'DejaVu Sans Mono',consolas,'Courier New',monospace\">reversed_turtles = <span style=\"font-weight: bold\">(</span><span style=\"color: #008000; text-decoration-color: #008000\">'odranoeL'</span>, <span style=\"color: #008000; text-decoration-color: #008000\">'olegnalehciM'</span>, <span style=\"color: #008000; text-decoration-color: #008000\">'olletanoD'</span><span style=\"font-weight: bold\">)</span>\n",
       "</pre>\n"
      ],
      "text/plain": [
       "reversed_turtles = \u001b[1m(\u001b[0m\u001b[32m'odranoeL'\u001b[0m, \u001b[32m'olegnalehciM'\u001b[0m, \u001b[32m'olletanoD'\u001b[0m\u001b[1m)\u001b[0m\n"
      ]
     },
     "metadata": {},
     "output_type": "display_data"
    }
   ],
   "source": [
    "# Example of creating a new tuple with tuple comprehension\n",
    "ninja_turtles = ('Leonardo', 'Michelangelo', 'Donatello', 'Raphael')\n",
    "\n",
    "# Use a tuple comprehension to create a new tuple with reversed strings\n",
    "reversed_turtles = tuple(turtle[::-1] for turtle in ninja_turtles if turtle != 'Raphael')\n",
    "\n",
    "print(f'{reversed_turtles = }')"
   ]
  },
  {
   "cell_type": "markdown",
   "id": "793fe2fd",
   "metadata": {
    "slideshow": {
     "slide_type": "fragment"
    }
   },
   "source": [
    "<h3 style=\"text-align: center;\">\n",
    "    <span style='color: blue'>new_tuple</span> = tuple(<span style='color: magenta'>expression</span> for <span style='color: magenta'>item</span> in <span style='color: magenta'>iterable</span> if <span style='color: magenta'>condition</span>) </h3>\n",
    "    \n",
    "```python\n",
    "        reversed_turtles = tuple(turtle[::-1] for turtle in ninja_turtles if turtle != 'Raphael')\n",
    "```"
   ]
  }
 ],
 "metadata": {
  "celltoolbar": "Slideshow",
  "kernelspec": {
   "display_name": "Python 3 (ipykernel)",
   "language": "python",
   "name": "python3"
  },
  "language_info": {
   "codemirror_mode": {
    "name": "ipython",
    "version": 3
   },
   "file_extension": ".py",
   "mimetype": "text/x-python",
   "name": "python",
   "nbconvert_exporter": "python",
   "pygments_lexer": "ipython3",
   "version": "3.11.1"
  }
 },
 "nbformat": 4,
 "nbformat_minor": 5
}
