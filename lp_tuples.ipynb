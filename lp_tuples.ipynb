{
 "cells": [
  {
   "cell_type": "code",
   "execution_count": 1,
   "id": "b1e1a271",
   "metadata": {
    "slideshow": {
     "slide_type": "skip"
    }
   },
   "outputs": [],
   "source": [
    "# !pip install rich\n",
    "from rich import print"
   ]
  },
  {
   "cell_type": "markdown",
   "id": "0fa726e8",
   "metadata": {
    "slideshow": {
     "slide_type": "slide"
    }
   },
   "source": [
    "## <span style='color: blue'>Learn Python</span> - Tuples\n",
    "\n",
    "- Creating Tuples\n",
    "- Indexing & Slicing Tuples\n",
    "- Upacking Tuples\n",
    "- Modifying Tuples\n",
    "- Tuples Methods\n",
    "- Keywords & Functions\n",
    "- Tuple Comprehensions"
   ]
  },
  {
   "cell_type": "markdown",
   "id": "a70a4965",
   "metadata": {
    "slideshow": {
     "slide_type": "slide"
    }
   },
   "source": [
    "<span style='color: blue'>**Creating Tuples**</span>\n",
    "\n",
    "In Python, a <span style='color: blue'>**tuple**</span> is an <span style='color: magenta'>**ordered**</span>, <span style='color: magenta'>**immutable**</span> collection of elements. This means that once a tuple is created, its contents <span style='color: magenta'>**cannot be modified**</span>. \n",
    "\n",
    "New empty <span style='color: blue'>**Tuples**</span> can be created using parentheses or the <span style='color: blue'>**tuple()**</span> constructor.\n",
    "\n",
    "```python\n",
    "    # Create new empty tuple using parentheses\n",
    "    new_tuple = ()\n",
    "    \n",
    "    # Create new empty tuple using the tuple constructor\n",
    "    new_tuple = tuple()\n",
    "```\n",
    "\n",
    "Both of these methods are <span style='color: magenta'>**valid**</span> and their use depends on <span style='color: magenta'>**personal preference**</span> or <span style='color: magenta'>**code requirements**</span>."
   ]
  },
  {
   "cell_type": "markdown",
   "id": "2ed1cec8",
   "metadata": {
    "slideshow": {
     "slide_type": "slide"
    }
   },
   "source": [
    "To create a <span style='color: blue'>**populated tuple**</span> you can enclose a sequence of values in parentheses, <span style='color: magenta'>**separated by commas**</span>.\n",
    "\n",
    "```python\n",
    "    # Create a populated tuple\n",
    "    my_tuple = (1, 2, 3, 4, 5)\n",
    "```"
   ]
  },
  {
   "cell_type": "markdown",
   "id": "84351023",
   "metadata": {
    "slideshow": {
     "slide_type": "fragment"
    }
   },
   "source": [
    "You can also create a <span style='color: blue'>**tuple**</span> with just one element by including a <span style='color: magenta'>**trailing comma**</span> after the value, like this:\n",
    "\n",
    "```python\n",
    "    my_tuple = (1,)\n",
    "``` "
   ]
  },
  {
   "cell_type": "markdown",
   "id": "3e1932ae",
   "metadata": {
    "slideshow": {
     "slide_type": "slide"
    }
   },
   "source": [
    "Tuples can also be created by using the <span style='color: blue'>**tuple()**</span> constructor on other iterables, like <span style='color: blue'>**lists**</span>."
   ]
  },
  {
   "cell_type": "code",
   "execution_count": 2,
   "id": "765e9a4e",
   "metadata": {},
   "outputs": [
    {
     "data": {
      "text/html": [
       "<pre style=\"white-space:pre;overflow-x:auto;line-height:normal;font-family:Menlo,'DejaVu Sans Mono',consolas,'Courier New',monospace\">dog_tuple = <span style=\"font-weight: bold\">(</span><span style=\"color: #008000; text-decoration-color: #008000\">'Beagle'</span>, <span style=\"color: #008000; text-decoration-color: #008000\">'Corgi'</span>, <span style=\"color: #008000; text-decoration-color: #008000\">'Poodle'</span>, <span style=\"color: #008000; text-decoration-color: #008000\">'Terrier'</span><span style=\"font-weight: bold\">)</span>\n",
       "</pre>\n"
      ],
      "text/plain": [
       "dog_tuple = \u001b[1m(\u001b[0m\u001b[32m'Beagle'\u001b[0m, \u001b[32m'Corgi'\u001b[0m, \u001b[32m'Poodle'\u001b[0m, \u001b[32m'Terrier'\u001b[0m\u001b[1m)\u001b[0m\n"
      ]
     },
     "metadata": {},
     "output_type": "display_data"
    }
   ],
   "source": [
    "# Create a populated list\n",
    "dog_list = [\"Beagle\", \"Corgi\", \"Poodle\", \"Terrier\"]\n",
    "\n",
    "# Convert to a tuple using the constructor\n",
    "dog_tuple = tuple(dog_list)\n",
    "\n",
    "print(f'{dog_tuple = }')"
   ]
  },
  {
   "cell_type": "markdown",
   "id": "76328ca3",
   "metadata": {
    "slideshow": {
     "slide_type": "slide"
    }
   },
   "source": [
    "<span style='color: blue'>**Indexing & Slicing Tuples**</span>\n",
    "\n",
    "To access a tuple element by <span style='color: magenta'>**indexing**</span>, use <span style='color: magenta'>**square brackets**</span> [] with the <span style='color: magenta'>**0-based index**</span> of the element."
   ]
  },
  {
   "cell_type": "code",
   "execution_count": 3,
   "id": "2742f86e",
   "metadata": {},
   "outputs": [
    {
     "data": {
      "text/html": [
       "<pre style=\"white-space:pre;overflow-x:auto;line-height:normal;font-family:Menlo,'DejaVu Sans Mono',consolas,'Courier New',monospace\">The Last of Us\n",
       "</pre>\n"
      ],
      "text/plain": [
       "The Last of Us\n"
      ]
     },
     "metadata": {},
     "output_type": "display_data"
    }
   ],
   "source": [
    "# Create a populated tuple\n",
    "video_games = (\n",
    "    'The Legend of Zelda',\n",
    "    'Red Dead Redemption 2',\n",
    "    'The Last of Us',\n",
    "    'Minecraft',\n",
    "    'Call of Duty: Warzone'\n",
    ")\n",
    "\n",
    "# Return the element using indexing\n",
    "tuple_index = video_games[2]\n",
    "\n",
    "print(tuple_index)"
   ]
  },
  {
   "cell_type": "markdown",
   "id": "c0821263",
   "metadata": {
    "slideshow": {
     "slide_type": "slide"
    }
   },
   "source": [
    "<span style='color: blue'>**Tuple slicing**</span> is a way to create a <span style='color: magenta'>**new tuple**</span> by selecting a <span style='color: magenta'>**subset of elements**</span> from an existing tuple. It involves specifying a <span style='color: magenta'>**range of indices**</span> to include in the new tuple.  The <span style='color: magenta'>**syntax**</span> is:\n",
    "<h3 style=\"text-align: center;\">\n",
    "    <span style='color: blue'>tuple_name </span>[ <span style='color: magenta'>start</span> : <span style='color: magenta'>stop</span> : <span style='color: magenta'>step</span> ]</h3>"
   ]
  },
  {
   "cell_type": "code",
   "execution_count": 4,
   "id": "315f47f2",
   "metadata": {
    "slideshow": {
     "slide_type": "slide"
    }
   },
   "outputs": [
    {
     "data": {
      "text/html": [
       "<pre style=\"white-space:pre;overflow-x:auto;line-height:normal;font-family:Menlo,'DejaVu Sans Mono',consolas,'Courier New',monospace\">pokemon<span style=\"font-weight: bold\">[</span><span style=\"color: #00ff00; text-decoration-color: #00ff00; font-weight: bold\">1:3</span><span style=\"font-weight: bold\">]</span> = <span style=\"font-weight: bold\">(</span><span style=\"color: #008000; text-decoration-color: #008000\">'Charmander'</span>, <span style=\"color: #008000; text-decoration-color: #008000\">'Vaporeon'</span><span style=\"font-weight: bold\">)</span>\n",
       "</pre>\n"
      ],
      "text/plain": [
       "pokemon\u001b[1m[\u001b[0m\u001b[1;92m1:3\u001b[0m\u001b[1m]\u001b[0m = \u001b[1m(\u001b[0m\u001b[32m'Charmander'\u001b[0m, \u001b[32m'Vaporeon'\u001b[0m\u001b[1m)\u001b[0m\n"
      ]
     },
     "metadata": {},
     "output_type": "display_data"
    }
   ],
   "source": [
    "# Create a populated tuple\n",
    "pokemon = (\n",
    "    'Pikachu', \n",
    "    'Charmander', \n",
    "    'Vaporeon', \n",
    "    'Bulbasaur', \n",
    "    'Jigglypuff'\n",
    ")\n",
    "\n",
    "# Start index is inclusive, stop is exclusive\n",
    "print(f'{pokemon[1:3] = }')"
   ]
  },
  {
   "cell_type": "code",
   "execution_count": 5,
   "id": "3fffdea5",
   "metadata": {
    "slideshow": {
     "slide_type": "fragment"
    }
   },
   "outputs": [
    {
     "data": {
      "text/html": [
       "<pre style=\"white-space:pre;overflow-x:auto;line-height:normal;font-family:Menlo,'DejaVu Sans Mono',consolas,'Courier New',monospace\">pokemon<span style=\"font-weight: bold\">[</span>:<span style=\"color: #008080; text-decoration-color: #008080; font-weight: bold\">2</span><span style=\"font-weight: bold\">]</span> = <span style=\"font-weight: bold\">(</span><span style=\"color: #008000; text-decoration-color: #008000\">'Pikachu'</span>, <span style=\"color: #008000; text-decoration-color: #008000\">'Charmander'</span><span style=\"font-weight: bold\">)</span>\n",
       "</pre>\n"
      ],
      "text/plain": [
       "pokemon\u001b[1m[\u001b[0m:\u001b[1;36m2\u001b[0m\u001b[1m]\u001b[0m = \u001b[1m(\u001b[0m\u001b[32m'Pikachu'\u001b[0m, \u001b[32m'Charmander'\u001b[0m\u001b[1m)\u001b[0m\n"
      ]
     },
     "metadata": {},
     "output_type": "display_data"
    }
   ],
   "source": [
    "# Starting at the beginning doesn't require an index\n",
    "print(f'{pokemon[:2] = }')"
   ]
  },
  {
   "cell_type": "code",
   "execution_count": 6,
   "id": "a062dbb0",
   "metadata": {
    "slideshow": {
     "slide_type": "fragment"
    }
   },
   "outputs": [
    {
     "data": {
      "text/html": [
       "<pre style=\"white-space:pre;overflow-x:auto;line-height:normal;font-family:Menlo,'DejaVu Sans Mono',consolas,'Courier New',monospace\">pokemon<span style=\"font-weight: bold\">[</span><span style=\"color: #008080; text-decoration-color: #008080; font-weight: bold\">3</span>:<span style=\"font-weight: bold\">]</span> = <span style=\"font-weight: bold\">(</span><span style=\"color: #008000; text-decoration-color: #008000\">'Bulbasaur'</span>, <span style=\"color: #008000; text-decoration-color: #008000\">'Jigglypuff'</span><span style=\"font-weight: bold\">)</span>\n",
       "</pre>\n"
      ],
      "text/plain": [
       "pokemon\u001b[1m[\u001b[0m\u001b[1;36m3\u001b[0m:\u001b[1m]\u001b[0m = \u001b[1m(\u001b[0m\u001b[32m'Bulbasaur'\u001b[0m, \u001b[32m'Jigglypuff'\u001b[0m\u001b[1m)\u001b[0m\n"
      ]
     },
     "metadata": {},
     "output_type": "display_data"
    }
   ],
   "source": [
    "# Stopping at the end doesn't require an index\n",
    "print(f'{pokemon[3:] = }')"
   ]
  },
  {
   "cell_type": "code",
   "execution_count": 7,
   "id": "54dcba4d",
   "metadata": {
    "slideshow": {
     "slide_type": "fragment"
    }
   },
   "outputs": [
    {
     "data": {
      "text/html": [
       "<pre style=\"white-space:pre;overflow-x:auto;line-height:normal;font-family:Menlo,'DejaVu Sans Mono',consolas,'Courier New',monospace\">pokemon<span style=\"font-weight: bold\">[</span><span style=\"color: #008080; text-decoration-color: #008080; font-weight: bold\">-2</span>:<span style=\"font-weight: bold\">]</span> = <span style=\"font-weight: bold\">(</span><span style=\"color: #008000; text-decoration-color: #008000\">'Bulbasaur'</span>, <span style=\"color: #008000; text-decoration-color: #008000\">'Jigglypuff'</span><span style=\"font-weight: bold\">)</span>\n",
       "</pre>\n"
      ],
      "text/plain": [
       "pokemon\u001b[1m[\u001b[0m\u001b[1;36m-2\u001b[0m:\u001b[1m]\u001b[0m = \u001b[1m(\u001b[0m\u001b[32m'Bulbasaur'\u001b[0m, \u001b[32m'Jigglypuff'\u001b[0m\u001b[1m)\u001b[0m\n"
      ]
     },
     "metadata": {},
     "output_type": "display_data"
    }
   ],
   "source": [
    "# Negative indexing starts from the end of the tuple\n",
    "print(f'{pokemon[-2:] = }')"
   ]
  },
  {
   "cell_type": "code",
   "execution_count": 8,
   "id": "ace7d31b",
   "metadata": {
    "slideshow": {
     "slide_type": "fragment"
    }
   },
   "outputs": [
    {
     "data": {
      "text/html": [
       "<pre style=\"white-space:pre;overflow-x:auto;line-height:normal;font-family:Menlo,'DejaVu Sans Mono',consolas,'Courier New',monospace\">pokemon<span style=\"font-weight: bold\">[</span>::<span style=\"color: #008080; text-decoration-color: #008080; font-weight: bold\">-1</span><span style=\"font-weight: bold\">]</span> = <span style=\"font-weight: bold\">(</span><span style=\"color: #008000; text-decoration-color: #008000\">'Jigglypuff'</span>, <span style=\"color: #008000; text-decoration-color: #008000\">'Bulbasaur'</span>, <span style=\"color: #008000; text-decoration-color: #008000\">'Vaporeon'</span>, <span style=\"color: #008000; text-decoration-color: #008000\">'Charmander'</span>, <span style=\"color: #008000; text-decoration-color: #008000\">'Pikachu'</span><span style=\"font-weight: bold\">)</span>\n",
       "</pre>\n"
      ],
      "text/plain": [
       "pokemon\u001b[1m[\u001b[0m::\u001b[1;36m-1\u001b[0m\u001b[1m]\u001b[0m = \u001b[1m(\u001b[0m\u001b[32m'Jigglypuff'\u001b[0m, \u001b[32m'Bulbasaur'\u001b[0m, \u001b[32m'Vaporeon'\u001b[0m, \u001b[32m'Charmander'\u001b[0m, \u001b[32m'Pikachu'\u001b[0m\u001b[1m)\u001b[0m\n"
      ]
     },
     "metadata": {},
     "output_type": "display_data"
    }
   ],
   "source": [
    "# Double colon :: in string slicing specifies the step or sequence of the resulting string.\n",
    "print(f'{pokemon[::-1] = }')"
   ]
  },
  {
   "cell_type": "markdown",
   "id": "4c3b8713",
   "metadata": {
    "slideshow": {
     "slide_type": "slide"
    }
   },
   "source": [
    "<span style='color: blue'>**Unpacking Tuples**</span>\n",
    "\n",
    "<span style='color: blue'>**Tuple**</span> unpacking is a way to <span style='color: magenta'>**extract**</span> the individual elements of a tuple and <span style='color: magenta'>**assign**</span> them to separate variables in a <span style='color: magenta'>**single statement**</span>."
   ]
  },
  {
   "cell_type": "code",
   "execution_count": 9,
   "id": "412db5c2",
   "metadata": {
    "slideshow": {
     "slide_type": "fragment"
    }
   },
   "outputs": [
    {
     "data": {
      "text/html": [
       "<pre style=\"white-space:pre;overflow-x:auto;line-height:normal;font-family:Menlo,'DejaVu Sans Mono',consolas,'Courier New',monospace\">first_movie = <span style=\"color: #008000; text-decoration-color: #008000\">'The Matrix'</span>, last_movie = <span style=\"color: #008000; text-decoration-color: #008000\">'Starship Troopers'</span>\n",
       "</pre>\n"
      ],
      "text/plain": [
       "first_movie = \u001b[32m'The Matrix'\u001b[0m, last_movie = \u001b[32m'Starship Troopers'\u001b[0m\n"
      ]
     },
     "metadata": {},
     "output_type": "display_data"
    }
   ],
   "source": [
    "# Create a populated tuple\n",
    "sci_fi = ('The Matrix', 'Terminator 2', 'Jurassic Park', 'The Fifth Element', 'Starship Troopers')\n",
    "\n",
    "# Unpack the first and last elements\n",
    "first_movie, last_movie = sci_fi[0], sci_fi[-1]\n",
    "print(f'{first_movie = }, {last_movie = }')"
   ]
  },
  {
   "cell_type": "code",
   "execution_count": 10,
   "id": "80f882d4",
   "metadata": {
    "slideshow": {
     "slide_type": "fragment"
    }
   },
   "outputs": [
    {
     "data": {
      "text/html": [
       "<pre style=\"white-space:pre;overflow-x:auto;line-height:normal;font-family:Menlo,'DejaVu Sans Mono',consolas,'Courier New',monospace\">second_last_movie = <span style=\"color: #008000; text-decoration-color: #008000\">'The Fifth Element'</span>, last_movie = <span style=\"color: #008000; text-decoration-color: #008000\">'Starship Troopers'</span>\n",
       "</pre>\n"
      ],
      "text/plain": [
       "second_last_movie = \u001b[32m'The Fifth Element'\u001b[0m, last_movie = \u001b[32m'Starship Troopers'\u001b[0m\n"
      ]
     },
     "metadata": {},
     "output_type": "display_data"
    }
   ],
   "source": [
    "# Upack the last two movies\n",
    "second_last_movie, last_movie = sci_fi[-2:]\n",
    "print(f'{second_last_movie = }, {last_movie = }')"
   ]
  },
  {
   "cell_type": "code",
   "execution_count": 11,
   "id": "d2630958",
   "metadata": {
    "slideshow": {
     "slide_type": "fragment"
    }
   },
   "outputs": [
    {
     "data": {
      "text/html": [
       "<pre style=\"white-space:pre;overflow-x:auto;line-height:normal;font-family:Menlo,'DejaVu Sans Mono',consolas,'Courier New',monospace\">first_movie = <span style=\"color: #008000; text-decoration-color: #008000\">'The Matrix'</span>\n",
       "other_movies = <span style=\"font-weight: bold\">[</span><span style=\"color: #008000; text-decoration-color: #008000\">'Terminator 2'</span>, <span style=\"color: #008000; text-decoration-color: #008000\">'Jurassic Park'</span>, <span style=\"color: #008000; text-decoration-color: #008000\">'The Fifth Element'</span>, <span style=\"color: #008000; text-decoration-color: #008000\">'Starship Troopers'</span><span style=\"font-weight: bold\">]</span>\n",
       "</pre>\n"
      ],
      "text/plain": [
       "first_movie = \u001b[32m'The Matrix'\u001b[0m\n",
       "other_movies = \u001b[1m[\u001b[0m\u001b[32m'Terminator 2'\u001b[0m, \u001b[32m'Jurassic Park'\u001b[0m, \u001b[32m'The Fifth Element'\u001b[0m, \u001b[32m'Starship Troopers'\u001b[0m\u001b[1m]\u001b[0m\n"
      ]
     },
     "metadata": {},
     "output_type": "display_data"
    }
   ],
   "source": [
    "# For tuples of unknown length * can be used\n",
    "first_movie, *other_movies = sci_fi\n",
    "print(f'{first_movie = }\\n{other_movies = }')"
   ]
  },
  {
   "cell_type": "markdown",
   "id": "9ab753fa",
   "metadata": {
    "slideshow": {
     "slide_type": "slide"
    }
   },
   "source": [
    "<span style='color: blue'>**Tuple**</span> unpacking cannot be used as conveniently as <span style='color: blue'>**lists**</span> to <span style='color: magenta'>**swap the position of elements**</span> as tuples are <span style='color: magenta'>**immutable**</span>. Nevertheless, it can be achieved using indexing and slicing."
   ]
  },
  {
   "cell_type": "code",
   "execution_count": 12,
   "id": "1ddc6faa",
   "metadata": {},
   "outputs": [
    {
     "data": {
      "text/html": [
       "<pre style=\"white-space:pre;overflow-x:auto;line-height:normal;font-family:Menlo,'DejaVu Sans Mono',consolas,'Courier New',monospace\">Before: <span style=\"font-weight: bold\">(</span><span style=\"color: #008000; text-decoration-color: #008000\">'The Matrix'</span>, <span style=\"color: #008000; text-decoration-color: #008000\">'Terminator 2'</span>, <span style=\"color: #008000; text-decoration-color: #008000\">'Jurassic Park'</span>, <span style=\"color: #008000; text-decoration-color: #008000\">'The Fifth Element'</span>, <span style=\"color: #008000; text-decoration-color: #008000\">'Starship Troopers'</span><span style=\"font-weight: bold\">)</span>\n",
       "</pre>\n"
      ],
      "text/plain": [
       "Before: \u001b[1m(\u001b[0m\u001b[32m'The Matrix'\u001b[0m, \u001b[32m'Terminator 2'\u001b[0m, \u001b[32m'Jurassic Park'\u001b[0m, \u001b[32m'The Fifth Element'\u001b[0m, \u001b[32m'Starship Troopers'\u001b[0m\u001b[1m)\u001b[0m\n"
      ]
     },
     "metadata": {},
     "output_type": "display_data"
    },
    {
     "data": {
      "text/html": [
       "<pre style=\"white-space:pre;overflow-x:auto;line-height:normal;font-family:Menlo,'DejaVu Sans Mono',consolas,'Courier New',monospace\">After: <span style=\"font-weight: bold\">(</span><span style=\"color: #008000; text-decoration-color: #008000\">'Starship Troopers'</span>, <span style=\"color: #008000; text-decoration-color: #008000\">'Terminator 2'</span>, <span style=\"color: #008000; text-decoration-color: #008000\">'Jurassic Park'</span>, <span style=\"color: #008000; text-decoration-color: #008000\">'The Fifth Element'</span>, <span style=\"color: #008000; text-decoration-color: #008000\">'The Matrix'</span><span style=\"font-weight: bold\">)</span>\n",
       "</pre>\n"
      ],
      "text/plain": [
       "After: \u001b[1m(\u001b[0m\u001b[32m'Starship Troopers'\u001b[0m, \u001b[32m'Terminator 2'\u001b[0m, \u001b[32m'Jurassic Park'\u001b[0m, \u001b[32m'The Fifth Element'\u001b[0m, \u001b[32m'The Matrix'\u001b[0m\u001b[1m)\u001b[0m\n"
      ]
     },
     "metadata": {},
     "output_type": "display_data"
    }
   ],
   "source": [
    "# Create a populated tuple\n",
    "sci_fi = ('The Matrix', 'Terminator 2', 'Jurassic Park', 'The Fifth Element', 'Starship Troopers')\n",
    "print(f'Before: {sci_fi}')\n",
    "\n",
    "# Swap the first and last elements locations in tuple using indexing and slicing\n",
    "sci_fi = sci_fi[-1:] + sci_fi[1:-1] + sci_fi[:1]\n",
    "print(f'After: {sci_fi}')"
   ]
  },
  {
   "cell_type": "markdown",
   "id": "cc96bbb8",
   "metadata": {
    "slideshow": {
     "slide_type": "slide"
    }
   },
   "source": [
    "If you attempt to <span style='color: magenta'>**slice**</span> a <span style='color: blue'>**tuple**</span> using an index range that goes <span style='color: magenta'>**beyond the bounds**</span> of the <span style='color: blue'>**tuple**</span>, an <span style='color: magenta'>**error**</span> will be raised. <span style='color: magenta'>**However**</span>, when the <span style='color: magenta'>**slice**</span> range is outside the bounds of the tuple, slicing will return a <span style='color: magenta'>**truncated**</span> range of indexes."
   ]
  },
  {
   "cell_type": "code",
   "execution_count": 13,
   "id": "f4c6cc46",
   "metadata": {},
   "outputs": [
    {
     "data": {
      "text/html": [
       "<pre style=\"white-space:pre;overflow-x:auto;line-height:normal;font-family:Menlo,'DejaVu Sans Mono',consolas,'Courier New',monospace\">error = <span style=\"color: #800080; text-decoration-color: #800080; font-weight: bold\">IndexError</span><span style=\"font-weight: bold\">(</span><span style=\"color: #008000; text-decoration-color: #008000\">'tuple index out of range'</span><span style=\"font-weight: bold\">)</span>\n",
       "</pre>\n"
      ],
      "text/plain": [
       "error = \u001b[1;35mIndexError\u001b[0m\u001b[1m(\u001b[0m\u001b[32m'tuple index out of range'\u001b[0m\u001b[1m)\u001b[0m\n"
      ]
     },
     "metadata": {},
     "output_type": "display_data"
    },
    {
     "data": {
      "text/html": [
       "<pre style=\"white-space:pre;overflow-x:auto;line-height:normal;font-family:Menlo,'DejaVu Sans Mono',consolas,'Courier New',monospace\">sci_fi<span style=\"font-weight: bold\">[</span>:<span style=\"color: #008080; text-decoration-color: #008080; font-weight: bold\">100</span><span style=\"font-weight: bold\">]</span> = <span style=\"font-weight: bold\">(</span><span style=\"color: #008000; text-decoration-color: #008000\">'The Matrix'</span>, <span style=\"color: #008000; text-decoration-color: #008000\">'Terminator 2'</span>, <span style=\"color: #008000; text-decoration-color: #008000\">'Jurassic Park'</span>, <span style=\"color: #008000; text-decoration-color: #008000\">'The Fifth Element'</span>, <span style=\"color: #008000; text-decoration-color: #008000\">'Starship Troopers'</span><span style=\"font-weight: bold\">)</span>\n",
       "</pre>\n"
      ],
      "text/plain": [
       "sci_fi\u001b[1m[\u001b[0m:\u001b[1;36m100\u001b[0m\u001b[1m]\u001b[0m = \u001b[1m(\u001b[0m\u001b[32m'The Matrix'\u001b[0m, \u001b[32m'Terminator 2'\u001b[0m, \u001b[32m'Jurassic Park'\u001b[0m, \u001b[32m'The Fifth Element'\u001b[0m, \u001b[32m'Starship Troopers'\u001b[0m\u001b[1m)\u001b[0m\n"
      ]
     },
     "metadata": {},
     "output_type": "display_data"
    }
   ],
   "source": [
    "# Create a populated tuple\n",
    "sci_fi = ('The Matrix', 'Terminator 2', 'Jurassic Park', 'The Fifth Element', 'Starship Troopers')\n",
    "\n",
    "# Try-except block used to catch error when indexing out of range\n",
    "try:\n",
    "    print(sci_fi[100])\n",
    "except Exception as error:\n",
    "    print(f'{error = }')\n",
    "    \n",
    "# Slicing used out of range to return truncated range of elements\n",
    "print(f'{sci_fi[:100] = }')"
   ]
  },
  {
   "cell_type": "markdown",
   "id": "1150b462",
   "metadata": {
    "slideshow": {
     "slide_type": "slide"
    }
   },
   "source": [
    "<span style='color: blue'>**Modifying Tuples**</span>\n",
    "\n",
    "<span style='color: blue'>**Tuples**</span> are <span style='color: magenta'>**immutable**</span> in Python, unlike <span style='color: blue'>**lists**</span>, which can be modified. Although there are operations that <span style='color: magenta'>**seem to modify tuples**</span>, they <span style='color: magenta'>**actually create new tuples**</span> with updated elements."
   ]
  },
  {
   "cell_type": "markdown",
   "id": "b797459b",
   "metadata": {},
   "source": [
    "<span style='color: magenta'>**Concatenation**</span> is the process of <span style='color: magenta'>**joining two or more tuples together**</span> to create a new tuple, accomplished using the <span style='color: blue'>**+ operator**</span>."
   ]
  },
  {
   "cell_type": "code",
   "execution_count": 14,
   "id": "52c3e258",
   "metadata": {},
   "outputs": [
    {
     "data": {
      "text/html": [
       "<pre style=\"white-space:pre;overflow-x:auto;line-height:normal;font-family:Menlo,'DejaVu Sans Mono',consolas,'Courier New',monospace\"><span style=\"font-weight: bold\">(</span><span style=\"color: #008000; text-decoration-color: #008000\">'Tyrannosaurus'</span>, <span style=\"color: #008000; text-decoration-color: #008000\">'Stegosaurus'</span>, <span style=\"color: #008000; text-decoration-color: #008000\">'Velociraptor'</span>, <span style=\"color: #008000; text-decoration-color: #008000\">'Triceratops'</span><span style=\"font-weight: bold\">)</span>\n",
       "</pre>\n"
      ],
      "text/plain": [
       "\u001b[1m(\u001b[0m\u001b[32m'Tyrannosaurus'\u001b[0m, \u001b[32m'Stegosaurus'\u001b[0m, \u001b[32m'Velociraptor'\u001b[0m, \u001b[32m'Triceratops'\u001b[0m\u001b[1m)\u001b[0m\n"
      ]
     },
     "metadata": {},
     "output_type": "display_data"
    }
   ],
   "source": [
    "# Create two populated tuples\n",
    "dinosaurs_1 = ('Tyrannosaurus', 'Stegosaurus')\n",
    "dinosaurs_2 = ('Velociraptor', 'Triceratops')\n",
    "\n",
    "# Concatenate with the + operator\n",
    "all_dinosaurs = dinosaurs_1 + dinosaurs_2\n",
    "print(all_dinosaurs)"
   ]
  },
  {
   "cell_type": "markdown",
   "id": "c15339bf",
   "metadata": {
    "slideshow": {
     "slide_type": "slide"
    }
   },
   "source": [
    "The <span style='color: blue'>**\\* operator**</span> can be used to <span style='color: magenta'>**duplicate**</span> the elements in a <span style='color: blue'>**tuple**</span>, resulting in a <span style='color: magenta'>**new tuple**</span> with repeated elements."
   ]
  },
  {
   "cell_type": "code",
   "execution_count": 15,
   "id": "d1747da2",
   "metadata": {},
   "outputs": [
    {
     "data": {
      "text/html": [
       "<pre style=\"white-space:pre;overflow-x:auto;line-height:normal;font-family:Menlo,'DejaVu Sans Mono',consolas,'Courier New',monospace\"><span style=\"font-weight: bold\">(</span><span style=\"color: #008000; text-decoration-color: #008000\">'Tyrannosaurus'</span>, <span style=\"color: #008000; text-decoration-color: #008000\">'Stegosaurus'</span>, <span style=\"color: #008000; text-decoration-color: #008000\">'Velociraptor'</span>, <span style=\"color: #008000; text-decoration-color: #008000\">'Triceratops'</span><span style=\"font-weight: bold\">)</span>\n",
       "</pre>\n"
      ],
      "text/plain": [
       "\u001b[1m(\u001b[0m\u001b[32m'Tyrannosaurus'\u001b[0m, \u001b[32m'Stegosaurus'\u001b[0m, \u001b[32m'Velociraptor'\u001b[0m, \u001b[32m'Triceratops'\u001b[0m\u001b[1m)\u001b[0m\n"
      ]
     },
     "metadata": {},
     "output_type": "display_data"
    }
   ],
   "source": [
    "# Create a populated tuple\n",
    "dinosaurs = ('Tyrannosaurus', 'Stegosaurus')\n",
    "\n",
    "# Use the * operator to repeat the tuples\n",
    "repeat_dinosaurs = dinosaurs * 2\n",
    "print(all_dinosaurs)\n"
   ]
  },
  {
   "cell_type": "markdown",
   "id": "71b061f8",
   "metadata": {
    "slideshow": {
     "slide_type": "slide"
    }
   },
   "source": [
    "A <span style='color: magenta'>**new element**</span> can be added at a desired index in a tuple by <span style='color: magenta'>**splitting the tuple into two parts**</span> through slicing and then <span style='color: magenta'>**joining the new element using concatenation**</span>."
   ]
  },
  {
   "cell_type": "code",
   "execution_count": 16,
   "id": "621256c3",
   "metadata": {},
   "outputs": [
    {
     "data": {
      "text/html": [
       "<pre style=\"white-space:pre;overflow-x:auto;line-height:normal;font-family:Menlo,'DejaVu Sans Mono',consolas,'Courier New',monospace\">Before: <span style=\"font-weight: bold\">(</span><span style=\"color: #008000; text-decoration-color: #008000\">'Peter Venkman'</span>, <span style=\"color: #008000; text-decoration-color: #008000\">'Ray Stantz'</span>, <span style=\"color: #008000; text-decoration-color: #008000\">'Egon Spengler'</span>, <span style=\"color: #008000; text-decoration-color: #008000\">'Winston Zeddemore'</span><span style=\"font-weight: bold\">)</span>\n",
       "</pre>\n"
      ],
      "text/plain": [
       "Before: \u001b[1m(\u001b[0m\u001b[32m'Peter Venkman'\u001b[0m, \u001b[32m'Ray Stantz'\u001b[0m, \u001b[32m'Egon Spengler'\u001b[0m, \u001b[32m'Winston Zeddemore'\u001b[0m\u001b[1m)\u001b[0m\n"
      ]
     },
     "metadata": {},
     "output_type": "display_data"
    },
    {
     "data": {
      "text/html": [
       "<pre style=\"white-space:pre;overflow-x:auto;line-height:normal;font-family:Menlo,'DejaVu Sans Mono',consolas,'Courier New',monospace\">After: <span style=\"font-weight: bold\">(</span><span style=\"color: #008000; text-decoration-color: #008000\">'Peter Venkman'</span>, <span style=\"color: #008000; text-decoration-color: #008000\">'Ray Stantz'</span>, <span style=\"color: #008000; text-decoration-color: #008000\">'Slimer'</span>, <span style=\"color: #008000; text-decoration-color: #008000\">'Egon Spengler'</span>, <span style=\"color: #008000; text-decoration-color: #008000\">'Winston Zeddemore'</span><span style=\"font-weight: bold\">)</span>\n",
       "</pre>\n"
      ],
      "text/plain": [
       "After: \u001b[1m(\u001b[0m\u001b[32m'Peter Venkman'\u001b[0m, \u001b[32m'Ray Stantz'\u001b[0m, \u001b[32m'Slimer'\u001b[0m, \u001b[32m'Egon Spengler'\u001b[0m, \u001b[32m'Winston Zeddemore'\u001b[0m\u001b[1m)\u001b[0m\n"
      ]
     },
     "metadata": {},
     "output_type": "display_data"
    }
   ],
   "source": [
    "# Create a populated tuple\n",
    "ghostbusters = (\"Peter Venkman\", \"Ray Stantz\", \"Egon Spengler\", \"Winston Zeddemore\")\n",
    "print(f'Before: {ghostbusters}')\n",
    "\n",
    "# Define a new  to insert as a tuple with trailing comma\n",
    "new_ghostbuster = ('Slimer',)\n",
    "\n",
    "# Use slicing to insert the element into the original tuple\n",
    "ghostbusters = ghostbusters[:2] + new_ghostbuster + ghostbusters[2:]\n",
    "print(f'After: {ghostbusters}')"
   ]
  },
  {
   "cell_type": "code",
   "execution_count": null,
   "id": "9ac492da",
   "metadata": {},
   "outputs": [],
   "source": []
  }
 ],
 "metadata": {
  "celltoolbar": "Slideshow",
  "kernelspec": {
   "display_name": "Python 3 (ipykernel)",
   "language": "python",
   "name": "python3"
  },
  "language_info": {
   "codemirror_mode": {
    "name": "ipython",
    "version": 3
   },
   "file_extension": ".py",
   "mimetype": "text/x-python",
   "name": "python",
   "nbconvert_exporter": "python",
   "pygments_lexer": "ipython3",
   "version": "3.11.1"
  }
 },
 "nbformat": 4,
 "nbformat_minor": 5
}
