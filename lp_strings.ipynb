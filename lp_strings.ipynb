{
 "cells": [
  {
   "cell_type": "code",
   "execution_count": 2,
   "id": "76cc60ce",
   "metadata": {
    "slideshow": {
     "slide_type": "skip"
    }
   },
   "outputs": [],
   "source": [
    "# !pip install rich\n",
    "from rich import print"
   ]
  },
  {
   "cell_type": "markdown",
   "id": "bfbdd428",
   "metadata": {
    "slideshow": {
     "slide_type": "slide"
    }
   },
   "source": [
    "## <span style='color: blue'>Learn Python</span> - Strings\n",
    "\n",
    "- [Quotation Marks & Escape Characters](##quotation-marks-escape-characters)\n",
    "- [Indexing & Slicing](##indexing-slicing)\n",
    "- [Concatenation](##concatenation)\n",
    "- [Formatting (Interpolation)](##formatting-interpolation)\n",
    "- [Common Methods](##common-methods)\n",
    "- [Join & Split](##join-split)\n",
    "- [Boolean Methods](##boolean-methods)\n",
    "- [Text Alignment](##text-alignment)\n",
    "- [Useful Functions and Keywords](##useful-functions-keywords)"
   ]
  },
  {
   "cell_type": "markdown",
   "id": "8751ad89",
   "metadata": {
    "slideshow": {
     "slide_type": "skip"
    }
   },
   "source": [
    "<span style='color: blue'>**Click**</span> on a link from the above menu to <span style='color: blue'>**go to that section**</span>"
   ]
  },
  {
   "cell_type": "markdown",
   "id": "27ee300f",
   "metadata": {
    "slideshow": {
     "slide_type": "slide"
    }
   },
   "source": [
    "## <span style='color: blue'>Quotation marks & escape characters</span> <a id='#quotation-marks-escape-characters' style=\"text-decoration:none;\"></a>\n",
    "\n",
    "String can be declared using <span style='color: blue'>**double**</span> or <span style='color: blue'>**single**</span> quotation marks."
   ]
  },
  {
   "cell_type": "code",
   "execution_count": 2,
   "id": "ba629ea4",
   "metadata": {
    "slideshow": {
     "slide_type": "-"
    }
   },
   "outputs": [],
   "source": [
    "string_a = \"Steves car wouldnt start\"\n",
    "\n",
    "string_b = 'Steves car wouldnt start'"
   ]
  },
  {
   "cell_type": "code",
   "execution_count": 3,
   "id": "e27e14f5",
   "metadata": {
    "slideshow": {
     "slide_type": "fragment"
    }
   },
   "outputs": [
    {
     "data": {
      "text/html": [
       "<pre style=\"white-space:pre;overflow-x:auto;line-height:normal;font-family:Menlo,'DejaVu Sans Mono',consolas,'Courier New',monospace\"><span style=\"color: #00ff00; text-decoration-color: #00ff00; font-style: italic\">True</span>\n",
       "</pre>\n"
      ],
      "text/plain": [
       "\u001b[3;92mTrue\u001b[0m\n"
      ]
     },
     "metadata": {},
     "output_type": "display_data"
    }
   ],
   "source": [
    "print(string_a == string_b)"
   ]
  },
  {
   "cell_type": "markdown",
   "id": "11d7361e",
   "metadata": {
    "slideshow": {
     "slide_type": "slide"
    }
   },
   "source": [
    "To use a quotation mark within the string text an <span style='color: blue'>**escape character**</span> must be used. In python strings this is the <span style='color: blue'>**backslash**</span> (<span style='color: magenta'> \\\\ </span>)."
   ]
  },
  {
   "cell_type": "code",
   "execution_count": 4,
   "id": "44a2264a",
   "metadata": {
    "slideshow": {
     "slide_type": "-"
    }
   },
   "outputs": [
    {
     "data": {
      "text/html": [
       "<pre style=\"white-space:pre;overflow-x:auto;line-height:normal;font-family:Menlo,'DejaVu Sans Mono',consolas,'Courier New',monospace\">Steve's car wouldn't start\n",
       "</pre>\n"
      ],
      "text/plain": [
       "Steve's car wouldn't start\n"
      ]
     },
     "metadata": {},
     "output_type": "display_data"
    }
   ],
   "source": [
    "string = 'Steve\\'s car wouldn\\'t start'\n",
    "\n",
    "print(string)"
   ]
  },
  {
   "cell_type": "markdown",
   "id": "139daead",
   "metadata": {
    "slideshow": {
     "slide_type": "slide"
    }
   },
   "source": [
    "Python also has <span style='color: blue'>**escape sequences**</span> that use the <span style='color: blue'>**backslash**</span> before certain characters to format the text.\n",
    "\n",
    "| Escape sequence | Function |\n",
    "|:-:|:-:|\n",
    "| \\n | New line |\n",
    "| \\t | Horizonal tab |\n",
    "| \\v | Vertical tab |\n",
    "| \\r | Carrage return |\n",
    "| \\b | Backspace |"
   ]
  },
  {
   "cell_type": "markdown",
   "id": "2f46d6dc",
   "metadata": {
    "slideshow": {
     "slide_type": "-"
    }
   },
   "source": [
    "For example a <span style='color: blue'>**newline**</span> can be inserted with a <span style='color: magenta'> **\\n** </span>escape sequence."
   ]
  },
  {
   "cell_type": "code",
   "execution_count": 5,
   "id": "947e3714",
   "metadata": {
    "slideshow": {
     "slide_type": "fragment"
    }
   },
   "outputs": [
    {
     "data": {
      "text/html": [
       "<pre style=\"white-space:pre;overflow-x:auto;line-height:normal;font-family:Menlo,'DejaVu Sans Mono',consolas,'Courier New',monospace\">Hello\n",
       "World\n",
       "</pre>\n"
      ],
      "text/plain": [
       "Hello\n",
       "World\n"
      ]
     },
     "metadata": {},
     "output_type": "display_data"
    }
   ],
   "source": [
    "string_newline = 'Hello\\nWorld'\n",
    "\n",
    "print(string_newline)"
   ]
  },
  {
   "cell_type": "markdown",
   "id": "44b25a1d",
   "metadata": {
    "slideshow": {
     "slide_type": "slide"
    }
   },
   "source": [
    "If you need to include a <span style='color: blue'>**backslash**</span> character in your string's text, you can use <span style='color: blue'>**another backslash**</span> to precede it. For example this is useful when declaring <span style='color: magenta'>**file paths**</span>."
   ]
  },
  {
   "cell_type": "code",
   "execution_count": 6,
   "id": "6bc239a2",
   "metadata": {
    "slideshow": {
     "slide_type": "-"
    }
   },
   "outputs": [
    {
     "data": {
      "text/html": [
       "<pre style=\"white-space:pre;overflow-x:auto;line-height:normal;font-family:Menlo,'DejaVu Sans Mono',consolas,'Courier New',monospace\">C:\\User\\Documents\\Pictures\n",
       "</pre>\n"
      ],
      "text/plain": [
       "C:\\User\\Documents\\Pictures\n"
      ]
     },
     "metadata": {},
     "output_type": "display_data"
    }
   ],
   "source": [
    "file_path = 'C:\\\\User\\\\Documents\\\\Pictures'\n",
    "print(file_path)"
   ]
  },
  {
   "cell_type": "markdown",
   "id": "4186b962",
   "metadata": {
    "slideshow": {
     "slide_type": "fragment"
    }
   },
   "source": [
    "You can also use the letter <span style='color: magenta'>**r**</span> before the string to make it a raw string, which will <span style='color: blue'>**disregard**</span> any escape characters."
   ]
  },
  {
   "cell_type": "code",
   "execution_count": 7,
   "id": "8d7f1497",
   "metadata": {
    "slideshow": {
     "slide_type": "-"
    }
   },
   "outputs": [
    {
     "data": {
      "text/html": [
       "<pre style=\"white-space:pre;overflow-x:auto;line-height:normal;font-family:Menlo,'DejaVu Sans Mono',consolas,'Courier New',monospace\">C:\\User\\Documents\\Pictures\n",
       "</pre>\n"
      ],
      "text/plain": [
       "C:\\User\\Documents\\Pictures\n"
      ]
     },
     "metadata": {},
     "output_type": "display_data"
    }
   ],
   "source": [
    "file_path = r'C:\\User\\Documents\\Pictures'\n",
    "print(file_path)"
   ]
  },
  {
   "cell_type": "markdown",
   "id": "c721389f",
   "metadata": {
    "slideshow": {
     "slide_type": "slide"
    }
   },
   "source": [
    "Strings can also be declared over <span style='color: blue'>**multiple lines**</span> using <span style='color: blue'>**triple**</span> quotation marks.  This can be useful for readability in <span style='color: blue'>**SQL queries**</span> or large volumes of text."
   ]
  },
  {
   "cell_type": "code",
   "execution_count": 8,
   "id": "440f0a57",
   "metadata": {
    "slideshow": {
     "slide_type": "-"
    }
   },
   "outputs": [
    {
     "data": {
      "text/html": [
       "<pre style=\"white-space:pre;overflow-x:auto;line-height:normal;font-family:Menlo,'DejaVu Sans Mono',consolas,'Courier New',monospace\">\n",
       "    SELECT * FROM table\n",
       "\n",
       "</pre>\n"
      ],
      "text/plain": [
       "\n",
       "    SELECT * FROM table\n",
       "\n"
      ]
     },
     "metadata": {},
     "output_type": "display_data"
    }
   ],
   "source": [
    "string = '''\n",
    "    SELECT * FROM table\n",
    "'''\n",
    "\n",
    "print(string)"
   ]
  },
  {
   "cell_type": "markdown",
   "id": "8628e7b8",
   "metadata": {
    "slideshow": {
     "slide_type": "fragment"
    }
   },
   "source": [
    "<span style='color: magenta'>**Note**:</span> Extra whitespace is introduced into the text using this method."
   ]
  },
  {
   "cell_type": "markdown",
   "id": "3676fbcd",
   "metadata": {
    "slideshow": {
     "slide_type": "slide"
    }
   },
   "source": [
    "## <span style='color: blue'>**Indexing & Slicing**</span> <a id='#indexing-slicing'></a>\n",
    "\n",
    "Strings are <span style='color: blue'>**arrays**</span> of individual <span style='color: blue'>**characters**</span>.  These characters can be accessed by using <span style='color: blue'>**indexing**</span> or <span style='color: blue'>**slicing**</span>."
   ]
  },
  {
   "cell_type": "markdown",
   "id": "a49b9e9f",
   "metadata": {
    "slideshow": {
     "slide_type": "fragment"
    }
   },
   "source": [
    "|  H  |  e  |  l  |  l  |  o  |   |  W  |  o  |  r  |  l  |  d  |\n",
    "|:-:|:-:|:-:|:-:|:-:|:-:|:-:|:-:|:-:|:-:|:-:|\n",
    "|0|1|2|3|4|5|6|7|8|9|10|"
   ]
  },
  {
   "cell_type": "markdown",
   "id": "679e42a7",
   "metadata": {
    "slideshow": {
     "slide_type": "fragment"
    }
   },
   "source": [
    "<span style='color: magenta'>**Indexing:**</span> Place <span style='color: blue'>**integers**</span> within <span style='color: blue'>**square brackets**</span> to access the string's <span style='color: blue'>**characters**</span>."
   ]
  },
  {
   "cell_type": "code",
   "execution_count": 9,
   "id": "8ae9f3e8",
   "metadata": {
    "slideshow": {
     "slide_type": "-"
    }
   },
   "outputs": [
    {
     "data": {
      "text/html": [
       "<pre style=\"white-space:pre;overflow-x:auto;line-height:normal;font-family:Menlo,'DejaVu Sans Mono',consolas,'Courier New',monospace\">H\n",
       "</pre>\n"
      ],
      "text/plain": [
       "H\n"
      ]
     },
     "metadata": {},
     "output_type": "display_data"
    }
   ],
   "source": [
    "string = 'Hello World'\n",
    "\n",
    "index_char = string[0]\n",
    "\n",
    "print(index_char)"
   ]
  },
  {
   "cell_type": "markdown",
   "id": "98326657",
   "metadata": {
    "slideshow": {
     "slide_type": "slide"
    }
   },
   "source": [
    "<span style='color: magenta'>**Slicing**</span>: Place <span style='color: blue'>**integers**</span>, separated by commas, within <span style='color: blue'>**square brackets**</span> to access a <span style='color: blue'>**range**</span> of the string's characters."
   ]
  },
  {
   "cell_type": "markdown",
   "id": "0a694cb3",
   "metadata": {
    "slideshow": {
     "slide_type": "-"
    }
   },
   "source": [
    "<h3 style=\"text-align: center;\">\n",
    "    <span style='color: blue'>string_name </span>[ <span style='color: magenta'>start</span> : <span style='color: magenta'>stop</span> : <span style='color: magenta'>step</span> ]</h3>"
   ]
  },
  {
   "cell_type": "markdown",
   "id": "8f2b0e0c",
   "metadata": {
    "slideshow": {
     "slide_type": "slide"
    }
   },
   "source": [
    "### <span style='color: blue'>Things to know about string slicing:</span> ###\n",
    "- String slicing returns a <span style='color: magenta'>**new**</span> string"
   ]
  },
  {
   "cell_type": "code",
   "execution_count": 10,
   "id": "054d2e34",
   "metadata": {
    "slideshow": {
     "slide_type": "fragment"
    }
   },
   "outputs": [],
   "source": [
    "original_string = 'This is the original string'\n",
    "\n",
    "slice_string = original_string[12:20]"
   ]
  },
  {
   "cell_type": "code",
   "execution_count": 11,
   "id": "8990a245",
   "metadata": {
    "slideshow": {
     "slide_type": "fragment"
    }
   },
   "outputs": [
    {
     "data": {
      "text/html": [
       "<pre style=\"white-space:pre;overflow-x:auto;line-height:normal;font-family:Menlo,'DejaVu Sans Mono',consolas,'Courier New',monospace\">original_string = <span style=\"color: #008000; text-decoration-color: #008000\">'This is the original string'</span>\n",
       "</pre>\n"
      ],
      "text/plain": [
       "original_string = \u001b[32m'This is the original string'\u001b[0m\n"
      ]
     },
     "metadata": {},
     "output_type": "display_data"
    },
    {
     "data": {
      "text/html": [
       "<pre style=\"white-space:pre;overflow-x:auto;line-height:normal;font-family:Menlo,'DejaVu Sans Mono',consolas,'Courier New',monospace\">slice_string = <span style=\"color: #008000; text-decoration-color: #008000\">'original'</span>\n",
       "</pre>\n"
      ],
      "text/plain": [
       "slice_string = \u001b[32m'original'\u001b[0m\n"
      ]
     },
     "metadata": {},
     "output_type": "display_data"
    }
   ],
   "source": [
    "print(f'{original_string = }')\n",
    "print(f'{slice_string = }')"
   ]
  },
  {
   "cell_type": "markdown",
   "id": "6b9190fd",
   "metadata": {
    "slideshow": {
     "slide_type": "slide"
    }
   },
   "source": [
    "### <span style='color: blue'>Things to know about string slicing:</span> ###\n",
    "- The start index is <span style='color: magenta'>**inclusive**</span>, the end is <span style='color: magenta'>**exclusive**</span>\n",
    "- Omitting an integer from the <span style='color: magenta'>**start**</span> defaults to the <span style='color: magenta'>**beginning**</span>\n",
    "- Omitting an integer from the <span style='color: magenta'>**stop**</span> defaults to the <span style='color: magenta'>**end**</span>"
   ]
  },
  {
   "cell_type": "code",
   "execution_count": 12,
   "id": "8c9f43ad",
   "metadata": {
    "slideshow": {
     "slide_type": "fragment"
    }
   },
   "outputs": [],
   "source": [
    "number_string = '123456789'"
   ]
  },
  {
   "cell_type": "code",
   "execution_count": 13,
   "id": "a6cbb6ae",
   "metadata": {
    "slideshow": {
     "slide_type": "fragment"
    }
   },
   "outputs": [
    {
     "data": {
      "text/html": [
       "<pre style=\"white-space:pre;overflow-x:auto;line-height:normal;font-family:Menlo,'DejaVu Sans Mono',consolas,'Courier New',monospace\"><span style=\"color: #008080; text-decoration-color: #008080; font-weight: bold\">1</span>\n",
       "</pre>\n"
      ],
      "text/plain": [
       "\u001b[1;36m1\u001b[0m\n"
      ]
     },
     "metadata": {},
     "output_type": "display_data"
    }
   ],
   "source": [
    "print(number_string[0:1])"
   ]
  },
  {
   "cell_type": "code",
   "execution_count": 14,
   "id": "8bc0a972",
   "metadata": {
    "slideshow": {
     "slide_type": "fragment"
    }
   },
   "outputs": [
    {
     "data": {
      "text/html": [
       "<pre style=\"white-space:pre;overflow-x:auto;line-height:normal;font-family:Menlo,'DejaVu Sans Mono',consolas,'Courier New',monospace\"><span style=\"color: #008080; text-decoration-color: #008080; font-weight: bold\">12345</span>\n",
       "</pre>\n"
      ],
      "text/plain": [
       "\u001b[1;36m12345\u001b[0m\n"
      ]
     },
     "metadata": {},
     "output_type": "display_data"
    }
   ],
   "source": [
    "print(number_string[:5])"
   ]
  },
  {
   "cell_type": "code",
   "execution_count": 15,
   "id": "867f18dd",
   "metadata": {
    "slideshow": {
     "slide_type": "fragment"
    }
   },
   "outputs": [
    {
     "data": {
      "text/html": [
       "<pre style=\"white-space:pre;overflow-x:auto;line-height:normal;font-family:Menlo,'DejaVu Sans Mono',consolas,'Courier New',monospace\"><span style=\"color: #008080; text-decoration-color: #008080; font-weight: bold\">6789</span>\n",
       "</pre>\n"
      ],
      "text/plain": [
       "\u001b[1;36m6789\u001b[0m\n"
      ]
     },
     "metadata": {},
     "output_type": "display_data"
    }
   ],
   "source": [
    "print(number_string[5:])"
   ]
  },
  {
   "cell_type": "markdown",
   "id": "ccd54acb",
   "metadata": {
    "slideshow": {
     "slide_type": "slide"
    }
   },
   "source": [
    "### <span style='color: blue'>Things to know about string slicing:</span> ###\n",
    "- <span style='color: magenta'>**Negative**</span> indexing starts from the <span style='color: magenta'>**end**</span> of the string\n",
    "- <span style='color: magenta'>**Negative**</span> step <span style='color: magenta'>**reverses**</span> the string"
   ]
  },
  {
   "cell_type": "code",
   "execution_count": 16,
   "id": "e728b6ac",
   "metadata": {
    "slideshow": {
     "slide_type": "fragment"
    }
   },
   "outputs": [],
   "source": [
    "number_string = '123456789'"
   ]
  },
  {
   "cell_type": "code",
   "execution_count": 17,
   "id": "ab6ed3c0",
   "metadata": {
    "slideshow": {
     "slide_type": "fragment"
    }
   },
   "outputs": [
    {
     "data": {
      "text/html": [
       "<pre style=\"white-space:pre;overflow-x:auto;line-height:normal;font-family:Menlo,'DejaVu Sans Mono',consolas,'Courier New',monospace\"><span style=\"color: #008080; text-decoration-color: #008080; font-weight: bold\">1234</span>\n",
       "</pre>\n"
      ],
      "text/plain": [
       "\u001b[1;36m1234\u001b[0m\n"
      ]
     },
     "metadata": {},
     "output_type": "display_data"
    }
   ],
   "source": [
    "print(number_string[:-5])"
   ]
  },
  {
   "cell_type": "code",
   "execution_count": 18,
   "id": "667f1589",
   "metadata": {
    "slideshow": {
     "slide_type": "fragment"
    }
   },
   "outputs": [
    {
     "data": {
      "text/html": [
       "<pre style=\"white-space:pre;overflow-x:auto;line-height:normal;font-family:Menlo,'DejaVu Sans Mono',consolas,'Courier New',monospace\"><span style=\"color: #008080; text-decoration-color: #008080; font-weight: bold\">987654321</span>\n",
       "</pre>\n"
      ],
      "text/plain": [
       "\u001b[1;36m987654321\u001b[0m\n"
      ]
     },
     "metadata": {},
     "output_type": "display_data"
    }
   ],
   "source": [
    "print(number_string[::-1])"
   ]
  },
  {
   "cell_type": "markdown",
   "id": "b909779a",
   "metadata": {
    "slideshow": {
     "slide_type": "slide"
    }
   },
   "source": [
    "### <span style='color: blue'>Things to know about string slicing:</span> ###\n",
    "- <span style='color: magenta'>**Indexing**</span> a string out of bounds <span style='color: magenta'>**will**</span> return an <span style='color: magenta'>error</span>\n",
    "- <span style='color: magenta'>**Slicing**</span> out of bounds <span style='color: magenta'>**will not**</span> return an <span style='color: magenta'>**error**</span>"
   ]
  },
  {
   "cell_type": "code",
   "execution_count": 19,
   "id": "820f53fe",
   "metadata": {
    "slideshow": {
     "slide_type": "fragment"
    }
   },
   "outputs": [
    {
     "data": {
      "text/html": [
       "<pre style=\"white-space:pre;overflow-x:auto;line-height:normal;font-family:Menlo,'DejaVu Sans Mono',consolas,'Courier New',monospace\">string index out of range\n",
       "</pre>\n"
      ],
      "text/plain": [
       "string index out of range\n"
      ]
     },
     "metadata": {},
     "output_type": "display_data"
    }
   ],
   "source": [
    "# To demostrate the error a try-except block is used\n",
    "try:\n",
    "    print(number_string[100])\n",
    "except Exception as error:\n",
    "    print(error)"
   ]
  },
  {
   "cell_type": "code",
   "execution_count": 20,
   "id": "f33a0bbb",
   "metadata": {
    "slideshow": {
     "slide_type": "fragment"
    }
   },
   "outputs": [
    {
     "data": {
      "text/html": [
       "<pre style=\"white-space:pre;overflow-x:auto;line-height:normal;font-family:Menlo,'DejaVu Sans Mono',consolas,'Courier New',monospace\"><span style=\"color: #008080; text-decoration-color: #008080; font-weight: bold\">123456789</span>\n",
       "</pre>\n"
      ],
      "text/plain": [
       "\u001b[1;36m123456789\u001b[0m\n"
      ]
     },
     "metadata": {},
     "output_type": "display_data"
    }
   ],
   "source": [
    "print(number_string[:100])"
   ]
  },
  {
   "cell_type": "markdown",
   "id": "b3095153",
   "metadata": {
    "slideshow": {
     "slide_type": "slide"
    }
   },
   "source": [
    "## <span style='color: blue'>Concatenation</span> - Joining Strings Together <a id='#concatenation'></a>\n",
    "\n",
    "Strings can be joined together to create new strings using <span style='color: magenta'>**concatenation**</span>."
   ]
  },
  {
   "cell_type": "code",
   "execution_count": 21,
   "id": "448924b3",
   "metadata": {
    "slideshow": {
     "slide_type": "fragment"
    }
   },
   "outputs": [],
   "source": [
    "string_1 = 'Suspisious Stanley lurks in '\n",
    "\n",
    "string_2 = 'parks at night'"
   ]
  },
  {
   "cell_type": "markdown",
   "id": "804d3fda",
   "metadata": {
    "slideshow": {
     "slide_type": "fragment"
    }
   },
   "source": [
    "The mathematical operator <span style='color: magenta'>**+**</span> is used in joining strings."
   ]
  },
  {
   "cell_type": "code",
   "execution_count": 22,
   "id": "074f1380",
   "metadata": {
    "slideshow": {
     "slide_type": "fragment"
    }
   },
   "outputs": [],
   "source": [
    "concatenated_string = string_1 + string_2"
   ]
  },
  {
   "cell_type": "code",
   "execution_count": 23,
   "id": "e53e4eaa",
   "metadata": {
    "slideshow": {
     "slide_type": "fragment"
    }
   },
   "outputs": [
    {
     "data": {
      "text/html": [
       "<pre style=\"white-space:pre;overflow-x:auto;line-height:normal;font-family:Menlo,'DejaVu Sans Mono',consolas,'Courier New',monospace\">Suspisious Stanley lurks in parks at night\n",
       "</pre>\n"
      ],
      "text/plain": [
       "Suspisious Stanley lurks in parks at night\n"
      ]
     },
     "metadata": {},
     "output_type": "display_data"
    }
   ],
   "source": [
    "print(concatenated_string)"
   ]
  },
  {
   "cell_type": "markdown",
   "id": "d8e9f70f",
   "metadata": {
    "slideshow": {
     "slide_type": "slide"
    }
   },
   "source": [
    "<span style='color: magenta'>**Concatenation**</span> and <span style='color: magenta'>**Slicing**</span> can be used to <span style='color: blue'>**remove**</span> or <span style='color: blue'>**replace**</span> words in strings."
   ]
  },
  {
   "cell_type": "code",
   "execution_count": 24,
   "id": "03fbd566",
   "metadata": {
    "slideshow": {
     "slide_type": "fragment"
    }
   },
   "outputs": [
    {
     "data": {
      "text/html": [
       "<pre style=\"white-space:pre;overflow-x:auto;line-height:normal;font-family:Menlo,'DejaVu Sans Mono',consolas,'Courier New',monospace\">Suspisious Stanley sleeps in parks at night\n",
       "</pre>\n"
      ],
      "text/plain": [
       "Suspisious Stanley sleeps in parks at night\n"
      ]
     },
     "metadata": {},
     "output_type": "display_data"
    }
   ],
   "source": [
    "concat_sliced = concatenated_string[:19] + 'sleeps' + concatenated_string[24:]\n",
    "\n",
    "print(concat_sliced)"
   ]
  },
  {
   "cell_type": "markdown",
   "id": "98a9fd12",
   "metadata": {
    "slideshow": {
     "slide_type": "slide"
    }
   },
   "source": [
    "## <span style='color: blue'>Formatting</span> - String Interpolation <a id='#formatting-interpolation'></a>\n",
    "\n",
    "<span style='color: magenta'>**String interpolation**</span>, which involves <span style='color: magenta'>**inserting variables**</span> and their names into strings, can be accomplished using various techniques in Python. While some of these techniques are <span style='color: magenta'>**historical**</span>, it's essential to choose the most appropriate method for the version of Python you're using."
   ]
  },
  {
   "cell_type": "markdown",
   "id": "ad07a4ab",
   "metadata": {
    "slideshow": {
     "slide_type": "slide"
    }
   },
   "source": [
    "### <span style='color: blue'>String Interpolation</span> - Example 1\n",
    "\n",
    "This is the <span style='color: magenta'>**oldest**</span> method of string interpolation, and while it's unlikely that you'll use it, it's still important to be able to recognize it in case you come across it in older code."
   ]
  },
  {
   "cell_type": "code",
   "execution_count": 25,
   "id": "76fe399d",
   "metadata": {
    "slideshow": {
     "slide_type": "-"
    }
   },
   "outputs": [
    {
     "data": {
      "text/html": [
       "<pre style=\"white-space:pre;overflow-x:auto;line-height:normal;font-family:Menlo,'DejaVu Sans Mono',consolas,'Courier New',monospace\">I have <span style=\"color: #008080; text-decoration-color: #008080; font-weight: bold\">24</span> hamsters for sale, they are £<span style=\"color: #008080; text-decoration-color: #008080; font-weight: bold\">1500.56</span> each\n",
       "</pre>\n"
      ],
      "text/plain": [
       "I have \u001b[1;36m24\u001b[0m hamsters for sale, they are £\u001b[1;36m1500.56\u001b[0m each\n"
      ]
     },
     "metadata": {},
     "output_type": "display_data"
    }
   ],
   "source": [
    "item = 'hamster'\n",
    "number = 24\n",
    "decimal = 1500.559\n",
    "\n",
    "formatted_string = 'I have %d %ss for sale, they are £%.2f each' % (number, item, decimal)\n",
    "\n",
    "print(formatted_string)"
   ]
  },
  {
   "cell_type": "markdown",
   "id": "8d09e5c1",
   "metadata": {
    "slideshow": {
     "slide_type": "slide"
    }
   },
   "source": [
    "### <span style='color: blue'>String Interpolation</span> - Example 2\n",
    "\n",
    "The <span style='color: magenta'>**.format()**</span> method, which was introduced in <span style='color: blue'>**Python 2.6**</span> in 2008, is the method of string interpolation that should be used up to <span style='color: blue'>**Python 3.6**</span>."
   ]
  },
  {
   "cell_type": "code",
   "execution_count": 26,
   "id": "31d92d06",
   "metadata": {
    "slideshow": {
     "slide_type": "-"
    }
   },
   "outputs": [
    {
     "data": {
      "text/html": [
       "<pre style=\"white-space:pre;overflow-x:auto;line-height:normal;font-family:Menlo,'DejaVu Sans Mono',consolas,'Courier New',monospace\">I have <span style=\"color: #008080; text-decoration-color: #008080; font-weight: bold\">24</span> hamsters for sale, they are £<span style=\"color: #008080; text-decoration-color: #008080; font-weight: bold\">1</span>,<span style=\"color: #008080; text-decoration-color: #008080; font-weight: bold\">500.56</span> each.\n",
       "</pre>\n"
      ],
      "text/plain": [
       "I have \u001b[1;36m24\u001b[0m hamsters for sale, they are £\u001b[1;36m1\u001b[0m,\u001b[1;36m500.56\u001b[0m each.\n"
      ]
     },
     "metadata": {},
     "output_type": "display_data"
    }
   ],
   "source": [
    "item = 'hamster'\n",
    "number = 24\n",
    "decimal = 1500.559\n",
    "\n",
    "formatted_string = 'I have {} {}s for sale, they are £{:,.2f} each.'.format(number, item, decimal)\n",
    "\n",
    "print(formatted_string)"
   ]
  },
  {
   "cell_type": "markdown",
   "id": "4e8c74d1",
   "metadata": {
    "slideshow": {
     "slide_type": "slide"
    }
   },
   "source": [
    "### <span style='color: blue'>String Interpolation</span> - Example 3\n",
    "\n",
    "<span style='color: magenta'>**F-strings**</span>, introduced in <span style='color: magenta'>**2016**</span>, are the most efficient and readable way of string interpolation in <span style='color: magenta'>**Python 3.6**</span> and above."
   ]
  },
  {
   "cell_type": "code",
   "execution_count": 27,
   "id": "4f5e0416",
   "metadata": {
    "slideshow": {
     "slide_type": "-"
    }
   },
   "outputs": [
    {
     "data": {
      "text/html": [
       "<pre style=\"white-space:pre;overflow-x:auto;line-height:normal;font-family:Menlo,'DejaVu Sans Mono',consolas,'Courier New',monospace\">I have <span style=\"color: #008080; text-decoration-color: #008080; font-weight: bold\">24</span> hamsters for sale, they are £<span style=\"color: #008080; text-decoration-color: #008080; font-weight: bold\">1</span>,<span style=\"color: #008080; text-decoration-color: #008080; font-weight: bold\">500.56</span> each.\n",
       "</pre>\n"
      ],
      "text/plain": [
       "I have \u001b[1;36m24\u001b[0m hamsters for sale, they are £\u001b[1;36m1\u001b[0m,\u001b[1;36m500.56\u001b[0m each.\n"
      ]
     },
     "metadata": {},
     "output_type": "display_data"
    }
   ],
   "source": [
    "item = 'hamster'\n",
    "number = 24\n",
    "decimal = 1500.559\n",
    "\n",
    "formatted_string = f'I have {number} {item}s for sale, they are £{decimal:,.2f} each.'\n",
    "\n",
    "print(formatted_string)"
   ]
  },
  {
   "cell_type": "markdown",
   "id": "0f6771dd",
   "metadata": {
    "slideshow": {
     "slide_type": "fragment"
    }
   },
   "source": [
    "Variable <span style='color: magenta'>**names**</span> and <span style='color: magenta'>**values**</span> can be interpolated into strings by using the <span style='color: magenta'>**=**</span> mathematical operator.  This can be useful when debugging code."
   ]
  },
  {
   "cell_type": "code",
   "execution_count": 28,
   "id": "2db6aa17",
   "metadata": {
    "slideshow": {
     "slide_type": "fragment"
    }
   },
   "outputs": [
    {
     "data": {
      "text/html": [
       "<pre style=\"white-space:pre;overflow-x:auto;line-height:normal;font-family:Menlo,'DejaVu Sans Mono',consolas,'Courier New',monospace\">I have number = <span style=\"color: #008080; text-decoration-color: #008080; font-weight: bold\">24</span> item = <span style=\"color: #008000; text-decoration-color: #008000\">'hamster'</span>s for sale, they are £decimal = <span style=\"color: #008080; text-decoration-color: #008080; font-weight: bold\">1</span>,<span style=\"color: #008080; text-decoration-color: #008080; font-weight: bold\">500.56</span> each.\n",
       "</pre>\n"
      ],
      "text/plain": [
       "I have number = \u001b[1;36m24\u001b[0m item = \u001b[32m'hamster'\u001b[0ms for sale, they are £decimal = \u001b[1;36m1\u001b[0m,\u001b[1;36m500.56\u001b[0m each.\n"
      ]
     },
     "metadata": {},
     "output_type": "display_data"
    }
   ],
   "source": [
    "formatted_string = f'I have {number = } {item = }s for sale, they are £{decimal = :,.2f} each.'\n",
    "\n",
    "print(formatted_string)"
   ]
  },
  {
   "cell_type": "markdown",
   "id": "2bcf1061",
   "metadata": {
    "slideshow": {
     "slide_type": "slide"
    }
   },
   "source": [
    "### <span style='color: blue'>String Interpolation</span> - Dates\n",
    "\n",
    "You can also use string interpolation to format <span style='color: magenta'>**dates**</span>, using <span style='color: magenta'>**format specifiers**</span>, which can be more efficient and easier to read than converting datetime objects to strings as it doesn't alter the original datetime object."
   ]
  },
  {
   "cell_type": "code",
   "execution_count": 29,
   "id": "70880cd6",
   "metadata": {
    "slideshow": {
     "slide_type": "-"
    }
   },
   "outputs": [
    {
     "data": {
      "text/html": [
       "<pre style=\"white-space:pre;overflow-x:auto;line-height:normal;font-family:Menlo,'DejaVu Sans Mono',consolas,'Courier New',monospace\">Guido van Rossum was born <span style=\"color: #008080; text-decoration-color: #008080; font-weight: bold\">31</span> Jan <span style=\"color: #008080; text-decoration-color: #008080; font-weight: bold\">1956</span>\n",
       "</pre>\n"
      ],
      "text/plain": [
       "Guido van Rossum was born \u001b[1;36m31\u001b[0m Jan \u001b[1;36m1956\u001b[0m\n"
      ]
     },
     "metadata": {},
     "output_type": "display_data"
    }
   ],
   "source": [
    "import datetime as dt\n",
    "\n",
    "date = dt.datetime(year=1956, month=1, day=31)\n",
    "\n",
    "print(f'Guido van Rossum was born {date:%d %b %Y}')"
   ]
  },
  {
   "cell_type": "markdown",
   "id": "1e04d0a8",
   "metadata": {
    "slideshow": {
     "slide_type": "fragment"
    }
   },
   "source": [
    "There exists a variety of <span style='color: magenta'>**format specifiers**</span> that can alter the representation of date and time in string interpolation for datetime objects.  Here are some of them."
   ]
  },
  {
   "cell_type": "markdown",
   "id": "59eeb73d",
   "metadata": {
    "slideshow": {
     "slide_type": "fragment"
    }
   },
   "source": [
    "| Format Specifier |     Function     |\n",
    "|:----------------:|:----------------|\n",
    "|        `%Y`      |   4-digit year   |\n",
    "|        `%m`      |2-digit month (zero-padded)|\n",
    "|        `%d`      |2-digit day of the month (zero-padded)|\n",
    "|        `%j`      |Day of the year (001-366)|\n",
    "|        `%U`      |Week number of the year (Sunday as the first day of the week)|\n",
    "|        `%W`      |Week number of the year (Monday as the first day of the week)|\n",
    "|        `%x`      |Local date representation|\n"
   ]
  },
  {
   "cell_type": "markdown",
   "id": "3b875efa",
   "metadata": {
    "slideshow": {
     "slide_type": "slide"
    }
   },
   "source": [
    "## <span style='color: blue'>Common Methods</span> <a id='#common-methods'></a>\n",
    "\n",
    "Python string <span style='color: magenta'>**methods**</span> are <span style='color: magenta'>**built-in functions**</span> for performing operations on strings, such as formatting, searching, and manipulation,"
   ]
  },
  {
   "cell_type": "markdown",
   "id": "3abd126a",
   "metadata": {
    "slideshow": {
     "slide_type": "fragment"
    }
   },
   "source": [
    "The method <span style='color: blue'>**replace()**</span> replaces a substring with a new substring in a string."
   ]
  },
  {
   "cell_type": "code",
   "execution_count": 30,
   "id": "7b4af933",
   "metadata": {
    "slideshow": {
     "slide_type": "fragment"
    }
   },
   "outputs": [],
   "source": [
    "replace_string = 'Would you like to buy a turtle?, I have turtles to sell.'"
   ]
  },
  {
   "cell_type": "code",
   "execution_count": 31,
   "id": "58d47d4f",
   "metadata": {
    "slideshow": {
     "slide_type": "fragment"
    }
   },
   "outputs": [
    {
     "data": {
      "text/html": [
       "<pre style=\"white-space:pre;overflow-x:auto;line-height:normal;font-family:Menlo,'DejaVu Sans Mono',consolas,'Courier New',monospace\">Would you like to buy a terapin?, I have terapins to sell.\n",
       "</pre>\n"
      ],
      "text/plain": [
       "Would you like to buy a terapin?, I have terapins to sell.\n"
      ]
     },
     "metadata": {},
     "output_type": "display_data"
    }
   ],
   "source": [
    "print(replace_string.replace('turtle', 'terapin'))"
   ]
  },
  {
   "cell_type": "markdown",
   "id": "65bad8dc",
   "metadata": {
    "slideshow": {
     "slide_type": "fragment"
    }
   },
   "source": [
    "The method <span style='color: blue'>**replace()**</span> also has a <span style='color: magenta'>**count**</span> parameter that determines the maximum number of occurrences to be replaced."
   ]
  },
  {
   "cell_type": "code",
   "execution_count": 32,
   "id": "6913f108",
   "metadata": {
    "slideshow": {
     "slide_type": "fragment"
    }
   },
   "outputs": [
    {
     "data": {
      "text/html": [
       "<pre style=\"white-space:pre;overflow-x:auto;line-height:normal;font-family:Menlo,'DejaVu Sans Mono',consolas,'Courier New',monospace\">Would you like to buy a terapin?, I have turtles to sell.\n",
       "</pre>\n"
      ],
      "text/plain": [
       "Would you like to buy a terapin?, I have turtles to sell.\n"
      ]
     },
     "metadata": {},
     "output_type": "display_data"
    }
   ],
   "source": [
    "print(replace_string.replace('turtle', 'terapin', 1))"
   ]
  },
  {
   "cell_type": "markdown",
   "id": "8e78584a",
   "metadata": {
    "slideshow": {
     "slide_type": "slide"
    }
   },
   "source": [
    "<span style='color: blue'>**Case Related Methods**</span> - manipulate the case of characters in a string."
   ]
  },
  {
   "cell_type": "code",
   "execution_count": 33,
   "id": "6e3307ea",
   "metadata": {
    "slideshow": {
     "slide_type": "fragment"
    }
   },
   "outputs": [],
   "source": [
    "case_string = 'hans went to Germany to play Fußball'"
   ]
  },
  {
   "cell_type": "code",
   "execution_count": 34,
   "id": "3c20dce9",
   "metadata": {
    "slideshow": {
     "slide_type": "fragment"
    }
   },
   "outputs": [
    {
     "data": {
      "text/html": [
       "<pre style=\"white-space:pre;overflow-x:auto;line-height:normal;font-family:Menlo,'DejaVu Sans Mono',consolas,'Courier New',monospace\">Hans went to germany to play fußball\n",
       "</pre>\n"
      ],
      "text/plain": [
       "Hans went to germany to play fußball\n"
      ]
     },
     "metadata": {},
     "output_type": "display_data"
    }
   ],
   "source": [
    "print(case_string.capitalize())"
   ]
  },
  {
   "cell_type": "code",
   "execution_count": 35,
   "id": "b6eb94fb",
   "metadata": {
    "slideshow": {
     "slide_type": "fragment"
    }
   },
   "outputs": [
    {
     "data": {
      "text/html": [
       "<pre style=\"white-space:pre;overflow-x:auto;line-height:normal;font-family:Menlo,'DejaVu Sans Mono',consolas,'Courier New',monospace\">hans went to germany to play fußball\n",
       "</pre>\n"
      ],
      "text/plain": [
       "hans went to germany to play fußball\n"
      ]
     },
     "metadata": {},
     "output_type": "display_data"
    }
   ],
   "source": [
    "print(case_string.lower()) # Only works on ASCII characters"
   ]
  },
  {
   "cell_type": "code",
   "execution_count": 36,
   "id": "cd8461a3",
   "metadata": {
    "slideshow": {
     "slide_type": "fragment"
    }
   },
   "outputs": [
    {
     "data": {
      "text/html": [
       "<pre style=\"white-space:pre;overflow-x:auto;line-height:normal;font-family:Menlo,'DejaVu Sans Mono',consolas,'Courier New',monospace\">hans went to germany to play fussball\n",
       "</pre>\n"
      ],
      "text/plain": [
       "hans went to germany to play fussball\n"
      ]
     },
     "metadata": {},
     "output_type": "display_data"
    }
   ],
   "source": [
    "print(case_string.casefold()) # Works on UNICODE characters"
   ]
  },
  {
   "cell_type": "code",
   "execution_count": 37,
   "id": "2c7cebad",
   "metadata": {
    "slideshow": {
     "slide_type": "fragment"
    }
   },
   "outputs": [
    {
     "data": {
      "text/html": [
       "<pre style=\"white-space:pre;overflow-x:auto;line-height:normal;font-family:Menlo,'DejaVu Sans Mono',consolas,'Courier New',monospace\">HANS WENT TO GERMANY TO PLAY FUSSBALL\n",
       "</pre>\n"
      ],
      "text/plain": [
       "HANS WENT TO GERMANY TO PLAY FUSSBALL\n"
      ]
     },
     "metadata": {},
     "output_type": "display_data"
    }
   ],
   "source": [
    "print(case_string.upper())"
   ]
  },
  {
   "cell_type": "code",
   "execution_count": 38,
   "id": "62bdf236",
   "metadata": {
    "slideshow": {
     "slide_type": "fragment"
    }
   },
   "outputs": [
    {
     "data": {
      "text/html": [
       "<pre style=\"white-space:pre;overflow-x:auto;line-height:normal;font-family:Menlo,'DejaVu Sans Mono',consolas,'Courier New',monospace\">Hans Went To Germany To Play Fußball\n",
       "</pre>\n"
      ],
      "text/plain": [
       "Hans Went To Germany To Play Fußball\n"
      ]
     },
     "metadata": {},
     "output_type": "display_data"
    }
   ],
   "source": [
    "print(case_string.title())"
   ]
  },
  {
   "cell_type": "code",
   "execution_count": 39,
   "id": "81fa33c4",
   "metadata": {
    "slideshow": {
     "slide_type": "fragment"
    }
   },
   "outputs": [
    {
     "data": {
      "text/html": [
       "<pre style=\"white-space:pre;overflow-x:auto;line-height:normal;font-family:Menlo,'DejaVu Sans Mono',consolas,'Courier New',monospace\">HANS WENT TO gERMANY TO PLAY fUSSBALL\n",
       "</pre>\n"
      ],
      "text/plain": [
       "HANS WENT TO gERMANY TO PLAY fUSSBALL\n"
      ]
     },
     "metadata": {},
     "output_type": "display_data"
    }
   ],
   "source": [
    "print(case_string.swapcase())"
   ]
  },
  {
   "cell_type": "markdown",
   "id": "775626c8",
   "metadata": {
    "slideshow": {
     "slide_type": "slide"
    }
   },
   "source": [
    "<span style='color: blue'>**More Methods**</span> - locating, enumerating & manpiulating strings."
   ]
  },
  {
   "cell_type": "code",
   "execution_count": 40,
   "id": "5efdb7d4",
   "metadata": {
    "slideshow": {
     "slide_type": "fragment"
    }
   },
   "outputs": [],
   "source": [
    "my_string = 'Linda found some glue, and glued her hand to her face.'"
   ]
  },
  {
   "cell_type": "markdown",
   "id": "684ebd9b",
   "metadata": {
    "slideshow": {
     "slide_type": "fragment"
    }
   },
   "source": [
    "The <span style='color: blue'>**find()**</span> method searches a string from <span style='color: magenta'>**left to right**</span> for a substring and returns the index of the first occurrence. Conversely, the <span style='color: blue'>**rfind()**</span> method searches from <span style='color: magenta'>**right to left**</span> for the substring and returns the index of the last occurrence."
   ]
  },
  {
   "cell_type": "code",
   "execution_count": 41,
   "id": "14cc3d40",
   "metadata": {
    "slideshow": {
     "slide_type": "fragment"
    }
   },
   "outputs": [
    {
     "data": {
      "text/html": [
       "<pre style=\"white-space:pre;overflow-x:auto;line-height:normal;font-family:Menlo,'DejaVu Sans Mono',consolas,'Courier New',monospace\"><span style=\"color: #008080; text-decoration-color: #008080; font-weight: bold\">17</span>\n",
       "</pre>\n"
      ],
      "text/plain": [
       "\u001b[1;36m17\u001b[0m\n"
      ]
     },
     "metadata": {},
     "output_type": "display_data"
    }
   ],
   "source": [
    "print(my_string.find('glue'))"
   ]
  },
  {
   "cell_type": "code",
   "execution_count": 42,
   "id": "aaa10a30",
   "metadata": {
    "slideshow": {
     "slide_type": "fragment"
    }
   },
   "outputs": [
    {
     "data": {
      "text/html": [
       "<pre style=\"white-space:pre;overflow-x:auto;line-height:normal;font-family:Menlo,'DejaVu Sans Mono',consolas,'Courier New',monospace\"><span style=\"color: #008080; text-decoration-color: #008080; font-weight: bold\">27</span>\n",
       "</pre>\n"
      ],
      "text/plain": [
       "\u001b[1;36m27\u001b[0m\n"
      ]
     },
     "metadata": {},
     "output_type": "display_data"
    }
   ],
   "source": [
    "print(my_string.rfind('glue'))"
   ]
  },
  {
   "cell_type": "markdown",
   "id": "76a5a7e1",
   "metadata": {
    "slideshow": {
     "slide_type": "slide"
    }
   },
   "source": [
    "The <span style='color: blue'>**find**</span> methods in Python can be extended with <span style='color: magenta'>**two optional parameters**</span> to specify the <span style='color: magenta'>**starting**</span> and <span style='color: magenta'>**ending**</span> indexes for the search. "
   ]
  },
  {
   "cell_type": "code",
   "execution_count": 43,
   "id": "96d69f0b",
   "metadata": {
    "slideshow": {
     "slide_type": "fragment"
    }
   },
   "outputs": [
    {
     "data": {
      "text/html": [
       "<pre style=\"white-space:pre;overflow-x:auto;line-height:normal;font-family:Menlo,'DejaVu Sans Mono',consolas,'Courier New',monospace\"><span style=\"color: #008080; text-decoration-color: #008080; font-weight: bold\">27</span>\n",
       "</pre>\n"
      ],
      "text/plain": [
       "\u001b[1;36m27\u001b[0m\n"
      ]
     },
     "metadata": {},
     "output_type": "display_data"
    }
   ],
   "source": [
    "print(my_string.find('glue', 18, 31))"
   ]
  },
  {
   "cell_type": "markdown",
   "id": "a58a2a88",
   "metadata": {
    "slideshow": {
     "slide_type": "fragment"
    }
   },
   "source": [
    "If the find methods <span style='color: magenta'>**cannot find a match**</span> for the specified substring within the string, it will <span style='color: magenta'>**return -1**</span>."
   ]
  },
  {
   "cell_type": "code",
   "execution_count": 44,
   "id": "40fc6433",
   "metadata": {
    "slideshow": {
     "slide_type": "fragment"
    }
   },
   "outputs": [
    {
     "data": {
      "text/html": [
       "<pre style=\"white-space:pre;overflow-x:auto;line-height:normal;font-family:Menlo,'DejaVu Sans Mono',consolas,'Courier New',monospace\"><span style=\"color: #008080; text-decoration-color: #008080; font-weight: bold\">-1</span>\n",
       "</pre>\n"
      ],
      "text/plain": [
       "\u001b[1;36m-1\u001b[0m\n"
      ]
     },
     "metadata": {},
     "output_type": "display_data"
    }
   ],
   "source": [
    "print(my_string.find('blue'))"
   ]
  },
  {
   "cell_type": "markdown",
   "id": "ea7f629e",
   "metadata": {
    "slideshow": {
     "slide_type": "slide"
    }
   },
   "source": [
    "The <span style='color: blue'>**index()**</span> method in Python is similar to <span style='color: blue'>**find()**</span>, but raises a <span style='color: magenta'>**ValueError**</span> if the substring is not found instead of returning <span style='color: magenta'>**-1**</span>."
   ]
  },
  {
   "cell_type": "code",
   "execution_count": 45,
   "id": "3ca0a99e",
   "metadata": {
    "slideshow": {
     "slide_type": "fragment"
    }
   },
   "outputs": [
    {
     "data": {
      "text/html": [
       "<pre style=\"white-space:pre;overflow-x:auto;line-height:normal;font-family:Menlo,'DejaVu Sans Mono',consolas,'Courier New',monospace\"><span style=\"color: #008080; text-decoration-color: #008080; font-weight: bold\">17</span>\n",
       "</pre>\n"
      ],
      "text/plain": [
       "\u001b[1;36m17\u001b[0m\n"
      ]
     },
     "metadata": {},
     "output_type": "display_data"
    }
   ],
   "source": [
    "print(my_string.index('glue'))"
   ]
  },
  {
   "cell_type": "code",
   "execution_count": 46,
   "id": "7c85b12b",
   "metadata": {
    "slideshow": {
     "slide_type": "fragment"
    }
   },
   "outputs": [
    {
     "data": {
      "text/html": [
       "<pre style=\"white-space:pre;overflow-x:auto;line-height:normal;font-family:Menlo,'DejaVu Sans Mono',consolas,'Courier New',monospace\">substring not found\n",
       "</pre>\n"
      ],
      "text/plain": [
       "substring not found\n"
      ]
     },
     "metadata": {},
     "output_type": "display_data"
    }
   ],
   "source": [
    "# To demonstrate error a try-except block is used\n",
    "try:\n",
    "    print(my_string.index('blue'))\n",
    "except Exception as error:\n",
    "    print(error)"
   ]
  },
  {
   "cell_type": "markdown",
   "id": "2fca58b9",
   "metadata": {
    "slideshow": {
     "slide_type": "slide"
    }
   },
   "source": [
    "The <span style='color: blue'>**count()**</span> method in Python returns the <span style='color: magenta'>**number of occurrences**</span> of a substring in a string."
   ]
  },
  {
   "cell_type": "code",
   "execution_count": 47,
   "id": "a115eedd",
   "metadata": {
    "slideshow": {
     "slide_type": "fragment"
    }
   },
   "outputs": [],
   "source": [
    "my_string = 'Linda found some glue, and glued her hand to her face.'"
   ]
  },
  {
   "cell_type": "code",
   "execution_count": 48,
   "id": "cf5199fb",
   "metadata": {
    "slideshow": {
     "slide_type": "fragment"
    }
   },
   "outputs": [
    {
     "data": {
      "text/html": [
       "<pre style=\"white-space:pre;overflow-x:auto;line-height:normal;font-family:Menlo,'DejaVu Sans Mono',consolas,'Courier New',monospace\"><span style=\"color: #008080; text-decoration-color: #008080; font-weight: bold\">2</span>\n",
       "</pre>\n"
      ],
      "text/plain": [
       "\u001b[1;36m2\u001b[0m\n"
      ]
     },
     "metadata": {},
     "output_type": "display_data"
    }
   ],
   "source": [
    "print(my_string.count('glue'))"
   ]
  },
  {
   "cell_type": "code",
   "execution_count": 49,
   "id": "7c5ef0f6",
   "metadata": {
    "slideshow": {
     "slide_type": "fragment"
    }
   },
   "outputs": [
    {
     "data": {
      "text/html": [
       "<pre style=\"white-space:pre;overflow-x:auto;line-height:normal;font-family:Menlo,'DejaVu Sans Mono',consolas,'Courier New',monospace\"><span style=\"color: #008080; text-decoration-color: #008080; font-weight: bold\">0</span>\n",
       "</pre>\n"
      ],
      "text/plain": [
       "\u001b[1;36m0\u001b[0m\n"
      ]
     },
     "metadata": {},
     "output_type": "display_data"
    }
   ],
   "source": [
    "print(my_string.count('blue'))"
   ]
  },
  {
   "cell_type": "markdown",
   "id": "f15cfd54",
   "metadata": {
    "slideshow": {
     "slide_type": "fragment"
    }
   },
   "source": [
    "The method <span style='color: blue'>**count()**</span> can take optional parameters for the <span style='color: magenta'>**start**</span> and <span style='color: magenta'>**end**</span> index of the search."
   ]
  },
  {
   "cell_type": "code",
   "execution_count": 50,
   "id": "c9ec31a0",
   "metadata": {
    "slideshow": {
     "slide_type": "fragment"
    }
   },
   "outputs": [
    {
     "data": {
      "text/html": [
       "<pre style=\"white-space:pre;overflow-x:auto;line-height:normal;font-family:Menlo,'DejaVu Sans Mono',consolas,'Courier New',monospace\"><span style=\"color: #008080; text-decoration-color: #008080; font-weight: bold\">1</span>\n",
       "</pre>\n"
      ],
      "text/plain": [
       "\u001b[1;36m1\u001b[0m\n"
      ]
     },
     "metadata": {},
     "output_type": "display_data"
    }
   ],
   "source": [
    "print(my_string.count('glue', 17, 21))"
   ]
  },
  {
   "cell_type": "markdown",
   "id": "370195bb",
   "metadata": {
    "slideshow": {
     "slide_type": "slide"
    }
   },
   "source": [
    "The <span style='color: blue'>**partition()**</span> and <span style='color: blue'>**rpartition()**</span> methods in Python splits a string into <span style='color: magenta'>**three parts**</span>: \n",
    "1. The text <span style='color: magenta'>**before**</span> the separator.\n",
    "2. The <span style='color: magenta'>**separator**</span>.\n",
    "3. The text <span style='color: magenta'>**after**</span> the separator"
   ]
  },
  {
   "cell_type": "code",
   "execution_count": 51,
   "id": "cc6d3214",
   "metadata": {
    "slideshow": {
     "slide_type": "fragment"
    }
   },
   "outputs": [],
   "source": [
    "partition_string = 'Margaret ate my lunch, my lunch was in the office fridge.'"
   ]
  },
  {
   "cell_type": "code",
   "execution_count": 52,
   "id": "86405220",
   "metadata": {
    "slideshow": {
     "slide_type": "fragment"
    }
   },
   "outputs": [
    {
     "data": {
      "text/html": [
       "<pre style=\"white-space:pre;overflow-x:auto;line-height:normal;font-family:Menlo,'DejaVu Sans Mono',consolas,'Courier New',monospace\"><span style=\"font-weight: bold\">(</span><span style=\"color: #008000; text-decoration-color: #008000\">'Margaret ate my '</span>, <span style=\"color: #008000; text-decoration-color: #008000\">'lunch'</span>, <span style=\"color: #008000; text-decoration-color: #008000\">', my lunch was in the office fridge.'</span><span style=\"font-weight: bold\">)</span>\n",
       "</pre>\n"
      ],
      "text/plain": [
       "\u001b[1m(\u001b[0m\u001b[32m'Margaret ate my '\u001b[0m, \u001b[32m'lunch'\u001b[0m, \u001b[32m', my lunch was in the office fridge.'\u001b[0m\u001b[1m)\u001b[0m\n"
      ]
     },
     "metadata": {},
     "output_type": "display_data"
    }
   ],
   "source": [
    "print(partition_string.partition('lunch'))"
   ]
  },
  {
   "cell_type": "code",
   "execution_count": 53,
   "id": "208f0344",
   "metadata": {
    "slideshow": {
     "slide_type": "fragment"
    }
   },
   "outputs": [
    {
     "data": {
      "text/html": [
       "<pre style=\"white-space:pre;overflow-x:auto;line-height:normal;font-family:Menlo,'DejaVu Sans Mono',consolas,'Courier New',monospace\"><span style=\"font-weight: bold\">(</span><span style=\"color: #008000; text-decoration-color: #008000\">'Margaret ate my lunch, my '</span>, <span style=\"color: #008000; text-decoration-color: #008000\">'lunch'</span>, <span style=\"color: #008000; text-decoration-color: #008000\">' was in the office fridge.'</span><span style=\"font-weight: bold\">)</span>\n",
       "</pre>\n"
      ],
      "text/plain": [
       "\u001b[1m(\u001b[0m\u001b[32m'Margaret ate my lunch, my '\u001b[0m, \u001b[32m'lunch'\u001b[0m, \u001b[32m' was in the office fridge.'\u001b[0m\u001b[1m)\u001b[0m\n"
      ]
     },
     "metadata": {},
     "output_type": "display_data"
    }
   ],
   "source": [
    "print(partition_string.rpartition('lunch'))"
   ]
  },
  {
   "cell_type": "markdown",
   "id": "dde9c589",
   "metadata": {
    "slideshow": {
     "slide_type": "slide"
    }
   },
   "source": [
    "## <span style='color: blue'>**Join & Split**</span> <a id='#join-split'></a>\n",
    "\n",
    "The <span style='color: blue'>**split()**</span> method in Python splits a string into a <span style='color: magenta'>**list of substrings**</span> based on a specified separator."
   ]
  },
  {
   "cell_type": "code",
   "execution_count": 54,
   "id": "e9f0cc77",
   "metadata": {
    "slideshow": {
     "slide_type": "fragment"
    }
   },
   "outputs": [],
   "source": [
    "split_string = 'Janet believes she can communicate with houseplants'"
   ]
  },
  {
   "cell_type": "code",
   "execution_count": 55,
   "id": "b023d820",
   "metadata": {
    "slideshow": {
     "slide_type": "fragment"
    }
   },
   "outputs": [
    {
     "data": {
      "text/html": [
       "<pre style=\"white-space:pre;overflow-x:auto;line-height:normal;font-family:Menlo,'DejaVu Sans Mono',consolas,'Courier New',monospace\"><span style=\"font-weight: bold\">[</span><span style=\"color: #008000; text-decoration-color: #008000\">'Janet'</span>, <span style=\"color: #008000; text-decoration-color: #008000\">'believes'</span>, <span style=\"color: #008000; text-decoration-color: #008000\">'she'</span>, <span style=\"color: #008000; text-decoration-color: #008000\">'can'</span>, <span style=\"color: #008000; text-decoration-color: #008000\">'communicate'</span>, <span style=\"color: #008000; text-decoration-color: #008000\">'with'</span>, <span style=\"color: #008000; text-decoration-color: #008000\">'houseplants'</span><span style=\"font-weight: bold\">]</span>\n",
       "</pre>\n"
      ],
      "text/plain": [
       "\u001b[1m[\u001b[0m\u001b[32m'Janet'\u001b[0m, \u001b[32m'believes'\u001b[0m, \u001b[32m'she'\u001b[0m, \u001b[32m'can'\u001b[0m, \u001b[32m'communicate'\u001b[0m, \u001b[32m'with'\u001b[0m, \u001b[32m'houseplants'\u001b[0m\u001b[1m]\u001b[0m\n"
      ]
     },
     "metadata": {},
     "output_type": "display_data"
    }
   ],
   "source": [
    "print(split_string.split())"
   ]
  },
  {
   "cell_type": "code",
   "execution_count": 56,
   "id": "d1fcea39",
   "metadata": {
    "slideshow": {
     "slide_type": "fragment"
    }
   },
   "outputs": [
    {
     "data": {
      "text/html": [
       "<pre style=\"white-space:pre;overflow-x:auto;line-height:normal;font-family:Menlo,'DejaVu Sans Mono',consolas,'Courier New',monospace\"><span style=\"font-weight: bold\">[</span><span style=\"color: #008000; text-decoration-color: #008000\">'Jan'</span>, <span style=\"color: #008000; text-decoration-color: #008000\">'t b'</span>, <span style=\"color: #008000; text-decoration-color: #008000\">'li'</span>, <span style=\"color: #008000; text-decoration-color: #008000\">'v'</span>, <span style=\"color: #008000; text-decoration-color: #008000\">'s sh'</span>, <span style=\"color: #008000; text-decoration-color: #008000\">' can communicat'</span>, <span style=\"color: #008000; text-decoration-color: #008000\">' with hous'</span>, <span style=\"color: #008000; text-decoration-color: #008000\">'plants'</span><span style=\"font-weight: bold\">]</span>\n",
       "</pre>\n"
      ],
      "text/plain": [
       "\u001b[1m[\u001b[0m\u001b[32m'Jan'\u001b[0m, \u001b[32m't b'\u001b[0m, \u001b[32m'li'\u001b[0m, \u001b[32m'v'\u001b[0m, \u001b[32m's sh'\u001b[0m, \u001b[32m' can communicat'\u001b[0m, \u001b[32m' with hous'\u001b[0m, \u001b[32m'plants'\u001b[0m\u001b[1m]\u001b[0m\n"
      ]
     },
     "metadata": {},
     "output_type": "display_data"
    }
   ],
   "source": [
    "print(split_string.split('e'))"
   ]
  },
  {
   "cell_type": "markdown",
   "id": "0e212fe4",
   "metadata": {
    "slideshow": {
     "slide_type": "fragment"
    }
   },
   "source": [
    "The <span style='color: blue'>**join()**</span> method, on the other hand, joins a sequence of strings using a specified separator to <span style='color: magenta'>**create a single string**</span>."
   ]
  },
  {
   "cell_type": "code",
   "execution_count": 57,
   "id": "5cf2fdad",
   "metadata": {
    "slideshow": {
     "slide_type": "fragment"
    }
   },
   "outputs": [],
   "source": [
    "join_list = ['Janet', 'believes', 'she', 'can', 'communicate', 'with', 'houseplants']"
   ]
  },
  {
   "cell_type": "code",
   "execution_count": 58,
   "id": "6cd9e384",
   "metadata": {
    "slideshow": {
     "slide_type": "fragment"
    }
   },
   "outputs": [
    {
     "data": {
      "text/html": [
       "<pre style=\"white-space:pre;overflow-x:auto;line-height:normal;font-family:Menlo,'DejaVu Sans Mono',consolas,'Courier New',monospace\">Janet believes she can communicate with houseplants\n",
       "</pre>\n"
      ],
      "text/plain": [
       "Janet believes she can communicate with houseplants\n"
      ]
     },
     "metadata": {},
     "output_type": "display_data"
    }
   ],
   "source": [
    "print(' '.join(join_list))"
   ]
  },
  {
   "cell_type": "markdown",
   "id": "55c140f0",
   "metadata": {
    "slideshow": {
     "slide_type": "slide"
    }
   },
   "source": [
    "<span style='color: blue'>**Whitespace**</span> - Managing and removing unwanted spaces."
   ]
  },
  {
   "cell_type": "markdown",
   "id": "f79acd9e",
   "metadata": {
    "slideshow": {
     "slide_type": "fragment"
    }
   },
   "source": [
    "The  <span style='color: blue'>**strip()**</span> method removes  <span style='color: magenta'>**leading and trailing**</span> whitespace characters from a string, while  <span style='color: blue'>**lstrip()**</span> removes only  <span style='color: magenta'>**leading**</span> and  <span style='color: blue'>**rstrip()**</span> removes only  <span style='color: magenta'>**trailing**</span> whitespace characters."
   ]
  },
  {
   "cell_type": "code",
   "execution_count": 59,
   "id": "d08df347",
   "metadata": {
    "slideshow": {
     "slide_type": "fragment"
    }
   },
   "outputs": [],
   "source": [
    "ws_string = '           lots      of       whitespace             '"
   ]
  },
  {
   "cell_type": "code",
   "execution_count": 60,
   "id": "d8e9c6cf",
   "metadata": {
    "slideshow": {
     "slide_type": "fragment"
    }
   },
   "outputs": [
    {
     "data": {
      "text/html": [
       "<pre style=\"white-space:pre;overflow-x:auto;line-height:normal;font-family:Menlo,'DejaVu Sans Mono',consolas,'Courier New',monospace\">           lots      of       whitespace\n",
       "</pre>\n"
      ],
      "text/plain": [
       "           lots      of       whitespace\n"
      ]
     },
     "metadata": {},
     "output_type": "display_data"
    }
   ],
   "source": [
    "print(ws_string.rstrip())"
   ]
  },
  {
   "cell_type": "code",
   "execution_count": 61,
   "id": "5ba430a8",
   "metadata": {
    "slideshow": {
     "slide_type": "fragment"
    }
   },
   "outputs": [
    {
     "data": {
      "text/html": [
       "<pre style=\"white-space:pre;overflow-x:auto;line-height:normal;font-family:Menlo,'DejaVu Sans Mono',consolas,'Courier New',monospace\">lotsofwhitespace\n",
       "</pre>\n"
      ],
      "text/plain": [
       "lotsofwhitespace\n"
      ]
     },
     "metadata": {},
     "output_type": "display_data"
    }
   ],
   "source": [
    "print(ws_string.replace(' ', ''))"
   ]
  },
  {
   "cell_type": "code",
   "execution_count": 62,
   "id": "0284bf2e",
   "metadata": {
    "slideshow": {
     "slide_type": "fragment"
    }
   },
   "outputs": [
    {
     "data": {
      "text/html": [
       "<pre style=\"white-space:pre;overflow-x:auto;line-height:normal;font-family:Menlo,'DejaVu Sans Mono',consolas,'Courier New',monospace\">lots of whitespace\n",
       "</pre>\n"
      ],
      "text/plain": [
       "lots of whitespace\n"
      ]
     },
     "metadata": {},
     "output_type": "display_data"
    }
   ],
   "source": [
    "print(' '.join(ws_string.split()))"
   ]
  },
  {
   "cell_type": "markdown",
   "id": "2d833ea6",
   "metadata": {
    "slideshow": {
     "slide_type": "slide"
    }
   },
   "source": [
    "## <span style='color: blue'>**Boolean Methods**</span> - Methods than return True or False if conditions are met. <a id='#boolean-methods'></a>"
   ]
  },
  {
   "cell_type": "code",
   "execution_count": 63,
   "id": "21bc9219",
   "metadata": {
    "slideshow": {
     "slide_type": "fragment"
    }
   },
   "outputs": [],
   "source": [
    "bool_string = 'i like dogs'"
   ]
  },
  {
   "cell_type": "code",
   "execution_count": 64,
   "id": "09d06d91",
   "metadata": {
    "slideshow": {
     "slide_type": "fragment"
    }
   },
   "outputs": [
    {
     "data": {
      "text/html": [
       "<pre style=\"white-space:pre;overflow-x:auto;line-height:normal;font-family:Menlo,'DejaVu Sans Mono',consolas,'Courier New',monospace\"><span style=\"color: #00ff00; text-decoration-color: #00ff00; font-style: italic\">True</span>\n",
       "</pre>\n"
      ],
      "text/plain": [
       "\u001b[3;92mTrue\u001b[0m\n"
      ]
     },
     "metadata": {},
     "output_type": "display_data"
    }
   ],
   "source": [
    "print(bool_string.endswith('dogs'))"
   ]
  },
  {
   "cell_type": "code",
   "execution_count": 65,
   "id": "8b31e958",
   "metadata": {
    "slideshow": {
     "slide_type": "fragment"
    }
   },
   "outputs": [
    {
     "data": {
      "text/html": [
       "<pre style=\"white-space:pre;overflow-x:auto;line-height:normal;font-family:Menlo,'DejaVu Sans Mono',consolas,'Courier New',monospace\"><span style=\"color: #00ff00; text-decoration-color: #00ff00; font-style: italic\">True</span>\n",
       "</pre>\n"
      ],
      "text/plain": [
       "\u001b[3;92mTrue\u001b[0m\n"
      ]
     },
     "metadata": {},
     "output_type": "display_data"
    }
   ],
   "source": [
    "print(bool_string.startswith('i'))"
   ]
  },
  {
   "cell_type": "code",
   "execution_count": 66,
   "id": "34c9c2cc",
   "metadata": {
    "slideshow": {
     "slide_type": "fragment"
    }
   },
   "outputs": [
    {
     "data": {
      "text/html": [
       "<pre style=\"white-space:pre;overflow-x:auto;line-height:normal;font-family:Menlo,'DejaVu Sans Mono',consolas,'Courier New',monospace\"><span style=\"color: #00ff00; text-decoration-color: #00ff00; font-style: italic\">True</span>\n",
       "</pre>\n"
      ],
      "text/plain": [
       "\u001b[3;92mTrue\u001b[0m\n"
      ]
     },
     "metadata": {},
     "output_type": "display_data"
    }
   ],
   "source": [
    "print(bool_string.islower())"
   ]
  },
  {
   "cell_type": "code",
   "execution_count": 67,
   "id": "2e3c5b1d",
   "metadata": {
    "slideshow": {
     "slide_type": "fragment"
    }
   },
   "outputs": [
    {
     "data": {
      "text/html": [
       "<pre style=\"white-space:pre;overflow-x:auto;line-height:normal;font-family:Menlo,'DejaVu Sans Mono',consolas,'Courier New',monospace\"><span style=\"color: #ff0000; text-decoration-color: #ff0000; font-style: italic\">False</span>\n",
       "</pre>\n"
      ],
      "text/plain": [
       "\u001b[3;91mFalse\u001b[0m\n"
      ]
     },
     "metadata": {},
     "output_type": "display_data"
    }
   ],
   "source": [
    "print(bool_string.isupper())"
   ]
  },
  {
   "cell_type": "code",
   "execution_count": 68,
   "id": "bc5b5d89",
   "metadata": {
    "slideshow": {
     "slide_type": "fragment"
    }
   },
   "outputs": [
    {
     "data": {
      "text/html": [
       "<pre style=\"white-space:pre;overflow-x:auto;line-height:normal;font-family:Menlo,'DejaVu Sans Mono',consolas,'Courier New',monospace\"><span style=\"color: #ff0000; text-decoration-color: #ff0000; font-style: italic\">False</span>\n",
       "</pre>\n"
      ],
      "text/plain": [
       "\u001b[3;91mFalse\u001b[0m\n"
      ]
     },
     "metadata": {},
     "output_type": "display_data"
    }
   ],
   "source": [
    "print(bool_string.istitle())"
   ]
  },
  {
   "cell_type": "code",
   "execution_count": 69,
   "id": "e930bb98",
   "metadata": {
    "slideshow": {
     "slide_type": "fragment"
    }
   },
   "outputs": [
    {
     "data": {
      "text/html": [
       "<pre style=\"white-space:pre;overflow-x:auto;line-height:normal;font-family:Menlo,'DejaVu Sans Mono',consolas,'Courier New',monospace\"><span style=\"color: #ff0000; text-decoration-color: #ff0000; font-style: italic\">False</span>\n",
       "</pre>\n"
      ],
      "text/plain": [
       "\u001b[3;91mFalse\u001b[0m\n"
      ]
     },
     "metadata": {},
     "output_type": "display_data"
    }
   ],
   "source": [
    "print(my_string.isspace())"
   ]
  },
  {
   "cell_type": "markdown",
   "id": "5bd7ecb7",
   "metadata": {
    "slideshow": {
     "slide_type": "slide"
    }
   },
   "source": [
    "The <span style='color: blue'>**isalpha()**</span> method returns <span style='color: magenta'>**True**</span> if all characters in the string are <span style='color: magenta'>**alphbetical**</span>, while the <span style='color: blue'>**isalnum()**</span> method returns <span style='color: magenta'>**True**</span> if all characters in the string are either <span style='color: magenta'>**alphabetical**</span> or <span style='color: magenta'>**numerical**</span>."
   ]
  },
  {
   "cell_type": "markdown",
   "id": "068c5d18",
   "metadata": {
    "slideshow": {
     "slide_type": "fragment"
    }
   },
   "source": [
    "| Strings   | .isalpha() | .isalnum() |\n",
    "|:-----------|-----------|------------|\n",
    "| `abc`     | True      | True       |\n",
    "| `123`     | False     | True       |\n",
    "| `acb123`  | False     | True       |\n",
    "| `abc123!?`| False     | False      |\n"
   ]
  },
  {
   "cell_type": "markdown",
   "id": "3b5004cf",
   "metadata": {
    "slideshow": {
     "slide_type": "fragment"
    }
   },
   "source": [
    "Python's numerical values fall into <span style='color: magenta'>**three distinct categories**</span>, which can be distinguished using the <span style='color: magenta'>**isdecimal()**</span>, <span style='color: magenta'>**isdigit()**</span>, and <span style='color: magenta'>**isnumeric()**</span> methods. The table presented below illustrates the <span style='color: magenta'>**boolean**</span> results returned by each method."
   ]
  },
  {
   "cell_type": "markdown",
   "id": "502af655",
   "metadata": {
    "slideshow": {
     "slide_type": "fragment"
    }
   },
   "source": [
    "| String | isdecimal() | isdigit() | isnumeric() |\n",
    "|:--------:|-------------|-----------|--------------|\n",
    "| 3    | True        | True      | True         |\n",
    "| ١٢٣٤٥٦٧٨٩ | True        | True      | True         |\n",
    "| 3²   | False       | True      | True         |\n",
    "| ③    | False       | True      | True         |\n",
    "| Ⅻ   | False       | False     | True         |\n"
   ]
  },
  {
   "cell_type": "markdown",
   "id": "f17cf79b",
   "metadata": {
    "slideshow": {
     "slide_type": "slide"
    }
   },
   "source": [
    "## <span style='color: blue'>**Text Alignment**</span> - Format and align text. <a id='#text-alignment'></a>"
   ]
  },
  {
   "cell_type": "markdown",
   "id": "f8bb86ba",
   "metadata": {
    "slideshow": {
     "slide_type": "fragment"
    }
   },
   "source": [
    "<span style='color: magenta'>**Center**</span>, <span style='color: magenta'>**left justify**</span>, and <span style='color: magenta'>**right justify**</span> a string within a <span style='color: magenta'>**width**</span> and a <span style='color: magenta'>**pad character**</span> with the methods <span style='color: blue'>**center()**</span>, <span style='color: blue'>**ljust()**</span>, and <span style='color: blue'>**rjust()**</span> respectively."
   ]
  },
  {
   "cell_type": "code",
   "execution_count": 70,
   "id": "b9ececb0",
   "metadata": {
    "slideshow": {
     "slide_type": "fragment"
    }
   },
   "outputs": [
    {
     "data": {
      "text/html": [
       "<pre style=\"white-space:pre;overflow-x:auto;line-height:normal;font-family:Menlo,'DejaVu Sans Mono',consolas,'Courier New',monospace\">********menu********\n",
       "</pre>\n"
      ],
      "text/plain": [
       "********menu********\n"
      ]
     },
     "metadata": {},
     "output_type": "display_data"
    },
    {
     "data": {
      "text/html": [
       "<pre style=\"white-space:pre;overflow-x:auto;line-height:normal;font-family:Menlo,'DejaVu Sans Mono',consolas,'Courier New',monospace\">menu****************\n",
       "</pre>\n"
      ],
      "text/plain": [
       "menu****************\n"
      ]
     },
     "metadata": {},
     "output_type": "display_data"
    },
    {
     "data": {
      "text/html": [
       "<pre style=\"white-space:pre;overflow-x:auto;line-height:normal;font-family:Menlo,'DejaVu Sans Mono',consolas,'Courier New',monospace\">****************menu\n",
       "</pre>\n"
      ],
      "text/plain": [
       "****************menu\n"
      ]
     },
     "metadata": {},
     "output_type": "display_data"
    }
   ],
   "source": [
    "my_string = 'menu'\n",
    "\n",
    "print(my_string.center(20, '*'))\n",
    "\n",
    "print(my_string.ljust(20, '*'))\n",
    "\n",
    "print(my_string.rjust(20, '*'))"
   ]
  },
  {
   "cell_type": "markdown",
   "id": "3824d7ff",
   "metadata": {
    "slideshow": {
     "slide_type": "slide"
    }
   },
   "source": [
    "The <span style='color: blue'>**expandtabs()**</span> method in Python is used to replace <span style='color: magenta'>**tab characters with spaces**</span>. It takes an optional argument specifying the number of spaces to replace each tab with.  Tabs are inserted into strings using the <span style='color: blue'>**\\t**</span> <span style='color: magenta'>**format specifier**</span>."
   ]
  },
  {
   "cell_type": "code",
   "execution_count": 71,
   "id": "0f57c21e",
   "metadata": {
    "slideshow": {
     "slide_type": "fragment"
    }
   },
   "outputs": [],
   "source": [
    "tab_string = 'firstName\\tlastName\\tdateOfBirth'"
   ]
  },
  {
   "cell_type": "code",
   "execution_count": 72,
   "id": "f9ca344d",
   "metadata": {
    "slideshow": {
     "slide_type": "fragment"
    }
   },
   "outputs": [
    {
     "data": {
      "text/html": [
       "<pre style=\"white-space:pre;overflow-x:auto;line-height:normal;font-family:Menlo,'DejaVu Sans Mono',consolas,'Courier New',monospace\">firstName       lastName        dateOfBirth\n",
       "</pre>\n"
      ],
      "text/plain": [
       "firstName       lastName        dateOfBirth\n"
      ]
     },
     "metadata": {},
     "output_type": "display_data"
    }
   ],
   "source": [
    "print(tab_string)"
   ]
  },
  {
   "cell_type": "code",
   "execution_count": 73,
   "id": "13726458",
   "metadata": {
    "slideshow": {
     "slide_type": "fragment"
    }
   },
   "outputs": [
    {
     "data": {
      "text/html": [
       "<pre style=\"white-space:pre;overflow-x:auto;line-height:normal;font-family:Menlo,'DejaVu Sans Mono',consolas,'Courier New',monospace\">firstName                       lastName                        dateOfBirth\n",
       "</pre>\n"
      ],
      "text/plain": [
       "firstName                       lastName                        dateOfBirth\n"
      ]
     },
     "metadata": {},
     "output_type": "display_data"
    }
   ],
   "source": [
    "print(tab_string.expandtabs(32))"
   ]
  },
  {
   "cell_type": "markdown",
   "id": "1b1dbe7d",
   "metadata": {
    "slideshow": {
     "slide_type": "slide"
    }
   },
   "source": [
    "## <span style='color: blue'>Useful Functions and Keywords</span> <a id='#useful-functions-keywords'></a>"
   ]
  },
  {
   "cell_type": "markdown",
   "id": "f781253c",
   "metadata": {
    "slideshow": {
     "slide_type": "fragment"
    }
   },
   "source": [
    "The built in function <span style='color: blue'>**len()**</span> returns the number of characters in a string."
   ]
  },
  {
   "cell_type": "code",
   "execution_count": 74,
   "id": "d4fdc2a6",
   "metadata": {
    "slideshow": {
     "slide_type": "fragment"
    }
   },
   "outputs": [
    {
     "data": {
      "text/html": [
       "<pre style=\"white-space:pre;overflow-x:auto;line-height:normal;font-family:Menlo,'DejaVu Sans Mono',consolas,'Courier New',monospace\"><span style=\"color: #008080; text-decoration-color: #008080; font-weight: bold\">50</span>\n",
       "</pre>\n"
      ],
      "text/plain": [
       "\u001b[1;36m50\u001b[0m\n"
      ]
     },
     "metadata": {},
     "output_type": "display_data"
    }
   ],
   "source": [
    "string = 'Eric\\'s neighbors wish he would close his curtains.'\n",
    "\n",
    "print(len(string))"
   ]
  },
  {
   "cell_type": "markdown",
   "id": "296d381a",
   "metadata": {
    "slideshow": {
     "slide_type": "fragment"
    }
   },
   "source": [
    "The keyword  <span style='color: blue'>**in**</span> checks if a string contains a substring and returns a  <span style='color: magenta'>**Boolean value**</span>."
   ]
  },
  {
   "cell_type": "code",
   "execution_count": 75,
   "id": "471031cd",
   "metadata": {
    "slideshow": {
     "slide_type": "fragment"
    }
   },
   "outputs": [
    {
     "data": {
      "text/html": [
       "<pre style=\"white-space:pre;overflow-x:auto;line-height:normal;font-family:Menlo,'DejaVu Sans Mono',consolas,'Courier New',monospace\"><span style=\"color: #00ff00; text-decoration-color: #00ff00; font-style: italic\">True</span>\n",
       "</pre>\n"
      ],
      "text/plain": [
       "\u001b[3;92mTrue\u001b[0m\n"
      ]
     },
     "metadata": {},
     "output_type": "display_data"
    }
   ],
   "source": [
    "print('curtains' in string)"
   ]
  },
  {
   "cell_type": "markdown",
   "id": "2c42de91",
   "metadata": {
    "slideshow": {
     "slide_type": "fragment"
    }
   },
   "source": [
    "The <span style='color: blue'>**str()**</span> function in Python converts an object into a string."
   ]
  },
  {
   "cell_type": "code",
   "execution_count": 76,
   "id": "07b5fc7b",
   "metadata": {
    "slideshow": {
     "slide_type": "fragment"
    }
   },
   "outputs": [],
   "source": [
    "not_a_string = 1234567890"
   ]
  },
  {
   "cell_type": "code",
   "execution_count": 77,
   "id": "a89a3f31",
   "metadata": {
    "slideshow": {
     "slide_type": "fragment"
    }
   },
   "outputs": [],
   "source": [
    "a_string = str(not_a_string)"
   ]
  },
  {
   "cell_type": "code",
   "execution_count": 78,
   "id": "ea52549f",
   "metadata": {
    "slideshow": {
     "slide_type": "fragment"
    }
   },
   "outputs": [
    {
     "data": {
      "text/html": [
       "<pre style=\"white-space:pre;overflow-x:auto;line-height:normal;font-family:Menlo,'DejaVu Sans Mono',consolas,'Courier New',monospace\">not_a_string = <span style=\"color: #008080; text-decoration-color: #008080; font-weight: bold\">1234567890</span>, type: <span style=\"font-weight: bold\">&lt;</span><span style=\"color: #ff00ff; text-decoration-color: #ff00ff; font-weight: bold\">class</span><span style=\"color: #000000; text-decoration-color: #000000\"> </span><span style=\"color: #008000; text-decoration-color: #008000\">'int'</span><span style=\"font-weight: bold\">&gt;</span>\n",
       "</pre>\n"
      ],
      "text/plain": [
       "not_a_string = \u001b[1;36m1234567890\u001b[0m, type: \u001b[1m<\u001b[0m\u001b[1;95mclass\u001b[0m\u001b[39m \u001b[0m\u001b[32m'int'\u001b[0m\u001b[1m>\u001b[0m\n"
      ]
     },
     "metadata": {},
     "output_type": "display_data"
    },
    {
     "data": {
      "text/html": [
       "<pre style=\"white-space:pre;overflow-x:auto;line-height:normal;font-family:Menlo,'DejaVu Sans Mono',consolas,'Courier New',monospace\">a_string = <span style=\"color: #008000; text-decoration-color: #008000\">'1234567890'</span>, type: <span style=\"font-weight: bold\">&lt;</span><span style=\"color: #ff00ff; text-decoration-color: #ff00ff; font-weight: bold\">class</span><span style=\"color: #000000; text-decoration-color: #000000\"> </span><span style=\"color: #008000; text-decoration-color: #008000\">'str'</span><span style=\"font-weight: bold\">&gt;</span>\n",
       "</pre>\n"
      ],
      "text/plain": [
       "a_string = \u001b[32m'1234567890'\u001b[0m, type: \u001b[1m<\u001b[0m\u001b[1;95mclass\u001b[0m\u001b[39m \u001b[0m\u001b[32m'str'\u001b[0m\u001b[1m>\u001b[0m\n"
      ]
     },
     "metadata": {},
     "output_type": "display_data"
    }
   ],
   "source": [
    "print(f'{not_a_string = }, type: {type(not_a_string)}')\n",
    "\n",
    "print(f'{a_string = }, type: {type(a_string)}')"
   ]
  }
 ],
 "metadata": {
  "celltoolbar": "Slideshow",
  "kernelspec": {
   "display_name": "Python 3 (ipykernel)",
   "language": "python",
   "name": "python3"
  },
  "language_info": {
   "codemirror_mode": {
    "name": "ipython",
    "version": 3
   },
   "file_extension": ".py",
   "mimetype": "text/x-python",
   "name": "python",
   "nbconvert_exporter": "python",
   "pygments_lexer": "ipython3",
   "version": "3.11.1"
  }
 },
 "nbformat": 4,
 "nbformat_minor": 5
}
