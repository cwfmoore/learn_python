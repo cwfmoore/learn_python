{
 "cells": [
  {
   "cell_type": "code",
   "execution_count": 1,
   "id": "161ac7c6",
   "metadata": {
    "slideshow": {
     "slide_type": "skip"
    }
   },
   "outputs": [],
   "source": [
    "# !pip install rich\n",
    "from rich import print"
   ]
  },
  {
   "cell_type": "markdown",
   "id": "4486a9d3",
   "metadata": {
    "slideshow": {
     "slide_type": "slide"
    }
   },
   "source": [
    "## <span style='color: blue'>Learn Python</span> - Common Methods\n",
    "\n",
    "Python <span style='color: blue'>**string methods**</span> are <span style='color: magenta'>**built-in functions**</span> that can be used to <span style='color: magenta'>**manipulate**</span> and <span style='color: magenta'>**operate on**</span> string objects in Python. These methods can be used to perform tasks such as <span style='color: magenta'>**searching for substrings**</span>, <span style='color: magenta'>**replacing characters**</span>, <span style='color: magenta'>**converting case**</span>, and <span style='color: magenta'>**splitting**</span> or <span style='color: magenta'>**joining strings**</span>."
   ]
  },
  {
   "cell_type": "markdown",
   "id": "7c08b7d8",
   "metadata": {
    "slideshow": {
     "slide_type": "slide"
    }
   },
   "source": [
    "## <span style='color: blue'>**Common Methods**</span> - replace( ) \n",
    "\n",
    "The <span style='color: blue'>**replace( )**</span> method replaces a <span style='color: magenta'>**substring with another substring**</span> in a string.\n",
    "\n",
    "It can take up to <span style='color: magenta'>**three parameters**</span>. The first <span style='color: magenta'>**two**</span> parameters are <span style='color: magenta'>**mandatory**</span> and specify the <span style='color: magenta'>**substring to be replaced**</span> and the <span style='color: magenta'>**substring to replace it with**</span>, respectively. The <span style='color: magenta'>**third parameter**</span> is optional and specifies the <span style='color: magenta'>**maximum number**</span> of replacements to be made."
   ]
  },
  {
   "cell_type": "code",
   "execution_count": 15,
   "id": "d6db5481",
   "metadata": {
    "slideshow": {
     "slide_type": "fragment"
    }
   },
   "outputs": [
    {
     "data": {
      "text/html": [
       "<pre style=\"white-space:pre;overflow-x:auto;line-height:normal;font-family:Menlo,'DejaVu Sans Mono',consolas,'Courier New',monospace\">python? Where we're going, we don't need python\n",
       "</pre>\n"
      ],
      "text/plain": [
       "python? Where we're going, we don't need python\n"
      ]
     },
     "metadata": {},
     "output_type": "display_data"
    }
   ],
   "source": [
    "quote = \"roads? Where we're going, we don't need roads\"\n",
    "\n",
    "new_quote = quote.replace(\"roads\", \"python\")\n",
    "\n",
    "print(new_quote)"
   ]
  },
  {
   "cell_type": "code",
   "execution_count": 16,
   "id": "97b925ee",
   "metadata": {
    "slideshow": {
     "slide_type": "fragment"
    }
   },
   "outputs": [
    {
     "data": {
      "text/html": [
       "<pre style=\"white-space:pre;overflow-x:auto;line-height:normal;font-family:Menlo,'DejaVu Sans Mono',consolas,'Courier New',monospace\">python? Where we're going, we don't need roads\n",
       "</pre>\n"
      ],
      "text/plain": [
       "python? Where we're going, we don't need roads\n"
      ]
     },
     "metadata": {},
     "output_type": "display_data"
    }
   ],
   "source": [
    "new_quote = quote.replace(\"roads\", \"python\", 1)\n",
    "\n",
    "print(new_quote)"
   ]
  },
  {
   "cell_type": "markdown",
   "id": "766af221",
   "metadata": {
    "slideshow": {
     "slide_type": "slide"
    }
   },
   "source": [
    "The <span style='color: blue'>**replace( )**</span> method is <span style='color: magenta'>**case sensitive**</span> and does not perform <span style='color: magenta'>**case-insensitive replacements**</span>. For case-insensitive replacements, the <span style='color: blue'>**re.sub()**</span> method should be used instead."
   ]
  },
  {
   "cell_type": "code",
   "execution_count": 17,
   "id": "ba108378",
   "metadata": {},
   "outputs": [
    {
     "data": {
      "text/html": [
       "<pre style=\"white-space:pre;overflow-x:auto;line-height:normal;font-family:Menlo,'DejaVu Sans Mono',consolas,'Courier New',monospace\">python? Where we're going, we don't need python\n",
       "</pre>\n"
      ],
      "text/plain": [
       "python? Where we're going, we don't need python\n"
      ]
     },
     "metadata": {},
     "output_type": "display_data"
    }
   ],
   "source": [
    "import re\n",
    "\n",
    "quote = \"Roads? Where we're going, we don't need roads\"\n",
    "\n",
    "new_quote = re.sub(\"roads\", \"python\", quote, flags=re.IGNORECASE)\n",
    "\n",
    "print(new_quote)"
   ]
  },
  {
   "cell_type": "markdown",
   "id": "12d66e69",
   "metadata": {
    "slideshow": {
     "slide_type": "slide"
    }
   },
   "source": [
    "## <span style='color: blue'>**Common Methods**</span> - Changing Case\n",
    "\n",
    "Python provides various <span style='color: magenta'>**string methods**</span> to change the <span style='color: magenta'>**capitalization of letters**</span> in a string."
   ]
  },
  {
   "cell_type": "code",
   "execution_count": 18,
   "id": "09f9e216",
   "metadata": {
    "slideshow": {
     "slide_type": "fragment"
    }
   },
   "outputs": [],
   "source": [
    "case_string = 'hans went to Germany to play Fußball'"
   ]
  },
  {
   "cell_type": "code",
   "execution_count": 19,
   "id": "80c0315a",
   "metadata": {
    "slideshow": {
     "slide_type": "fragment"
    }
   },
   "outputs": [
    {
     "data": {
      "text/html": [
       "<pre style=\"white-space:pre;overflow-x:auto;line-height:normal;font-family:Menlo,'DejaVu Sans Mono',consolas,'Courier New',monospace\">Hans went to germany to play fußball\n",
       "</pre>\n"
      ],
      "text/plain": [
       "Hans went to germany to play fußball\n"
      ]
     },
     "metadata": {},
     "output_type": "display_data"
    }
   ],
   "source": [
    "print(case_string.capitalize())"
   ]
  },
  {
   "cell_type": "code",
   "execution_count": 20,
   "id": "2ae68ba1",
   "metadata": {
    "slideshow": {
     "slide_type": "fragment"
    }
   },
   "outputs": [
    {
     "data": {
      "text/html": [
       "<pre style=\"white-space:pre;overflow-x:auto;line-height:normal;font-family:Menlo,'DejaVu Sans Mono',consolas,'Courier New',monospace\">hans went to germany to play fußball\n",
       "</pre>\n"
      ],
      "text/plain": [
       "hans went to germany to play fußball\n"
      ]
     },
     "metadata": {},
     "output_type": "display_data"
    }
   ],
   "source": [
    "print(case_string.lower()) # Only works on ASCII characters"
   ]
  },
  {
   "cell_type": "code",
   "execution_count": 21,
   "id": "186e5f65",
   "metadata": {
    "slideshow": {
     "slide_type": "fragment"
    }
   },
   "outputs": [
    {
     "data": {
      "text/html": [
       "<pre style=\"white-space:pre;overflow-x:auto;line-height:normal;font-family:Menlo,'DejaVu Sans Mono',consolas,'Courier New',monospace\">hans went to germany to play fussball\n",
       "</pre>\n"
      ],
      "text/plain": [
       "hans went to germany to play fussball\n"
      ]
     },
     "metadata": {},
     "output_type": "display_data"
    }
   ],
   "source": [
    "print(case_string.casefold()) # Works on UNICODE characters"
   ]
  },
  {
   "cell_type": "code",
   "execution_count": 22,
   "id": "9d5f3944",
   "metadata": {
    "slideshow": {
     "slide_type": "fragment"
    }
   },
   "outputs": [
    {
     "data": {
      "text/html": [
       "<pre style=\"white-space:pre;overflow-x:auto;line-height:normal;font-family:Menlo,'DejaVu Sans Mono',consolas,'Courier New',monospace\">HANS WENT TO GERMANY TO PLAY FUSSBALL\n",
       "</pre>\n"
      ],
      "text/plain": [
       "HANS WENT TO GERMANY TO PLAY FUSSBALL\n"
      ]
     },
     "metadata": {},
     "output_type": "display_data"
    }
   ],
   "source": [
    "print(case_string.upper()) # Works on UNICODE characters"
   ]
  },
  {
   "cell_type": "code",
   "execution_count": 23,
   "id": "6b8a798f",
   "metadata": {
    "slideshow": {
     "slide_type": "fragment"
    }
   },
   "outputs": [
    {
     "data": {
      "text/html": [
       "<pre style=\"white-space:pre;overflow-x:auto;line-height:normal;font-family:Menlo,'DejaVu Sans Mono',consolas,'Courier New',monospace\">Hans Went To Germany To Play Fußball\n",
       "</pre>\n"
      ],
      "text/plain": [
       "Hans Went To Germany To Play Fußball\n"
      ]
     },
     "metadata": {},
     "output_type": "display_data"
    }
   ],
   "source": [
    "print(case_string.title())"
   ]
  },
  {
   "cell_type": "code",
   "execution_count": 24,
   "id": "86365ebe",
   "metadata": {
    "slideshow": {
     "slide_type": "fragment"
    }
   },
   "outputs": [
    {
     "data": {
      "text/html": [
       "<pre style=\"white-space:pre;overflow-x:auto;line-height:normal;font-family:Menlo,'DejaVu Sans Mono',consolas,'Courier New',monospace\">HANS WENT TO gERMANY TO PLAY fUSSBALL\n",
       "</pre>\n"
      ],
      "text/plain": [
       "HANS WENT TO gERMANY TO PLAY fUSSBALL\n"
      ]
     },
     "metadata": {},
     "output_type": "display_data"
    }
   ],
   "source": [
    "print(case_string.swapcase())"
   ]
  },
  {
   "cell_type": "markdown",
   "id": "95848449",
   "metadata": {
    "slideshow": {
     "slide_type": "slide"
    }
   },
   "source": [
    "## <span style='color: blue'>**Common Methods**</span> - find( ) and rfind( )\n",
    "\n",
    "The <span style='color: blue'>**find()**</span> method searches a string from <span style='color: magenta'>**left to right**</span> for a substring and returns the <span style='color: blue'>**index**</span> of the first occurrence. Conversely, the <span style='color: blue'>**rfind()**</span> method searches from <span style='color: magenta'>**right to left**</span> for the substring and returns the index of the last occurrence."
   ]
  },
  {
   "cell_type": "code",
   "execution_count": null,
   "id": "a2bf656b",
   "metadata": {},
   "outputs": [],
   "source": []
  }
 ],
 "metadata": {
  "celltoolbar": "Slideshow",
  "kernelspec": {
   "display_name": "Python 3 (ipykernel)",
   "language": "python",
   "name": "python3"
  },
  "language_info": {
   "codemirror_mode": {
    "name": "ipython",
    "version": 3
   },
   "file_extension": ".py",
   "mimetype": "text/x-python",
   "name": "python",
   "nbconvert_exporter": "python",
   "pygments_lexer": "ipython3",
   "version": "3.11.1"
  }
 },
 "nbformat": 4,
 "nbformat_minor": 5
}
