{
 "cells": [
  {
   "cell_type": "code",
   "execution_count": 1,
   "id": "1c0a6a2c",
   "metadata": {
    "slideshow": {
     "slide_type": "skip"
    }
   },
   "outputs": [],
   "source": [
    "# !pip install rich\n",
    "from rich import print"
   ]
  },
  {
   "cell_type": "markdown",
   "id": "b5440f81",
   "metadata": {
    "slideshow": {
     "slide_type": "slide"
    }
   },
   "source": [
    "## <span style='color: blue'>Learn Python</span> - Integers & Floats\n",
    "\n",
    "- Similarities an differences\n",
    "- Mathematical operations\n",
    "- Compound assignment operators\n",
    "- Order of mathematical operations\n",
    "- Comparators\n",
    "- Float accuracy\n",
    "- Casting\n",
    "- Useful math functions\n",
    "- Big numbers"
   ]
  },
  {
   "cell_type": "markdown",
   "id": "1df6c943",
   "metadata": {
    "slideshow": {
     "slide_type": "slide"
    }
   },
   "source": [
    "<span style='color: blue'>**Similarities and differences**</span>\n",
    "\n",
    "<span style='color: blue'>**Integers**</span> and <span style='color: blue'>**floats**</span> are both numeric data types in Python. Integers are <span style='color: magenta'>**whole numbers**</span>, while floats can represent numbers with a <span style='color: magenta'>**decimal component**</span>. Integers are typically faster and have <span style='color: magenta'>**exact precision**</span>, while floats have a larger range but can have <span style='color: magenta'>**rounding errors**</span>."
   ]
  },
  {
   "cell_type": "code",
   "execution_count": 2,
   "id": "341de5ad",
   "metadata": {
    "slideshow": {
     "slide_type": "fragment"
    }
   },
   "outputs": [],
   "source": [
    "integer_ = 3\n",
    "\n",
    "float_ = 3.14"
   ]
  },
  {
   "cell_type": "code",
   "execution_count": 3,
   "id": "4a6c457a",
   "metadata": {
    "slideshow": {
     "slide_type": "fragment"
    }
   },
   "outputs": [
    {
     "data": {
      "text/html": [
       "<pre style=\"white-space:pre;overflow-x:auto;line-height:normal;font-family:Menlo,'DejaVu Sans Mono',consolas,'Courier New',monospace\">integer_ = <span style=\"color: #008080; text-decoration-color: #008080; font-weight: bold\">3</span>, <span style=\"font-weight: bold\">&lt;</span><span style=\"color: #ff00ff; text-decoration-color: #ff00ff; font-weight: bold\">class</span><span style=\"color: #000000; text-decoration-color: #000000\"> </span><span style=\"color: #008000; text-decoration-color: #008000\">'int'</span><span style=\"font-weight: bold\">&gt;</span>\n",
       "</pre>\n"
      ],
      "text/plain": [
       "integer_ = \u001b[1;36m3\u001b[0m, \u001b[1m<\u001b[0m\u001b[1;95mclass\u001b[0m\u001b[39m \u001b[0m\u001b[32m'int'\u001b[0m\u001b[1m>\u001b[0m\n"
      ]
     },
     "metadata": {},
     "output_type": "display_data"
    },
    {
     "data": {
      "text/html": [
       "<pre style=\"white-space:pre;overflow-x:auto;line-height:normal;font-family:Menlo,'DejaVu Sans Mono',consolas,'Courier New',monospace\">float_ = <span style=\"color: #008080; text-decoration-color: #008080; font-weight: bold\">3.14</span>, <span style=\"font-weight: bold\">&lt;</span><span style=\"color: #ff00ff; text-decoration-color: #ff00ff; font-weight: bold\">class</span><span style=\"color: #000000; text-decoration-color: #000000\"> </span><span style=\"color: #008000; text-decoration-color: #008000\">'float'</span><span style=\"font-weight: bold\">&gt;</span>\n",
       "</pre>\n"
      ],
      "text/plain": [
       "float_ = \u001b[1;36m3.14\u001b[0m, \u001b[1m<\u001b[0m\u001b[1;95mclass\u001b[0m\u001b[39m \u001b[0m\u001b[32m'float'\u001b[0m\u001b[1m>\u001b[0m\n"
      ]
     },
     "metadata": {},
     "output_type": "display_data"
    }
   ],
   "source": [
    "print(f'{integer_ = }, {type(integer_)}')\n",
    "\n",
    "print(f'{float_ = }, {type(float_)}')"
   ]
  },
  {
   "cell_type": "markdown",
   "id": "b23fe864",
   "metadata": {
    "slideshow": {
     "slide_type": "slide"
    }
   },
   "source": [
    "<span style='color: blue'>**Mathematical Operators**</span>\n",
    "\n",
    "Symbols used in Python to perform mathematical computations"
   ]
  },
  {
   "cell_type": "markdown",
   "id": "6a2b240c",
   "metadata": {
    "slideshow": {
     "slide_type": "-"
    }
   },
   "source": [
    "| Operator        | Example   | Result |\n",
    "|:-----------------|:-----------:|--------|\n",
    "| Addition        | 5 + 2     | 7      |\n",
    "| Subtraction     | 5 - 2     | 3      |\n",
    "| Multiplication  | 5 * 2     | 10     |\n",
    "| Division        | 5 / 2     | 2.5    |\n",
    "| Floor division  | 5 // 2    | 2      |\n",
    "| Exponent        | 5 ** 2    | 25     |\n",
    "| Modulus         | 5 % 2     | 1      |\n"
   ]
  },
  {
   "cell_type": "markdown",
   "id": "cae81aa0",
   "metadata": {
    "slideshow": {
     "slide_type": "slide"
    }
   },
   "source": [
    "<span style='color: blue'>**Floor division**</span>: It performs division and returns the <span style='color: magenta'>**quotient**</span> (*the result of dividing one number by another*), <span style='color: magenta'>**rounded down**</span> to the nearest whole number.  Floor division returns the same data type as its operands."
   ]
  },
  {
   "cell_type": "code",
   "execution_count": 4,
   "id": "8c26df3e",
   "metadata": {
    "slideshow": {
     "slide_type": "-"
    }
   },
   "outputs": [],
   "source": [
    "integer_ = 5 // 2\n",
    "\n",
    "float_ = 5.0 // 2"
   ]
  },
  {
   "cell_type": "code",
   "execution_count": 5,
   "id": "123f14eb",
   "metadata": {
    "slideshow": {
     "slide_type": "fragment"
    }
   },
   "outputs": [
    {
     "data": {
      "text/html": [
       "<pre style=\"white-space:pre;overflow-x:auto;line-height:normal;font-family:Menlo,'DejaVu Sans Mono',consolas,'Courier New',monospace\">integer_ = <span style=\"color: #008080; text-decoration-color: #008080; font-weight: bold\">2</span>, <span style=\"font-weight: bold\">&lt;</span><span style=\"color: #ff00ff; text-decoration-color: #ff00ff; font-weight: bold\">class</span><span style=\"color: #000000; text-decoration-color: #000000\"> </span><span style=\"color: #008000; text-decoration-color: #008000\">'int'</span><span style=\"font-weight: bold\">&gt;</span>\n",
       "</pre>\n"
      ],
      "text/plain": [
       "integer_ = \u001b[1;36m2\u001b[0m, \u001b[1m<\u001b[0m\u001b[1;95mclass\u001b[0m\u001b[39m \u001b[0m\u001b[32m'int'\u001b[0m\u001b[1m>\u001b[0m\n"
      ]
     },
     "metadata": {},
     "output_type": "display_data"
    },
    {
     "data": {
      "text/html": [
       "<pre style=\"white-space:pre;overflow-x:auto;line-height:normal;font-family:Menlo,'DejaVu Sans Mono',consolas,'Courier New',monospace\">float_ = <span style=\"color: #008080; text-decoration-color: #008080; font-weight: bold\">2.0</span>, <span style=\"font-weight: bold\">&lt;</span><span style=\"color: #ff00ff; text-decoration-color: #ff00ff; font-weight: bold\">class</span><span style=\"color: #000000; text-decoration-color: #000000\"> </span><span style=\"color: #008000; text-decoration-color: #008000\">'float'</span><span style=\"font-weight: bold\">&gt;</span>\n",
       "</pre>\n"
      ],
      "text/plain": [
       "float_ = \u001b[1;36m2.0\u001b[0m, \u001b[1m<\u001b[0m\u001b[1;95mclass\u001b[0m\u001b[39m \u001b[0m\u001b[32m'float'\u001b[0m\u001b[1m>\u001b[0m\n"
      ]
     },
     "metadata": {},
     "output_type": "display_data"
    }
   ],
   "source": [
    "print(f'{integer_ = }, {type(integer_)}')\n",
    "\n",
    "print(f'{float_ = }, {type(float_)}')"
   ]
  },
  {
   "cell_type": "markdown",
   "id": "bf6d3bca",
   "metadata": {
    "slideshow": {
     "slide_type": "slide"
    }
   },
   "source": [
    "<span style='color: blue'>**Exponent**</span>: It raises the first number <span style='color: magenta'>**to the power**</span> of the second number. The operator returns an integer when both numbers are integers, otherwise it returns a float number."
   ]
  },
  {
   "cell_type": "code",
   "execution_count": 6,
   "id": "a2fb6cf5",
   "metadata": {
    "slideshow": {
     "slide_type": "-"
    }
   },
   "outputs": [],
   "source": [
    "integer_ = 5 ** 2\n",
    "\n",
    "float_ = 5.0 ** 2"
   ]
  },
  {
   "cell_type": "code",
   "execution_count": 7,
   "id": "0236bb17",
   "metadata": {
    "slideshow": {
     "slide_type": "fragment"
    }
   },
   "outputs": [
    {
     "data": {
      "text/html": [
       "<pre style=\"white-space:pre;overflow-x:auto;line-height:normal;font-family:Menlo,'DejaVu Sans Mono',consolas,'Courier New',monospace\">integer_ = <span style=\"color: #008080; text-decoration-color: #008080; font-weight: bold\">25</span>, <span style=\"font-weight: bold\">&lt;</span><span style=\"color: #ff00ff; text-decoration-color: #ff00ff; font-weight: bold\">class</span><span style=\"color: #000000; text-decoration-color: #000000\"> </span><span style=\"color: #008000; text-decoration-color: #008000\">'int'</span><span style=\"font-weight: bold\">&gt;</span>\n",
       "</pre>\n"
      ],
      "text/plain": [
       "integer_ = \u001b[1;36m25\u001b[0m, \u001b[1m<\u001b[0m\u001b[1;95mclass\u001b[0m\u001b[39m \u001b[0m\u001b[32m'int'\u001b[0m\u001b[1m>\u001b[0m\n"
      ]
     },
     "metadata": {},
     "output_type": "display_data"
    },
    {
     "data": {
      "text/html": [
       "<pre style=\"white-space:pre;overflow-x:auto;line-height:normal;font-family:Menlo,'DejaVu Sans Mono',consolas,'Courier New',monospace\">float_ = <span style=\"color: #008080; text-decoration-color: #008080; font-weight: bold\">25.0</span>, <span style=\"font-weight: bold\">&lt;</span><span style=\"color: #ff00ff; text-decoration-color: #ff00ff; font-weight: bold\">class</span><span style=\"color: #000000; text-decoration-color: #000000\"> </span><span style=\"color: #008000; text-decoration-color: #008000\">'float'</span><span style=\"font-weight: bold\">&gt;</span>\n",
       "</pre>\n"
      ],
      "text/plain": [
       "float_ = \u001b[1;36m25.0\u001b[0m, \u001b[1m<\u001b[0m\u001b[1;95mclass\u001b[0m\u001b[39m \u001b[0m\u001b[32m'float'\u001b[0m\u001b[1m>\u001b[0m\n"
      ]
     },
     "metadata": {},
     "output_type": "display_data"
    }
   ],
   "source": [
    "print(f'{integer_ = }, {type(integer_)}')\n",
    "\n",
    "print(f'{float_ = }, {type(float_)}')"
   ]
  },
  {
   "cell_type": "markdown",
   "id": "84d17562",
   "metadata": {
    "slideshow": {
     "slide_type": "slide"
    }
   },
   "source": [
    "<span style='color: blue'>**Modulus**</span>: It performs division and returns the <span style='color: magenta'>**remainder**</span>. The operator returns an integer result when applied to integers, and a float result when applied to float numbers."
   ]
  },
  {
   "cell_type": "code",
   "execution_count": 8,
   "id": "d2f22c97",
   "metadata": {
    "slideshow": {
     "slide_type": "-"
    }
   },
   "outputs": [],
   "source": [
    "integer_ = 5 % 2\n",
    "\n",
    "float_ = 5.0 % 2"
   ]
  },
  {
   "cell_type": "code",
   "execution_count": 9,
   "id": "849225ed",
   "metadata": {
    "slideshow": {
     "slide_type": "fragment"
    }
   },
   "outputs": [
    {
     "data": {
      "text/html": [
       "<pre style=\"white-space:pre;overflow-x:auto;line-height:normal;font-family:Menlo,'DejaVu Sans Mono',consolas,'Courier New',monospace\">integer_ = <span style=\"color: #008080; text-decoration-color: #008080; font-weight: bold\">1</span>, <span style=\"font-weight: bold\">&lt;</span><span style=\"color: #ff00ff; text-decoration-color: #ff00ff; font-weight: bold\">class</span><span style=\"color: #000000; text-decoration-color: #000000\"> </span><span style=\"color: #008000; text-decoration-color: #008000\">'int'</span><span style=\"font-weight: bold\">&gt;</span>\n",
       "</pre>\n"
      ],
      "text/plain": [
       "integer_ = \u001b[1;36m1\u001b[0m, \u001b[1m<\u001b[0m\u001b[1;95mclass\u001b[0m\u001b[39m \u001b[0m\u001b[32m'int'\u001b[0m\u001b[1m>\u001b[0m\n"
      ]
     },
     "metadata": {},
     "output_type": "display_data"
    },
    {
     "data": {
      "text/html": [
       "<pre style=\"white-space:pre;overflow-x:auto;line-height:normal;font-family:Menlo,'DejaVu Sans Mono',consolas,'Courier New',monospace\">float_ = <span style=\"color: #008080; text-decoration-color: #008080; font-weight: bold\">1.0</span>, <span style=\"font-weight: bold\">&lt;</span><span style=\"color: #ff00ff; text-decoration-color: #ff00ff; font-weight: bold\">class</span><span style=\"color: #000000; text-decoration-color: #000000\"> </span><span style=\"color: #008000; text-decoration-color: #008000\">'float'</span><span style=\"font-weight: bold\">&gt;</span>\n",
       "</pre>\n"
      ],
      "text/plain": [
       "float_ = \u001b[1;36m1.0\u001b[0m, \u001b[1m<\u001b[0m\u001b[1;95mclass\u001b[0m\u001b[39m \u001b[0m\u001b[32m'float'\u001b[0m\u001b[1m>\u001b[0m\n"
      ]
     },
     "metadata": {},
     "output_type": "display_data"
    }
   ],
   "source": [
    "print(f'{integer_ = }, {type(integer_)}')\n",
    "\n",
    "print(f'{float_ = }, {type(float_)}')"
   ]
  },
  {
   "cell_type": "markdown",
   "id": "3517c349",
   "metadata": {
    "slideshow": {
     "slide_type": "slide"
    }
   },
   "source": [
    "<span style='color: blue'>**Compound Assignment Operators**</span>\n",
    "\n",
    "In Python compound assignment operators <span style='color: magenta'>**combine arithmetic operations with assignment**</span> to modify the value of a variable, allowing for shorter and more readable code."
   ]
  },
  {
   "cell_type": "markdown",
   "id": "6749e90a",
   "metadata": {
    "slideshow": {
     "slide_type": "-"
    }
   },
   "source": [
    "|  Operator |  Example  | Same As |\n",
    "| :-------: | :-------: | :-----: |\n",
    "|     =     |    x = 5  |   x = 5 |\n",
    "|    +=     |   x += 5  | x = x + 5 |\n",
    "|    -=     |   x -= 5  | x = x - 5 |\n",
    "|    *=     |   x *= 5  | x = x * 5 |\n",
    "|    /=     |   x /= 5  | x = x / 5 |\n",
    "|    %=     |   x %= 5  | x = x % 5 |\n",
    "|   //=     |  x //= 5  | x = x // 5 |\n",
    "|   **=     |  x **= 5  | x = x ** 5 |"
   ]
  },
  {
   "cell_type": "markdown",
   "id": "5c3cf05d",
   "metadata": {
    "slideshow": {
     "slide_type": "slide"
    }
   },
   "source": [
    "Here's an <span style='color: blue'>**example**</span> of using a compound assignment operator in a <span style='color: magenta'>**for loop**</span> to increment an integer value."
   ]
  },
  {
   "cell_type": "code",
   "execution_count": 10,
   "id": "b9938495",
   "metadata": {
    "slideshow": {
     "slide_type": "fragment"
    }
   },
   "outputs": [
    {
     "data": {
      "text/html": [
       "<pre style=\"white-space:pre;overflow-x:auto;line-height:normal;font-family:Menlo,'DejaVu Sans Mono',consolas,'Courier New',monospace\"><span style=\"color: #008080; text-decoration-color: #008080; font-weight: bold\">1</span>\n",
       "</pre>\n"
      ],
      "text/plain": [
       "\u001b[1;36m1\u001b[0m\n"
      ]
     },
     "metadata": {},
     "output_type": "display_data"
    },
    {
     "data": {
      "text/html": [
       "<pre style=\"white-space:pre;overflow-x:auto;line-height:normal;font-family:Menlo,'DejaVu Sans Mono',consolas,'Courier New',monospace\"><span style=\"color: #008080; text-decoration-color: #008080; font-weight: bold\">2</span>\n",
       "</pre>\n"
      ],
      "text/plain": [
       "\u001b[1;36m2\u001b[0m\n"
      ]
     },
     "metadata": {},
     "output_type": "display_data"
    },
    {
     "data": {
      "text/html": [
       "<pre style=\"white-space:pre;overflow-x:auto;line-height:normal;font-family:Menlo,'DejaVu Sans Mono',consolas,'Courier New',monospace\"><span style=\"color: #008080; text-decoration-color: #008080; font-weight: bold\">3</span>\n",
       "</pre>\n"
      ],
      "text/plain": [
       "\u001b[1;36m3\u001b[0m\n"
      ]
     },
     "metadata": {},
     "output_type": "display_data"
    },
    {
     "data": {
      "text/html": [
       "<pre style=\"white-space:pre;overflow-x:auto;line-height:normal;font-family:Menlo,'DejaVu Sans Mono',consolas,'Courier New',monospace\"><span style=\"color: #008080; text-decoration-color: #008080; font-weight: bold\">4</span>\n",
       "</pre>\n"
      ],
      "text/plain": [
       "\u001b[1;36m4\u001b[0m\n"
      ]
     },
     "metadata": {},
     "output_type": "display_data"
    },
    {
     "data": {
      "text/html": [
       "<pre style=\"white-space:pre;overflow-x:auto;line-height:normal;font-family:Menlo,'DejaVu Sans Mono',consolas,'Courier New',monospace\"><span style=\"color: #008080; text-decoration-color: #008080; font-weight: bold\">5</span>\n",
       "</pre>\n"
      ],
      "text/plain": [
       "\u001b[1;36m5\u001b[0m\n"
      ]
     },
     "metadata": {},
     "output_type": "display_data"
    }
   ],
   "source": [
    "x = 1\n",
    "for i in range(5):\n",
    "    print(x)\n",
    "    x += 1"
   ]
  },
  {
   "cell_type": "markdown",
   "id": "39609375",
   "metadata": {
    "slideshow": {
     "slide_type": "slide"
    }
   },
   "source": [
    "<span style='color: blue'>**Order of Mathematical Operations**</span>\n",
    "\n",
    "<span style='color: blue'>**PEMDAS**</span> is the <span style='color: magenta'>**order of operations**</span> used in mathematics: <span style='color: magenta'>**Parentheses**</span>, <span style='color: magenta'>**Exponents**</span>, <span style='color: magenta'>**Multiplication**</span> and <span style='color: magenta'>**Division**</span>, <span style='color: magenta'>**Addition**</span> and <span style='color: magenta'>**Subtraction**</span>. It tells us which calculation to do first and in which order."
   ]
  },
  {
   "cell_type": "markdown",
   "id": "47381be5",
   "metadata": {
    "slideshow": {
     "slide_type": "-"
    }
   },
   "source": [
    "| Order | Operation                   | Example     |\n",
    "|:-------:|:-----------------------------:|-------------|\n",
    "| P     | Parentheses                 | ( )         |\n",
    "| E     | Exponents                   | 3 ** 2      |\n",
    "| MD    | Multiplication & Division   | 3 * 2       |\n",
    "| AS    | Addition and Subtraction    | 3 + 2       |\n"
   ]
  },
  {
   "cell_type": "markdown",
   "id": "382ce5bb",
   "metadata": {
    "slideshow": {
     "slide_type": "slide"
    }
   },
   "source": [
    "<span style='color: blue'>**PEMDAS**</span> is the <span style='color: magenta'>**order of operations**</span> used in mathematics: Parentheses, Exponents, Multiplication and Division, Addition and Subtraction. It tells us which calculation to do first and in which order."
   ]
  },
  {
   "cell_type": "markdown",
   "id": "4066c1a7",
   "metadata": {
    "slideshow": {
     "slide_type": "-"
    }
   },
   "source": [
    "$$example: 2(3×2)^2 / 6 + 4$$"
   ]
  },
  {
   "cell_type": "code",
   "execution_count": 11,
   "id": "66128d8b",
   "metadata": {
    "slideshow": {
     "slide_type": "fragment"
    }
   },
   "outputs": [
    {
     "data": {
      "text/html": [
       "<pre style=\"white-space:pre;overflow-x:auto;line-height:normal;font-family:Menlo,'DejaVu Sans Mono',consolas,'Courier New',monospace\"><span style=\"color: #008080; text-decoration-color: #008080; font-weight: bold\">16.0</span>\n",
       "</pre>\n"
      ],
      "text/plain": [
       "\u001b[1;36m16.0\u001b[0m\n"
      ]
     },
     "metadata": {},
     "output_type": "display_data"
    }
   ],
   "source": [
    "print( 2 * (3 * 2) ** 2 / 6 + 4 )"
   ]
  },
  {
   "cell_type": "code",
   "execution_count": 12,
   "id": "91639e2b",
   "metadata": {
    "slideshow": {
     "slide_type": "fragment"
    }
   },
   "outputs": [
    {
     "data": {
      "text/html": [
       "<pre style=\"white-space:pre;overflow-x:auto;line-height:normal;font-family:Menlo,'DejaVu Sans Mono',consolas,'Courier New',monospace\"><span style=\"color: #008080; text-decoration-color: #008080; font-weight: bold\">16.0</span>\n",
       "</pre>\n"
      ],
      "text/plain": [
       "\u001b[1;36m16.0\u001b[0m\n"
      ]
     },
     "metadata": {},
     "output_type": "display_data"
    }
   ],
   "source": [
    "# Multipliy the contents of the brackets (parentheses)\n",
    "print( 2 * 6 ** 2 / 6 + 4 )"
   ]
  },
  {
   "cell_type": "code",
   "execution_count": 13,
   "id": "e20989d8",
   "metadata": {
    "slideshow": {
     "slide_type": "fragment"
    }
   },
   "outputs": [
    {
     "data": {
      "text/html": [
       "<pre style=\"white-space:pre;overflow-x:auto;line-height:normal;font-family:Menlo,'DejaVu Sans Mono',consolas,'Courier New',monospace\"><span style=\"color: #008080; text-decoration-color: #008080; font-weight: bold\">16.0</span>\n",
       "</pre>\n"
      ],
      "text/plain": [
       "\u001b[1;36m16.0\u001b[0m\n"
      ]
     },
     "metadata": {},
     "output_type": "display_data"
    }
   ],
   "source": [
    "# Raise to the power of (exponent)\n",
    "print( 2 * 36 / 6 + 4 )"
   ]
  },
  {
   "cell_type": "code",
   "execution_count": 14,
   "id": "e55d802b",
   "metadata": {
    "slideshow": {
     "slide_type": "fragment"
    }
   },
   "outputs": [
    {
     "data": {
      "text/html": [
       "<pre style=\"white-space:pre;overflow-x:auto;line-height:normal;font-family:Menlo,'DejaVu Sans Mono',consolas,'Courier New',monospace\"><span style=\"color: #008080; text-decoration-color: #008080; font-weight: bold\">16</span>\n",
       "</pre>\n"
      ],
      "text/plain": [
       "\u001b[1;36m16\u001b[0m\n"
      ]
     },
     "metadata": {},
     "output_type": "display_data"
    }
   ],
   "source": [
    "# Do the multiplication and divison\n",
    "print( 12 + 4 )"
   ]
  },
  {
   "cell_type": "code",
   "execution_count": 15,
   "id": "114fb8aa",
   "metadata": {
    "slideshow": {
     "slide_type": "fragment"
    }
   },
   "outputs": [
    {
     "data": {
      "text/html": [
       "<pre style=\"white-space:pre;overflow-x:auto;line-height:normal;font-family:Menlo,'DejaVu Sans Mono',consolas,'Courier New',monospace\"><span style=\"color: #008080; text-decoration-color: #008080; font-weight: bold\">16</span>\n",
       "</pre>\n"
      ],
      "text/plain": [
       "\u001b[1;36m16\u001b[0m\n"
      ]
     },
     "metadata": {},
     "output_type": "display_data"
    }
   ],
   "source": [
    "# Do the additon and divison\n",
    "print(16)"
   ]
  },
  {
   "cell_type": "markdown",
   "id": "b5065338",
   "metadata": {
    "slideshow": {
     "slide_type": "slide"
    }
   },
   "source": [
    "<span style='color: blue'>**Comparators**</span>\n",
    "\n",
    "In Python comparators are <span style='color: blue'>**operators**</span> used to compare two values, returning a <span style='color: magenta'>**boolean result**</span> indicating whether the comparison is <span style='color: blue'>**true**</span> or <span style='color: magenta'>**false**</span>."
   ]
  },
  {
   "cell_type": "markdown",
   "id": "38717ba5",
   "metadata": {
    "slideshow": {
     "slide_type": "fragment"
    }
   },
   "source": [
    "| Comparison Operator       | Symbol |\n",
    "|:---------------------------|:--------:|\n",
    "| Equal                     | ==     |\n",
    "| Not equal                 | !=     |\n",
    "| Greater than              | >      |\n",
    "| Less than                 | <      |\n",
    "| Greater than or equal to  | >=     |\n",
    "| Less than or equal to     | <=     |"
   ]
  },
  {
   "cell_type": "markdown",
   "id": "82657627",
   "metadata": {
    "slideshow": {
     "slide_type": "slide"
    }
   },
   "source": [
    "When comparing <span style='color: blue'>**integer**</span> values comparators can be used without any restrictions. <span style='color: magenta'>**However**</span>, when it comes to using comparators on <span style='color: blue'>**floats**</span>, one should <span style='color: magenta'>**exercise caution**</span> as rounding <span style='color: magenta'>**errors**</span> can lead to inaccuracies."
   ]
  },
  {
   "cell_type": "code",
   "execution_count": 16,
   "id": "86a8f879",
   "metadata": {
    "slideshow": {
     "slide_type": "fragment"
    }
   },
   "outputs": [
    {
     "data": {
      "text/html": [
       "<pre style=\"white-space:pre;overflow-x:auto;line-height:normal;font-family:Menlo,'DejaVu Sans Mono',consolas,'Courier New',monospace\"><span style=\"color: #00ff00; text-decoration-color: #00ff00; font-style: italic\">True</span>\n",
       "</pre>\n"
      ],
      "text/plain": [
       "\u001b[3;92mTrue\u001b[0m\n"
      ]
     },
     "metadata": {},
     "output_type": "display_data"
    }
   ],
   "source": [
    "# Using comparators on integers\n",
    "\n",
    "a = 1; b = 2; c = 3\n",
    "\n",
    "print(a + b == c)"
   ]
  },
  {
   "cell_type": "code",
   "execution_count": 17,
   "id": "94027a8a",
   "metadata": {
    "slideshow": {
     "slide_type": "fragment"
    }
   },
   "outputs": [
    {
     "data": {
      "text/html": [
       "<pre style=\"white-space:pre;overflow-x:auto;line-height:normal;font-family:Menlo,'DejaVu Sans Mono',consolas,'Courier New',monospace\"><span style=\"color: #ff0000; text-decoration-color: #ff0000; font-style: italic\">False</span>\n",
       "</pre>\n"
      ],
      "text/plain": [
       "\u001b[3;91mFalse\u001b[0m\n"
      ]
     },
     "metadata": {},
     "output_type": "display_data"
    }
   ],
   "source": [
    "# Using comparators on floats\n",
    "\n",
    "a = 0.1; b = 0.2; c = 0.3\n",
    "\n",
    "print(a + b == c)"
   ]
  },
  {
   "cell_type": "code",
   "execution_count": 18,
   "id": "ea5cc224",
   "metadata": {
    "slideshow": {
     "slide_type": "fragment"
    }
   },
   "outputs": [
    {
     "data": {
      "text/html": [
       "<pre style=\"white-space:pre;overflow-x:auto;line-height:normal;font-family:Menlo,'DejaVu Sans Mono',consolas,'Courier New',monospace\"><span style=\"color: #008080; text-decoration-color: #008080; font-weight: bold\">0.30000000000000004</span>\n",
       "</pre>\n"
      ],
      "text/plain": [
       "\u001b[1;36m0.30000000000000004\u001b[0m\n"
      ]
     },
     "metadata": {},
     "output_type": "display_data"
    }
   ],
   "source": [
    "# Addition of floats can cause rounding errors\n",
    "\n",
    "c = a + b\n",
    "\n",
    "print(c)"
   ]
  },
  {
   "cell_type": "markdown",
   "id": "9eacd507",
   "metadata": {
    "slideshow": {
     "slide_type": "slide"
    }
   },
   "source": [
    "<span style='color: blue'>**Float accuracy**</span>\n",
    "\n",
    "Round errors occur due to rounding calculations beyond machine precision.\n",
    "\n",
    "To work with floating-point numbers <span style='color: magenta'>**effectively**</span>, it is crucial to understand their <span style='color: magenta'>**limitations**</span> and to use appropriate <span style='color: magenta'>**libraries**</span> to mitigate the effects of round errors and finite precision."
   ]
  },
  {
   "cell_type": "markdown",
   "id": "f6a1a2aa",
   "metadata": {
    "slideshow": {
     "slide_type": "fragment"
    }
   },
   "source": [
    "The <span style='color: blue'>**Decimal library**</span> in Python provides <span style='color: magenta'>**arbitrary-precision floating-point arithmetic**</span>, allowing precise decimal representation and rounding for financial and monetary applications."
   ]
  },
  {
   "cell_type": "code",
   "execution_count": 19,
   "id": "fa00a87a",
   "metadata": {
    "slideshow": {
     "slide_type": "fragment"
    }
   },
   "outputs": [
    {
     "data": {
      "text/html": [
       "<pre style=\"white-space:pre;overflow-x:auto;line-height:normal;font-family:Menlo,'DejaVu Sans Mono',consolas,'Courier New',monospace\"><span style=\"color: #00ff00; text-decoration-color: #00ff00; font-style: italic\">True</span>\n",
       "</pre>\n"
      ],
      "text/plain": [
       "\u001b[3;92mTrue\u001b[0m\n"
      ]
     },
     "metadata": {},
     "output_type": "display_data"
    }
   ],
   "source": [
    "from decimal import Decimal\n",
    "\n",
    "a = Decimal('0.1')\n",
    "b = Decimal('0.2')\n",
    "\n",
    "c = a + b\n",
    "\n",
    "print(c == Decimal('0.3'))"
   ]
  },
  {
   "cell_type": "markdown",
   "id": "90315037",
   "metadata": {
    "slideshow": {
     "slide_type": "slide"
    }
   },
   "source": [
    "From the <span style='color: blue'>**math**</span> library the function <span style='color: blue'>**math.isclose()**</span> compares two floats for approximate equality, with <span style='color: magenta'>**adjustable tolerance**</span> for precision and scale."
   ]
  },
  {
   "cell_type": "code",
   "execution_count": 20,
   "id": "b96c773c",
   "metadata": {
    "slideshow": {
     "slide_type": "fragment"
    }
   },
   "outputs": [
    {
     "data": {
      "text/html": [
       "<pre style=\"white-space:pre;overflow-x:auto;line-height:normal;font-family:Menlo,'DejaVu Sans Mono',consolas,'Courier New',monospace\"><span style=\"color: #00ff00; text-decoration-color: #00ff00; font-style: italic\">True</span>\n",
       "</pre>\n"
      ],
      "text/plain": [
       "\u001b[3;92mTrue\u001b[0m\n"
      ]
     },
     "metadata": {},
     "output_type": "display_data"
    }
   ],
   "source": [
    "import math\n",
    "\n",
    "a = 0.1 + 0.2\n",
    "b = 0.3\n",
    "\n",
    "print(math.isclose(a, b, rel_tol=1e-9, abs_tol=1e-9))"
   ]
  },
  {
   "cell_type": "markdown",
   "id": "c01d29df",
   "metadata": {
    "slideshow": {
     "slide_type": "slide"
    }
   },
   "source": [
    "<span style='color: blue'>**Casting**</span>\n",
    "\n",
    "Casting is the process of <span style='color: magenta'>**converting**</span> a variable from <span style='color: magenta'>**one data type to another**</span>."
   ]
  },
  {
   "cell_type": "code",
   "execution_count": 21,
   "id": "ae66ad4b",
   "metadata": {
    "slideshow": {
     "slide_type": "fragment"
    }
   },
   "outputs": [
    {
     "data": {
      "text/html": [
       "<pre style=\"white-space:pre;overflow-x:auto;line-height:normal;font-family:Menlo,'DejaVu Sans Mono',consolas,'Courier New',monospace\"><span style=\"color: #008080; text-decoration-color: #008080; font-weight: bold\">3.0</span> <span style=\"font-weight: bold\">&lt;</span><span style=\"color: #ff00ff; text-decoration-color: #ff00ff; font-weight: bold\">class</span><span style=\"color: #000000; text-decoration-color: #000000\"> </span><span style=\"color: #008000; text-decoration-color: #008000\">'float'</span><span style=\"font-weight: bold\">&gt;</span>\n",
       "</pre>\n"
      ],
      "text/plain": [
       "\u001b[1;36m3.0\u001b[0m \u001b[1m<\u001b[0m\u001b[1;95mclass\u001b[0m\u001b[39m \u001b[0m\u001b[32m'float'\u001b[0m\u001b[1m>\u001b[0m\n"
      ]
     },
     "metadata": {},
     "output_type": "display_data"
    }
   ],
   "source": [
    "# Integer to Float\n",
    "\n",
    "a = float(3)\n",
    "\n",
    "print(a, type(a))"
   ]
  },
  {
   "cell_type": "markdown",
   "id": "dedac7a4",
   "metadata": {
    "slideshow": {
     "slide_type": "fragment"
    }
   },
   "source": [
    "Casting results in <span style='color: magenta'>**no loss of accuracy**</span>"
   ]
  },
  {
   "cell_type": "code",
   "execution_count": 22,
   "id": "a5560583",
   "metadata": {
    "slideshow": {
     "slide_type": "slide"
    }
   },
   "outputs": [
    {
     "data": {
      "text/html": [
       "<pre style=\"white-space:pre;overflow-x:auto;line-height:normal;font-family:Menlo,'DejaVu Sans Mono',consolas,'Courier New',monospace\"><span style=\"color: #008080; text-decoration-color: #008080; font-weight: bold\">3</span> <span style=\"font-weight: bold\">&lt;</span><span style=\"color: #ff00ff; text-decoration-color: #ff00ff; font-weight: bold\">class</span><span style=\"color: #000000; text-decoration-color: #000000\"> </span><span style=\"color: #008000; text-decoration-color: #008000\">'int'</span><span style=\"font-weight: bold\">&gt;</span>\n",
       "</pre>\n"
      ],
      "text/plain": [
       "\u001b[1;36m3\u001b[0m \u001b[1m<\u001b[0m\u001b[1;95mclass\u001b[0m\u001b[39m \u001b[0m\u001b[32m'int'\u001b[0m\u001b[1m>\u001b[0m\n"
      ]
     },
     "metadata": {},
     "output_type": "display_data"
    }
   ],
   "source": [
    "# Float to Integer\n",
    "\n",
    "a = int(3.14)\n",
    "\n",
    "print(a, type(a))"
   ]
  },
  {
   "cell_type": "markdown",
   "id": "9d4e5e06",
   "metadata": {
    "slideshow": {
     "slide_type": "fragment"
    }
   },
   "source": [
    "Casting a floating-point number to an integer results in the <span style='color: magenta'>**loss of decimal places**</span>"
   ]
  },
  {
   "cell_type": "code",
   "execution_count": 23,
   "id": "c18a212a",
   "metadata": {
    "slideshow": {
     "slide_type": "slide"
    }
   },
   "outputs": [
    {
     "data": {
      "text/html": [
       "<pre style=\"white-space:pre;overflow-x:auto;line-height:normal;font-family:Menlo,'DejaVu Sans Mono',consolas,'Courier New',monospace\"><span style=\"color: #008080; text-decoration-color: #008080; font-weight: bold\">3.14</span> <span style=\"font-weight: bold\">&lt;</span><span style=\"color: #ff00ff; text-decoration-color: #ff00ff; font-weight: bold\">class</span><span style=\"color: #000000; text-decoration-color: #000000\"> </span><span style=\"color: #008000; text-decoration-color: #008000\">'float'</span><span style=\"font-weight: bold\">&gt;</span>\n",
       "</pre>\n"
      ],
      "text/plain": [
       "\u001b[1;36m3.14\u001b[0m \u001b[1m<\u001b[0m\u001b[1;95mclass\u001b[0m\u001b[39m \u001b[0m\u001b[32m'float'\u001b[0m\u001b[1m>\u001b[0m\n"
      ]
     },
     "metadata": {},
     "output_type": "display_data"
    }
   ],
   "source": [
    "# String to Float\n",
    "\n",
    "a = float('3.14')\n",
    "\n",
    "print(a, type(a))"
   ]
  },
  {
   "cell_type": "markdown",
   "id": "f915dc94",
   "metadata": {
    "slideshow": {
     "slide_type": "fragment"
    }
   },
   "source": [
    "<span style='color: magenta'>**No loss of accuracy**</span>, however trying to convert a string that is not a valid float representation will result in an <span style='color: magenta'>**error**</span>."
   ]
  },
  {
   "cell_type": "code",
   "execution_count": 24,
   "id": "a73eca57",
   "metadata": {
    "slideshow": {
     "slide_type": "fragment"
    }
   },
   "outputs": [
    {
     "data": {
      "text/html": [
       "<pre style=\"white-space:pre;overflow-x:auto;line-height:normal;font-family:Menlo,'DejaVu Sans Mono',consolas,'Courier New',monospace\">could not convert string to float: <span style=\"color: #008000; text-decoration-color: #008000\">'3-14'</span>\n",
       "</pre>\n"
      ],
      "text/plain": [
       "could not convert string to float: \u001b[32m'3-14'\u001b[0m\n"
      ]
     },
     "metadata": {},
     "output_type": "display_data"
    }
   ],
   "source": [
    "# String to Float - try-except block used to catch error\n",
    "\n",
    "try:\n",
    "    a = float('3-14')\n",
    "except Exception as error:\n",
    "    print(error)"
   ]
  },
  {
   "cell_type": "code",
   "execution_count": 25,
   "id": "def89077",
   "metadata": {
    "slideshow": {
     "slide_type": "slide"
    }
   },
   "outputs": [
    {
     "data": {
      "text/html": [
       "<pre style=\"white-space:pre;overflow-x:auto;line-height:normal;font-family:Menlo,'DejaVu Sans Mono',consolas,'Courier New',monospace\"><span style=\"color: #008080; text-decoration-color: #008080; font-weight: bold\">3</span> <span style=\"font-weight: bold\">&lt;</span><span style=\"color: #ff00ff; text-decoration-color: #ff00ff; font-weight: bold\">class</span><span style=\"color: #000000; text-decoration-color: #000000\"> </span><span style=\"color: #008000; text-decoration-color: #008000\">'int'</span><span style=\"font-weight: bold\">&gt;</span>\n",
       "</pre>\n"
      ],
      "text/plain": [
       "\u001b[1;36m3\u001b[0m \u001b[1m<\u001b[0m\u001b[1;95mclass\u001b[0m\u001b[39m \u001b[0m\u001b[32m'int'\u001b[0m\u001b[1m>\u001b[0m\n"
      ]
     },
     "metadata": {},
     "output_type": "display_data"
    }
   ],
   "source": [
    "# String (integer) to an Integer\n",
    "\n",
    "a = int('3')\n",
    "\n",
    "print(a, type(a))"
   ]
  },
  {
   "cell_type": "code",
   "execution_count": 26,
   "id": "75ebd39d",
   "metadata": {
    "slideshow": {
     "slide_type": "fragment"
    }
   },
   "outputs": [
    {
     "data": {
      "text/html": [
       "<pre style=\"white-space:pre;overflow-x:auto;line-height:normal;font-family:Menlo,'DejaVu Sans Mono',consolas,'Courier New',monospace\">invalid literal for <span style=\"color: #800080; text-decoration-color: #800080; font-weight: bold\">int</span><span style=\"font-weight: bold\">()</span> with base <span style=\"color: #008080; text-decoration-color: #008080; font-weight: bold\">10</span>: <span style=\"color: #008000; text-decoration-color: #008000\">'3.14'</span>\n",
       "</pre>\n"
      ],
      "text/plain": [
       "invalid literal for \u001b[1;35mint\u001b[0m\u001b[1m(\u001b[0m\u001b[1m)\u001b[0m with base \u001b[1;36m10\u001b[0m: \u001b[32m'3.14'\u001b[0m\n"
      ]
     },
     "metadata": {},
     "output_type": "display_data"
    }
   ],
   "source": [
    "# String (float) to Integer - try-except block used to catch error\n",
    "\n",
    "try:\n",
    "    a = int('3.14')\n",
    "except Exception as error:\n",
    "    print(error)"
   ]
  },
  {
   "cell_type": "code",
   "execution_count": 27,
   "id": "c73932b2",
   "metadata": {
    "slideshow": {
     "slide_type": "fragment"
    }
   },
   "outputs": [
    {
     "data": {
      "text/html": [
       "<pre style=\"white-space:pre;overflow-x:auto;line-height:normal;font-family:Menlo,'DejaVu Sans Mono',consolas,'Courier New',monospace\"><span style=\"color: #008080; text-decoration-color: #008080; font-weight: bold\">3</span>\n",
       "</pre>\n"
      ],
      "text/plain": [
       "\u001b[1;36m3\u001b[0m\n"
      ]
     },
     "metadata": {},
     "output_type": "display_data"
    }
   ],
   "source": [
    "# String (float) to Integer - must be converted to a float first\n",
    "\n",
    "a = int(float('3.14'))\n",
    "\n",
    "print(a)"
   ]
  },
  {
   "cell_type": "markdown",
   "id": "5ef09532",
   "metadata": {
    "slideshow": {
     "slide_type": "fragment"
    }
   },
   "source": [
    "To convert a float with decimals represented as a string into an integer, the string must <span style='color: magenta'>**first be converted to a float**</span>."
   ]
  },
  {
   "cell_type": "markdown",
   "id": "0f7dd094",
   "metadata": {
    "slideshow": {
     "slide_type": "slide"
    }
   },
   "source": [
    "<span style='color: blue'>**Useful Math Functions**</span>\n",
    "\n",
    "Python provides a range of built-in <span style='color: magenta'>**mathematical functions**</span> that can be highly valuable for coding. By utilizing these functions in your code, you can significantly improve its quality, readability, and efficiency."
   ]
  },
  {
   "cell_type": "markdown",
   "id": "97658e69",
   "metadata": {
    "slideshow": {
     "slide_type": "slide"
    }
   },
   "source": [
    "The <span style='color: blue'>**pow()**</span> function.\n",
    "\n",
    "In Python, the <span style='color: magenta'>**pow()**</span> function and the <span style='color: magenta'> ** </span> operator are both used to perform <span style='color: magenta'>**exponentiation**</span>, but there are some advantages to using <span style='color: magenta'>**pow()**</span> over the <span style='color: magenta'> ** </span> operator.\n",
    "\n",
    "- <span style='color: blue'>**Type checking**</span>: pow() checks types, while ** may cause <span style='color: magenta'>**errors**</span> with unexpected types.\n",
    "- <span style='color: blue'>**Flexibility**</span>: pow() can use a <span style='color: magenta'>**modulus**</span> argument.\n",
    "- <span style='color: blue'>**Readability**</span>: pow() can improve <span style='color: magenta'>**readability**</span>, especially with complex expressions.\n",
    "- <span style='color: blue'>**Performance**</span>: pow() may be <span style='color: magenta'>**faster**</span> than ** for large exponents, depending on the interpreter and operands."
   ]
  },
  {
   "cell_type": "code",
   "execution_count": 28,
   "id": "d8bb5911",
   "metadata": {
    "slideshow": {
     "slide_type": "fragment"
    }
   },
   "outputs": [
    {
     "data": {
      "text/html": [
       "<pre style=\"white-space:pre;overflow-x:auto;line-height:normal;font-family:Menlo,'DejaVu Sans Mono',consolas,'Courier New',monospace\"><span style=\"color: #008080; text-decoration-color: #008080; font-weight: bold\">25</span>\n",
       "</pre>\n"
      ],
      "text/plain": [
       "\u001b[1;36m25\u001b[0m\n"
      ]
     },
     "metadata": {},
     "output_type": "display_data"
    }
   ],
   "source": [
    "# Same as 5 ** 2 operation\n",
    "\n",
    "a = pow(5, 2)\n",
    "\n",
    "print(a)"
   ]
  },
  {
   "cell_type": "code",
   "execution_count": 29,
   "id": "bb8a54c5",
   "metadata": {
    "slideshow": {
     "slide_type": "fragment"
    }
   },
   "outputs": [
    {
     "data": {
      "text/html": [
       "<pre style=\"white-space:pre;overflow-x:auto;line-height:normal;font-family:Menlo,'DejaVu Sans Mono',consolas,'Courier New',monospace\"><span style=\"color: #008080; text-decoration-color: #008080; font-weight: bold\">1</span>\n",
       "</pre>\n"
      ],
      "text/plain": [
       "\u001b[1;36m1\u001b[0m\n"
      ]
     },
     "metadata": {},
     "output_type": "display_data"
    }
   ],
   "source": [
    "# Same as 5 ** 2 % 3\n",
    "\n",
    "a = pow(5, 2, 3)\n",
    "\n",
    "print(a)"
   ]
  },
  {
   "cell_type": "markdown",
   "id": "bc95d1bb",
   "metadata": {
    "slideshow": {
     "slide_type": "slide"
    }
   },
   "source": [
    "<span style='color: blue'>**Big Numbers**</span>\n",
    "\n",
    "Dealing with numbers containing a <span style='color: blue'>**high number of digits**</span> can pose readability challenges. However, Python provides several helpful features that can improve the <span style='color: blue'>**readability**</span> of such data."
   ]
  },
  {
   "cell_type": "code",
   "execution_count": 30,
   "id": "1683f830",
   "metadata": {
    "slideshow": {
     "slide_type": "fragment"
    }
   },
   "outputs": [
    {
     "data": {
      "text/html": [
       "<pre style=\"white-space:pre;overflow-x:auto;line-height:normal;font-family:Menlo,'DejaVu Sans Mono',consolas,'Courier New',monospace\"><span style=\"color: #00ff00; text-decoration-color: #00ff00; font-style: italic\">True</span>\n",
       "</pre>\n"
      ],
      "text/plain": [
       "\u001b[3;92mTrue\u001b[0m\n"
      ]
     },
     "metadata": {},
     "output_type": "display_data"
    }
   ],
   "source": [
    "# Insert underscores to separate out larger integers\n",
    "\n",
    "a = 234523453453456\n",
    "\n",
    "b = 234_523_453_453_456\n",
    "\n",
    "print(a == b)"
   ]
  },
  {
   "cell_type": "code",
   "execution_count": 31,
   "id": "675d8d47",
   "metadata": {
    "slideshow": {
     "slide_type": "fragment"
    }
   },
   "outputs": [
    {
     "data": {
      "text/html": [
       "<pre style=\"white-space:pre;overflow-x:auto;line-height:normal;font-family:Menlo,'DejaVu Sans Mono',consolas,'Courier New',monospace\"><span style=\"color: #00ff00; text-decoration-color: #00ff00; font-style: italic\">True</span>\n",
       "</pre>\n"
      ],
      "text/plain": [
       "\u001b[3;92mTrue\u001b[0m\n"
      ]
     },
     "metadata": {},
     "output_type": "display_data"
    }
   ],
   "source": [
    "# Use scientific notation for large numbers\n",
    "\n",
    "c = 2.5e12\n",
    "\n",
    "d = 2500000000000\n",
    "\n",
    "print(c == d)"
   ]
  }
 ],
 "metadata": {
  "celltoolbar": "Slideshow",
  "kernelspec": {
   "display_name": "Python 3 (ipykernel)",
   "language": "python",
   "name": "python3"
  },
  "language_info": {
   "codemirror_mode": {
    "name": "ipython",
    "version": 3
   },
   "file_extension": ".py",
   "mimetype": "text/x-python",
   "name": "python",
   "nbconvert_exporter": "python",
   "pygments_lexer": "ipython3",
   "version": "3.11.1"
  }
 },
 "nbformat": 4,
 "nbformat_minor": 5
}
