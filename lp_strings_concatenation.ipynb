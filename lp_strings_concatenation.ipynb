{
 "cells": [
  {
   "cell_type": "code",
   "execution_count": 1,
   "id": "6bef5e73",
   "metadata": {
    "slideshow": {
     "slide_type": "skip"
    }
   },
   "outputs": [],
   "source": [
    "# !pip install rich\n",
    "from rich import print"
   ]
  },
  {
   "cell_type": "markdown",
   "id": "d0efc557",
   "metadata": {
    "slideshow": {
     "slide_type": "fragment"
    }
   },
   "source": [
    "## <span style='color: blue'>Learn Python</span> - String Concatenation\n",
    "\n",
    "String <span style='color: blue'>**concatenation**</span> in Python is the process of <span style='color: magenta'>**joining two or more strings together into a single string**</span>. It is achieved using the <span style='color: magenta'>**+**</span> operator or by using the <span style='color: magenta'>**join()**</span> method."
   ]
  },
  {
   "cell_type": "markdown",
   "id": "348545c1",
   "metadata": {
    "slideshow": {
     "slide_type": "slide"
    }
   },
   "source": [
    "Using the <span style='color: magenta'>**+**</span> operator between two strings will join them together into a new <span style='color: blue'>**string**</span>."
   ]
  },
  {
   "cell_type": "code",
   "execution_count": 3,
   "id": "f84c5e9c",
   "metadata": {},
   "outputs": [
    {
     "data": {
      "text/html": [
       "<pre style=\"white-space:pre;overflow-x:auto;line-height:normal;font-family:Menlo,'DejaVu Sans Mono',consolas,'Courier New',monospace\">The name's Bond, James Bond.\n",
       "</pre>\n"
      ],
      "text/plain": [
       "The name's Bond, James Bond.\n"
      ]
     },
     "metadata": {},
     "output_type": "display_data"
    }
   ],
   "source": [
    "name = \"Bond\"\n",
    "\n",
    "quote = \"The name's \" + name + \", James \" + name + \".\"\n",
    "\n",
    "print(quote)"
   ]
  },
  {
   "cell_type": "markdown",
   "id": "73a0bd03",
   "metadata": {
    "slideshow": {
     "slide_type": "slide"
    }
   },
   "source": [
    "Using the <span style='color: magenta'>**\\***</span> operator will <span style='color: blue'>**repeat**</span> the string and join them together."
   ]
  },
  {
   "cell_type": "code",
   "execution_count": 4,
   "id": "ab45ca4a",
   "metadata": {},
   "outputs": [
    {
     "data": {
      "text/html": [
       "<pre style=\"white-space:pre;overflow-x:auto;line-height:normal;font-family:Menlo,'DejaVu Sans Mono',consolas,'Courier New',monospace\">na na na na na na na na na na na na na na na na Batman!\n",
       "</pre>\n"
      ],
      "text/plain": [
       "na na na na na na na na na na na na na na na na Batman!\n"
      ]
     },
     "metadata": {},
     "output_type": "display_data"
    }
   ],
   "source": [
    "na = 'na ' * 16\n",
    "\n",
    "tv_theme = na + 'Batman!'\n",
    "\n",
    "print(tv_theme)"
   ]
  },
  {
   "cell_type": "markdown",
   "id": "eb69b25e",
   "metadata": {
    "slideshow": {
     "slide_type": "slide"
    }
   },
   "source": [
    "<span style='color: blue'>**Concatentation**</span> can be used in conjuction with <span style='color: blue'>**slicing**</span> to <span style='color: magenta'>**replace**</span> words."
   ]
  },
  {
   "cell_type": "code",
   "execution_count": 5,
   "id": "bea8c2cf",
   "metadata": {},
   "outputs": [
    {
     "data": {
      "text/html": [
       "<pre style=\"white-space:pre;overflow-x:auto;line-height:normal;font-family:Menlo,'DejaVu Sans Mono',consolas,'Courier New',monospace\">Han shot first\n",
       "</pre>\n"
      ],
      "text/plain": [
       "Han shot first\n"
      ]
     },
     "metadata": {},
     "output_type": "display_data"
    }
   ],
   "source": [
    "episode_iv = 'Greedo shot first'\n",
    "\n",
    "episode_iv = 'Han' + episode_iv[6:]\n",
    "\n",
    "print(episode_iv)"
   ]
  },
  {
   "cell_type": "markdown",
   "id": "9aacfcac",
   "metadata": {
    "slideshow": {
     "slide_type": "slide"
    }
   },
   "source": [
    "Using the <span style='color: blue'>**string**</span> method <span style='color: blue'>**.join()**</span> will contatenate an <span style='color: magenta'>**iterable**</span> in a string."
   ]
  },
  {
   "cell_type": "code",
   "execution_count": 6,
   "id": "789aa05a",
   "metadata": {},
   "outputs": [
    {
     "data": {
      "text/html": [
       "<pre style=\"white-space:pre;overflow-x:auto;line-height:normal;font-family:Menlo,'DejaVu Sans Mono',consolas,'Courier New',monospace\">I feel the need, the need for speed\n",
       "</pre>\n"
      ],
      "text/plain": [
       "I feel the need, the need for speed\n"
      ]
     },
     "metadata": {},
     "output_type": "display_data"
    }
   ],
   "source": [
    "words = [\"I\", \"feel\", \"the\", \"need,\", \"the\", \"need\", \"for\", \"speed\"]\n",
    "\n",
    "maverick = ' '.join(words)\n",
    "\n",
    "print(maverick)"
   ]
  }
 ],
 "metadata": {
  "celltoolbar": "Slideshow",
  "kernelspec": {
   "display_name": "Python 3 (ipykernel)",
   "language": "python",
   "name": "python3"
  },
  "language_info": {
   "codemirror_mode": {
    "name": "ipython",
    "version": 3
   },
   "file_extension": ".py",
   "mimetype": "text/x-python",
   "name": "python",
   "nbconvert_exporter": "python",
   "pygments_lexer": "ipython3",
   "version": "3.11.1"
  }
 },
 "nbformat": 4,
 "nbformat_minor": 5
}
