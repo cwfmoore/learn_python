{
 "cells": [
  {
   "cell_type": "code",
   "execution_count": 1,
   "id": "a2758a7a",
   "metadata": {
    "slideshow": {
     "slide_type": "skip"
    }
   },
   "outputs": [],
   "source": [
    "# !pip install rich\n",
    "from rich import print"
   ]
  },
  {
   "cell_type": "markdown",
   "id": "22673c99",
   "metadata": {
    "slideshow": {
     "slide_type": "slide"
    }
   },
   "source": [
    "## <span style='color: blue'>Learn Python</span> - Indexing & Slicing\n",
    "\n",
    "Python <span style='color: blue'>**string indexing**</span> and <span style='color: blue'>**slicing**</span> refer to the process of <span style='color: magenta'>**selecting specific characters or substrings from a string**</span> by specifying their <span style='color: magenta'>**position or range of positions**</span> within the string. \n",
    "\n",
    "<span style='color: magenta'>**Indexing**</span> refers to selecting a <span style='color: magenta'>**single character**</span>, while <span style='color: blue'>**slicing**</span> refers to selecting a <span style='color: magenta'>**substring of characters**</span>."
   ]
  },
  {
   "cell_type": "markdown",
   "id": "678cc913",
   "metadata": {
    "slideshow": {
     "slide_type": "slide"
    }
   },
   "source": [
    "A <span style='color: blue'>**string**</span> is an <span style='color: magenta'>**indexed array of characters**</span> that can be manipulated by accessing individual elements."
   ]
  },
  {
   "cell_type": "markdown",
   "id": "c09a09c1",
   "metadata": {},
   "source": [
    "|  H  |  e  |  l  |  l  |  o  |   |  W  |  o  |  r  |  l  |  d  |\n",
    "|:-:|:-:|:-:|:-:|:-:|:-:|:-:|:-:|:-:|:-:|:-:|\n",
    "|0|1|2|3|4|5|6|7|8|9|10|"
   ]
  },
  {
   "cell_type": "markdown",
   "id": "c9a28e4a",
   "metadata": {
    "slideshow": {
     "slide_type": "fragment"
    }
   },
   "source": [
    "To <span style='color: blue'>**index**</span> place <span style='color: blue'>**integers**</span> within <span style='color: magenta'>**square brackets**</span> to access the string's <span style='color: magenta'>**characters**</span>."
   ]
  },
  {
   "cell_type": "code",
   "execution_count": 2,
   "id": "9f6ba4d5",
   "metadata": {},
   "outputs": [
    {
     "data": {
      "text/html": [
       "<pre style=\"white-space:pre;overflow-x:auto;line-height:normal;font-family:Menlo,'DejaVu Sans Mono',consolas,'Courier New',monospace\">H\n",
       "</pre>\n"
      ],
      "text/plain": [
       "H\n"
      ]
     },
     "metadata": {},
     "output_type": "display_data"
    }
   ],
   "source": [
    "string = 'Hello World'\n",
    "\n",
    "index_char = string[0]\n",
    "\n",
    "print(index_char)"
   ]
  },
  {
   "cell_type": "markdown",
   "id": "ca87b0a6",
   "metadata": {
    "slideshow": {
     "slide_type": "slide"
    }
   },
   "source": [
    "As a result <span style='color: blue'>**strings**</span> can also be <span style='color: magenta'>**iterated over**</span> using loops."
   ]
  },
  {
   "cell_type": "code",
   "execution_count": 10,
   "id": "1b400c43",
   "metadata": {},
   "outputs": [
    {
     "data": {
      "text/html": [
       "<pre style=\"white-space:pre;overflow-x:auto;line-height:normal;font-family:Menlo,'DejaVu Sans Mono',consolas,'Courier New',monospace\">H\n",
       "</pre>\n"
      ],
      "text/plain": [
       "H\n"
      ]
     },
     "metadata": {},
     "output_type": "display_data"
    },
    {
     "data": {
      "text/html": [
       "<pre style=\"white-space:pre;overflow-x:auto;line-height:normal;font-family:Menlo,'DejaVu Sans Mono',consolas,'Courier New',monospace\">e\n",
       "</pre>\n"
      ],
      "text/plain": [
       "e\n"
      ]
     },
     "metadata": {},
     "output_type": "display_data"
    },
    {
     "data": {
      "text/html": [
       "<pre style=\"white-space:pre;overflow-x:auto;line-height:normal;font-family:Menlo,'DejaVu Sans Mono',consolas,'Courier New',monospace\">l\n",
       "</pre>\n"
      ],
      "text/plain": [
       "l\n"
      ]
     },
     "metadata": {},
     "output_type": "display_data"
    },
    {
     "data": {
      "text/html": [
       "<pre style=\"white-space:pre;overflow-x:auto;line-height:normal;font-family:Menlo,'DejaVu Sans Mono',consolas,'Courier New',monospace\">l\n",
       "</pre>\n"
      ],
      "text/plain": [
       "l\n"
      ]
     },
     "metadata": {},
     "output_type": "display_data"
    },
    {
     "data": {
      "text/html": [
       "<pre style=\"white-space:pre;overflow-x:auto;line-height:normal;font-family:Menlo,'DejaVu Sans Mono',consolas,'Courier New',monospace\">o\n",
       "</pre>\n"
      ],
      "text/plain": [
       "o\n"
      ]
     },
     "metadata": {},
     "output_type": "display_data"
    },
    {
     "data": {
      "text/html": [
       "<pre style=\"white-space:pre;overflow-x:auto;line-height:normal;font-family:Menlo,'DejaVu Sans Mono',consolas,'Courier New',monospace\"> \n",
       "</pre>\n"
      ],
      "text/plain": [
       " \n"
      ]
     },
     "metadata": {},
     "output_type": "display_data"
    },
    {
     "data": {
      "text/html": [
       "<pre style=\"white-space:pre;overflow-x:auto;line-height:normal;font-family:Menlo,'DejaVu Sans Mono',consolas,'Courier New',monospace\">W\n",
       "</pre>\n"
      ],
      "text/plain": [
       "W\n"
      ]
     },
     "metadata": {},
     "output_type": "display_data"
    },
    {
     "data": {
      "text/html": [
       "<pre style=\"white-space:pre;overflow-x:auto;line-height:normal;font-family:Menlo,'DejaVu Sans Mono',consolas,'Courier New',monospace\">o\n",
       "</pre>\n"
      ],
      "text/plain": [
       "o\n"
      ]
     },
     "metadata": {},
     "output_type": "display_data"
    },
    {
     "data": {
      "text/html": [
       "<pre style=\"white-space:pre;overflow-x:auto;line-height:normal;font-family:Menlo,'DejaVu Sans Mono',consolas,'Courier New',monospace\">r\n",
       "</pre>\n"
      ],
      "text/plain": [
       "r\n"
      ]
     },
     "metadata": {},
     "output_type": "display_data"
    },
    {
     "data": {
      "text/html": [
       "<pre style=\"white-space:pre;overflow-x:auto;line-height:normal;font-family:Menlo,'DejaVu Sans Mono',consolas,'Courier New',monospace\">l\n",
       "</pre>\n"
      ],
      "text/plain": [
       "l\n"
      ]
     },
     "metadata": {},
     "output_type": "display_data"
    },
    {
     "data": {
      "text/html": [
       "<pre style=\"white-space:pre;overflow-x:auto;line-height:normal;font-family:Menlo,'DejaVu Sans Mono',consolas,'Courier New',monospace\">d\n",
       "</pre>\n"
      ],
      "text/plain": [
       "d\n"
      ]
     },
     "metadata": {},
     "output_type": "display_data"
    }
   ],
   "source": [
    "for char in string:\n",
    "    print(char)"
   ]
  },
  {
   "cell_type": "markdown",
   "id": "2b25cc59",
   "metadata": {
    "slideshow": {
     "slide_type": "slide"
    }
   },
   "source": [
    "To perform <span style='color: magenta'>**slicing**</span> place <span style='color: blue'>**integers**</span>, separated by <span style='color: magenta'>**colons**</span>, within <span style='color: blue'>**square brackets**</span> to access a <span style='color: blue'>**range**</span> of the string's characters.\n",
    "\n",
    "There are <span style='color: magenta'>**three**</span> parameters in slicing, this is the <span style='color: blue'>**syntax**</span>.\n",
    "\n",
    "<h3 style=\"text-align: center;\">\n",
    "    <span style='color: blue'>string_name </span>[ <span style='color: magenta'>start</span> : <span style='color: magenta'>stop</span> : <span style='color: magenta'>step</span> ]</h3>"
   ]
  },
  {
   "cell_type": "markdown",
   "id": "a922c9d3",
   "metadata": {
    "slideshow": {
     "slide_type": "slide"
    }
   },
   "source": [
    "<span style='color: blue'>Things to know about string slicing:</span>\n",
    "- The start index is <span style='color: magenta'>**inclusive**</span>, the end is <span style='color: magenta'>**exclusive**</span>\n",
    "- Omitting an integer from the <span style='color: magenta'>**start**</span> defaults to the <span style='color: magenta'>**beginning**</span>\n",
    "- Omitting an integer from the <span style='color: magenta'>**stop**</span> defaults to the <span style='color: magenta'>**end**</span>"
   ]
  },
  {
   "cell_type": "code",
   "execution_count": 11,
   "id": "65a16769",
   "metadata": {
    "slideshow": {
     "slide_type": "fragment"
    }
   },
   "outputs": [],
   "source": [
    "number_string = '0123456789'"
   ]
  },
  {
   "cell_type": "code",
   "execution_count": 13,
   "id": "ee46734c",
   "metadata": {
    "slideshow": {
     "slide_type": "fragment"
    }
   },
   "outputs": [
    {
     "data": {
      "text/html": [
       "<pre style=\"white-space:pre;overflow-x:auto;line-height:normal;font-family:Menlo,'DejaVu Sans Mono',consolas,'Courier New',monospace\"><span style=\"color: #008080; text-decoration-color: #008080; font-weight: bold\">0</span>\n",
       "</pre>\n"
      ],
      "text/plain": [
       "\u001b[1;36m0\u001b[0m\n"
      ]
     },
     "metadata": {},
     "output_type": "display_data"
    }
   ],
   "source": [
    "print(number_string[0:1])"
   ]
  },
  {
   "cell_type": "code",
   "execution_count": 14,
   "id": "5c4b2b33",
   "metadata": {
    "slideshow": {
     "slide_type": "fragment"
    }
   },
   "outputs": [
    {
     "data": {
      "text/html": [
       "<pre style=\"white-space:pre;overflow-x:auto;line-height:normal;font-family:Menlo,'DejaVu Sans Mono',consolas,'Courier New',monospace\"><span style=\"color: #008080; text-decoration-color: #008080; font-weight: bold\">01234</span>\n",
       "</pre>\n"
      ],
      "text/plain": [
       "\u001b[1;36m01234\u001b[0m\n"
      ]
     },
     "metadata": {},
     "output_type": "display_data"
    }
   ],
   "source": [
    "print(number_string[:5])"
   ]
  },
  {
   "cell_type": "code",
   "execution_count": 15,
   "id": "4c6e4ebf",
   "metadata": {
    "slideshow": {
     "slide_type": "fragment"
    }
   },
   "outputs": [
    {
     "data": {
      "text/html": [
       "<pre style=\"white-space:pre;overflow-x:auto;line-height:normal;font-family:Menlo,'DejaVu Sans Mono',consolas,'Courier New',monospace\"><span style=\"color: #008080; text-decoration-color: #008080; font-weight: bold\">56789</span>\n",
       "</pre>\n"
      ],
      "text/plain": [
       "\u001b[1;36m56789\u001b[0m\n"
      ]
     },
     "metadata": {},
     "output_type": "display_data"
    }
   ],
   "source": [
    "print(number_string[5:])"
   ]
  },
  {
   "cell_type": "code",
   "execution_count": 16,
   "id": "8fd1d1cb",
   "metadata": {
    "slideshow": {
     "slide_type": "fragment"
    }
   },
   "outputs": [
    {
     "data": {
      "text/html": [
       "<pre style=\"white-space:pre;overflow-x:auto;line-height:normal;font-family:Menlo,'DejaVu Sans Mono',consolas,'Courier New',monospace\"><span style=\"color: #008080; text-decoration-color: #008080; font-weight: bold\">02468</span>\n",
       "</pre>\n"
      ],
      "text/plain": [
       "\u001b[1;36m02468\u001b[0m\n"
      ]
     },
     "metadata": {},
     "output_type": "display_data"
    }
   ],
   "source": [
    "print(number_string[::2])"
   ]
  },
  {
   "cell_type": "markdown",
   "id": "661eff3b",
   "metadata": {
    "slideshow": {
     "slide_type": "slide"
    }
   },
   "source": [
    "### <span style='color: blue'>Negative integers when indexing and slicing:</span> ###\n",
    "- <span style='color: magenta'>**Negative**</span> indexing starts from the <span style='color: magenta'>**end**</span> of the string\n",
    "- <span style='color: magenta'>**Negative**</span> step <span style='color: magenta'>**reverses**</span> the string"
   ]
  },
  {
   "cell_type": "code",
   "execution_count": 17,
   "id": "7e387793",
   "metadata": {
    "slideshow": {
     "slide_type": "fragment"
    }
   },
   "outputs": [
    {
     "data": {
      "text/html": [
       "<pre style=\"white-space:pre;overflow-x:auto;line-height:normal;font-family:Menlo,'DejaVu Sans Mono',consolas,'Courier New',monospace\"><span style=\"color: #008080; text-decoration-color: #008080; font-weight: bold\">01234</span>\n",
       "</pre>\n"
      ],
      "text/plain": [
       "\u001b[1;36m01234\u001b[0m\n"
      ]
     },
     "metadata": {},
     "output_type": "display_data"
    }
   ],
   "source": [
    "print(number_string[:-5])"
   ]
  },
  {
   "cell_type": "code",
   "execution_count": 19,
   "id": "bce48419",
   "metadata": {
    "slideshow": {
     "slide_type": "fragment"
    }
   },
   "outputs": [
    {
     "data": {
      "text/html": [
       "<pre style=\"white-space:pre;overflow-x:auto;line-height:normal;font-family:Menlo,'DejaVu Sans Mono',consolas,'Courier New',monospace\"><span style=\"color: #008080; text-decoration-color: #008080; font-weight: bold\">9876543210</span>\n",
       "</pre>\n"
      ],
      "text/plain": [
       "\u001b[1;36m9876543210\u001b[0m\n"
      ]
     },
     "metadata": {},
     "output_type": "display_data"
    }
   ],
   "source": [
    "print(number_string[::-1])"
   ]
  },
  {
   "cell_type": "markdown",
   "id": "1458e7f2",
   "metadata": {
    "slideshow": {
     "slide_type": "slide"
    }
   },
   "source": [
    "### <span style='color: blue'>Raising errors:</span> ###\n",
    "- <span style='color: magenta'>**Indexing**</span> a string out of bounds <span style='color: magenta'>**will**</span> return an <span style='color: magenta'>**error**</span>\n",
    "- <span style='color: magenta'>**Slicing**</span> out of bounds <span style='color: magenta'>**will not**</span> return an <span style='color: magenta'>**error**</span>"
   ]
  },
  {
   "cell_type": "code",
   "execution_count": 25,
   "id": "bafda5de",
   "metadata": {},
   "outputs": [
    {
     "data": {
      "text/html": [
       "<pre style=\"white-space:pre;overflow-x:auto;line-height:normal;font-family:Menlo,'DejaVu Sans Mono',consolas,'Courier New',monospace\">string index out of range\n",
       "</pre>\n"
      ],
      "text/plain": [
       "string index out of range\n"
      ]
     },
     "metadata": {},
     "output_type": "display_data"
    }
   ],
   "source": [
    "# To demostrate the error a try-except block is used\n",
    "try:\n",
    "    print(number_string[12])\n",
    "except Exception as error:\n",
    "    print(error)"
   ]
  },
  {
   "cell_type": "code",
   "execution_count": 24,
   "id": "beb554a3",
   "metadata": {
    "slideshow": {
     "slide_type": "fragment"
    }
   },
   "outputs": [
    {
     "data": {
      "text/html": [
       "<pre style=\"white-space:pre;overflow-x:auto;line-height:normal;font-family:Menlo,'DejaVu Sans Mono',consolas,'Courier New',monospace\"><span style=\"color: #008080; text-decoration-color: #008080; font-weight: bold\">0123456789</span>\n",
       "</pre>\n"
      ],
      "text/plain": [
       "\u001b[1;36m0123456789\u001b[0m\n"
      ]
     },
     "metadata": {},
     "output_type": "display_data"
    }
   ],
   "source": [
    "print(number_string[:12])"
   ]
  }
 ],
 "metadata": {
  "celltoolbar": "Slideshow",
  "kernelspec": {
   "display_name": "Python 3 (ipykernel)",
   "language": "python",
   "name": "python3"
  },
  "language_info": {
   "codemirror_mode": {
    "name": "ipython",
    "version": 3
   },
   "file_extension": ".py",
   "mimetype": "text/x-python",
   "name": "python",
   "nbconvert_exporter": "python",
   "pygments_lexer": "ipython3",
   "version": "3.11.1"
  }
 },
 "nbformat": 4,
 "nbformat_minor": 5
}
