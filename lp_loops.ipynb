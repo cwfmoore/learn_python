{
 "cells": [
  {
   "cell_type": "code",
   "execution_count": 2,
   "id": "ecb08f06",
   "metadata": {
    "slideshow": {
     "slide_type": "skip"
    }
   },
   "outputs": [],
   "source": [
    "# !pip install rich\n",
    "from rich import print"
   ]
  },
  {
   "cell_type": "markdown",
   "id": "9006b9fd",
   "metadata": {
    "slideshow": {
     "slide_type": "slide"
    }
   },
   "source": [
    "# <span style='color: blue'>Learn Python</span> - Loops"
   ]
  },
  {
   "cell_type": "markdown",
   "id": "526c70f8",
   "metadata": {},
   "source": [
    "- [Types of Loops: For, While, and Nested](##types-of-loops-for-while-and-nested)\n",
    "- [Syntax and Structure of Loops in Python](##syntax-and-structure-of-loops-in-python)\n",
    "- [Controlling Loop Execution with Break and Continue](##controlling-loop-execution-with-break-and-continue)\n",
    "- [Common Use Cases for Python Loops](##common-use-cases-for-python-loops)\n",
    "- [Best Practices for Writing Efficient Loops](##best-practices-for-writing-efficient-loops)\n",
    "- [Comprehensions](##comprehensions)\n",
    "- [Generators](##generators)\n"
   ]
  },
  {
   "cell_type": "markdown",
   "id": "42f8feaf",
   "metadata": {
    "slideshow": {
     "slide_type": "skip"
    }
   },
   "source": [
    "<span style='color: blue'>**Click**</span> on a link from the above menu to <span style='color: blue'>**go to that section**</span>"
   ]
  },
  {
   "cell_type": "markdown",
   "id": "241744ac",
   "metadata": {
    "slideshow": {
     "slide_type": "slide"
    }
   },
   "source": [
    "## <span style='color: blue'>**Types of Loops**</span>: For, While, and Nested.\n",
    "\n",
    "Python <span style='color: blue'>**loops**</span> automate the <span style='color: magenta'>**repetition of code**</span>, providing a powerful mechanism for processing large amounts of data with fewer lines of code.\n",
    "\n",
    "The examples provided below demonstrate the various types of loops that can be used in Python, including:\n",
    "\n",
    "- <span style='color: blue'>**For loop**</span>: Used to iterate over a <span style='color: magenta'>**sequence**</span> or a <span style='color: magenta'>**range**</span>.\n",
    "- <span style='color: blue'>**While loop**</span>: Used to .<span style='color: magenta'>**repeat**</span> a set of instructions as long as a <span style='color: magenta'>**condition is true**</span>\n",
    "- <span style='color: blue'>**Nested loop**</span>: Allows for the iteration of <span style='color: magenta'>**multiple sets of instructions**</span> within each other\n"
   ]
  },
  {
   "cell_type": "markdown",
   "id": "ba31c96e",
   "metadata": {
    "slideshow": {
     "slide_type": "slide"
    }
   },
   "source": [
    "## <span style='color: blue'>**Syntax and Structure of Loops in Python**</span> <a id='#syntax-and-structure-of-loops-in-python'></a> \n",
    "\n",
    "The syntax of a <span style='color: blue'>**for loop**</span> in Python involves iterating over a <span style='color: magenta'>**sequence**</span> or <span style='color: magenta'>**iterable**</span> using the <span style='color: blue'>**for**</span> keyword and executing a block of code for each element in the sequence.\n",
    "\n",
    "<span style='color: magenta'>**Iterables**</span> are objects in Python that can be iterated over, such as <span style='color: blue'>**strings**</span>, <span style='color: blue'>**lists**</span>, and <span style='color: blue'>**tuples**</span>."
   ]
  },
  {
   "cell_type": "markdown",
   "id": "ac4ed31e",
   "metadata": {
    "slideshow": {
     "slide_type": "slide"
    }
   },
   "source": [
    "<span style='color: magenta'>**Iterating**</span> over a <span style='color: blue'>**list**</span> of cartoon dogs using a <span style='color: blue'>**for loop**</span>, printing each dog's name."
   ]
  },
  {
   "cell_type": "code",
   "execution_count": 3,
   "id": "fdd2e255",
   "metadata": {},
   "outputs": [
    {
     "data": {
      "text/html": [
       "<pre style=\"white-space:pre;overflow-x:auto;line-height:normal;font-family:Menlo,'DejaVu Sans Mono',consolas,'Courier New',monospace\">Scooby Doo\n",
       "</pre>\n"
      ],
      "text/plain": [
       "Scooby Doo\n"
      ]
     },
     "metadata": {},
     "output_type": "display_data"
    },
    {
     "data": {
      "text/html": [
       "<pre style=\"white-space:pre;overflow-x:auto;line-height:normal;font-family:Menlo,'DejaVu Sans Mono',consolas,'Courier New',monospace\">Pluto\n",
       "</pre>\n"
      ],
      "text/plain": [
       "Pluto\n"
      ]
     },
     "metadata": {},
     "output_type": "display_data"
    },
    {
     "data": {
      "text/html": [
       "<pre style=\"white-space:pre;overflow-x:auto;line-height:normal;font-family:Menlo,'DejaVu Sans Mono',consolas,'Courier New',monospace\">Goofy\n",
       "</pre>\n"
      ],
      "text/plain": [
       "Goofy\n"
      ]
     },
     "metadata": {},
     "output_type": "display_data"
    },
    {
     "data": {
      "text/html": [
       "<pre style=\"white-space:pre;overflow-x:auto;line-height:normal;font-family:Menlo,'DejaVu Sans Mono',consolas,'Courier New',monospace\">Droopy\n",
       "</pre>\n"
      ],
      "text/plain": [
       "Droopy\n"
      ]
     },
     "metadata": {},
     "output_type": "display_data"
    },
    {
     "data": {
      "text/html": [
       "<pre style=\"white-space:pre;overflow-x:auto;line-height:normal;font-family:Menlo,'DejaVu Sans Mono',consolas,'Courier New',monospace\">Odie\n",
       "</pre>\n"
      ],
      "text/plain": [
       "Odie\n"
      ]
     },
     "metadata": {},
     "output_type": "display_data"
    }
   ],
   "source": [
    "cartoon_dogs = ['Scooby Doo', 'Pluto', 'Goofy', 'Droopy', 'Odie']\n",
    "\n",
    "for dog in cartoon_dogs:\n",
    "    print(dog)"
   ]
  },
  {
   "cell_type": "markdown",
   "id": "25f13940",
   "metadata": {
    "slideshow": {
     "slide_type": "slide"
    }
   },
   "source": [
    "A <span style='color: blue'>**while loop**</span> executes a block of code repeatedly while a <span style='color: magenta'>**specified condition remains true**</span>. \n",
    "\n",
    "For example, a our <span style='color: blue'>**list**</span> of cartoon dogs can be printed by accessing the current element using an <span style='color: magenta'>**index variable**</span>, incrementing the index by one each loop."
   ]
  },
  {
   "cell_type": "code",
   "execution_count": 4,
   "id": "f0860ed5",
   "metadata": {},
   "outputs": [
    {
     "data": {
      "text/html": [
       "<pre style=\"white-space:pre;overflow-x:auto;line-height:normal;font-family:Menlo,'DejaVu Sans Mono',consolas,'Courier New',monospace\">Scooby Doo\n",
       "</pre>\n"
      ],
      "text/plain": [
       "Scooby Doo\n"
      ]
     },
     "metadata": {},
     "output_type": "display_data"
    },
    {
     "data": {
      "text/html": [
       "<pre style=\"white-space:pre;overflow-x:auto;line-height:normal;font-family:Menlo,'DejaVu Sans Mono',consolas,'Courier New',monospace\">Pluto\n",
       "</pre>\n"
      ],
      "text/plain": [
       "Pluto\n"
      ]
     },
     "metadata": {},
     "output_type": "display_data"
    },
    {
     "data": {
      "text/html": [
       "<pre style=\"white-space:pre;overflow-x:auto;line-height:normal;font-family:Menlo,'DejaVu Sans Mono',consolas,'Courier New',monospace\">Goofy\n",
       "</pre>\n"
      ],
      "text/plain": [
       "Goofy\n"
      ]
     },
     "metadata": {},
     "output_type": "display_data"
    },
    {
     "data": {
      "text/html": [
       "<pre style=\"white-space:pre;overflow-x:auto;line-height:normal;font-family:Menlo,'DejaVu Sans Mono',consolas,'Courier New',monospace\">Droopy\n",
       "</pre>\n"
      ],
      "text/plain": [
       "Droopy\n"
      ]
     },
     "metadata": {},
     "output_type": "display_data"
    },
    {
     "data": {
      "text/html": [
       "<pre style=\"white-space:pre;overflow-x:auto;line-height:normal;font-family:Menlo,'DejaVu Sans Mono',consolas,'Courier New',monospace\">Odie\n",
       "</pre>\n"
      ],
      "text/plain": [
       "Odie\n"
      ]
     },
     "metadata": {},
     "output_type": "display_data"
    }
   ],
   "source": [
    "cartoon_dogs = ['Scooby Doo', 'Pluto', 'Goofy', 'Droopy', 'Odie']\n",
    "\n",
    "index = 0\n",
    "while index < len(cartoon_dogs):\n",
    "    print(cartoon_dogs[index])\n",
    "    index += 1"
   ]
  },
  {
   "cell_type": "markdown",
   "id": "7173a2dc",
   "metadata": {
    "slideshow": {
     "slide_type": "slide"
    }
   },
   "source": [
    "This code uses a <span style='color: blue'>**nested for loop**</span> to iterate over <span style='color: magenta'>**two separate lists**</span>, cartoon_dogs and cartoon_cats. \n",
    "\n",
    "During <span style='color: magenta'>**each iteration**</span> of the dogs list, the code <span style='color: magenta'>**iterates over the entire cats list**</span>. An <span style='color: blue'>**if statement**</span> checks whether the current dog is Odie and the current cat is Garfield. If this condition is true, a print statement is executed."
   ]
  },
  {
   "cell_type": "code",
   "execution_count": 5,
   "id": "3a5d11c1",
   "metadata": {},
   "outputs": [
    {
     "data": {
      "text/html": [
       "<pre style=\"white-space:pre;overflow-x:auto;line-height:normal;font-family:Menlo,'DejaVu Sans Mono',consolas,'Courier New',monospace\">These two characters are in the same cartoon: Odie and Garfield\n",
       "</pre>\n"
      ],
      "text/plain": [
       "These two characters are in the same cartoon: Odie and Garfield\n"
      ]
     },
     "metadata": {},
     "output_type": "display_data"
    }
   ],
   "source": [
    "cartoon_dogs = ['Scooby Doo', 'Pluto', 'Goofy', 'Droopy', 'Odie']\n",
    "cartoon_cats = ['Tom', 'Sylvester', 'Garfield', 'Felix', 'Top Cat']\n",
    "\n",
    "for dog in cartoon_dogs:\n",
    "    for cat in cartoon_cats:\n",
    "        if dog == 'Odie' and cat == 'Garfield':\n",
    "            print('These two characters are in the same cartoon:', dog, 'and', cat)"
   ]
  },
  {
   "cell_type": "markdown",
   "id": "9fa1b204",
   "metadata": {
    "slideshow": {
     "slide_type": "slide"
    }
   },
   "source": [
    "## <span style='color: blue'>**Controlling Loop Execution with Break and Continue**</span> <a id='#controlling-loop-execution-with-break-and-continue'></a>\n",
    "\n",
    "In Python, the <span style='color: blue'>**break**</span> and <span style='color: blue'>**continue**</span> statements can be used to control the <span style='color: magenta'>**execution of loops**</span>.\n",
    "\n",
    "The <span style='color: blue'>**break statement**</span> is used to <span style='color: magenta'>**exit a loop prematurely**</span> when a certain condition is met, while the <span style='color: blue'>**continue statement**</span> is used to <span style='color: magenta'>**skip over a certain iteration**</span> and move to the next one. "
   ]
  },
  {
   "cell_type": "markdown",
   "id": "2d5ea3a7",
   "metadata": {
    "slideshow": {
     "slide_type": "slide"
    }
   },
   "source": [
    "#### The <span style='color: blue'>**Break**</span> Statement.\n",
    "\n",
    "The below example uses a <span style='color: blue'>**for loop**</span> to <span style='color: magenta'>**iterate**</span> over a <span style='color: blue'>**tuple**</span> of Marvel villains, prints their names, and <span style='color: magenta'>**terminates**</span> the loop with a <span style='color: blue'>**break statement**</span> when it encounters the villain named \"Venom\"."
   ]
  },
  {
   "cell_type": "code",
   "execution_count": 6,
   "id": "9d551afd",
   "metadata": {},
   "outputs": [
    {
     "data": {
      "text/html": [
       "<pre style=\"white-space:pre;overflow-x:auto;line-height:normal;font-family:Menlo,'DejaVu Sans Mono',consolas,'Courier New',monospace\">Thanos\n",
       "</pre>\n"
      ],
      "text/plain": [
       "Thanos\n"
      ]
     },
     "metadata": {},
     "output_type": "display_data"
    },
    {
     "data": {
      "text/html": [
       "<pre style=\"white-space:pre;overflow-x:auto;line-height:normal;font-family:Menlo,'DejaVu Sans Mono',consolas,'Courier New',monospace\">Ultron\n",
       "</pre>\n"
      ],
      "text/plain": [
       "Ultron\n"
      ]
     },
     "metadata": {},
     "output_type": "display_data"
    },
    {
     "data": {
      "text/html": [
       "<pre style=\"white-space:pre;overflow-x:auto;line-height:normal;font-family:Menlo,'DejaVu Sans Mono',consolas,'Courier New',monospace\">Red Skull\n",
       "</pre>\n"
      ],
      "text/plain": [
       "Red Skull\n"
      ]
     },
     "metadata": {},
     "output_type": "display_data"
    }
   ],
   "source": [
    "marvel_villains = (\n",
    "    'Thanos', \n",
    "    'Ultron', \n",
    "    'Red Skull', \n",
    "    'Venom', \n",
    "    'Green Goblin', \n",
    "    'Magneto', \n",
    "    'Doctor Doom'\n",
    ")\n",
    "\n",
    "for villain in marvel_villains:\n",
    "    if villain == 'Venom':\n",
    "        break\n",
    "    print(villain)\n"
   ]
  },
  {
   "cell_type": "markdown",
   "id": "2f4167d2",
   "metadata": {
    "slideshow": {
     "slide_type": "slide"
    }
   },
   "source": [
    "The next code example <span style='color: magenta'>**interates**</span> over out <span style='color: blue'>**tuple**</span> of Marvel villains until it reaches \"Venom\", using a <span style='color: blue'>**while loop**</span> and a <span style='color: blue'>**break statement**</span>."
   ]
  },
  {
   "cell_type": "code",
   "execution_count": 7,
   "id": "2bab7e18",
   "metadata": {},
   "outputs": [
    {
     "data": {
      "text/html": [
       "<pre style=\"white-space:pre;overflow-x:auto;line-height:normal;font-family:Menlo,'DejaVu Sans Mono',consolas,'Courier New',monospace\">Thanos\n",
       "</pre>\n"
      ],
      "text/plain": [
       "Thanos\n"
      ]
     },
     "metadata": {},
     "output_type": "display_data"
    },
    {
     "data": {
      "text/html": [
       "<pre style=\"white-space:pre;overflow-x:auto;line-height:normal;font-family:Menlo,'DejaVu Sans Mono',consolas,'Courier New',monospace\">Ultron\n",
       "</pre>\n"
      ],
      "text/plain": [
       "Ultron\n"
      ]
     },
     "metadata": {},
     "output_type": "display_data"
    },
    {
     "data": {
      "text/html": [
       "<pre style=\"white-space:pre;overflow-x:auto;line-height:normal;font-family:Menlo,'DejaVu Sans Mono',consolas,'Courier New',monospace\">Red Skull\n",
       "</pre>\n"
      ],
      "text/plain": [
       "Red Skull\n"
      ]
     },
     "metadata": {},
     "output_type": "display_data"
    }
   ],
   "source": [
    "marvel_villains = (\n",
    "    'Thanos', \n",
    "    'Ultron', \n",
    "    'Red Skull', \n",
    "    'Venom', \n",
    "    'Green Goblin', \n",
    "    'Magneto', \n",
    "    'Doctor Doom'\n",
    ")\n",
    "\n",
    "i = 0\n",
    "while i < len(marvel_villains):\n",
    "    if marvel_villains[i] == 'Venom':\n",
    "        break\n",
    "    print(marvel_villains[i])\n",
    "    i += 1\n"
   ]
  },
  {
   "cell_type": "markdown",
   "id": "d5da8456",
   "metadata": {
    "slideshow": {
     "slide_type": "slide"
    }
   },
   "source": [
    "#### The <span style='color: blue'>**Continue**</span> Statement.\n",
    "\n",
    "The next example prints the names of DC villains in a <span style='color: blue'>**tuple**</span>, skipping over the villain named \"Bane\" using a <span style='color: blue'>**for loop**</span> and a <span style='color: blue'>**continue statement**</span>."
   ]
  },
  {
   "cell_type": "code",
   "execution_count": 8,
   "id": "1189faf2",
   "metadata": {},
   "outputs": [
    {
     "data": {
      "text/html": [
       "<pre style=\"white-space:pre;overflow-x:auto;line-height:normal;font-family:Menlo,'DejaVu Sans Mono',consolas,'Courier New',monospace\">Joker\n",
       "</pre>\n"
      ],
      "text/plain": [
       "Joker\n"
      ]
     },
     "metadata": {},
     "output_type": "display_data"
    },
    {
     "data": {
      "text/html": [
       "<pre style=\"white-space:pre;overflow-x:auto;line-height:normal;font-family:Menlo,'DejaVu Sans Mono',consolas,'Courier New',monospace\">Lex Luthor\n",
       "</pre>\n"
      ],
      "text/plain": [
       "Lex Luthor\n"
      ]
     },
     "metadata": {},
     "output_type": "display_data"
    },
    {
     "data": {
      "text/html": [
       "<pre style=\"white-space:pre;overflow-x:auto;line-height:normal;font-family:Menlo,'DejaVu Sans Mono',consolas,'Courier New',monospace\">Darkseid\n",
       "</pre>\n"
      ],
      "text/plain": [
       "Darkseid\n"
      ]
     },
     "metadata": {},
     "output_type": "display_data"
    },
    {
     "data": {
      "text/html": [
       "<pre style=\"white-space:pre;overflow-x:auto;line-height:normal;font-family:Menlo,'DejaVu Sans Mono',consolas,'Courier New',monospace\">Ra's al Ghul\n",
       "</pre>\n"
      ],
      "text/plain": [
       "Ra's al Ghul\n"
      ]
     },
     "metadata": {},
     "output_type": "display_data"
    }
   ],
   "source": [
    "dc_villains = (\n",
    "    'Joker', \n",
    "    'Lex Luthor', \n",
    "    'Darkseid', \n",
    "    'Bane', \n",
    "    'Ra\\'s al Ghul'\n",
    ")\n",
    "\n",
    "for villain in dc_villains:\n",
    "    if villain == 'Bane':\n",
    "        continue\n",
    "    print(villain)\n"
   ]
  },
  {
   "cell_type": "markdown",
   "id": "71d2d711",
   "metadata": {},
   "source": [
    "This example code prints the names of DC villains in a <span style='color: blue'>**tuple**</span>, skipping over the villain named \"Bane\" using a <span style='color: blue'>**while loop**</span> and a <span style='color: blue'>**continue statement**</span>."
   ]
  },
  {
   "cell_type": "code",
   "execution_count": 9,
   "id": "e1c3e5a3",
   "metadata": {},
   "outputs": [
    {
     "data": {
      "text/html": [
       "<pre style=\"white-space:pre;overflow-x:auto;line-height:normal;font-family:Menlo,'DejaVu Sans Mono',consolas,'Courier New',monospace\">Joker\n",
       "</pre>\n"
      ],
      "text/plain": [
       "Joker\n"
      ]
     },
     "metadata": {},
     "output_type": "display_data"
    },
    {
     "data": {
      "text/html": [
       "<pre style=\"white-space:pre;overflow-x:auto;line-height:normal;font-family:Menlo,'DejaVu Sans Mono',consolas,'Courier New',monospace\">Lex Luthor\n",
       "</pre>\n"
      ],
      "text/plain": [
       "Lex Luthor\n"
      ]
     },
     "metadata": {},
     "output_type": "display_data"
    },
    {
     "data": {
      "text/html": [
       "<pre style=\"white-space:pre;overflow-x:auto;line-height:normal;font-family:Menlo,'DejaVu Sans Mono',consolas,'Courier New',monospace\">Darkseid\n",
       "</pre>\n"
      ],
      "text/plain": [
       "Darkseid\n"
      ]
     },
     "metadata": {},
     "output_type": "display_data"
    },
    {
     "data": {
      "text/html": [
       "<pre style=\"white-space:pre;overflow-x:auto;line-height:normal;font-family:Menlo,'DejaVu Sans Mono',consolas,'Courier New',monospace\">Ra's al Ghul\n",
       "</pre>\n"
      ],
      "text/plain": [
       "Ra's al Ghul\n"
      ]
     },
     "metadata": {},
     "output_type": "display_data"
    }
   ],
   "source": [
    "dc_villains = (\n",
    "    'Joker', \n",
    "    'Lex Luthor', \n",
    "    'Darkseid', \n",
    "    'Bane', \n",
    "    'Ra\\'s al Ghul'\n",
    ")\n",
    "\n",
    "i = 0\n",
    "while i < len(dc_villains):\n",
    "    villain = dc_villains[i]\n",
    "    i += 1\n",
    "    if villain == 'Bane':\n",
    "        continue\n",
    "    print(villain)\n"
   ]
  },
  {
   "cell_type": "markdown",
   "id": "1c935215",
   "metadata": {
    "slideshow": {
     "slide_type": "slide"
    }
   },
   "source": [
    "## <span style='color: blue'>**Common Use Cases for Python Loops**</span> <a id='#common-use-cases-for-python-loops'></a>\n",
    "\n",
    "Python <span style='color: blue'>**loops**</span> aggregate data from complex structures. In this example, a for loop filters, sums, and calculates the average age of male actors in a list."
   ]
  },
  {
   "cell_type": "code",
   "execution_count": 10,
   "id": "d7141d20",
   "metadata": {},
   "outputs": [
    {
     "data": {
      "text/html": [
       "<pre style=\"white-space:pre;overflow-x:auto;line-height:normal;font-family:Menlo,'DejaVu Sans Mono',consolas,'Courier New',monospace\">Average age of male actors: <span style=\"color: #008080; text-decoration-color: #008080; font-weight: bold\">49</span>\n",
       "</pre>\n"
      ],
      "text/plain": [
       "Average age of male actors: \u001b[1;36m49\u001b[0m\n"
      ]
     },
     "metadata": {},
     "output_type": "display_data"
    }
   ],
   "source": [
    "office_actors = [\n",
    "    {'name': 'Steve Carell', 'gender': 'male', 'age': 59},\n",
    "    {'name': 'Rainn Wilson', 'gender': 'male', 'age': 56},\n",
    "    {'name': 'John Krasinski', 'gender': 'male', 'age': 42},\n",
    "    {'name': 'Jenna Fischer', 'gender': 'female', 'age': 48},\n",
    "    {'name': 'B.J. Novak', 'gender': 'male', 'age': 42},\n",
    "    {'name': 'Mindy Kaling', 'gender': 'female', 'age': 42},\n",
    "    {'name': 'Angela Kinsey', 'gender': 'female', 'age': 50}\n",
    "]\n",
    "\n",
    "male_actors = []\n",
    "for actor in office_actors:\n",
    "    if actor['gender'] == 'male':\n",
    "        male_actors.append(actor)\n",
    "\n",
    "total_age = 0\n",
    "for actor in male_actors:\n",
    "    total_age += actor['age']\n",
    "\n",
    "average_age = total_age / len(male_actors)\n",
    "print(\"Average age of male actors:\", int(average_age))\n"
   ]
  },
  {
   "cell_type": "markdown",
   "id": "933c7813",
   "metadata": {
    "slideshow": {
     "slide_type": "slide"
    }
   },
   "source": [
    "## <span style='color: blue'>**Best Practices for Writing Efficient Loops**</span> <a id='#best-practices-for-writing-efficient-loops'></a>\n",
    "\n",
    "Efficient <span style='color: blue'>**loops**</span> in programming optimize code for <span style='color: magenta'>**faster execution**</span> by using techniques such as <span style='color: magenta'>**expense comparision**</span> and <span style='color: magenta'>**using the right loop type**</span>."
   ]
  },
  {
   "cell_type": "markdown",
   "id": "50b86d10",
   "metadata": {
    "slideshow": {
     "slide_type": "slide"
    }
   },
   "source": [
    "<span style='color: blue'>**Expense comparision**</span>: Arranging multiple loop conditions in order of least expensive evaluation. This can save time by exiting early if the first condition is not met, avoiding expensive evaluations.\n",
    "\n",
    "Here is an example in this code:\n",
    "\n",
    "```python\n",
    "        for i in range(100):\n",
    "            if i < 10:  # least expensive comparison\n",
    "                print(\"i is less than 10\")\n",
    "            elif i < 20:  # more expensive comparison\n",
    "                print(\"i is between 10 and 20\")\n",
    "            else:\n",
    "                print(\"i is greater than or equal to 20\")\n",
    "```"
   ]
  },
  {
   "cell_type": "markdown",
   "id": "8956c127",
   "metadata": {
    "slideshow": {
     "slide_type": "slide"
    }
   },
   "source": [
    "<span style='color: blue'>**Using the correct loop type**</span>: Important for <span style='color: magenta'>**optimizing code**</span> and <span style='color: magenta'>**improving performance**</span>.\n",
    "\n",
    "Take these <span style='color: magenta'>**two examples**</span> both <span style='color: magenta'>**sum all the even numbers from 1 to 10**</span>. Here we have defined them as named fuctions so we can test their performance."
   ]
  },
  {
   "cell_type": "code",
   "execution_count": 11,
   "id": "8872bd25",
   "metadata": {
    "slideshow": {
     "slide_type": "-"
    }
   },
   "outputs": [],
   "source": [
    "# For loop\n",
    "def for_loop():\n",
    "    numbers = [1, 2, 3, 4, 5, 6, 7, 8, 9, 10]\n",
    "    sum_of_evens = 0\n",
    "\n",
    "    for num in numbers:\n",
    "        if num % 2 == 0:\n",
    "            sum_of_evens += num"
   ]
  },
  {
   "cell_type": "code",
   "execution_count": 12,
   "id": "d5ba5e99",
   "metadata": {
    "slideshow": {
     "slide_type": "fragment"
    }
   },
   "outputs": [],
   "source": [
    "# While loop\n",
    "def while_loop():\n",
    "    numbers = [1, 2, 3, 4, 5, 6, 7, 8, 9, 10]\n",
    "    sum_of_evens = 0\n",
    "    i = 0\n",
    "\n",
    "    while i < len(numbers):\n",
    "        if numbers[i] % 2 == 0:\n",
    "            sum_of_evens += numbers[i]\n",
    "        i += 1"
   ]
  },
  {
   "cell_type": "markdown",
   "id": "30c53c1b",
   "metadata": {
    "slideshow": {
     "slide_type": "slide"
    }
   },
   "source": [
    "Using the <span style='color: blue'>**%timeit**</span> function we can test <span style='color: magenta'>**how long**</span> it takes to execute each of the functions."
   ]
  },
  {
   "cell_type": "code",
   "execution_count": 13,
   "id": "350f91b7",
   "metadata": {
    "slideshow": {
     "slide_type": "fragment"
    }
   },
   "outputs": [
    {
     "name": "stdout",
     "output_type": "stream",
     "text": [
      "318 ns ± 13.6 ns per loop (mean ± std. dev. of 7 runs, 1,000,000 loops each)\n"
     ]
    }
   ],
   "source": [
    "# For loop\n",
    "%timeit for_loop()"
   ]
  },
  {
   "cell_type": "code",
   "execution_count": 14,
   "id": "7754dc19",
   "metadata": {
    "slideshow": {
     "slide_type": "fragment"
    }
   },
   "outputs": [
    {
     "name": "stdout",
     "output_type": "stream",
     "text": [
      "513 ns ± 11.1 ns per loop (mean ± std. dev. of 7 runs, 1,000,000 loops each)\n"
     ]
    }
   ],
   "source": [
    "# While loop\n",
    "%timeit while_loop()"
   ]
  },
  {
   "cell_type": "markdown",
   "id": "554bcbd7",
   "metadata": {
    "slideshow": {
     "slide_type": "fragment"
    }
   },
   "source": [
    "The first code example that uses a <span style='color: blue'>**for loop**</span> is <span style='color: magenta'>**better**</span> because it is <span style='color: magenta'>**more concise and easier to read**</span>. It <span style='color: magenta'>**does not require additional variables**</span> and uses the <span style='color: magenta'>**appropriate loop type for the task**</span>, making the code more <span style='color: magenta'>**efficient**</span> and <span style='color: magenta'>**optimized**</span>."
   ]
  },
  {
   "cell_type": "markdown",
   "id": "5fe750be",
   "metadata": {
    "slideshow": {
     "slide_type": "slide"
    }
   },
   "source": [
    "## <span style='color: blue'>**Comprehensions**</span> <a id='#comprehensions'></a>\n",
    "\n",
    "Comprehensions in Python allow you to create <span style='color: magenta'>**new data structures**</span> from <span style='color: magenta'>**existing ones**</span> in a concise and readable way. They allow functions and conditions to be applied to elements at the point of creatation in one easy to read line of code.\n",
    "\n",
    "They can be used to create <span style='color: blue'>**lists**</span>, <span style='color: blue'>**dictionaries**</span>, <span style='color: blue'>**sets**</span> and <span style='color: blue'>**tuples**</span>."
   ]
  },
  {
   "cell_type": "markdown",
   "id": "48f7068b",
   "metadata": {
    "slideshow": {
     "slide_type": "fragment"
    }
   },
   "source": [
    "The general syntax can be seen here with the example for a <span style='color: blue'>**list comprehension**</span>.\n",
    "\n",
    "<h3 style=\"text-align: center;\">\n",
    "    <span style='color: blue'>new_list</span> = [<span style='color: magenta'>expression</span> for <span style='color: magenta'>item</span> in <span style='color: magenta'>iterable</span> if <span style='color: magenta'>condition</span>] </h3>\n",
    "    "
   ]
  },
  {
   "cell_type": "code",
   "execution_count": 15,
   "id": "4d8b029d",
   "metadata": {
    "slideshow": {
     "slide_type": "fragment"
    }
   },
   "outputs": [
    {
     "data": {
      "text/html": [
       "<pre style=\"white-space:pre;overflow-x:auto;line-height:normal;font-family:Menlo,'DejaVu Sans Mono',consolas,'Courier New',monospace\"><span style=\"font-weight: bold\">[</span><span style=\"color: #008000; text-decoration-color: #008000\">'ORINOCO'</span>, <span style=\"color: #008000; text-decoration-color: #008000\">'TOMSK'</span>, <span style=\"color: #008000; text-decoration-color: #008000\">'BUNGO'</span><span style=\"font-weight: bold\">]</span>\n",
       "</pre>\n"
      ],
      "text/plain": [
       "\u001b[1m[\u001b[0m\u001b[32m'ORINOCO'\u001b[0m, \u001b[32m'TOMSK'\u001b[0m, \u001b[32m'BUNGO'\u001b[0m\u001b[1m]\u001b[0m\n"
      ]
     },
     "metadata": {},
     "output_type": "display_data"
    }
   ],
   "source": [
    "wombles = [\n",
    "    'Orinoco', \n",
    "    'Tomsk', \n",
    "    'Bungo', \n",
    "    'Wellington', \n",
    "    'Madame Cholet', \n",
    "    'Great Uncle Bulgaria'\n",
    "]\n",
    "\n",
    "short_uppercase_wombles = [name.upper() for name in wombles if len(name) < 8]\n",
    "\n",
    "print(short_uppercase_wombles)\n"
   ]
  },
  {
   "cell_type": "markdown",
   "id": "d04f4bed",
   "metadata": {
    "slideshow": {
     "slide_type": "slide"
    }
   },
   "source": [
    "Lets use the same list of womble names to create a <span style='color: blue'>**dictionary**</span> of names and name length, using a comprehension.\n",
    "\n",
    "The syntax for which is:\n",
    "\n",
    "<h3 style=\"text-align: center;\">\n",
    "    <span style='color: blue'>new_dict</span> = {<span style='color: magenta'>key_expression</span>: <span style='color: magenta'>value_expression</span> for <span style='color: magenta'>item</span> in <span style='color: magenta'>iterable</span> if <span style='color: magenta'>condition</span>}\n",
    "</h3>"
   ]
  },
  {
   "cell_type": "code",
   "execution_count": 16,
   "id": "a8660d20",
   "metadata": {},
   "outputs": [
    {
     "data": {
      "text/html": [
       "<pre style=\"white-space:pre;overflow-x:auto;line-height:normal;font-family:Menlo,'DejaVu Sans Mono',consolas,'Courier New',monospace\"><span style=\"font-weight: bold\">{</span><span style=\"color: #008000; text-decoration-color: #008000\">'Orinoco'</span>: <span style=\"color: #008080; text-decoration-color: #008080; font-weight: bold\">7</span>, <span style=\"color: #008000; text-decoration-color: #008000\">'Tomsk'</span>: <span style=\"color: #008080; text-decoration-color: #008080; font-weight: bold\">5</span>, <span style=\"color: #008000; text-decoration-color: #008000\">'Bungo'</span>: <span style=\"color: #008080; text-decoration-color: #008080; font-weight: bold\">5</span><span style=\"font-weight: bold\">}</span>\n",
       "</pre>\n"
      ],
      "text/plain": [
       "\u001b[1m{\u001b[0m\u001b[32m'Orinoco'\u001b[0m: \u001b[1;36m7\u001b[0m, \u001b[32m'Tomsk'\u001b[0m: \u001b[1;36m5\u001b[0m, \u001b[32m'Bungo'\u001b[0m: \u001b[1;36m5\u001b[0m\u001b[1m}\u001b[0m\n"
      ]
     },
     "metadata": {},
     "output_type": "display_data"
    }
   ],
   "source": [
    "name_lengths = {name: len(name) for name in wombles if len(name) < 8}\n",
    "\n",
    "print(name_lengths)\n"
   ]
  },
  {
   "cell_type": "markdown",
   "id": "e72ad295",
   "metadata": {
    "slideshow": {
     "slide_type": "slide"
    }
   },
   "source": [
    "This Python code defines a <span style='color: blue'>**list**</span> of actors who played Batman, uses the current year and each actor's birth year to calculate their age, and generates a <span style='color: blue'>**list of strings**</span> containing their names and current ages."
   ]
  },
  {
   "cell_type": "code",
   "execution_count": 17,
   "id": "83e0d44f",
   "metadata": {},
   "outputs": [
    {
     "data": {
      "text/html": [
       "<pre style=\"white-space:pre;overflow-x:auto;line-height:normal;font-family:Menlo,'DejaVu Sans Mono',consolas,'Courier New',monospace\"><span style=\"font-weight: bold\">[</span>\n",
       "    <span style=\"color: #008000; text-decoration-color: #008000\">'Lewis Wilson (103 years old)'</span>,\n",
       "    <span style=\"color: #008000; text-decoration-color: #008000\">'Robert Lowery (110 years old)'</span>,\n",
       "    <span style=\"color: #008000; text-decoration-color: #008000\">'Adam West (95 years old)'</span>,\n",
       "    <span style=\"color: #008000; text-decoration-color: #008000\">'Michael Keaton (72 years old)'</span>,\n",
       "    <span style=\"color: #008000; text-decoration-color: #008000\">'Val Kilmer (64 years old)'</span>,\n",
       "    <span style=\"color: #008000; text-decoration-color: #008000\">'George Clooney (62 years old)'</span>,\n",
       "    <span style=\"color: #008000; text-decoration-color: #008000\">'Christian Bale (49 years old)'</span>,\n",
       "    <span style=\"color: #008000; text-decoration-color: #008000\">'Ben Affleck (51 years old)'</span>\n",
       "<span style=\"font-weight: bold\">]</span>\n",
       "</pre>\n"
      ],
      "text/plain": [
       "\u001b[1m[\u001b[0m\n",
       "    \u001b[32m'Lewis Wilson \u001b[0m\u001b[32m(\u001b[0m\u001b[32m103 years old\u001b[0m\u001b[32m)\u001b[0m\u001b[32m'\u001b[0m,\n",
       "    \u001b[32m'Robert Lowery \u001b[0m\u001b[32m(\u001b[0m\u001b[32m110 years old\u001b[0m\u001b[32m)\u001b[0m\u001b[32m'\u001b[0m,\n",
       "    \u001b[32m'Adam West \u001b[0m\u001b[32m(\u001b[0m\u001b[32m95 years old\u001b[0m\u001b[32m)\u001b[0m\u001b[32m'\u001b[0m,\n",
       "    \u001b[32m'Michael Keaton \u001b[0m\u001b[32m(\u001b[0m\u001b[32m72 years old\u001b[0m\u001b[32m)\u001b[0m\u001b[32m'\u001b[0m,\n",
       "    \u001b[32m'Val Kilmer \u001b[0m\u001b[32m(\u001b[0m\u001b[32m64 years old\u001b[0m\u001b[32m)\u001b[0m\u001b[32m'\u001b[0m,\n",
       "    \u001b[32m'George Clooney \u001b[0m\u001b[32m(\u001b[0m\u001b[32m62 years old\u001b[0m\u001b[32m)\u001b[0m\u001b[32m'\u001b[0m,\n",
       "    \u001b[32m'Christian Bale \u001b[0m\u001b[32m(\u001b[0m\u001b[32m49 years old\u001b[0m\u001b[32m)\u001b[0m\u001b[32m'\u001b[0m,\n",
       "    \u001b[32m'Ben Affleck \u001b[0m\u001b[32m(\u001b[0m\u001b[32m51 years old\u001b[0m\u001b[32m)\u001b[0m\u001b[32m'\u001b[0m\n",
       "\u001b[1m]\u001b[0m\n"
      ]
     },
     "metadata": {},
     "output_type": "display_data"
    }
   ],
   "source": [
    "from datetime import datetime\n",
    "\n",
    "actors = [\n",
    "    {'name': 'Lewis Wilson', 'birth_year': 1920},\n",
    "    {'name': 'Robert Lowery', 'birth_year': 1913},\n",
    "    {'name': 'Adam West', 'birth_year': 1928},\n",
    "    {'name': 'Michael Keaton', 'birth_year': 1951},\n",
    "    {'name': 'Val Kilmer', 'birth_year': 1959},\n",
    "    {'name': 'George Clooney', 'birth_year': 1961},\n",
    "    {'name': 'Christian Bale', 'birth_year': 1974},\n",
    "    {'name': 'Ben Affleck', 'birth_year': 1972},\n",
    "]\n",
    "\n",
    "current_year = datetime.now().year\n",
    "\n",
    "calc_age = lambda birth_year: current_year - birth_year\n",
    "\n",
    "actor_strings = [f\"{actor['name']} ({calc_age(actor['birth_year'])} years old)\" for actor in actors]\n",
    "\n",
    "print(actor_strings)\n"
   ]
  },
  {
   "cell_type": "markdown",
   "id": "e3ca6881",
   "metadata": {},
   "source": [
    "## <span style='color: blue'>**Generators**</span> <a id='#generators'></a>\n",
    "\n",
    "<span style='color: blue'>**Generators**</span> in Python are <span style='color: magenta'>**functions**</span> that can be used to generate a <span style='color: magenta'>**sequence of values**</span> on the fly. They are a type of <span style='color: magenta'>**iterator**</span> that allows values to be <span style='color: magenta'>**generated one at a time**</span>, making them more <span style='color: magenta'>**memory-efficient**</span> than generating an entire sequence upfront."
   ]
  },
  {
   "cell_type": "code",
   "execution_count": 18,
   "id": "b723442a",
   "metadata": {
    "slideshow": {
     "slide_type": "skip"
    }
   },
   "outputs": [],
   "source": [
    "# This pip install command may be required to use %memit\n",
    "# !pip install memory_profiler"
   ]
  },
  {
   "cell_type": "code",
   "execution_count": 19,
   "id": "c0a40b72",
   "metadata": {
    "slideshow": {
     "slide_type": "skip"
    }
   },
   "outputs": [],
   "source": [
    "# This %command may be required to use %memit\n",
    "# %load_ext memory_profiler"
   ]
  },
  {
   "cell_type": "markdown",
   "id": "f3eee1bc",
   "metadata": {
    "slideshow": {
     "slide_type": "slide"
    }
   },
   "source": [
    "Let look take a closer look at a <span style='color: blue'>** generator**</span> and see how it <span style='color: magenta'>**differs**</span> from a <span style='color: blue'>**list**</span> with regards to <span style='color: magenta'>**memory usage**</span>.\n",
    "\n",
    "This function takes a <span style='color: blue'>**integer**</span> creates a <span style='color: blue'>**generator**</span> of length <span style='color: blue'>**n**</span>, the <span style='color: blue'>**yield**</span> keyword is what distinugishes it."
   ]
  },
  {
   "cell_type": "code",
   "execution_count": 20,
   "id": "1b5b026f",
   "metadata": {},
   "outputs": [],
   "source": [
    "def number_generator(n):\n",
    "    for i in range(n):\n",
    "        yield i"
   ]
  },
  {
   "cell_type": "markdown",
   "id": "e6a18b73",
   "metadata": {
    "slideshow": {
     "slide_type": "fragment"
    }
   },
   "source": [
    "Now lets do the same again, but this time return a <span style='color: blue'>**list**</span>."
   ]
  },
  {
   "cell_type": "code",
   "execution_count": 21,
   "id": "224e94e9",
   "metadata": {},
   "outputs": [],
   "source": [
    "def number_list(n):\n",
    "    return [i for i in range(n)]"
   ]
  },
  {
   "cell_type": "markdown",
   "id": "4bb9aa9d",
   "metadata": {
    "slideshow": {
     "slide_type": "slide"
    }
   },
   "source": [
    "Create a small function that can measure the <span style='color: blue'>**memory usage**</span> of an <span style='color: blue'>**object**</span>."
   ]
  },
  {
   "cell_type": "code",
   "execution_count": 22,
   "id": "56b7a0b5",
   "metadata": {},
   "outputs": [],
   "source": [
    "import sys\n",
    "def memory_usage(obj):\n",
    "    return sys.getsizeof(obj) / 1000"
   ]
  },
  {
   "cell_type": "code",
   "execution_count": 23,
   "id": "c46584b8",
   "metadata": {
    "slideshow": {
     "slide_type": "slide"
    }
   },
   "outputs": [
    {
     "data": {
      "text/html": [
       "<pre style=\"white-space:pre;overflow-x:auto;line-height:normal;font-family:Menlo,'DejaVu Sans Mono',consolas,'Courier New',monospace\">Memory usage of list: <span style=\"color: #008080; text-decoration-color: #008080; font-weight: bold\">8</span>,<span style=\"color: #008080; text-decoration-color: #008080; font-weight: bold\">448.</span>73Kb\n",
       "</pre>\n"
      ],
      "text/plain": [
       "Memory usage of list: \u001b[1;36m8\u001b[0m,\u001b[1;36m448.\u001b[0m73Kb\n"
      ]
     },
     "metadata": {},
     "output_type": "display_data"
    },
    {
     "data": {
      "text/html": [
       "<pre style=\"white-space:pre;overflow-x:auto;line-height:normal;font-family:Menlo,'DejaVu Sans Mono',consolas,'Courier New',monospace\">Memory usage of generator: <span style=\"color: #008080; text-decoration-color: #008080; font-weight: bold\">0.</span>21Kb\n",
       "</pre>\n"
      ],
      "text/plain": [
       "Memory usage of generator: \u001b[1;36m0.\u001b[0m21Kb\n"
      ]
     },
     "metadata": {},
     "output_type": "display_data"
    },
    {
     "data": {
      "text/html": [
       "<pre style=\"white-space:pre;overflow-x:auto;line-height:normal;font-family:Menlo,'DejaVu Sans Mono',consolas,'Courier New',monospace\">Generator uses <span style=\"color: #008080; text-decoration-color: #008080; font-weight: bold\">40</span>,<span style=\"color: #008080; text-decoration-color: #008080; font-weight: bold\">618.88</span> times less memory than the list\n",
       "</pre>\n"
      ],
      "text/plain": [
       "Generator uses \u001b[1;36m40\u001b[0m,\u001b[1;36m618.88\u001b[0m times less memory than the list\n"
      ]
     },
     "metadata": {},
     "output_type": "display_data"
    }
   ],
   "source": [
    "# Generate a list of 1,000,000 numbers\n",
    "number_list = number_list(1_000_000)\n",
    "\n",
    "# Get the memory usage of the list\n",
    "list_memory = memory_usage(number_list)\n",
    "\n",
    "# Generate a generator of 1,000,000 numbers\n",
    "number_gen = number_generator(1_000_000)\n",
    "\n",
    "# Get the memory usage of the generator\n",
    "gen_memory = memory_usage(number_gen)\n",
    "\n",
    "# Print the results\n",
    "print(f'Memory usage of list: {list_memory:,.2f}Kb')\n",
    "print(f'Memory usage of generator: {gen_memory:,.2}Kb')\n",
    "print(f'Generator uses {round(list_memory/gen_memory, 2):,.2f} times less memory than the list')"
   ]
  },
  {
   "cell_type": "markdown",
   "id": "14d37a0d",
   "metadata": {
    "slideshow": {
     "slide_type": "slide"
    }
   },
   "source": [
    "Disadvantages of <span style='color: blue'>**generators**</span>:\n",
    "- Generators have limited functionality compared to <span style='color: blue'>**lists**</span> because they only produce values <span style='color: magenta'>**one at a time**</span> and cannot be <span style='color: magenta'>**indexed**</span> or <span style='color: magenta'>**sliced**</span> like lists."
   ]
  },
  {
   "cell_type": "markdown",
   "id": "3a73d663",
   "metadata": {
    "slideshow": {
     "slide_type": "fragment"
    }
   },
   "source": [
    "- Generators can only be <span style='color: magenta'>**iterated over once**</span>, whereas lists can be iterated over multiple times."
   ]
  },
  {
   "cell_type": "markdown",
   "id": "96b0f9ef",
   "metadata": {
    "slideshow": {
     "slide_type": "fragment"
    }
   },
   "source": [
    "- Generators do not have a <span style='color: magenta'>**fixed length**</span> like lists, which can make it harder to perform certain operations that require knowledge of the length of the sequence."
   ]
  },
  {
   "cell_type": "markdown",
   "id": "ca1ec3aa",
   "metadata": {
    "slideshow": {
     "slide_type": "fragment"
    }
   },
   "source": [
    "- Generators cannot be <span style='color: magenta'>**modified**</span> once they have been <span style='color: magenta'>**created**</span>, whereas lists can be modified by adding, removing, or changing elements."
   ]
  }
 ],
 "metadata": {
  "celltoolbar": "Slideshow",
  "kernelspec": {
   "display_name": "Python 3 (ipykernel)",
   "language": "python",
   "name": "python3"
  },
  "language_info": {
   "codemirror_mode": {
    "name": "ipython",
    "version": 3
   },
   "file_extension": ".py",
   "mimetype": "text/x-python",
   "name": "python",
   "nbconvert_exporter": "python",
   "pygments_lexer": "ipython3",
   "version": "3.11.1"
  },
  "vscode": {
   "interpreter": {
    "hash": "79b4b9735bea10ae9588b602404c5fc22a5e9c6811dfa1b1e9692bdc7bebce0a"
   }
  }
 },
 "nbformat": 4,
 "nbformat_minor": 5
}
