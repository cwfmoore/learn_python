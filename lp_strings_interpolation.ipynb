{
 "cells": [
  {
   "cell_type": "code",
   "execution_count": 1,
   "id": "14d06454",
   "metadata": {
    "slideshow": {
     "slide_type": "skip"
    }
   },
   "outputs": [],
   "source": [
    "# !pip install rich\n",
    "from rich import print"
   ]
  },
  {
   "cell_type": "markdown",
   "id": "fd1ba188",
   "metadata": {},
   "source": [
    "## <span style='color: blue'>Learn Python</span> - String Interpolation (Formatting)<a id='#formatting-interpolation'></a>\n",
    "\n",
    "There are <span style='color: magenta'>**various methods**</span> to <span style='color: magenta'>**format a string**</span> and incorporate the <span style='color: magenta'>**names and values of variables**</span>. Here are <span style='color: magenta'>**three instances**</span>, ranging from the earliest to the most recent."
   ]
  },
  {
   "cell_type": "markdown",
   "id": "6daf9c3e",
   "metadata": {
    "slideshow": {
     "slide_type": "slide"
    }
   },
   "source": [
    "### <span style='color: blue'>**String Interpolation**</span> - Example #1\n",
    "\n",
    "The <span style='color: magenta'>**%**</span> operator for <span style='color: magenta'>**string formatting**</span> has been available in Python since its <span style='color: magenta'>**early versions**</span>, including <span style='color: blue'>**Python 1.5.1**</span>, which was released in <span style='color: blue'>**1998**</span>. It has been part of the language ever since and is <span style='color: magenta'>**still available in the latest version**</span> of Python."
   ]
  },
  {
   "cell_type": "code",
   "execution_count": 4,
   "id": "02d1f716",
   "metadata": {},
   "outputs": [
    {
     "data": {
      "text/html": [
       "<pre style=\"white-space:pre;overflow-x:auto;line-height:normal;font-family:Menlo,'DejaVu Sans Mono',consolas,'Courier New',monospace\">The 1st rule of Fight Club is: You do not talk about Fight Club.\n",
       "</pre>\n"
      ],
      "text/plain": [
       "The 1st rule of Fight Club is: You do not talk about Fight Club.\n"
      ]
     },
     "metadata": {},
     "output_type": "display_data"
    }
   ],
   "source": [
    "integer = 1\n",
    "string = 'Fight Club'\n",
    "\n",
    "formatted_string = 'The %dst rule of %s is: You do not talk about %s.' % (integer, string, string)\n",
    "\n",
    "print(formatted_string)"
   ]
  },
  {
   "cell_type": "markdown",
   "id": "1b7fb293",
   "metadata": {
    "slideshow": {
     "slide_type": "slide"
    }
   },
   "source": [
    "### <span style='color: blue'>**String Interpolation**</span> - Example #2\n",
    "\n",
    "The <span style='color: blue'>**str.format()**</span> method with <span style='color: magenta'>**curly brace placeholders**</span> and formatting options, introduced in <span style='color: blue'>**Python 2.6**</span> in <span style='color: blue'>**2008**</span>."
   ]
  },
  {
   "cell_type": "code",
   "execution_count": 5,
   "id": "227df995",
   "metadata": {},
   "outputs": [
    {
     "data": {
      "text/html": [
       "<pre style=\"white-space:pre;overflow-x:auto;line-height:normal;font-family:Menlo,'DejaVu Sans Mono',consolas,'Courier New',monospace\">The 1st rule of Fight Club is: You do not talk about Fight Club.\n",
       "</pre>\n"
      ],
      "text/plain": [
       "The 1st rule of Fight Club is: You do not talk about Fight Club.\n"
      ]
     },
     "metadata": {},
     "output_type": "display_data"
    }
   ],
   "source": [
    "integer = 1\n",
    "string = 'Fight Club'\n",
    "\n",
    "formatted_string = 'The {}st rule of {} is: You do not talk about {}.'.format(integer, string, string)\n",
    "\n",
    "print(formatted_string)"
   ]
  },
  {
   "cell_type": "markdown",
   "id": "3de266ac",
   "metadata": {
    "slideshow": {
     "slide_type": "slide"
    }
   },
   "source": [
    "### <span style='color: blue'>**String Interpolation**</span> - Example #3\n",
    "\n",
    "<span style='color: blue'>**f-strings**</span> became a feature in Python 3.6+ in 2015 that allow evaluating expressions and embedding their results directly in a string. <span style='color: blue'>**f-strings**</span> offer improved <span style='color: magenta'>**readability**</span> and <span style='color: magenta'>**performance**</span> over other formatting methods."
   ]
  },
  {
   "cell_type": "code",
   "execution_count": 22,
   "id": "f90d63b9",
   "metadata": {},
   "outputs": [
    {
     "data": {
      "text/html": [
       "<pre style=\"white-space:pre;overflow-x:auto;line-height:normal;font-family:Menlo,'DejaVu Sans Mono',consolas,'Courier New',monospace\">The 1st rule of Fight Club is: You do not talk about Fight Club.\n",
       "</pre>\n"
      ],
      "text/plain": [
       "The 1st rule of Fight Club is: You do not talk about Fight Club.\n"
      ]
     },
     "metadata": {},
     "output_type": "display_data"
    }
   ],
   "source": [
    "integer = 1\n",
    "string = 'Fight Club'\n",
    "\n",
    "formatted_string = f'The {integer}st rule of {string} is: You do not talk about {string}.'\n",
    "\n",
    "print(formatted_string)"
   ]
  },
  {
   "cell_type": "markdown",
   "id": "dabcc875",
   "metadata": {
    "slideshow": {
     "slide_type": "slide"
    }
   },
   "source": [
    "### <span style='color: blue'>String Interpolation</span> - Floating-Point Format Specification\n",
    " \n",
    "Is a <span style='color: blue'>**syntax**</span> in Python's <span style='color: magenta'>**string formatting methods**</span> that allows specifying the <span style='color: magenta'>**display format of floating-point numbers**</span>, such as the number of <span style='color: magenta'>**decimal places**</span>, <span style='color: magenta'>**comma separation**</span>, <span style='color: magenta'>**scientific notation**</span>, and more."
   ]
  },
  {
   "cell_type": "code",
   "execution_count": 17,
   "id": "b3eacbd6",
   "metadata": {},
   "outputs": [
    {
     "data": {
      "text/html": [
       "<pre style=\"white-space:pre;overflow-x:auto;line-height:normal;font-family:Menlo,'DejaVu Sans Mono',consolas,'Courier New',monospace\"><span style=\"color: #008080; text-decoration-color: #008080; font-weight: bold\">3.14</span>\n",
       "</pre>\n"
      ],
      "text/plain": [
       "\u001b[1;36m3.14\u001b[0m\n"
      ]
     },
     "metadata": {},
     "output_type": "display_data"
    }
   ],
   "source": [
    "pi = 3.1415926535\n",
    "formatted_pi = f'{pi:.2f}'\n",
    "\n",
    "print(formatted_pi)"
   ]
  },
  {
   "cell_type": "code",
   "execution_count": 18,
   "id": "734eab5e",
   "metadata": {
    "slideshow": {
     "slide_type": "fragment"
    }
   },
   "outputs": [
    {
     "data": {
      "text/html": [
       "<pre style=\"white-space:pre;overflow-x:auto;line-height:normal;font-family:Menlo,'DejaVu Sans Mono',consolas,'Courier New',monospace\"><span style=\"color: #008080; text-decoration-color: #008080; font-weight: bold\">7.922313e+09</span>\n",
       "</pre>\n"
      ],
      "text/plain": [
       "\u001b[1;36m7.922313e+09\u001b[0m\n"
      ]
     },
     "metadata": {},
     "output_type": "display_data"
    }
   ],
   "source": [
    "world_population = 7922312800\n",
    "formatted_wp = f'{world_population:e}'\n",
    "\n",
    "print(formatted_wp)"
   ]
  },
  {
   "cell_type": "code",
   "execution_count": 21,
   "id": "528bf8cb",
   "metadata": {
    "slideshow": {
     "slide_type": "fragment"
    }
   },
   "outputs": [
    {
     "data": {
      "text/html": [
       "<pre style=\"white-space:pre;overflow-x:auto;line-height:normal;font-family:Menlo,'DejaVu Sans Mono',consolas,'Courier New',monospace\">$<span style=\"color: #008080; text-decoration-color: #008080; font-weight: bold\">2</span>,<span style=\"color: #008080; text-decoration-color: #008080; font-weight: bold\">389</span>,<span style=\"color: #008080; text-decoration-color: #008080; font-weight: bold\">873</span>,<span style=\"color: #008080; text-decoration-color: #008080; font-weight: bold\">123.46</span>\n",
       "</pre>\n"
      ],
      "text/plain": [
       "$\u001b[1;36m2\u001b[0m,\u001b[1;36m389\u001b[0m,\u001b[1;36m873\u001b[0m,\u001b[1;36m123.46\u001b[0m\n"
      ]
     },
     "metadata": {},
     "output_type": "display_data"
    }
   ],
   "source": [
    "apple_market_cap = 2389873123.4562\n",
    "formatted_amc = f'${apple_market_cap:,.2f}'\n",
    "\n",
    "print(formatted_amc)"
   ]
  },
  {
   "cell_type": "markdown",
   "id": "90e25e9e",
   "metadata": {
    "slideshow": {
     "slide_type": "slide"
    }
   },
   "source": [
    "### <span style='color: blue'>**String Interpolation**</span> - Floating-Point Format Specification\n",
    " \n",
    "There are many <span style='color: blue'>**operators**</span> to format floating-point numbers, this <span style='color: blue'>**table**</span> shows some of the most common ones:"
   ]
  },
  {
   "cell_type": "markdown",
   "id": "459e6eea",
   "metadata": {},
   "source": [
    "| Operator | Description                                       |\n",
    "|:----------:|:---------------------------------------------------|\n",
    "| `.nf`    | Specifies the number of decimal places to display |\n",
    "| `e`      | Displays the number in scientific notation        |\n",
    "| `E`      | Same as `e`, but with uppercase \"E\" for exponent  |\n",
    "| `g`      | Displays the number in either fixed-point or sci  |\n",
    "| `G`      | Same as `g`, but with uppercase \"E\" or \"F\" exp   |\n",
    "| `%`      | Displays the number as a percentage                |\n",
    "| `,`      | Adds a comma as a thousands separator               |\n",
    "| `_`      | Adds an underscore as a thousands separator         |\n",
    "| `+`      | Adds a plus sign before positive numbers           |\n",
    "| `-`      | Left-aligns the result within the available space  |"
   ]
  },
  {
   "cell_type": "markdown",
   "id": "2ea3f299",
   "metadata": {
    "slideshow": {
     "slide_type": "slide"
    }
   },
   "source": [
    "### <span style='color: blue'>**String Interpolation**</span> - Dates\n",
    " \n",
    "You can also use string interpolation to format <span style='color: magenta'>**dates**</span>, using <span style='color: magenta'>**format specifiers**</span>, which can be more efficient and easier then converting datetime objects to strings."
   ]
  },
  {
   "cell_type": "code",
   "execution_count": 23,
   "id": "c0685a06",
   "metadata": {},
   "outputs": [
    {
     "data": {
      "text/html": [
       "<pre style=\"white-space:pre;overflow-x:auto;line-height:normal;font-family:Menlo,'DejaVu Sans Mono',consolas,'Courier New',monospace\">Guido van Rossum was born <span style=\"color: #008080; text-decoration-color: #008080; font-weight: bold\">31</span>-<span style=\"color: #008080; text-decoration-color: #008080; font-weight: bold\">01</span>-<span style=\"color: #008080; text-decoration-color: #008080; font-weight: bold\">1956</span>\n",
       "</pre>\n"
      ],
      "text/plain": [
       "Guido van Rossum was born \u001b[1;36m31\u001b[0m-\u001b[1;36m01\u001b[0m-\u001b[1;36m1956\u001b[0m\n"
      ]
     },
     "metadata": {},
     "output_type": "display_data"
    }
   ],
   "source": [
    "import datetime as dt\n",
    "\n",
    "date = dt.datetime(year=1956, month=1, day=31)\n",
    "\n",
    "print(f'Guido van Rossum was born {date:%d-%m-%Y}')"
   ]
  },
  {
   "cell_type": "markdown",
   "id": "b09b29d0",
   "metadata": {
    "slideshow": {
     "slide_type": "slide"
    }
   },
   "source": [
    "<span style='color: blue'>**Format specifiers**</span> for date in Python are <span style='color: magenta'>**placeholders**</span> that indicate how a date or time should be displayed, such as %Y for year."
   ]
  },
  {
   "cell_type": "markdown",
   "id": "3cebda5b",
   "metadata": {},
   "source": [
    "| Format Specifier |     Function     |\n",
    "|:----------------:|:----------------|\n",
    "|        `%Y`      |   4-digit year   |\n",
    "|        `%m`      |2-digit month (zero-padded)|\n",
    "|        `%d`      |2-digit day of the month (zero-padded)|\n",
    "|        `%U`      |Week number of the year (Sunday as the first day of the week)|\n",
    "|        `%W`      |Week number of the year (Monday as the first day of the week)|"
   ]
  },
  {
   "cell_type": "markdown",
   "id": "3b806a1b",
   "metadata": {},
   "source": [
    "Check out them all in the Python datetime documentation: https://docs.python.org/3/library/datetime.html"
   ]
  }
 ],
 "metadata": {
  "celltoolbar": "Slideshow",
  "kernelspec": {
   "display_name": "Python 3 (ipykernel)",
   "language": "python",
   "name": "python3"
  },
  "language_info": {
   "codemirror_mode": {
    "name": "ipython",
    "version": 3
   },
   "file_extension": ".py",
   "mimetype": "text/x-python",
   "name": "python",
   "nbconvert_exporter": "python",
   "pygments_lexer": "ipython3",
   "version": "3.11.1"
  }
 },
 "nbformat": 4,
 "nbformat_minor": 5
}
