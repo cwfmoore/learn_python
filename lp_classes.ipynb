{
 "cells": [
  {
   "cell_type": "code",
   "execution_count": 1,
   "id": "a01152cd",
   "metadata": {
    "slideshow": {
     "slide_type": "skip"
    }
   },
   "outputs": [],
   "source": [
    "# !pip install rich\n",
    "import rich"
   ]
  },
  {
   "cell_type": "markdown",
   "id": "f31f7cce",
   "metadata": {
    "slideshow": {
     "slide_type": "slide"
    }
   },
   "source": [
    "## <span style='color: blue'>**Learn Python**</span> - Classes & OOP\n",
    "\n",
    "- [Introduction to Object-Oriented Programming (OOP) in Python](##introduction-to-object-oriented-programming-oop-in-python)\n",
    "- [Defining Classes in Python](##defining-classes-in-python)\n",
    "- [Class & Instance Variables](##class-instance-variables)\n",
    "- [Class Methods](##class-methods)\n",
    "- [The init() Method](##the-init-method)\n",
    "- [Class Inheritance and Subclasses](##class-inheritance-and-subclasses)\n",
    "- [Overriding Methods and Polymorphism](##overriding-methods-and-polymorphism)\n",
    "- [Class, Instance and Static Methods](##class-instance-static-variables)\n",
    "- [Protected Variables and Methods](##protected-variables-and-methods)\n",
    "- [Private Variables and Methods](##private-variables-and-methods)\n",
    "- [The super() Function](##the-super-function)\n",
    "- [Magic (Dunder) Methods in Python Classes](##magic-dunder-methods-in-python-classes)\n",
    "- [Class Docstrings](##class-docstrings)\n",
    "- [Best Practices for Writing Classes in Python](##best-practices-for-writing-classes-in-python)\n"
   ]
  },
  {
   "cell_type": "markdown",
   "id": "3bacdbd3",
   "metadata": {
    "slideshow": {
     "slide_type": "skip"
    }
   },
   "source": [
    "<span style='color: blue'>**Click**</span> on a item above to go to that <span style='color: blue'>**section**</span>."
   ]
  },
  {
   "cell_type": "markdown",
   "id": "fee91b23",
   "metadata": {
    "slideshow": {
     "slide_type": "slide"
    }
   },
   "source": [
    "## <span style='color: blue'>**Introduction to Object-Oriented Programming (OOP) in Python**</span> <a id='#introduction-to-object-oriented-programming-oop-in-python'></a>\n",
    "\n",
    "<span style='color: blue'>**Object-Oriented Programming**</span> (<span style='color: blue'>**OOP**</span>) is a programming paradigm that organizes code into <span style='color: blue'>**objects**</span>, which are instances of <span style='color: blue'>**classes**</span>."
   ]
  },
  {
   "cell_type": "markdown",
   "id": "3d631842",
   "metadata": {
    "slideshow": {
     "slide_type": "slide"
    }
   },
   "source": [
    "## <span style='color: blue'>**Defining Classes in Python**</span> <a id='#defining-classes-in-python'></a>\n",
    "\n",
    "In Python, <span style='color: blue'>**classes**</span> are defined using the <span style='color: blue'>**class**</span> keyword and can include <span style='color: magenta'>**attributes**</span>, <span style='color: magenta'>**methods**</span>, and a <span style='color: magenta'>**constructor**</span>. \n",
    "\n",
    "<span style='color: blue'>**Classes**</span> are used to create <span style='color: blue'>**objects**</span>."
   ]
  },
  {
   "cell_type": "markdown",
   "id": "7dc49402",
   "metadata": {
    "slideshow": {
     "slide_type": "slide"
    }
   },
   "source": [
    "This is an example of defining a <span style='color: blue'>**class**</span> in Python called <span style='color: magenta'>**Car**</span>, which has a <span style='color: blue'>**constructor**</span> that takes <span style='color: magenta'>**three parameters**</span>: <span style='color: magenta'>**make**</span>, <span style='color: magenta'>**model**</span>, and <span style='color: magenta'>**year**</span>. \n",
    "\n",
    "The <span style='color: blue'>**class**</span> also includes two <span style='color: blue'>**methods**</span>, <span style='color: magenta'>**start**</span> and <span style='color: magenta'>**stop**</span>, which print out messages indicating that the car is starting or stopping, respectively."
   ]
  },
  {
   "cell_type": "code",
   "execution_count": 2,
   "id": "7bef3a2a",
   "metadata": {},
   "outputs": [],
   "source": [
    "class Car:\n",
    "    def __init__(self, make, model, year):\n",
    "        self.make = make\n",
    "        self.model = model\n",
    "        self.year = year\n",
    "    \n",
    "    def start(self):\n",
    "        print(\"The car is starting.\")\n",
    "    \n",
    "    def stop(self):\n",
    "        print(\"The car is stopping.\")"
   ]
  },
  {
   "cell_type": "markdown",
   "id": "4257e5a9",
   "metadata": {
    "slideshow": {
     "slide_type": "fragment"
    }
   },
   "source": [
    "A new <span style='color: blue'>**instance object**</span> of this <span style='color: blue'>**Car class**</span> can be invoked by using th name of the <span style='color: blue'>**class**</span> and passing in the <span style='color: blue'>**parameters**</span>."
   ]
  },
  {
   "cell_type": "code",
   "execution_count": 3,
   "id": "8b4a4944",
   "metadata": {
    "slideshow": {
     "slide_type": "fragment"
    }
   },
   "outputs": [
    {
     "name": "stdout",
     "output_type": "stream",
     "text": [
      "The car is starting.\n"
     ]
    }
   ],
   "source": [
    "new_car = Car('Dacia', 'Sandero', 2014)\n",
    "new_car.start()"
   ]
  },
  {
   "cell_type": "markdown",
   "id": "11effda5",
   "metadata": {
    "slideshow": {
     "slide_type": "slide"
    }
   },
   "source": [
    "## <span style='color: blue'>**Class & Instance Attributes**</span> <a id='#class-instance-variables'></a>\n",
    "\n",
    "Class <span style='color: blue'>**attributes**</span> are <span style='color: blue'>**variables**</span> that are defined at the <span style='color: blue'>**class level**</span> and are are <span style='color: magenta'>**shared by all instances**</span> of the class.\n",
    "\n",
    "For example, when creating a <span style='color: blue'>**class**</span> to represent <span style='color: magenta'>**insects**</span>, we can use the fact that all insects have six legs and define this as a <span style='color: blue'>**class variable**</span>. This means that the <span style='color: blue'>**variable**</span> is set for <span style='color: magenta'>**all instance objects**</span> that are created from this class.\n",
    "\n",
    "The <span style='color: magenta'>**name**</span> of the insect however will vary, as a result this data is assigned at the point of the <span style='color: magenta'>**instance being invoked**</span>. The insect name is an example of an <span style='color: blue'>**instance attribute**</span>."
   ]
  },
  {
   "cell_type": "code",
   "execution_count": null,
   "id": "c314afa7",
   "metadata": {},
   "outputs": [],
   "source": [
    "class Insect:\n",
    "    legs = 6 # Class attributes\n",
    "    \n",
    "    def __init__(self, name):\n",
    "        self.name = name # Instance attribute\n",
    "\n",
    "bee = Insect('Bee')\n",
    "beetle = Insect('Beatle')\n",
    "\n",
    "print(f'{bee.legs = }')\n",
    "print(f'{beetle.legs = }')\n",
    "        "
   ]
  },
  {
   "cell_type": "markdown",
   "id": "da32b486",
   "metadata": {
    "slideshow": {
     "slide_type": "slide"
    }
   },
   "source": [
    "In another example, let's say we have a <span style='color: blue'>**Person**</span> class that <span style='color: magenta'>**represents people**</span> and we want to keep track of the <span style='color: magenta'>**total number of people**</span>. \n",
    "\n",
    "We can define a <span style='color: blue'>**class attribute**</span> called <span style='color: magenta'>**count**</span> to keep track of the total number of instances created:"
   ]
  },
  {
   "cell_type": "code",
   "execution_count": null,
   "id": "0119a536",
   "metadata": {},
   "outputs": [],
   "source": [
    "class Person:\n",
    "    count = 0 # Class variable\n",
    "    \n",
    "    def __init__(self, name):\n",
    "        self.name = name\n",
    "        Person.count += 1"
   ]
  },
  {
   "cell_type": "code",
   "execution_count": null,
   "id": "469e00a2",
   "metadata": {
    "slideshow": {
     "slide_type": "fragment"
    }
   },
   "outputs": [],
   "source": [
    "person1 = Person('Steve')\n",
    "person2 = Person('Geoff')\n",
    "\n",
    "print(f'{Person.count = }')"
   ]
  },
  {
   "cell_type": "markdown",
   "id": "017a5ffa",
   "metadata": {},
   "source": [
    "In the above example <span style='color: magenta'>**person1**</span> and <span style='color: magenta'>**person2**</span> represent two instance <span style='color: blue'>**objects**</span> of the <span style='color: magenta'>**Person**</span> class.\n",
    "\n",
    "An instance <span style='color: blue'>**object**</span> is an object that is created from a <span style='color: blue'>**class**</span> and has its own set of <span style='color: blue'>**attributes**</span> and <span style='color: blue'>**methods**</span>. "
   ]
  },
  {
   "cell_type": "markdown",
   "id": "93dd3cd9",
   "metadata": {
    "slideshow": {
     "slide_type": "slide"
    }
   },
   "source": [
    "## <span style='color: blue'>**Class Methods**</span><a id='#class-methods'></a>\n",
    "\n",
    "<span style='color: blue'>**Class**</span> methods are <span style='color: blue'>**functions**</span> that are defined at the <span style='color: blue'>**class level**</span>.\n",
    "\n",
    "Lets add a <span style='color: magenta'>**sneeze**</span> method to this class:"
   ]
  },
  {
   "cell_type": "code",
   "execution_count": null,
   "id": "6fd0ec3f",
   "metadata": {},
   "outputs": [],
   "source": [
    "class Person:\n",
    "    count = 0\n",
    "    \n",
    "    def __init__(self, name):\n",
    "        self.name = name\n",
    "        Person.count += 1\n",
    "    \n",
    "    def sneeze(self):\n",
    "        print(f'{self.name}: AAACHOO!')\n",
    "\n",
    "person1 = Person('Bob')\n",
    "person1.sneeze()"
   ]
  },
  {
   "cell_type": "markdown",
   "id": "07c1bcc6",
   "metadata": {
    "slideshow": {
     "slide_type": "slide"
    }
   },
   "source": [
    "## <span style='color: blue'>**The init() Method**</span> <a id='#the-init-method'></a>\n",
    "\n",
    "The <span style='color: blue'>**__init__**</span> method is used as a <span style='color: blue'>**constructor**</span> for <span style='color: blue'>**instance objects**</span> of a <span style='color: blue'>**class**</span>. It is called <span style='color: magenta'>**automatically**</span> when a <span style='color: magenta'>**new instance**</span> of the <span style='color: blue'>**class**</span> is created and is used to set the <span style='color: magenta'>**initial state**</span> of the <span style='color: blue'>**object**</span> by defining its attributes.\n",
    "\n",
    "```python\n",
    "        class Car:\n",
    "            def __init__(self, make, model, year):\n",
    "                self.make = make\n",
    "                self.model = model\n",
    "                self.year = year\n",
    "                \n",
    "        new_car = Car('Dacia', 'Sandero', 2014)\n",
    "```"
   ]
  },
  {
   "cell_type": "markdown",
   "id": "3b94e306",
   "metadata": {
    "slideshow": {
     "slide_type": "fragment"
    }
   },
   "source": [
    "The <span style='color: blue'>**__init__**</span> method takes <span style='color: blue'>**parameters**</span> that are used to initialize <span style='color: magenta'>**instance variables**</span>, allowing each instance of a <span style='color: blue'>**class**</span> to have its own <span style='color: magenta'>**unique state**</span>. \n",
    "\n",
    "These <span style='color: magenta'>**parameters are passed in**</span> when creating a <span style='color: magenta'>**new instance**</span> of the <span style='color: blue'>**class**</span> using the constructor method.\n",
    "\n",
    "The <span style='color: blue'>**self**</span> keyword is used to specify that these <span style='color: blue'>**variables**</span> belong to the instance of the <span style='color: blue'>**object**</span> and can be accessed from any <span style='color: blue'>**method**</span> within it. "
   ]
  },
  {
   "cell_type": "markdown",
   "id": "ab50657b",
   "metadata": {
    "slideshow": {
     "slide_type": "slide"
    }
   },
   "source": [
    "## <span style='color: blue'>**Class Inheritance and Subclasses**</span> <a id='#class-inheritance-and-subclasses'></a>\n",
    "\n",
    "Python <span style='color: blue'>**Class Inheritance**</span> creates new classes that <span style='color: magenta'>**inherit**</span> the <span style='color: blue'>**attributes**</span> and <span style='color: blue'>**methods**</span> of a <span style='color: magenta'>**parent class**</span>.\n",
    "\n",
    "These new <span style='color: blue'>**Subclasses**</span> can add <span style='color: magenta'>**new methods**</span> or <span style='color: magenta'>**modify existing ones**</span>."
   ]
  },
  {
   "cell_type": "code",
   "execution_count": 8,
   "id": "bf448f9c",
   "metadata": {
    "slideshow": {
     "slide_type": "slide"
    }
   },
   "outputs": [],
   "source": [
    "# Create a new parent class\n",
    "class Vehicle:\n",
    "    def __init__(self, color, speed):\n",
    "        self.color = color\n",
    "        self.speed = speed\n",
    "    \n",
    "    def accelerate(self):\n",
    "        self.speed += 10\n",
    "        print(\"Vehicle accelerated to\", self.speed, \"km/h\")"
   ]
  },
  {
   "cell_type": "code",
   "execution_count": 9,
   "id": "3cdb17c0",
   "metadata": {
    "slideshow": {
     "slide_type": "fragment"
    }
   },
   "outputs": [],
   "source": [
    "# Create a new subclass that inherits the parent class\n",
    "class Car(Vehicle):\n",
    "    def honk(self):\n",
    "        print(\"Beep beep!\")"
   ]
  },
  {
   "cell_type": "code",
   "execution_count": 10,
   "id": "bb8c6165",
   "metadata": {
    "slideshow": {
     "slide_type": "fragment"
    }
   },
   "outputs": [
    {
     "name": "stdout",
     "output_type": "stream",
     "text": [
      "my_car.color = 'red'\n",
      "Vehicle accelerated to 70 km/h\n",
      "Beep beep!\n"
     ]
    }
   ],
   "source": [
    "my_car = Car(\"red\", 60)\n",
    "\n",
    "print(f'{my_car.color = }')\n",
    "\n",
    "my_car.accelerate()\n",
    "\n",
    "my_car.honk()"
   ]
  },
  {
   "cell_type": "markdown",
   "id": "43be30bd",
   "metadata": {
    "slideshow": {
     "slide_type": "slide"
    }
   },
   "source": [
    "## <span style='color: blue'>**Overriding Methods and Polymorphism**</span> <a id='#overriding-methods-and-polymorphism'></a>\n",
    "\n",
    "<span style='color: blue'>**Overriding methods**</span> in Python allows a <span style='color: blue'>**subclass**</span> to provide its own <span style='color: magenta'>**implementation**</span> of a method that is <span style='color: magenta'>**already defined**</span> in its superclass."
   ]
  },
  {
   "cell_type": "markdown",
   "id": "3e6bc83f",
   "metadata": {
    "slideshow": {
     "slide_type": "slide"
    }
   },
   "source": [
    "To demostrate <span style='color: blue'>**overriding**</span> methods lets create a <span style='color: blue'>**class**</span> and override its <span style='color: blue'>**__str__()**</span> method. The <span style='color: blue'>**__str__()**</span> method is a built-in Python method that returns a <span style='color: magenta'>**string representation of an object**</span>.\n",
    "\n",
    "By default this normally returns the <span style='color: blue'>**type**</span>, <span style='color: blue'>**name**</span> and <span style='color: blue'>**memory**</span> id of an object, as shown below."
   ]
  },
  {
   "cell_type": "code",
   "execution_count": 11,
   "id": "c6c0e7c3",
   "metadata": {},
   "outputs": [
    {
     "name": "stdout",
     "output_type": "stream",
     "text": [
      "<__main__.Superhero object at 0x000001D0F64E30D0>\n"
     ]
    }
   ],
   "source": [
    "class Superhero:\n",
    "    def __init__(self, name, power, nemesis):\n",
    "        self.name = name\n",
    "        self.power = power\n",
    "        self.nemesis = nemesis\n",
    "\n",
    "batman = Superhero('Batman', 'Wealth', 'Joker')\n",
    "print(batman)"
   ]
  },
  {
   "cell_type": "code",
   "execution_count": 12,
   "id": "73a4ac27",
   "metadata": {
    "slideshow": {
     "slide_type": "slide"
    }
   },
   "outputs": [
    {
     "name": "stdout",
     "output_type": "stream",
     "text": [
      "Name: Batman, Power: Wealth, Nemesis: Joker\n"
     ]
    }
   ],
   "source": [
    "class Superhero:\n",
    "    def __init__(self, name, power, nemesis):\n",
    "        self.name = name\n",
    "        self.power = power\n",
    "        self.nemesis = nemesis\n",
    "        \n",
    "    def __str__(self):\n",
    "        return f'Name: {self.name}, Power: {self.power}, Nemesis: {self.nemesis}'\n",
    "\n",
    "batman = Superhero('Batman', 'Wealth', 'Joker')\n",
    "print(batman)"
   ]
  },
  {
   "cell_type": "markdown",
   "id": "17528851",
   "metadata": {
    "slideshow": {
     "slide_type": "slide"
    }
   },
   "source": [
    "Lets now <span style='color: magenta'>**override a method**</span> of a new <span style='color: blue'>**class**</span>.  In this example we will define the method <span style='color: magenta'>**attack**</span> in the <span style='color: blue'>**superclass**</span> and <span style='color: blue'>**override**</span> it in the <span style='color: blue'>**subclass**</span>. This is the process of <span style='color: blue'>**polymorphism**</span>."
   ]
  },
  {
   "cell_type": "code",
   "execution_count": 13,
   "id": "0ec6bf4a",
   "metadata": {},
   "outputs": [
    {
     "name": "stdout",
     "output_type": "stream",
     "text": [
      "Steve attacks with wrench for 15.0HP\n"
     ]
    }
   ],
   "source": [
    "class Henchman:\n",
    "    \n",
    "    def __init__(self, name=None, weapon='hands', strength=10):\n",
    "        self.name = name\n",
    "        self.weapon = weapon\n",
    "        self.strength = strength\n",
    "    \n",
    "    def attack(self):\n",
    "        damage = self.strength * 1.5\n",
    "        print(f'{self.name} attacks with {self.weapon} for {damage}HP')\n",
    "\n",
    "steve = Henchman('Steve', 'wrench', 10)\n",
    "steve.attack()"
   ]
  },
  {
   "cell_type": "code",
   "execution_count": 14,
   "id": "7ebb6d3f",
   "metadata": {
    "slideshow": {
     "slide_type": "fragment"
    }
   },
   "outputs": [
    {
     "name": "stdout",
     "output_type": "stream",
     "text": [
      "Geoff attacks with sledgehammer for 125.0HP\n"
     ]
    }
   ],
   "source": [
    "class BruteHenchman(Henchman):\n",
    "    \n",
    "    def attack(self):\n",
    "        damage = self.strength * 2.5\n",
    "        print(f'{self.name} attacks with {self.weapon} for {damage}HP')\n",
    "\n",
    "geoff = BruteHenchman('Geoff', 'sledgehammer', 50)\n",
    "geoff.attack()\n",
    "        "
   ]
  },
  {
   "cell_type": "markdown",
   "id": "733eb6cc",
   "metadata": {
    "slideshow": {
     "slide_type": "skip"
    }
   },
   "source": [
    "In this example we have created the new subclass <span style='color: blue'>**BruteHenchman**</span> which inherited its properties from the superclass <span style='color: blue'>**Henchman**</span>.  We were able to change the <span style='color: blue'>**attack**</span> method."
   ]
  },
  {
   "cell_type": "markdown",
   "id": "c3d60b31",
   "metadata": {
    "slideshow": {
     "slide_type": "slide"
    }
   },
   "source": [
    "## <span style='color: blue'>**Class, Instance and Static Methods**</span> <a id='#class-instance-static-variables'></a>\n",
    "\n",
    "In this section we will look at the differences between <span style='color: blue'>**class**</span>, <span style='color: blue'>**instance**</span> and <span style='color: blue'>**static**</span> methods."
   ]
  },
  {
   "cell_type": "markdown",
   "id": "be277a69",
   "metadata": {
    "slideshow": {
     "slide_type": "fragment"
    }
   },
   "source": [
    "<span style='color: blue'>**Class methods**</span> in Python are methods that are bound to the <span style='color: blue'>**class**</span> and not the <span style='color: blue'>**instance**</span> of the class.\n",
    "\n",
    "They can be called using the <span style='color: magenta'>**class name**</span> or an <span style='color: magenta'>**instance**</span> of the class, and are commonly used for factory methods and utility functions."
   ]
  },
  {
   "cell_type": "code",
   "execution_count": 15,
   "id": "57a74937",
   "metadata": {},
   "outputs": [
    {
     "name": "stdout",
     "output_type": "stream",
     "text": [
      "some_value\n",
      "new_value\n"
     ]
    }
   ],
   "source": [
    "class MyClass:\n",
    "    class_attribute = \"some_value\"\n",
    "    \n",
    "    @classmethod\n",
    "    def my_class_method(cls, argument_1):\n",
    "        cls.class_attribute = argument_1\n",
    "\n",
    "print(MyClass.class_attribute)\n",
    "\n",
    "MyClass.my_class_method('new_value')\n",
    "print(MyClass.class_attribute)"
   ]
  },
  {
   "cell_type": "markdown",
   "id": "809c0fd5",
   "metadata": {},
   "source": [
    "- They are accessed using the <span style='color: magenta'>**class name**</span> rather than an <span style='color: magenta'>**instance**</span> of the class\n",
    "- They take the <span style='color: blue'>**class**</span> itself as the <span style='color: magenta'>**first argument**</span>.\n",
    "- They can be used to modify the <span style='color: magenta'>**class-level attributes**</span>.\n",
    "- They are defined using the <span style='color: blue'>**@classmethod**</span> decorator."
   ]
  },
  {
   "cell_type": "markdown",
   "id": "c2677534",
   "metadata": {
    "slideshow": {
     "slide_type": "slide"
    }
   },
   "source": [
    "<span style='color: blue'>**Class methods**</span> can be used to create <span style='color: magenta'>**new instances**</span> of a class with <span style='color: magenta'>**custom configurations**</span>.\n",
    "\n",
    "In this example the <span style='color: blue'>**create square**</span> class method returns an instance pf the <span style='color: blue'>**Rectangle**</span> class with <span style='color: magenta'>**width**</span> and <span style='color: magenta'>**height**</span>."
   ]
  },
  {
   "cell_type": "code",
   "execution_count": 16,
   "id": "43d2a7fb",
   "metadata": {},
   "outputs": [
    {
     "name": "stdout",
     "output_type": "stream",
     "text": [
      "5\n",
      "5\n"
     ]
    }
   ],
   "source": [
    "class Rectangle:\n",
    "    def __init__(self, width, height):\n",
    "        self.width = width\n",
    "        self.height = height\n",
    "    \n",
    "    @classmethod\n",
    "    def create_square(cls, size):\n",
    "        return cls(size, size)\n",
    "\n",
    "square = Rectangle.create_square(5)\n",
    "print(square.width)\n",
    "print(square.height)"
   ]
  },
  {
   "cell_type": "markdown",
   "id": "836aeecc",
   "metadata": {
    "slideshow": {
     "slide_type": "slide"
    }
   },
   "source": [
    "<span style='color: blue'>**Class methods**</span> can be used to create <span style='color: magenta'>**alternate constructors**</span> for a class.\n"
   ]
  },
  {
   "cell_type": "code",
   "execution_count": 17,
   "id": "2966ca76",
   "metadata": {},
   "outputs": [
    {
     "name": "stdout",
     "output_type": "stream",
     "text": [
      "steve.strength = 10\n",
      "big_al.strength = 75\n"
     ]
    }
   ],
   "source": [
    "class Henchman:\n",
    "    \n",
    "    def __init__(self, name, strength):\n",
    "        self.name = name\n",
    "        self.strength = strength\n",
    "    \n",
    "    @classmethod\n",
    "    def from_type(cls, name, type_):\n",
    "        if type_ == 'mini-boss':\n",
    "            strength = 75\n",
    "            return cls(name, strength)\n",
    "\n",
    "steve = Henchman('steve', 10)\n",
    "print(f'{steve.strength = }')\n",
    "\n",
    "big_al = Henchman.from_type('big_al', 'mini-boss')\n",
    "print(f'{big_al.strength = }')"
   ]
  },
  {
   "cell_type": "markdown",
   "id": "e5ae2ded",
   "metadata": {
    "slideshow": {
     "slide_type": "slide"
    }
   },
   "source": [
    "<span style='color: blue'>**Instance methods**</span> are methods that are called on an instance of a class.\n",
    "\n",
    "They have access to the instance's <span style='color: blue'>**attributes**</span> and can <span style='color: magenta'>**modify them**</span>."
   ]
  },
  {
   "cell_type": "code",
   "execution_count": 18,
   "id": "f1267e40",
   "metadata": {},
   "outputs": [
    {
     "name": "stdout",
     "output_type": "stream",
     "text": [
      "Falcon\n"
     ]
    }
   ],
   "source": [
    "class Weapon:\n",
    "    \n",
    "    def __init__(self, type_, material, owner):\n",
    "        self.type_ = type_\n",
    "        self.material = material\n",
    "        self.owner = owner\n",
    "        \n",
    "    def change_owner(self, new_owner):\n",
    "        self.owner = new_owner\n",
    "\n",
    "shield = Weapon('shield', 'vibranium', 'captain_america')\n",
    "shield.change_owner('Falcon')\n",
    "\n",
    "print(shield.owner)\n"
   ]
  },
  {
   "cell_type": "markdown",
   "id": "5e7d7d4d",
   "metadata": {},
   "source": [
    "- Instance methods are methods that are <span style='color: magenta'>**called on an instance**</span> of a class.\n",
    "- They are defined using the def keyword and take <span style='color: blue'>**self**</span> as the first parameter.\n",
    "- They have access to the instance's <span style='color: blue'>**attributes**</span> and can modify them."
   ]
  },
  {
   "cell_type": "markdown",
   "id": "04fe0ead",
   "metadata": {
    "slideshow": {
     "slide_type": "slide"
    }
   },
   "source": [
    "<span style='color: blue'>**Static methods**</span> are methods bound to a class rather than an instance, used for tasks <span style='color: magenta'>**not related**</span> to the instance or class. "
   ]
  },
  {
   "cell_type": "code",
   "execution_count": 19,
   "id": "89afdac0",
   "metadata": {},
   "outputs": [
    {
     "name": "stdout",
     "output_type": "stream",
     "text": [
      "5\n"
     ]
    }
   ],
   "source": [
    "class Calculator:\n",
    "\n",
    "    @staticmethod\n",
    "    def add(num1, num2):\n",
    "        return num1 + num2\n",
    "\n",
    "result = Calculator.add(2, 3)\n",
    "print(result)"
   ]
  },
  {
   "cell_type": "markdown",
   "id": "9a3be703",
   "metadata": {},
   "source": [
    "- Static methods are <span style='color: blue'>**methods**</span> that are bound to a <span style='color: blue'>**class**</span> rather than an <span style='color: blue'>**instance**</span>.\n",
    "- They are defined using the <span style='color: magenta'>**@staticmethod**</span> decorator.\n",
    "- They do not take the <span style='color: blue'>**self**</span> or <span style='color: blue'>**cls**</span> parameter.\n",
    "- They <span style='color: magenta'>**cannot modify the attributes**</span> of the class or instance."
   ]
  },
  {
   "cell_type": "markdown",
   "id": "3759bda3",
   "metadata": {
    "slideshow": {
     "slide_type": "slide"
    }
   },
   "source": [
    "## <span style='color: blue'>**Protected Variables and Methods**</span> <a id='#protected-variables-and-methods'></a>\n",
    "\n",
    "<span style='color: blue'>**Protected variables**</span> in object-oriented programming are variables that are intended to be <span style='color: magenta'>**accessible within a class**</span> and its subclasses, but <span style='color: magenta'>**not from outside the class hierarchy**</span>.\n",
    "\n",
    "The <span style='color: magenta'>**leading underscore**</span> does not prevent access to the class, it is however not generally recommended as it breaks <span style='color: magenta'>**encapsulation**</span> which is the idea that the inner workings of a class should be hidden."
   ]
  },
  {
   "cell_type": "code",
   "execution_count": 20,
   "id": "20b4eb47",
   "metadata": {},
   "outputs": [],
   "source": [
    "class NinjaTurle:\n",
    "    def __init__(self):\n",
    "        self._name = 'Leonardo'"
   ]
  },
  {
   "cell_type": "code",
   "execution_count": 21,
   "id": "ec0f3d5d",
   "metadata": {},
   "outputs": [
    {
     "name": "stdout",
     "output_type": "stream",
     "text": [
      "turtle_1._name = 'Leonardo'\n"
     ]
    }
   ],
   "source": [
    "turtle_1 = NinjaTurle()\n",
    "print(f'{turtle_1._name = }')"
   ]
  },
  {
   "cell_type": "markdown",
   "id": "2dec2cd2",
   "metadata": {
    "slideshow": {
     "slide_type": "slide"
    }
   },
   "source": [
    "If you want to <span style='color: magenta'>**enforce the privacy of a protected variable**</span> it is recommended that you use the <span style='color: blue'>**@property**</span> decorator to define a <span style='color: magenta'>**getter method**</span>."
   ]
  },
  {
   "cell_type": "code",
   "execution_count": 22,
   "id": "798fad47",
   "metadata": {},
   "outputs": [],
   "source": [
    "class NinjaTurtle:\n",
    "    def __init__(self):\n",
    "        self._name = 'Leonardo'\n",
    "    \n",
    "    @property\n",
    "    def name(self):\n",
    "        return self._name"
   ]
  },
  {
   "cell_type": "code",
   "execution_count": 23,
   "id": "60f8d2f6",
   "metadata": {},
   "outputs": [
    {
     "data": {
      "text/plain": [
       "'Leonardo'"
      ]
     },
     "execution_count": 23,
     "metadata": {},
     "output_type": "execute_result"
    }
   ],
   "source": [
    "turtle_1 = NinjaTurtle()\n",
    "turtle_1.name"
   ]
  },
  {
   "cell_type": "markdown",
   "id": "a2917929",
   "metadata": {
    "slideshow": {
     "slide_type": "slide"
    }
   },
   "source": [
    "If you want to enable changing of the private variable a <span style='color: magenta'>**setter method**</span> should be declared using the naming convention <span style='color: blue'>**@\\<attribute_name\\>.setter**</span>."
   ]
  },
  {
   "cell_type": "code",
   "execution_count": 24,
   "id": "beecfb25",
   "metadata": {},
   "outputs": [],
   "source": [
    "class NinjaTurtle:\n",
    "    def __init__(self):\n",
    "        self._name = 'Leonardo'\n",
    "    \n",
    "    @property\n",
    "    def name(self):\n",
    "        return self._name\n",
    "    \n",
    "    @name.setter\n",
    "    def name(self, new_name):\n",
    "        self._name = new_name"
   ]
  },
  {
   "cell_type": "code",
   "execution_count": 25,
   "id": "7a054623",
   "metadata": {},
   "outputs": [
    {
     "name": "stdout",
     "output_type": "stream",
     "text": [
      "Donatello\n"
     ]
    }
   ],
   "source": [
    "turtle_1 = NinjaTurtle()\n",
    "turtle_1.name = 'Donatello'\n",
    "print(turtle_1.name)"
   ]
  },
  {
   "cell_type": "markdown",
   "id": "b4c7a540",
   "metadata": {
    "slideshow": {
     "slide_type": "slide"
    }
   },
   "source": [
    "A similar method should be used to allow the <span style='color: magenta'>**deletion of a private variable**</span>. Here a naming convention of <span style='color: blue'>**@\\<attribute_name\\>.deleter**</span> should be used."
   ]
  },
  {
   "cell_type": "code",
   "execution_count": 28,
   "id": "a256ecad",
   "metadata": {},
   "outputs": [],
   "source": [
    "class NinjaTurtle:\n",
    "    def __init__(self):\n",
    "        self._name = 'Leonardo'\n",
    "    \n",
    "    @property\n",
    "    def name(self):\n",
    "        return self._name\n",
    "    \n",
    "    @name.setter\n",
    "    def name(self, new_name):\n",
    "        self._name = new_name\n",
    "        \n",
    "    @name.deleter\n",
    "    def name(self):\n",
    "        self._name = None"
   ]
  },
  {
   "cell_type": "code",
   "execution_count": 29,
   "id": "a75f203d",
   "metadata": {},
   "outputs": [
    {
     "name": "stdout",
     "output_type": "stream",
     "text": [
      "None\n"
     ]
    }
   ],
   "source": [
    "turtle_1 = NinjaTurtle()\n",
    "\n",
    "del turtle_1.name\n",
    "\n",
    "print(turtle_1.name)"
   ]
  },
  {
   "cell_type": "markdown",
   "id": "8c6c0396",
   "metadata": {
    "slideshow": {
     "slide_type": "slide"
    }
   },
   "source": [
    "<span style='color: blue'>**Protected methods**</span> are <span style='color: magenta'>**accessible within a class**</span> and its subclasses, but <span style='color: magenta'>**not from intended for access outside the class hierarchy**</span>. They provide encapsulation and are used for internal functionality."
   ]
  },
  {
   "cell_type": "code",
   "execution_count": 32,
   "id": "6746ce7e",
   "metadata": {},
   "outputs": [
    {
     "name": "stdout",
     "output_type": "stream",
     "text": [
      "Starting engine...\n",
      "Car started!\n"
     ]
    }
   ],
   "source": [
    "class Vehicle:\n",
    "    def __init__(self, make, model):\n",
    "        self._make = make\n",
    "        self._model = model\n",
    "\n",
    "    def _start_engine(self):\n",
    "        print(\"Starting engine...\")\n",
    "\n",
    "class Car(Vehicle):\n",
    "    def start_car(self):\n",
    "        self._start_engine()\n",
    "        print(\"Car started!\")\n",
    "\n",
    "my_car = Car(\"Toyota\", \"Corolla\")\n",
    "my_car.start_car()\n"
   ]
  },
  {
   "cell_type": "markdown",
   "id": "89d3bdab",
   "metadata": {},
   "source": [
    "The <span style='color: blue'>**Vehicle**</span> base class has a protected method <span style='color: blue'>**\\_start_engine**</span>, which is intended to be used only within the class hierarchy and not accessed directly from outside."
   ]
  },
  {
   "cell_type": "markdown",
   "id": "1b629727",
   "metadata": {
    "slideshow": {
     "slide_type": "slide"
    }
   },
   "source": [
    "## <span style='color: blue'>**Private Variables and Methods**</span> <a id='#private-variables-and-methods'></a>\n",
    "\n",
    "<span style='color: blue'>**Private variables**</span> in object-oriented programming are variables that are not intended to be accessed or modified from outside the class. In Python, a private variable can be created by <span style='color: magenta'>**prefixing its name with two underscores**</span> (e.g. __my_variable)."
   ]
  },
  {
   "cell_type": "code",
   "execution_count": 47,
   "id": "4aacf10e",
   "metadata": {},
   "outputs": [
    {
     "name": "stdout",
     "output_type": "stream",
     "text": [
      "'MyClass' object has no attribute '__my_private_var'\n"
     ]
    }
   ],
   "source": [
    "class MyClass:\n",
    "    def __init__(self):\n",
    "        self.__my_private_var = \"I am a private variable!\"\n",
    "\n",
    "my_object = MyClass()\n",
    "\n",
    "try:\n",
    "    print(my_object.__my_private_var)\n",
    "except Exception as error:\n",
    "    print(error)"
   ]
  },
  {
   "cell_type": "markdown",
   "id": "756624e8",
   "metadata": {
    "slideshow": {
     "slide_type": "slide"
    }
   },
   "source": [
    "The private variable <span style='color: magenta'>**isn't completely unaccessable**</span> but doing so is not recommended by convention.\n",
    "\n",
    "One way to access a <span style='color: blue'>**private variable**</span> from outside the class is to <span style='color: magenta'>**use the name mangling syntax**</span>, which involves prefixing the name of the <span style='color: blue'>**private variable**</span> with the <span style='color: blue'>**class name**</span> and <span style='color: magenta'>**two leading underscores**</span>."
   ]
  },
  {
   "cell_type": "code",
   "execution_count": 48,
   "id": "f5bc15b2",
   "metadata": {},
   "outputs": [
    {
     "name": "stdout",
     "output_type": "stream",
     "text": [
      "I am a private variable!\n"
     ]
    }
   ],
   "source": [
    "class MyClass:\n",
    "    def __init__(self):\n",
    "        self.__my_private_var = \"I am a private variable!\"\n",
    "\n",
    "my_object = MyClass()\n",
    "\n",
    "print(my_object._MyClass__my_private_var)"
   ]
  },
  {
   "cell_type": "markdown",
   "id": "dc0944fe",
   "metadata": {
    "slideshow": {
     "slide_type": "slide"
    }
   },
   "source": [
    "To call the <span style='color: magenta'>**private method from outside the class**</span>, we have defined a public method <span style='color: blue'>**my_public_method()**</span> that calls the private method. This method can be called from outside the class to trigger the private method."
   ]
  },
  {
   "cell_type": "code",
   "execution_count": 52,
   "id": "ac7beda9",
   "metadata": {},
   "outputs": [
    {
     "name": "stdout",
     "output_type": "stream",
     "text": [
      "This is a private method!\n"
     ]
    }
   ],
   "source": [
    "class MyClass:\n",
    "    def __init__(self):\n",
    "        self.__my_private_var = \"I am a private variable!\"\n",
    "\n",
    "    def __my_private_method(self):\n",
    "        print(\"This is a private method!\")\n",
    "\n",
    "    def my_public_method(self):\n",
    "        self.__my_private_method()\n",
    "\n",
    "my_object = MyClass()\n",
    "my_object.my_public_method()"
   ]
  },
  {
   "cell_type": "markdown",
   "id": "05eed08d",
   "metadata": {},
   "source": [
    "By using <span style='color: blue'>**private methods**</span>, we can ensure that the internal workings of a class are <span style='color: magenta'>**only used as intended**</span>, and that the class is <span style='color: magenta'>**protected from external interference**</span>."
   ]
  },
  {
   "cell_type": "markdown",
   "id": "5aa3037f",
   "metadata": {
    "slideshow": {
     "slide_type": "slide"
    }
   },
   "source": [
    "## <span style='color: blue'>**The super() Function**</span> <a id='#the-super-function'></a>\n",
    "\n",
    "The <span style='color: blue'>**super()**</span> is a built-in function that provides a way to <span style='color: magenta'>**call methods of a superclass from a subclass**</span>. It returns a <span style='color: magenta'>**temporary object of the superclass**</span>, which allows you to call its methods as if they were methods of the subclass."
   ]
  },
  {
   "cell_type": "code",
   "execution_count": 55,
   "id": "dc7f785b",
   "metadata": {},
   "outputs": [
    {
     "name": "stdout",
     "output_type": "stream",
     "text": [
      "I am an animal.\n",
      "I am a dog.\n"
     ]
    }
   ],
   "source": [
    "class Animal:\n",
    "    def __init__(self, name):\n",
    "        self.name = name\n",
    "\n",
    "    def speak(self):\n",
    "        print(\"I am an animal.\")\n",
    "\n",
    "class Dog(Animal):\n",
    "    def __init__(self, name):\n",
    "        super().__init__(name)\n",
    "\n",
    "    def speak(self):\n",
    "        super().speak()\n",
    "        print(\"I am a dog.\")\n",
    "\n",
    "dog = Dog(\"Buddy\")\n",
    "dog.speak()"
   ]
  },
  {
   "cell_type": "markdown",
   "id": "d569bf4b",
   "metadata": {
    "slideshow": {
     "slide_type": "slide"
    }
   },
   "source": [
    "## <span style='color: blue'>**Magic (Dunder) Methods in Python Classes**</span> <a id='#magic-dunder-methods-in-python-classes'></a>\n",
    "\n",
    "<span style='color: blue'>**Magic**</span> (<span style='color: magenta'>**also known as \"Dunder\"**</span>) methods begin and end with <span style='color: magenta'>**double underscores**</span>. They are used to customize the behavior of Python classes and objects in response to certain events, such as when an <span style='color: magenta'>**object is created**</span>, when it is <span style='color: magenta'>**compared to another object**</span>, or when it is <span style='color: magenta'>**converted to a string**</span>.\n",
    "\n",
    "We have already looked at the <span style='color: blue'>**__init__()**</span> and <span style='color: blue'>**__str__()**</span> methods."
   ]
  },
  {
   "cell_type": "markdown",
   "id": "8c1b1259",
   "metadata": {
    "slideshow": {
     "slide_type": "slide"
    }
   },
   "source": [
    "The <span style='color: blue'>**\\_\\_call\\_\\_()**</span> methods allows an object to be called as if it were a function."
   ]
  },
  {
   "cell_type": "code",
   "execution_count": 56,
   "id": "c4a4d43b",
   "metadata": {},
   "outputs": [
    {
     "name": "stdout",
     "output_type": "stream",
     "text": [
      "10\n"
     ]
    }
   ],
   "source": [
    "class MyClass:\n",
    "    def __call__(self, x):\n",
    "        return x * 2\n",
    "\n",
    "obj = MyClass()\n",
    "result = obj(5)\n",
    "print(result)"
   ]
  },
  {
   "cell_type": "markdown",
   "id": "b8ba52e2",
   "metadata": {
    "slideshow": {
     "slide_type": "slide"
    }
   },
   "source": [
    "The <span style='color: blue'>**\\_\\_add\\_\\_()**</span> method allows objects to define how they can be added together with the <span style='color: magenta'>**+**</span> operator.\n",
    "\n",
    "Different methods behave differently when \"<span style='color: magenta'>**added togther**</span>\", for example, <span style='color: magenta'>**numbers are summed**</span> where <span style='color: magenta'>**strings are concatenated**</span>."
   ]
  },
  {
   "cell_type": "code",
   "execution_count": 62,
   "id": "8487d0fa",
   "metadata": {},
   "outputs": [
    {
     "name": "stdout",
     "output_type": "stream",
     "text": [
      "15\n"
     ]
    }
   ],
   "source": [
    "class MyNumber:\n",
    "    def __init__(self, value):\n",
    "        self.value = value\n",
    "\n",
    "    def __add__(self, other):\n",
    "        return MyNumber(self.value + other.value)\n",
    "\n",
    "num1 = MyNumber(5)\n",
    "num2 = MyNumber(10)\n",
    "num3 = num1 + num2\n",
    "\n",
    "print(num3.value)"
   ]
  },
  {
   "cell_type": "code",
   "execution_count": 63,
   "id": "7ba35c6f",
   "metadata": {},
   "outputs": [
    {
     "name": "stdout",
     "output_type": "stream",
     "text": [
      "Hello, world!\n"
     ]
    }
   ],
   "source": [
    "class MyString:\n",
    "    def __init__(self, value):\n",
    "        self.value = value\n",
    "\n",
    "    def __add__(self, other):\n",
    "        return MyString(self.value + other.value)\n",
    "\n",
    "string1 = MyString(\"Hello, \")\n",
    "string2 = MyString(\"world!\")\n",
    "string3 = string1 + string2\n",
    "\n",
    "print(string3.value)"
   ]
  },
  {
   "cell_type": "markdown",
   "id": "18d9d04b",
   "metadata": {
    "slideshow": {
     "slide_type": "slide"
    }
   },
   "source": [
    "## <span style='color: blue'>**Class Docstrings**</span> <a id='#class-docstrings'></a>\n",
    "\n",
    "<span style='color: blue'>**Class docstrings**</span> are <span style='color: magenta'>**string literals**</span> used to document Python classes, describing what the class does, what attributes it has, and what methods it provides."
   ]
  },
  {
   "cell_type": "code",
   "execution_count": 70,
   "id": "67edc96e",
   "metadata": {},
   "outputs": [],
   "source": [
    "class MyClass:\n",
    "    \"\"\"A simple class that represents a person.\n",
    "\n",
    "    Attributes:\n",
    "        name (str): The person's name.\n",
    "        age (int): The person's age.\n",
    "\n",
    "    Methods:\n",
    "        greet(): Prints a greeting to the console.\n",
    "    \"\"\"\n",
    "\n",
    "    def __init__(self, name, age):\n",
    "        self.name = name\n",
    "        self.age = age\n",
    "\n",
    "    def greet(self):\n",
    "        \"\"\"Prints a greeting to the console.\"\"\"\n",
    "        print(f\"Hello, my name is {self.name} and I'm {self.age} years old.\")"
   ]
  },
  {
   "cell_type": "code",
   "execution_count": 71,
   "id": "38e29ed9",
   "metadata": {
    "slideshow": {
     "slide_type": "slide"
    }
   },
   "outputs": [
    {
     "name": "stdout",
     "output_type": "stream",
     "text": [
      "Help on MyClass in module __main__ object:\n",
      "\n",
      "class MyClass(builtins.object)\n",
      " |  MyClass(name, age)\n",
      " |  \n",
      " |  A simple class that represents a person.\n",
      " |  \n",
      " |  Attributes:\n",
      " |      name (str): The person's name.\n",
      " |      age (int): The person's age.\n",
      " |  \n",
      " |  Methods:\n",
      " |      greet(): Prints a greeting to the console.\n",
      " |  \n",
      " |  Methods defined here:\n",
      " |  \n",
      " |  __init__(self, name, age)\n",
      " |      Initialize self.  See help(type(self)) for accurate signature.\n",
      " |  \n",
      " |  greet(self)\n",
      " |      Prints a greeting to the console.\n",
      " |  \n",
      " |  ----------------------------------------------------------------------\n",
      " |  Data descriptors defined here:\n",
      " |  \n",
      " |  __dict__\n",
      " |      dictionary for instance variables (if defined)\n",
      " |  \n",
      " |  __weakref__\n",
      " |      list of weak references to the object (if defined)\n",
      "\n"
     ]
    }
   ],
   "source": [
    "help(MyClass('steve', 30))"
   ]
  },
  {
   "cell_type": "markdown",
   "id": "cfdfcea1",
   "metadata": {
    "slideshow": {
     "slide_type": "slide"
    }
   },
   "source": [
    "## <span style='color: blue'>**Best Practices for Writing Classes in Python**</span> <a id='#best-practices-for-writing-classes-in-python'></a>\n",
    "\n",
    "- Use meaningful, descriptive names for classes, methods, and variables.\n",
    "- Use <span style='color: blue'>**CamelCase**</span> when naming your classes.\n",
    "- Follow the <span style='color: magenta'>**PEP 8**</span> style guide for code formatting.\n",
    "- Use <span style='color: blue'>**docstrings**</span> to document classes and methods.\n",
    "- Avoid <span style='color: blue'>**global**</span> variables.\n",
    "- Write modular code with small, focused classes and methods.\n"
   ]
  },
  {
   "cell_type": "code",
   "execution_count": null,
   "id": "72666c39",
   "metadata": {},
   "outputs": [],
   "source": []
  }
 ],
 "metadata": {
  "celltoolbar": "Slideshow",
  "kernelspec": {
   "display_name": "Python 3 (ipykernel)",
   "language": "python",
   "name": "python3"
  },
  "language_info": {
   "codemirror_mode": {
    "name": "ipython",
    "version": 3
   },
   "file_extension": ".py",
   "mimetype": "text/x-python",
   "name": "python",
   "nbconvert_exporter": "python",
   "pygments_lexer": "ipython3",
   "version": "3.11.1"
  }
 },
 "nbformat": 4,
 "nbformat_minor": 5
}
