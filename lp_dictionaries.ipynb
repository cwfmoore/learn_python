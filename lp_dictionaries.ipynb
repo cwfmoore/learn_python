{
 "cells": [
  {
   "cell_type": "code",
   "execution_count": 1,
   "id": "0adf68ec",
   "metadata": {
    "slideshow": {
     "slide_type": "skip"
    }
   },
   "outputs": [],
   "source": [
    "# !pip install rich\n",
    "from rich import print"
   ]
  },
  {
   "cell_type": "markdown",
   "id": "adb1b4d5",
   "metadata": {
    "slideshow": {
     "slide_type": "slide"
    }
   },
   "source": [
    "## <span style='color: blue'>Learn Python</span> - Dictionaries\n",
    "\n",
    "- Creating Dictionaries\n",
    "- Accessing Dictionaries\n",
    "- Modifying Key Value Pairs\n",
    "- Adding & Removing Data\n",
    "- Keywords & Functions\n",
    "- Dictionary Comprehensions"
   ]
  },
  {
   "cell_type": "markdown",
   "id": "be21350f",
   "metadata": {
    "slideshow": {
     "slide_type": "slide"
    }
   },
   "source": [
    "<span style='color: blue'>**Creating Dictionaries**</span>\n",
    "\n",
    "<span style='color: blue'>**Dictionaries**</span> are a type of data structure used to store <span style='color: magenta'>**key-value pairs**</span>. They are <span style='color: magenta'>**mutable**</span>, <span style='color: magenta'>**unordered**</span>, and can be indexed using <span style='color: blue'>**keys**</span>. They are defined using <span style='color: magenta'>**curly braces {}**</span> and <span style='color: magenta'>**colons :**</span> to separate <span style='color: blue'>**keys**</span> from their corresponding <span style='color: magenta'>**values**</span>."
   ]
  },
  {
   "cell_type": "code",
   "execution_count": 2,
   "id": "ea6bb4db",
   "metadata": {
    "slideshow": {
     "slide_type": "fragment"
    }
   },
   "outputs": [],
   "source": [
    "# Create an empty dictionary using curly braces\n",
    "new_dict = {}\n",
    "\n",
    "# Create an empty dictionary using the dictionary constructor\n",
    "new_dict = dict()"
   ]
  },
  {
   "cell_type": "markdown",
   "id": "189086ee",
   "metadata": {
    "slideshow": {
     "slide_type": "fragment"
    }
   },
   "source": [
    "Both methods are <span style='color: magenta'>**valid**</span> for creating an empty dictionary, and the choice of which method to use may depend on <span style='color: magenta'>**personal preference**</span> or <span style='color: magenta'>**specific requirements**</span> for the code. <span style='color: blue'>**However**</span> the first method tends to be the more commonly used."
   ]
  },
  {
   "cell_type": "markdown",
   "id": "902c2c0f",
   "metadata": {
    "slideshow": {
     "slide_type": "slide"
    }
   },
   "source": [
    "It's important to keep in mind the <span style='color: magenta'>**properties**</span> of dictionaries when creating one.\n",
    "\n",
    "- Each <span style='color: blue'>**key**</span> in a dictionary must be <span style='color: magenta'>**unique**</span>, so if you try to assign a value to a key that <span style='color: magenta'>**already exists**</span>, it will <span style='color: magenta'>**overwrite**</span> the old value.<br>\n",
    "- <span style='color: blue'>**Keys**</span> must be <span style='color: magenta'>**immutable**</span>, meaning you can't use mutable objects like lists or dictionaries as keys, but can use <span style='color: blue'>**strings**</span>, <span style='color: blue'>**numbers**</span> and <span style='color: blue'>**tuples**</span>.\n",
    "- <span style='color: blue'>**Keys**</span> are <span style='color: magenta'>**unordered**</span>, so the order you define the keys doesn't necessarily match the order when iterating over the dictionary.\n"
   ]
  },
  {
   "cell_type": "code",
   "execution_count": 3,
   "id": "453458c0",
   "metadata": {
    "slideshow": {
     "slide_type": "fragment"
    }
   },
   "outputs": [
    {
     "data": {
      "text/html": [
       "<pre style=\"white-space:pre;overflow-x:auto;line-height:normal;font-family:Menlo,'DejaVu Sans Mono',consolas,'Courier New',monospace\"><span style=\"font-weight: bold\">{</span><span style=\"color: #008000; text-decoration-color: #008000\">'year'</span>: <span style=\"color: #008080; text-decoration-color: #008080; font-weight: bold\">1994</span>, <span style=\"color: #008000; text-decoration-color: #008000\">'engine'</span>: <span style=\"color: #008000; text-decoration-color: #008000\">'3.5L V8'</span>, <span style=\"color: #008000; text-decoration-color: #008000\">'horsepower'</span>: <span style=\"color: #008080; text-decoration-color: #008080; font-weight: bold\">375</span>, <span style=\"color: #008000; text-decoration-color: #008000\">'top_speed'</span>: <span style=\"color: #008080; text-decoration-color: #008080; font-weight: bold\">183</span>, <span style=\"color: #008000; text-decoration-color: #008000\">'price'</span>: <span style=\"color: #008080; text-decoration-color: #008080; font-weight: bold\">130000</span>, <span style=\"color: #008000; text-decoration-color: #008000\">'italian'</span>: <span style=\"color: #00ff00; text-decoration-color: #00ff00; font-style: italic\">True</span><span style=\"font-weight: bold\">}</span>\n",
       "</pre>\n"
      ],
      "text/plain": [
       "\u001b[1m{\u001b[0m\u001b[32m'year'\u001b[0m: \u001b[1;36m1994\u001b[0m, \u001b[32m'engine'\u001b[0m: \u001b[32m'3.5L V8'\u001b[0m, \u001b[32m'horsepower'\u001b[0m: \u001b[1;36m375\u001b[0m, \u001b[32m'top_speed'\u001b[0m: \u001b[1;36m183\u001b[0m, \u001b[32m'price'\u001b[0m: \u001b[1;36m130000\u001b[0m, \u001b[32m'italian'\u001b[0m: \u001b[3;92mTrue\u001b[0m\u001b[1m}\u001b[0m\n"
      ]
     },
     "metadata": {},
     "output_type": "display_data"
    }
   ],
   "source": [
    "# Creating a populated dictionary using curly braces and comma separators\n",
    "ferrari_355 = {\n",
    "    'year': 1994,\n",
    "    'engine': '3.5L V8',\n",
    "    'horsepower': 375,\n",
    "    'top_speed': 183,\n",
    "    'price': 130000,\n",
    "    'italian': True\n",
    "}\n",
    "\n",
    "print(ferrari_355)"
   ]
  },
  {
   "cell_type": "markdown",
   "id": "d7227c58",
   "metadata": {
    "slideshow": {
     "slide_type": "slide"
    }
   },
   "source": [
    "The <span style='color: blue'>**dict()**</span> constructor can be used to create a <span style='color: blue'>**dictionary**</span>."
   ]
  },
  {
   "cell_type": "code",
   "execution_count": 4,
   "id": "baab57f7",
   "metadata": {
    "slideshow": {
     "slide_type": "-"
    }
   },
   "outputs": [
    {
     "data": {
      "text/html": [
       "<pre style=\"white-space:pre;overflow-x:auto;line-height:normal;font-family:Menlo,'DejaVu Sans Mono',consolas,'Courier New',monospace\"><span style=\"font-weight: bold\">{</span><span style=\"color: #008000; text-decoration-color: #008000\">'year'</span>: <span style=\"color: #008080; text-decoration-color: #008080; font-weight: bold\">1994</span>, <span style=\"color: #008000; text-decoration-color: #008000\">'engine'</span>: <span style=\"color: #008000; text-decoration-color: #008000\">'3.5L V8'</span>, <span style=\"color: #008000; text-decoration-color: #008000\">'horsepower'</span>: <span style=\"color: #008080; text-decoration-color: #008080; font-weight: bold\">375</span>, <span style=\"color: #008000; text-decoration-color: #008000\">'top_speed'</span>: <span style=\"color: #008080; text-decoration-color: #008080; font-weight: bold\">183</span>, <span style=\"color: #008000; text-decoration-color: #008000\">'price'</span>: <span style=\"color: #008080; text-decoration-color: #008080; font-weight: bold\">130000</span>, <span style=\"color: #008000; text-decoration-color: #008000\">'italian'</span>: <span style=\"color: #00ff00; text-decoration-color: #00ff00; font-style: italic\">True</span><span style=\"font-weight: bold\">}</span>\n",
       "</pre>\n"
      ],
      "text/plain": [
       "\u001b[1m{\u001b[0m\u001b[32m'year'\u001b[0m: \u001b[1;36m1994\u001b[0m, \u001b[32m'engine'\u001b[0m: \u001b[32m'3.5L V8'\u001b[0m, \u001b[32m'horsepower'\u001b[0m: \u001b[1;36m375\u001b[0m, \u001b[32m'top_speed'\u001b[0m: \u001b[1;36m183\u001b[0m, \u001b[32m'price'\u001b[0m: \u001b[1;36m130000\u001b[0m, \u001b[32m'italian'\u001b[0m: \u001b[3;92mTrue\u001b[0m\u001b[1m}\u001b[0m\n"
      ]
     },
     "metadata": {},
     "output_type": "display_data"
    }
   ],
   "source": [
    "# Creating a populated dictionary using the dict constructor\n",
    "ferrari_355 = dict(\n",
    "    year=1994, \n",
    "    engine='3.5L V8', \n",
    "    horsepower=375, \n",
    "    top_speed=183, \n",
    "    price=130000,\n",
    "    italian=True\n",
    ")\n",
    "\n",
    "print(ferrari_355)\n"
   ]
  },
  {
   "cell_type": "markdown",
   "id": "81ad46c8",
   "metadata": {
    "slideshow": {
     "slide_type": "slide"
    }
   },
   "source": [
    "You can create a populated <span style='color: blue'>**dictionary**</span> using the <span style='color: magenta'>**dict() constructor**</span> by casting other data types, such as a <span style='color: magenta'>**list of tuples**</span>, into a dictionary format."
   ]
  },
  {
   "cell_type": "code",
   "execution_count": 5,
   "id": "22e6e21a",
   "metadata": {
    "slideshow": {
     "slide_type": "-"
    }
   },
   "outputs": [
    {
     "data": {
      "text/html": [
       "<pre style=\"white-space:pre;overflow-x:auto;line-height:normal;font-family:Menlo,'DejaVu Sans Mono',consolas,'Courier New',monospace\"><span style=\"font-weight: bold\">{</span><span style=\"color: #008000; text-decoration-color: #008000\">'year'</span>: <span style=\"color: #008080; text-decoration-color: #008080; font-weight: bold\">1994</span>, <span style=\"color: #008000; text-decoration-color: #008000\">'engine'</span>: <span style=\"color: #008000; text-decoration-color: #008000\">'3.5L V8'</span>, <span style=\"color: #008000; text-decoration-color: #008000\">'horsepower'</span>: <span style=\"color: #008080; text-decoration-color: #008080; font-weight: bold\">375</span>, <span style=\"color: #008000; text-decoration-color: #008000\">'top_speed'</span>: <span style=\"color: #008080; text-decoration-color: #008080; font-weight: bold\">183</span>, <span style=\"color: #008000; text-decoration-color: #008000\">'price'</span>: <span style=\"color: #008080; text-decoration-color: #008080; font-weight: bold\">130000</span>, <span style=\"color: #008000; text-decoration-color: #008000\">'italian'</span>: <span style=\"color: #00ff00; text-decoration-color: #00ff00; font-style: italic\">True</span><span style=\"font-weight: bold\">}</span>\n",
       "</pre>\n"
      ],
      "text/plain": [
       "\u001b[1m{\u001b[0m\u001b[32m'year'\u001b[0m: \u001b[1;36m1994\u001b[0m, \u001b[32m'engine'\u001b[0m: \u001b[32m'3.5L V8'\u001b[0m, \u001b[32m'horsepower'\u001b[0m: \u001b[1;36m375\u001b[0m, \u001b[32m'top_speed'\u001b[0m: \u001b[1;36m183\u001b[0m, \u001b[32m'price'\u001b[0m: \u001b[1;36m130000\u001b[0m, \u001b[32m'italian'\u001b[0m: \u001b[3;92mTrue\u001b[0m\u001b[1m}\u001b[0m\n"
      ]
     },
     "metadata": {},
     "output_type": "display_data"
    }
   ],
   "source": [
    "# Creating a populated dictionary using other data types (list of tuples) and and dict constructor\n",
    "ferrari_355 = dict([\n",
    "    ('year', 1994),\n",
    "    ('engine', '3.5L V8'),\n",
    "    ('horsepower', 375),\n",
    "    ('top_speed', 183),\n",
    "    ('price', 130000),\n",
    "    ('italian', True)\n",
    "])\n",
    "\n",
    "print(ferrari_355)"
   ]
  },
  {
   "cell_type": "markdown",
   "id": "6a3c61b9",
   "metadata": {
    "slideshow": {
     "slide_type": "slide"
    }
   },
   "source": [
    "Using the <span style='color: magenta'>**zip()**</span> function, it's possible to create populated <span style='color: blue'>**dictionaries**</span> by combining <span style='color: magenta'>**two iterables**</span>, where one iterable contains <span style='color: blue'>**keys**</span> and the other contains corresponding <span style='color: blue'>**values**</span>."
   ]
  },
  {
   "cell_type": "code",
   "execution_count": 6,
   "id": "77c19308",
   "metadata": {
    "slideshow": {
     "slide_type": "-"
    }
   },
   "outputs": [
    {
     "data": {
      "text/html": [
       "<pre style=\"white-space:pre;overflow-x:auto;line-height:normal;font-family:Menlo,'DejaVu Sans Mono',consolas,'Courier New',monospace\"><span style=\"font-weight: bold\">{</span><span style=\"color: #008000; text-decoration-color: #008000\">'year'</span>: <span style=\"color: #008080; text-decoration-color: #008080; font-weight: bold\">1994</span>, <span style=\"color: #008000; text-decoration-color: #008000\">'engine'</span>: <span style=\"color: #008000; text-decoration-color: #008000\">'3.5L V8'</span>, <span style=\"color: #008000; text-decoration-color: #008000\">'horsepower'</span>: <span style=\"color: #008080; text-decoration-color: #008080; font-weight: bold\">375</span>, <span style=\"color: #008000; text-decoration-color: #008000\">'top_speed'</span>: <span style=\"color: #008080; text-decoration-color: #008080; font-weight: bold\">183</span>, <span style=\"color: #008000; text-decoration-color: #008000\">'price'</span>: <span style=\"color: #008080; text-decoration-color: #008080; font-weight: bold\">130000</span>, <span style=\"color: #008000; text-decoration-color: #008000\">'italian'</span>: <span style=\"color: #00ff00; text-decoration-color: #00ff00; font-style: italic\">True</span><span style=\"font-weight: bold\">}</span>\n",
       "</pre>\n"
      ],
      "text/plain": [
       "\u001b[1m{\u001b[0m\u001b[32m'year'\u001b[0m: \u001b[1;36m1994\u001b[0m, \u001b[32m'engine'\u001b[0m: \u001b[32m'3.5L V8'\u001b[0m, \u001b[32m'horsepower'\u001b[0m: \u001b[1;36m375\u001b[0m, \u001b[32m'top_speed'\u001b[0m: \u001b[1;36m183\u001b[0m, \u001b[32m'price'\u001b[0m: \u001b[1;36m130000\u001b[0m, \u001b[32m'italian'\u001b[0m: \u001b[3;92mTrue\u001b[0m\u001b[1m}\u001b[0m\n"
      ]
     },
     "metadata": {},
     "output_type": "display_data"
    }
   ],
   "source": [
    "# Creating a populated dictionary using the zip() function and two iterables \n",
    "keys = ['year', 'engine', 'horsepower', 'top_speed', 'price', 'italian'] # List of keys\n",
    "values = (1994, '3.5L V8', 375, 183, 130000, True) # Tuple of values\n",
    "\n",
    "ferrari_355 = dict(zip(keys, values))\n",
    "\n",
    "print(ferrari_355)"
   ]
  },
  {
   "cell_type": "markdown",
   "id": "9dde6373",
   "metadata": {
    "slideshow": {
     "slide_type": "slide"
    }
   },
   "source": [
    "<span style='color: blue'>**Accessing Dictiontionaries**</span>\n",
    "\n",
    "There are a number of ways to access the data stored in a <span style='color: blue'>**dictionary's**</span> keys and values."
   ]
  },
  {
   "cell_type": "markdown",
   "id": "00c84f03",
   "metadata": {
    "slideshow": {
     "slide_type": "fragment"
    }
   },
   "source": [
    "Accessing a <span style='color: blue'>**dictionary**</span> using the <span style='color: magenta'>**square bracket notation**</span>, which can raise a <span style='color: magenta'>**KeyError**</span> if the specified key <span style='color: magenta'>**does not exist**</span> in the dictionary."
   ]
  },
  {
   "cell_type": "code",
   "execution_count": 7,
   "id": "0c8f78b6",
   "metadata": {
    "slideshow": {
     "slide_type": "-"
    }
   },
   "outputs": [
    {
     "data": {
      "text/html": [
       "<pre style=\"white-space:pre;overflow-x:auto;line-height:normal;font-family:Menlo,'DejaVu Sans Mono',consolas,'Courier New',monospace\">The Matrix\n",
       "</pre>\n"
      ],
      "text/plain": [
       "The Matrix\n"
      ]
     },
     "metadata": {},
     "output_type": "display_data"
    },
    {
     "data": {
      "text/html": [
       "<pre style=\"white-space:pre;overflow-x:auto;line-height:normal;font-family:Menlo,'DejaVu Sans Mono',consolas,'Courier New',monospace\"><span style=\"color: #008080; text-decoration-color: #008080; font-weight: bold\">1999</span>\n",
       "</pre>\n"
      ],
      "text/plain": [
       "\u001b[1;36m1999\u001b[0m\n"
      ]
     },
     "metadata": {},
     "output_type": "display_data"
    }
   ],
   "source": [
    "# Create a populated dictionary\n",
    "my_dict = {\n",
    "    'title': 'The Matrix', \n",
    "    'year': 1999, \n",
    "    'director': 'Lana Wachowski'\n",
    "}\n",
    "\n",
    "# Access value using key\n",
    "print(my_dict['title'])\n",
    "print(my_dict['year'])"
   ]
  },
  {
   "cell_type": "markdown",
   "id": "02c0e73b",
   "metadata": {
    "slideshow": {
     "slide_type": "slide"
    }
   },
   "source": [
    "Retrieving values from a <span style='color: blue'>**dictionary**</span> using the <span style='color: magenta'>**get()**</span> method instead of square bracket notation to handle <span style='color: magenta'>**missing keys**</span>."
   ]
  },
  {
   "cell_type": "code",
   "execution_count": 8,
   "id": "f63860ed",
   "metadata": {
    "slideshow": {
     "slide_type": "-"
    }
   },
   "outputs": [
    {
     "data": {
      "text/html": [
       "<pre style=\"white-space:pre;overflow-x:auto;line-height:normal;font-family:Menlo,'DejaVu Sans Mono',consolas,'Courier New',monospace\">The Matrix\n",
       "</pre>\n"
      ],
      "text/plain": [
       "The Matrix\n"
      ]
     },
     "metadata": {},
     "output_type": "display_data"
    },
    {
     "data": {
      "text/html": [
       "<pre style=\"white-space:pre;overflow-x:auto;line-height:normal;font-family:Menlo,'DejaVu Sans Mono',consolas,'Courier New',monospace\"><span style=\"color: #800080; text-decoration-color: #800080; font-style: italic\">None</span>\n",
       "</pre>\n"
      ],
      "text/plain": [
       "\u001b[3;35mNone\u001b[0m\n"
      ]
     },
     "metadata": {},
     "output_type": "display_data"
    }
   ],
   "source": [
    "# Create a populated dictionary\n",
    "my_dict = {\n",
    "    'title': 'The Matrix', \n",
    "    'year': 1999, \n",
    "    'director': 'Lana Wachowski'\n",
    "}\n",
    "\n",
    "# Access value using get()\n",
    "print(my_dict.get('title'))\n",
    "\n",
    "# As 'rating' is not a valid key 'None' will be returned\n",
    "print(my_dict.get('rating'))"
   ]
  },
  {
   "cell_type": "markdown",
   "id": "e46684e6",
   "metadata": {
    "slideshow": {
     "slide_type": "slide"
    }
   },
   "source": [
    "<span style='color: blue'>**Keys()**</span>, <span style='color: blue'>**values()**</span>, and <span style='color: blue'>**items()**</span> are built-in dictionary <span style='color: magenta'>**methods**</span> in Python that allow you to retrieve information about a dictionary's contents."
   ]
  },
  {
   "cell_type": "code",
   "execution_count": 9,
   "id": "92efcfff",
   "metadata": {
    "slideshow": {
     "slide_type": "-"
    }
   },
   "outputs": [
    {
     "data": {
      "text/html": [
       "<pre style=\"white-space:pre;overflow-x:auto;line-height:normal;font-family:Menlo,'DejaVu Sans Mono',consolas,'Courier New',monospace\">keys = <span style=\"color: #800080; text-decoration-color: #800080; font-weight: bold\">dict_keys</span><span style=\"font-weight: bold\">([</span><span style=\"color: #008000; text-decoration-color: #008000\">'title'</span>, <span style=\"color: #008000; text-decoration-color: #008000\">'year'</span>, <span style=\"color: #008000; text-decoration-color: #008000\">'director'</span><span style=\"font-weight: bold\">])</span>\n",
       "</pre>\n"
      ],
      "text/plain": [
       "keys = \u001b[1;35mdict_keys\u001b[0m\u001b[1m(\u001b[0m\u001b[1m[\u001b[0m\u001b[32m'title'\u001b[0m, \u001b[32m'year'\u001b[0m, \u001b[32m'director'\u001b[0m\u001b[1m]\u001b[0m\u001b[1m)\u001b[0m\n"
      ]
     },
     "metadata": {},
     "output_type": "display_data"
    },
    {
     "data": {
      "text/html": [
       "<pre style=\"white-space:pre;overflow-x:auto;line-height:normal;font-family:Menlo,'DejaVu Sans Mono',consolas,'Courier New',monospace\">values = <span style=\"color: #800080; text-decoration-color: #800080; font-weight: bold\">dict_values</span><span style=\"font-weight: bold\">([</span><span style=\"color: #008000; text-decoration-color: #008000\">'The Matrix'</span>, <span style=\"color: #008080; text-decoration-color: #008080; font-weight: bold\">1999</span>, <span style=\"color: #008000; text-decoration-color: #008000\">'Lana Wachowski'</span><span style=\"font-weight: bold\">])</span>\n",
       "</pre>\n"
      ],
      "text/plain": [
       "values = \u001b[1;35mdict_values\u001b[0m\u001b[1m(\u001b[0m\u001b[1m[\u001b[0m\u001b[32m'The Matrix'\u001b[0m, \u001b[1;36m1999\u001b[0m, \u001b[32m'Lana Wachowski'\u001b[0m\u001b[1m]\u001b[0m\u001b[1m)\u001b[0m\n"
      ]
     },
     "metadata": {},
     "output_type": "display_data"
    },
    {
     "data": {
      "text/html": [
       "<pre style=\"white-space:pre;overflow-x:auto;line-height:normal;font-family:Menlo,'DejaVu Sans Mono',consolas,'Courier New',monospace\">items = <span style=\"color: #800080; text-decoration-color: #800080; font-weight: bold\">dict_items</span><span style=\"font-weight: bold\">([(</span><span style=\"color: #008000; text-decoration-color: #008000\">'title'</span>, <span style=\"color: #008000; text-decoration-color: #008000\">'The Matrix'</span><span style=\"font-weight: bold\">)</span>, <span style=\"font-weight: bold\">(</span><span style=\"color: #008000; text-decoration-color: #008000\">'year'</span>, <span style=\"color: #008080; text-decoration-color: #008080; font-weight: bold\">1999</span><span style=\"font-weight: bold\">)</span>, <span style=\"font-weight: bold\">(</span><span style=\"color: #008000; text-decoration-color: #008000\">'director'</span>, <span style=\"color: #008000; text-decoration-color: #008000\">'Lana Wachowski'</span><span style=\"font-weight: bold\">)])</span>\n",
       "</pre>\n"
      ],
      "text/plain": [
       "items = \u001b[1;35mdict_items\u001b[0m\u001b[1m(\u001b[0m\u001b[1m[\u001b[0m\u001b[1m(\u001b[0m\u001b[32m'title'\u001b[0m, \u001b[32m'The Matrix'\u001b[0m\u001b[1m)\u001b[0m, \u001b[1m(\u001b[0m\u001b[32m'year'\u001b[0m, \u001b[1;36m1999\u001b[0m\u001b[1m)\u001b[0m, \u001b[1m(\u001b[0m\u001b[32m'director'\u001b[0m, \u001b[32m'Lana Wachowski'\u001b[0m\u001b[1m)\u001b[0m\u001b[1m]\u001b[0m\u001b[1m)\u001b[0m\n"
      ]
     },
     "metadata": {},
     "output_type": "display_data"
    }
   ],
   "source": [
    "# Create a populated dictionary\n",
    "my_dict = {\n",
    "    'title': 'The Matrix', \n",
    "    'year': 1999, \n",
    "    'director': 'Lana Wachowski'\n",
    "}\n",
    "\n",
    "# Access keys using .keys() method\n",
    "keys = my_dict.keys()\n",
    "print(f'{keys = }')\n",
    "\n",
    "# Access values using .values() method\n",
    "values = my_dict.values()\n",
    "print(f'{values = }')\n",
    "\n",
    "# Access key-value pairs using .items() method\n",
    "items = my_dict.items()\n",
    "print(f'{items = }')"
   ]
  },
  {
   "cell_type": "markdown",
   "id": "f83bcb17",
   "metadata": {
    "slideshow": {
     "slide_type": "slide"
    }
   },
   "source": [
    "The objects returned by the <span style='color: blue'>**keys()**</span>, <span style='color: blue'>**values()**</span>, and <span style='color: blue'>**items()**</span> methods in Python are <span style='color: magenta'>**iterable**</span>, which means you can access their contents <span style='color: magenta'>**one at a time**</span> using <span style='color: magenta'>**loops**</span>."
   ]
  },
  {
   "cell_type": "code",
   "execution_count": 10,
   "id": "9934dba6",
   "metadata": {
    "slideshow": {
     "slide_type": "-"
    }
   },
   "outputs": [
    {
     "data": {
      "text/html": [
       "<pre style=\"white-space:pre;overflow-x:auto;line-height:normal;font-family:Menlo,'DejaVu Sans Mono',consolas,'Courier New',monospace\">key = <span style=\"color: #008000; text-decoration-color: #008000\">'title'</span>, value = <span style=\"color: #008000; text-decoration-color: #008000\">'The Matrix'</span>\n",
       "</pre>\n"
      ],
      "text/plain": [
       "key = \u001b[32m'title'\u001b[0m, value = \u001b[32m'The Matrix'\u001b[0m\n"
      ]
     },
     "metadata": {},
     "output_type": "display_data"
    },
    {
     "data": {
      "text/html": [
       "<pre style=\"white-space:pre;overflow-x:auto;line-height:normal;font-family:Menlo,'DejaVu Sans Mono',consolas,'Courier New',monospace\">key = <span style=\"color: #008000; text-decoration-color: #008000\">'year'</span>, value = <span style=\"color: #008080; text-decoration-color: #008080; font-weight: bold\">1999</span>\n",
       "</pre>\n"
      ],
      "text/plain": [
       "key = \u001b[32m'year'\u001b[0m, value = \u001b[1;36m1999\u001b[0m\n"
      ]
     },
     "metadata": {},
     "output_type": "display_data"
    },
    {
     "data": {
      "text/html": [
       "<pre style=\"white-space:pre;overflow-x:auto;line-height:normal;font-family:Menlo,'DejaVu Sans Mono',consolas,'Courier New',monospace\">key = <span style=\"color: #008000; text-decoration-color: #008000\">'director'</span>, value = <span style=\"color: #008000; text-decoration-color: #008000\">'Lana Wachowski'</span>\n",
       "</pre>\n"
      ],
      "text/plain": [
       "key = \u001b[32m'director'\u001b[0m, value = \u001b[32m'Lana Wachowski'\u001b[0m\n"
      ]
     },
     "metadata": {},
     "output_type": "display_data"
    }
   ],
   "source": [
    "for key, value in my_dict.items():\n",
    "    print(f'{key = }, {value = }')"
   ]
  },
  {
   "cell_type": "markdown",
   "id": "6cdd5752",
   "metadata": {
    "slideshow": {
     "slide_type": "slide"
    }
   },
   "source": [
    "To <span style='color: magenta'>**navigate**</span> a <span style='color: blue'>**nested dictionary**</span> that contains <span style='color: blue'>**lists**</span> and <span style='color: blue'>**dictionaries**</span>, you can use a combination of <span style='color: blue'>**keys**</span> and <span style='color: blue'>**integers**</span> in <span style='color: magenta'>**square brackets**</span> to access the values you're interested in. "
   ]
  },
  {
   "cell_type": "code",
   "execution_count": 11,
   "id": "7210cc73",
   "metadata": {
    "slideshow": {
     "slide_type": "slide"
    }
   },
   "outputs": [],
   "source": [
    "toy_story = {\n",
    "    'title': 'Toy Story',\n",
    "    'year': 1995,\n",
    "    'writers': ['Joss Whedon', 'Andrew Stanton', 'Joel Cohen', 'Alec Sokolow'],\n",
    "    'characters': {\n",
    "        'Woody': {\n",
    "            'full_name': 'Sheriff Woody Pride',\n",
    "            'occupation': 'Cowboy doll',\n",
    "            'voice_actor': 'Tom Hanks',\n",
    "            'friends': ['Buzz Lightyear', 'Bo Peep', 'Mr. Potato Head', 'Slinky Dog'],\n",
    "        }\n",
    "    }\n",
    "}"
   ]
  },
  {
   "cell_type": "code",
   "execution_count": 12,
   "id": "0af148b5",
   "metadata": {
    "slideshow": {
     "slide_type": "fragment"
    }
   },
   "outputs": [
    {
     "data": {
      "text/html": [
       "<pre style=\"white-space:pre;overflow-x:auto;line-height:normal;font-family:Menlo,'DejaVu Sans Mono',consolas,'Courier New',monospace\">title = <span style=\"color: #008000; text-decoration-color: #008000\">'Toy Story'</span>\n",
       "</pre>\n"
      ],
      "text/plain": [
       "title = \u001b[32m'Toy Story'\u001b[0m\n"
      ]
     },
     "metadata": {},
     "output_type": "display_data"
    },
    {
     "data": {
      "text/html": [
       "<pre style=\"white-space:pre;overflow-x:auto;line-height:normal;font-family:Menlo,'DejaVu Sans Mono',consolas,'Courier New',monospace\">first_writer = <span style=\"color: #008000; text-decoration-color: #008000\">'Joss Whedon'</span>\n",
       "</pre>\n"
      ],
      "text/plain": [
       "first_writer = \u001b[32m'Joss Whedon'\u001b[0m\n"
      ]
     },
     "metadata": {},
     "output_type": "display_data"
    },
    {
     "data": {
      "text/html": [
       "<pre style=\"white-space:pre;overflow-x:auto;line-height:normal;font-family:Menlo,'DejaVu Sans Mono',consolas,'Courier New',monospace\">woody_first_friend = <span style=\"color: #008000; text-decoration-color: #008000\">'Buzz Lightyear'</span>\n",
       "</pre>\n"
      ],
      "text/plain": [
       "woody_first_friend = \u001b[32m'Buzz Lightyear'\u001b[0m\n"
      ]
     },
     "metadata": {},
     "output_type": "display_data"
    }
   ],
   "source": [
    "# Access the title of the movie\n",
    "title = toy_story['title']\n",
    "print(f'{title = }')\n",
    "\n",
    "# Access the name of the first director\n",
    "first_writer = toy_story['writers'][0]\n",
    "print(f'{first_writer = }')\n",
    "\n",
    "# Access the name of the first friend of Woody\n",
    "woody_first_friend = toy_story['characters']['Woody']['friends'][0]\n",
    "print(f'{woody_first_friend = }')"
   ]
  },
  {
   "cell_type": "markdown",
   "id": "a3781f9a",
   "metadata": {
    "slideshow": {
     "slide_type": "slide"
    }
   },
   "source": [
    "The <span style='color: blue'>**setdefault()**</span> method is a <span style='color: blue'>**dictionary**</span> method that returns the <span style='color: magenta'>**value of a specified key**</span> in a <span style='color: blue'>**dictionary**</span>. If the key <span style='color: magenta'>**does not exist**</span> in the dictionary, <span style='color: blue'>**setdefault()**</span> will <span style='color: magenta'>**add the key to the dictionary**</span> and <span style='color: magenta'>**assign it the default value**</span> specified."
   ]
  },
  {
   "cell_type": "code",
   "execution_count": 13,
   "id": "0eb9a114",
   "metadata": {
    "slideshow": {
     "slide_type": "-"
    }
   },
   "outputs": [
    {
     "data": {
      "text/html": [
       "<pre style=\"white-space:pre;overflow-x:auto;line-height:normal;font-family:Menlo,'DejaVu Sans Mono',consolas,'Courier New',monospace\"><span style=\"color: #008080; text-decoration-color: #008080; font-weight: bold\">750</span>\n",
       "</pre>\n"
      ],
      "text/plain": [
       "\u001b[1;36m750\u001b[0m\n"
      ]
     },
     "metadata": {},
     "output_type": "display_data"
    },
    {
     "data": {
      "text/html": [
       "<pre style=\"white-space:pre;overflow-x:auto;line-height:normal;font-family:Menlo,'DejaVu Sans Mono',consolas,'Courier New',monospace\"><span style=\"font-weight: bold\">{</span><span style=\"color: #008000; text-decoration-color: #008000\">'Lionel Messi'</span>: <span style=\"color: #008080; text-decoration-color: #008080; font-weight: bold\">750</span>, <span style=\"color: #008000; text-decoration-color: #008000\">'Cristiano Ronaldo'</span>: <span style=\"color: #008080; text-decoration-color: #008080; font-weight: bold\">780</span>, <span style=\"color: #008000; text-decoration-color: #008000\">'Robert Lewandowski'</span>: <span style=\"color: #008080; text-decoration-color: #008080; font-weight: bold\">391</span>, <span style=\"color: #008000; text-decoration-color: #008000\">'Neymar Jr.'</span>: <span style=\"color: #008080; text-decoration-color: #008080; font-weight: bold\">246</span>, <span style=\"color: #008000; text-decoration-color: #008000\">'Kylian Mbappe'</span>: <span style=\"color: #008080; text-decoration-color: #008080; font-weight: bold\">0</span><span style=\"font-weight: bold\">}</span>\n",
       "</pre>\n"
      ],
      "text/plain": [
       "\u001b[1m{\u001b[0m\u001b[32m'Lionel Messi'\u001b[0m: \u001b[1;36m750\u001b[0m, \u001b[32m'Cristiano Ronaldo'\u001b[0m: \u001b[1;36m780\u001b[0m, \u001b[32m'Robert Lewandowski'\u001b[0m: \u001b[1;36m391\u001b[0m, \u001b[32m'Neymar Jr.'\u001b[0m: \u001b[1;36m246\u001b[0m, \u001b[32m'Kylian Mbappe'\u001b[0m: \u001b[1;36m0\u001b[0m\u001b[1m}\u001b[0m\n"
      ]
     },
     "metadata": {},
     "output_type": "display_data"
    }
   ],
   "source": [
    "# Create a populated list\n",
    "soccer_players = {\n",
    "    \"Lionel Messi\": 750,\n",
    "    \"Cristiano Ronaldo\": 780,\n",
    "    \"Robert Lewandowski\": 391,\n",
    "    \"Neymar Jr.\": 246\n",
    "}\n",
    "\n",
    "\n",
    "# # Set the number of default goals for new players\n",
    "default_goals = 0\n",
    "\n",
    "# Call .setdefault() on a player that exists\n",
    "print(soccer_players.setdefault('Lionel Messi', default_goals))\n",
    "\n",
    "# Use .setdefault() on a new player\n",
    "soccer_players.setdefault('Kylian Mbappe', default_goals)\n",
    "\n",
    "print(soccer_players)\n"
   ]
  },
  {
   "cell_type": "markdown",
   "id": "cb58a12a",
   "metadata": {
    "slideshow": {
     "slide_type": "slide"
    }
   },
   "source": [
    "<span style='color: blue'>**Modifying Key Value Pairs**</span>\n",
    "\n",
    "To modify a <span style='color: blue'>**dictionary**</span>, you can change the <span style='color: magenta'>**value**</span> associated with an existing <span style='color: magenta'>**key**</span>, or add a <span style='color: magenta'>**new key-value pair**</span> to the dictionary."
   ]
  },
  {
   "cell_type": "markdown",
   "id": "b778ecc2",
   "metadata": {
    "slideshow": {
     "slide_type": "slide"
    }
   },
   "source": [
    "To use the <span style='color: magenta'>**square bracket notation**</span> to assign a <span style='color: magenta'>**new value**</span> to an <span style='color: magenta'>**existing key**</span>, you can simply reference the key and assign a new value to it. "
   ]
  },
  {
   "cell_type": "code",
   "execution_count": 14,
   "id": "359de3f1",
   "metadata": {
    "slideshow": {
     "slide_type": "-"
    }
   },
   "outputs": [
    {
     "data": {
      "text/html": [
       "<pre style=\"white-space:pre;overflow-x:auto;line-height:normal;font-family:Menlo,'DejaVu Sans Mono',consolas,'Courier New',monospace\"><span style=\"font-weight: bold\">{</span>\n",
       "    <span style=\"color: #008000; text-decoration-color: #008000\">'name'</span>: <span style=\"color: #008000; text-decoration-color: #008000\">'Jon Snow'</span>,\n",
       "    <span style=\"color: #008000; text-decoration-color: #008000\">'house'</span>: <span style=\"color: #008000; text-decoration-color: #008000\">'Stark'</span>,\n",
       "    <span style=\"color: #008000; text-decoration-color: #008000\">'status'</span>: <span style=\"color: #008000; text-decoration-color: #008000\">'Deceased'</span>,\n",
       "    <span style=\"color: #008000; text-decoration-color: #008000\">'titles'</span>: <span style=\"font-weight: bold\">[</span><span style=\"color: #008000; text-decoration-color: #008000\">'King of the North'</span>, <span style=\"color: #008000; text-decoration-color: #008000\">\"Lord Commander of the Night's Watch\"</span><span style=\"font-weight: bold\">]</span>\n",
       "<span style=\"font-weight: bold\">}</span>\n",
       "</pre>\n"
      ],
      "text/plain": [
       "\u001b[1m{\u001b[0m\n",
       "    \u001b[32m'name'\u001b[0m: \u001b[32m'Jon Snow'\u001b[0m,\n",
       "    \u001b[32m'house'\u001b[0m: \u001b[32m'Stark'\u001b[0m,\n",
       "    \u001b[32m'status'\u001b[0m: \u001b[32m'Deceased'\u001b[0m,\n",
       "    \u001b[32m'titles'\u001b[0m: \u001b[1m[\u001b[0m\u001b[32m'King of the North'\u001b[0m, \u001b[32m\"Lord Commander of the Night's Watch\"\u001b[0m\u001b[1m]\u001b[0m\n",
       "\u001b[1m}\u001b[0m\n"
      ]
     },
     "metadata": {},
     "output_type": "display_data"
    }
   ],
   "source": [
    "# Create a new populated dictionary\n",
    "jon_snow_dict = {\n",
    "    'name': 'Jon Snow',\n",
    "    'house': 'Stark',\n",
    "    'status': 'Alive',\n",
    "    'titles': ['King of the North', 'Lord Commander of the Night\\'s Watch']\n",
    "}\n",
    "\n",
    "# Change the status value using square bracket notation\n",
    "jon_snow_dict['status'] = 'Deceased'\n",
    "\n",
    "print(jon_snow_dict)"
   ]
  },
  {
   "cell_type": "code",
   "execution_count": 15,
   "id": "ad640875",
   "metadata": {
    "slideshow": {
     "slide_type": "slide"
    }
   },
   "outputs": [
    {
     "data": {
      "text/html": [
       "<pre style=\"white-space:pre;overflow-x:auto;line-height:normal;font-family:Menlo,'DejaVu Sans Mono',consolas,'Courier New',monospace\"><span style=\"font-weight: bold\">{</span><span style=\"color: #008000; text-decoration-color: #008000\">'name'</span>: <span style=\"color: #008000; text-decoration-color: #008000\">'Jon Snow'</span>, <span style=\"color: #008000; text-decoration-color: #008000\">'house'</span>: <span style=\"color: #008000; text-decoration-color: #008000\">'Stark'</span>, <span style=\"color: #008000; text-decoration-color: #008000\">'status'</span>: <span style=\"color: #008000; text-decoration-color: #008000\">'Deceased'</span>, <span style=\"color: #008000; text-decoration-color: #008000\">'titles'</span>: <span style=\"font-weight: bold\">[</span><span style=\"color: #008000; text-decoration-color: #008000\">\"Lord Commander of the Night's Watch\"</span><span style=\"font-weight: bold\">]}</span>\n",
       "</pre>\n"
      ],
      "text/plain": [
       "\u001b[1m{\u001b[0m\u001b[32m'name'\u001b[0m: \u001b[32m'Jon Snow'\u001b[0m, \u001b[32m'house'\u001b[0m: \u001b[32m'Stark'\u001b[0m, \u001b[32m'status'\u001b[0m: \u001b[32m'Deceased'\u001b[0m, \u001b[32m'titles'\u001b[0m: \u001b[1m[\u001b[0m\u001b[32m\"Lord Commander of the Night's Watch\"\u001b[0m\u001b[1m]\u001b[0m\u001b[1m}\u001b[0m\n"
      ]
     },
     "metadata": {},
     "output_type": "display_data"
    }
   ],
   "source": [
    "# Create a new populated dictionary\n",
    "jon_snow_dict = {\n",
    "    'name': 'Jon Snow',\n",
    "    'house': 'Stark',\n",
    "    'status': 'Deceased',\n",
    "    'titles': ['King of the North', 'Lord Commander of the Night\\'s Watch']\n",
    "}\n",
    "\n",
    "# Modify a list stored in the dictionary, pop index of title name\n",
    "remove_title = jon_snow_dict['titles'].index('King of the North')\n",
    "jon_snow_dict['titles'].pop(remove_title)\n",
    "\n",
    "# print(jon_snow_dict['titles'])\n",
    "print(jon_snow_dict)"
   ]
  },
  {
   "cell_type": "markdown",
   "id": "1643772a",
   "metadata": {
    "slideshow": {
     "slide_type": "slide"
    }
   },
   "source": [
    "<span style='color: blue'>**Adding & Removing Data**</span>\n",
    "\n",
    "There are a number of way to <span style='color: magenta'>**add**</span> and <span style='color: magenta'>**remove**</span> data from Python <span style='color: blue'>**dictionaries**</span>."
   ]
  },
  {
   "cell_type": "markdown",
   "id": "f6eddab0",
   "metadata": {
    "slideshow": {
     "slide_type": "fragment"
    }
   },
   "source": [
    "We can add a <span style='color: magenta'>**new key-value pair**</span> to the dictionary using the <span style='color: magenta'>**square bracket notation**</span> as follows:"
   ]
  },
  {
   "cell_type": "code",
   "execution_count": 16,
   "id": "9c159a18",
   "metadata": {
    "slideshow": {
     "slide_type": "-"
    }
   },
   "outputs": [
    {
     "data": {
      "text/html": [
       "<pre style=\"white-space:pre;overflow-x:auto;line-height:normal;font-family:Menlo,'DejaVu Sans Mono',consolas,'Courier New',monospace\"><span style=\"font-weight: bold\">{</span>\n",
       "    <span style=\"color: #008000; text-decoration-color: #008000\">'name'</span>: <span style=\"color: #008000; text-decoration-color: #008000\">'Jon Snow'</span>,\n",
       "    <span style=\"color: #008000; text-decoration-color: #008000\">'house'</span>: <span style=\"color: #008000; text-decoration-color: #008000\">'Stark'</span>,\n",
       "    <span style=\"color: #008000; text-decoration-color: #008000\">'status'</span>: <span style=\"color: #008000; text-decoration-color: #008000\">'Deceased'</span>,\n",
       "    <span style=\"color: #008000; text-decoration-color: #008000\">'titles'</span>: <span style=\"font-weight: bold\">[</span><span style=\"color: #008000; text-decoration-color: #008000\">\"Lord Commander of the Night's Watch\"</span><span style=\"font-weight: bold\">]</span>,\n",
       "    <span style=\"color: #008000; text-decoration-color: #008000\">'siblings'</span>: <span style=\"font-weight: bold\">[</span><span style=\"color: #008000; text-decoration-color: #008000\">'Robb Stark'</span>, <span style=\"color: #008000; text-decoration-color: #008000\">'Sansa Stark'</span>, <span style=\"color: #008000; text-decoration-color: #008000\">'Arya Stark'</span><span style=\"font-weight: bold\">]</span>\n",
       "<span style=\"font-weight: bold\">}</span>\n",
       "</pre>\n"
      ],
      "text/plain": [
       "\u001b[1m{\u001b[0m\n",
       "    \u001b[32m'name'\u001b[0m: \u001b[32m'Jon Snow'\u001b[0m,\n",
       "    \u001b[32m'house'\u001b[0m: \u001b[32m'Stark'\u001b[0m,\n",
       "    \u001b[32m'status'\u001b[0m: \u001b[32m'Deceased'\u001b[0m,\n",
       "    \u001b[32m'titles'\u001b[0m: \u001b[1m[\u001b[0m\u001b[32m\"Lord Commander of the Night's Watch\"\u001b[0m\u001b[1m]\u001b[0m,\n",
       "    \u001b[32m'siblings'\u001b[0m: \u001b[1m[\u001b[0m\u001b[32m'Robb Stark'\u001b[0m, \u001b[32m'Sansa Stark'\u001b[0m, \u001b[32m'Arya Stark'\u001b[0m\u001b[1m]\u001b[0m\n",
       "\u001b[1m}\u001b[0m\n"
      ]
     },
     "metadata": {},
     "output_type": "display_data"
    }
   ],
   "source": [
    "# Create a new populated dictionary\n",
    "jon_snow_dict = {\n",
    "    'name': 'Jon Snow',\n",
    "    'house': 'Stark',\n",
    "    'status': 'Deceased',\n",
    "    'titles': ['Lord Commander of the Night\\'s Watch']\n",
    "}\n",
    "\n",
    "# Create a new key value pair\n",
    "jon_snow_dict['siblings'] = ['Robb Stark', 'Sansa Stark', 'Arya Stark']\n",
    "\n",
    "print(jon_snow_dict)"
   ]
  },
  {
   "cell_type": "markdown",
   "id": "17c03be2",
   "metadata": {
    "slideshow": {
     "slide_type": "slide"
    }
   },
   "source": [
    "You can also add <span style='color: magenta'>**multiple key-value pairs**</span> to a dictionary <span style='color: magenta'>**at once**</span> by using the <span style='color: blue'>**update()**</span> method. The <span style='color: blue'>**update()**</span> method takes a <span style='color: blue'>**dictionary**</span> as an argument and adds its key-value pairs to the dictionary."
   ]
  },
  {
   "cell_type": "code",
   "execution_count": 17,
   "id": "247f2f3b",
   "metadata": {
    "slideshow": {
     "slide_type": "-"
    }
   },
   "outputs": [
    {
     "data": {
      "text/html": [
       "<pre style=\"white-space:pre;overflow-x:auto;line-height:normal;font-family:Menlo,'DejaVu Sans Mono',consolas,'Courier New',monospace\"><span style=\"font-weight: bold\">{</span>\n",
       "    <span style=\"color: #008000; text-decoration-color: #008000\">'name'</span>: <span style=\"color: #008000; text-decoration-color: #008000\">'Jon Snow'</span>,\n",
       "    <span style=\"color: #008000; text-decoration-color: #008000\">'house'</span>: <span style=\"color: #008000; text-decoration-color: #008000\">'Stark'</span>,\n",
       "    <span style=\"color: #008000; text-decoration-color: #008000\">'status'</span>: <span style=\"color: #008000; text-decoration-color: #008000\">'Deceased'</span>,\n",
       "    <span style=\"color: #008000; text-decoration-color: #008000\">'siblings'</span>: <span style=\"font-weight: bold\">[</span><span style=\"color: #008000; text-decoration-color: #008000\">'Robb Stark'</span>, <span style=\"color: #008000; text-decoration-color: #008000\">'Sansa Stark'</span>, <span style=\"color: #008000; text-decoration-color: #008000\">'Arya Stark'</span><span style=\"font-weight: bold\">]</span>,\n",
       "    <span style=\"color: #008000; text-decoration-color: #008000\">'titles'</span>: <span style=\"font-weight: bold\">[</span><span style=\"color: #008000; text-decoration-color: #008000\">\"Lord Commander of the Night's Watch\"</span><span style=\"font-weight: bold\">]</span>,\n",
       "    <span style=\"color: #008000; text-decoration-color: #008000\">'first_appearance'</span>: <span style=\"color: #008000; text-decoration-color: #008000\">'S01E01'</span>\n",
       "<span style=\"font-weight: bold\">}</span>\n",
       "</pre>\n"
      ],
      "text/plain": [
       "\u001b[1m{\u001b[0m\n",
       "    \u001b[32m'name'\u001b[0m: \u001b[32m'Jon Snow'\u001b[0m,\n",
       "    \u001b[32m'house'\u001b[0m: \u001b[32m'Stark'\u001b[0m,\n",
       "    \u001b[32m'status'\u001b[0m: \u001b[32m'Deceased'\u001b[0m,\n",
       "    \u001b[32m'siblings'\u001b[0m: \u001b[1m[\u001b[0m\u001b[32m'Robb Stark'\u001b[0m, \u001b[32m'Sansa Stark'\u001b[0m, \u001b[32m'Arya Stark'\u001b[0m\u001b[1m]\u001b[0m,\n",
       "    \u001b[32m'titles'\u001b[0m: \u001b[1m[\u001b[0m\u001b[32m\"Lord Commander of the Night's Watch\"\u001b[0m\u001b[1m]\u001b[0m,\n",
       "    \u001b[32m'first_appearance'\u001b[0m: \u001b[32m'S01E01'\u001b[0m\n",
       "\u001b[1m}\u001b[0m\n"
      ]
     },
     "metadata": {},
     "output_type": "display_data"
    }
   ],
   "source": [
    "# Create the dictionary\n",
    "jon_snow_dict = {\n",
    "    'name': 'Jon Snow',\n",
    "    'house': 'Stark',\n",
    "    'status': 'Deceased',\n",
    "    'siblings': ['Robb Stark', 'Sansa Stark', 'Arya Stark'],\n",
    "    'titles': [\"Lord Commander of the Night's Watch\"]\n",
    "}\n",
    "\n",
    "# Create a second dictionary to add the the initial dictionary\n",
    "new_data = {\n",
    "    'first_appearance': 'S01E01'\n",
    "}\n",
    "\n",
    "# Update the initial dictionary\n",
    "jon_snow_dict.update(new_data)\n",
    "\n",
    "print(jon_snow_dict)"
   ]
  },
  {
   "cell_type": "markdown",
   "id": "391fb7d6",
   "metadata": {
    "slideshow": {
     "slide_type": "slide"
    }
   },
   "source": [
    "You can <span style='color: magenta'>**remove**</span> a <span style='color: magenta'>**key-value pair**</span> from a <span style='color: blue'>**dictionary**</span> using the <span style='color: magenta'>**del**</span> statement. <span style='color: magenta'>**Note**</span>: This operation with raise a <span style='color: magenta'>**KeyError**</span> if the key is not present."
   ]
  },
  {
   "cell_type": "code",
   "execution_count": 18,
   "id": "cdd70042",
   "metadata": {
    "slideshow": {
     "slide_type": "-"
    }
   },
   "outputs": [
    {
     "data": {
      "text/html": [
       "<pre style=\"white-space:pre;overflow-x:auto;line-height:normal;font-family:Menlo,'DejaVu Sans Mono',consolas,'Courier New',monospace\"><span style=\"font-weight: bold\">{</span>\n",
       "    <span style=\"color: #008000; text-decoration-color: #008000\">'name'</span>: <span style=\"color: #008000; text-decoration-color: #008000\">'Jon Snow'</span>,\n",
       "    <span style=\"color: #008000; text-decoration-color: #008000\">'status'</span>: <span style=\"color: #008000; text-decoration-color: #008000\">'Deceased'</span>,\n",
       "    <span style=\"color: #008000; text-decoration-color: #008000\">'siblings'</span>: <span style=\"font-weight: bold\">[</span><span style=\"color: #008000; text-decoration-color: #008000\">'Robb Stark'</span>, <span style=\"color: #008000; text-decoration-color: #008000\">'Sansa Stark'</span>, <span style=\"color: #008000; text-decoration-color: #008000\">'Arya Stark'</span><span style=\"font-weight: bold\">]</span>,\n",
       "    <span style=\"color: #008000; text-decoration-color: #008000\">'titles'</span>: <span style=\"font-weight: bold\">[</span><span style=\"color: #008000; text-decoration-color: #008000\">\"Lord Commander of the Night's Watch\"</span><span style=\"font-weight: bold\">]</span>,\n",
       "    <span style=\"color: #008000; text-decoration-color: #008000\">'first_appearance'</span>: <span style=\"color: #008000; text-decoration-color: #008000\">'S01E01'</span>\n",
       "<span style=\"font-weight: bold\">}</span>\n",
       "</pre>\n"
      ],
      "text/plain": [
       "\u001b[1m{\u001b[0m\n",
       "    \u001b[32m'name'\u001b[0m: \u001b[32m'Jon Snow'\u001b[0m,\n",
       "    \u001b[32m'status'\u001b[0m: \u001b[32m'Deceased'\u001b[0m,\n",
       "    \u001b[32m'siblings'\u001b[0m: \u001b[1m[\u001b[0m\u001b[32m'Robb Stark'\u001b[0m, \u001b[32m'Sansa Stark'\u001b[0m, \u001b[32m'Arya Stark'\u001b[0m\u001b[1m]\u001b[0m,\n",
       "    \u001b[32m'titles'\u001b[0m: \u001b[1m[\u001b[0m\u001b[32m\"Lord Commander of the Night's Watch\"\u001b[0m\u001b[1m]\u001b[0m,\n",
       "    \u001b[32m'first_appearance'\u001b[0m: \u001b[32m'S01E01'\u001b[0m\n",
       "\u001b[1m}\u001b[0m\n"
      ]
     },
     "metadata": {},
     "output_type": "display_data"
    }
   ],
   "source": [
    "# Create the dictionary\n",
    "jon_snow_dict = {\n",
    "    'name': 'Jon Snow',\n",
    "    'house': 'Stark',\n",
    "    'status': 'Deceased',\n",
    "    'siblings': ['Robb Stark', 'Sansa Stark', 'Arya Stark'],\n",
    "    'titles': [\"Lord Commander of the Night's Watch\"],\n",
    "    'first_appearance': 'S01E01'\n",
    "}\n",
    "\n",
    "# Delete a key-value pair using del statement\n",
    "del jon_snow_dict['house']\n",
    "\n",
    "print(jon_snow_dict)"
   ]
  },
  {
   "cell_type": "markdown",
   "id": "231d9685",
   "metadata": {
    "slideshow": {
     "slide_type": "slide"
    }
   },
   "source": [
    "The <span style='color: blue'>**pop()**</span> method is a built-in method that allows you to <span style='color: magenta'>**remove a key-value pair**</span> from a <span style='color: blue'>**dictionary**</span> and <span style='color: magenta'>**return the corresponding value**</span>. <span style='color: magenta'>**Note**</span>: also returns a <span style='color: magenta'>**KeyError**</span> if the key is not preset."
   ]
  },
  {
   "cell_type": "code",
   "execution_count": 19,
   "id": "7a5346b5",
   "metadata": {
    "slideshow": {
     "slide_type": "-"
    }
   },
   "outputs": [
    {
     "data": {
      "text/html": [
       "<pre style=\"white-space:pre;overflow-x:auto;line-height:normal;font-family:Menlo,'DejaVu Sans Mono',consolas,'Courier New',monospace\">pop_value = <span style=\"color: #008000; text-decoration-color: #008000\">'Jon Snow'</span>\n",
       "</pre>\n"
      ],
      "text/plain": [
       "pop_value = \u001b[32m'Jon Snow'\u001b[0m\n"
      ]
     },
     "metadata": {},
     "output_type": "display_data"
    },
    {
     "data": {
      "text/html": [
       "<pre style=\"white-space:pre;overflow-x:auto;line-height:normal;font-family:Menlo,'DejaVu Sans Mono',consolas,'Courier New',monospace\">jon_snow_dict = <span style=\"font-weight: bold\">{</span><span style=\"color: #008000; text-decoration-color: #008000\">'status'</span>: <span style=\"color: #008000; text-decoration-color: #008000\">'Deceased'</span>, <span style=\"color: #008000; text-decoration-color: #008000\">'siblings'</span>: <span style=\"font-weight: bold\">[</span><span style=\"color: #008000; text-decoration-color: #008000\">'Robb Stark'</span>, <span style=\"color: #008000; text-decoration-color: #008000\">'Sansa Stark'</span>, <span style=\"color: #008000; text-decoration-color: #008000\">'Arya Stark'</span><span style=\"font-weight: bold\">]</span>, <span style=\"color: #008000; text-decoration-color: #008000\">'titles'</span>: <span style=\"font-weight: bold\">[</span><span style=\"color: #008000; text-decoration-color: #008000\">\"Lord </span>\n",
       "<span style=\"color: #008000; text-decoration-color: #008000\">Commander of the Night's Watch\"</span><span style=\"font-weight: bold\">]</span>, <span style=\"color: #008000; text-decoration-color: #008000\">'first_appearance'</span>: <span style=\"color: #008000; text-decoration-color: #008000\">'S01E01'</span><span style=\"font-weight: bold\">}</span>\n",
       "</pre>\n"
      ],
      "text/plain": [
       "jon_snow_dict = \u001b[1m{\u001b[0m\u001b[32m'status'\u001b[0m: \u001b[32m'Deceased'\u001b[0m, \u001b[32m'siblings'\u001b[0m: \u001b[1m[\u001b[0m\u001b[32m'Robb Stark'\u001b[0m, \u001b[32m'Sansa Stark'\u001b[0m, \u001b[32m'Arya Stark'\u001b[0m\u001b[1m]\u001b[0m, \u001b[32m'titles'\u001b[0m: \u001b[1m[\u001b[0m\u001b[32m\"Lord \u001b[0m\n",
       "\u001b[32mCommander of the Night's Watch\"\u001b[0m\u001b[1m]\u001b[0m, \u001b[32m'first_appearance'\u001b[0m: \u001b[32m'S01E01'\u001b[0m\u001b[1m}\u001b[0m\n"
      ]
     },
     "metadata": {},
     "output_type": "display_data"
    }
   ],
   "source": [
    "# Create the dictionary\n",
    "jon_snow_dict = {\n",
    "    'name': 'Jon Snow',\n",
    "    'status': 'Deceased',\n",
    "    'siblings': ['Robb Stark', 'Sansa Stark', 'Arya Stark'],\n",
    "    'titles': [\"Lord Commander of the Night's Watch\"],\n",
    "    'first_appearance': 'S01E01'\n",
    "}\n",
    "\n",
    "# Use pop() method to remove a key-value pair and return the value\n",
    "pop_value = jon_snow_dict.pop('name')\n",
    "\n",
    "print(f'{pop_value = }')\n",
    "print(f'{jon_snow_dict = }')"
   ]
  },
  {
   "cell_type": "markdown",
   "id": "3f21fe59",
   "metadata": {
    "slideshow": {
     "slide_type": "slide"
    }
   },
   "source": [
    "The <span style='color: blue'>**popitem()**</span> method <span style='color: magenta'>**removes**</span> and <span style='color: magenta'>**returns**</span> the <span style='color: magenta'>**last key-value pair added**</span> to a dictionary as a <span style='color: blue'>**tuple**</span>."
   ]
  },
  {
   "cell_type": "code",
   "execution_count": 20,
   "id": "471753e0",
   "metadata": {
    "slideshow": {
     "slide_type": "-"
    }
   },
   "outputs": [
    {
     "data": {
      "text/html": [
       "<pre style=\"white-space:pre;overflow-x:auto;line-height:normal;font-family:Menlo,'DejaVu Sans Mono',consolas,'Courier New',monospace\">last_added = <span style=\"font-weight: bold\">(</span><span style=\"color: #008000; text-decoration-color: #008000\">'weapon'</span>, <span style=\"color: #008000; text-decoration-color: #008000\">'Longclaw'</span><span style=\"font-weight: bold\">)</span>\n",
       "</pre>\n"
      ],
      "text/plain": [
       "last_added = \u001b[1m(\u001b[0m\u001b[32m'weapon'\u001b[0m, \u001b[32m'Longclaw'\u001b[0m\u001b[1m)\u001b[0m\n"
      ]
     },
     "metadata": {},
     "output_type": "display_data"
    }
   ],
   "source": [
    "# Create the dictionary\n",
    "jon_snow_dict = {\n",
    "    'name': 'Jon Snow',\n",
    "    'status': 'Deceased',\n",
    "    'siblings': ['Robb Stark', 'Sansa Stark', 'Arya Stark'],\n",
    "    'titles': [\"Lord Commander of the Night's Watch\"],\n",
    "    'first_appearance': 'S01E01'\n",
    "}\n",
    "\n",
    "# Add a value to the dictionary\n",
    "jon_snow_dict['weapon'] = 'Longclaw'\n",
    "\n",
    "# Use .popitem() to remove and return last add value\n",
    "last_added = jon_snow_dict.popitem()\n",
    "\n",
    "print(f'{last_added = }')"
   ]
  },
  {
   "cell_type": "markdown",
   "id": "608fb508",
   "metadata": {
    "slideshow": {
     "slide_type": "slide"
    }
   },
   "source": [
    "The <span style='color: blue'>**clear()**</span> method removes <span style='color: magenta'>**all key-value pairs**</span>."
   ]
  },
  {
   "cell_type": "code",
   "execution_count": 21,
   "id": "8a9e879a",
   "metadata": {
    "slideshow": {
     "slide_type": "-"
    }
   },
   "outputs": [
    {
     "data": {
      "text/html": [
       "<pre style=\"white-space:pre;overflow-x:auto;line-height:normal;font-family:Menlo,'DejaVu Sans Mono',consolas,'Courier New',monospace\">jon_snow_dict = <span style=\"font-weight: bold\">{}</span>\n",
       "</pre>\n"
      ],
      "text/plain": [
       "jon_snow_dict = \u001b[1m{\u001b[0m\u001b[1m}\u001b[0m\n"
      ]
     },
     "metadata": {},
     "output_type": "display_data"
    }
   ],
   "source": [
    "# Create the dictionary\n",
    "jon_snow_dict = {\n",
    "    'name': 'Jon Snow',\n",
    "    'status': 'Deceased',\n",
    "    'siblings': ['Robb Stark', 'Sansa Stark', 'Arya Stark'],\n",
    "    'titles': [\"Lord Commander of the Night's Watch\"],\n",
    "    'first_appearance': 'S01E01'\n",
    "}\n",
    "\n",
    "# Clear the dictionary\n",
    "jon_snow_dict.clear()\n",
    "\n",
    "print(f'{jon_snow_dict = }')"
   ]
  },
  {
   "cell_type": "markdown",
   "id": "f0b8e7f2",
   "metadata": {
    "slideshow": {
     "slide_type": "slide"
    }
   },
   "source": [
    "<span style='color: blue'>**Keywords & Functions**</span>\n",
    "\n",
    "In Python, you can use the <span style='color: blue'>**in**</span> keyword to check if a <span style='color: magenta'>**key exists in a dictionary**</span>. A <span style='color: magenta'>**Boolean**</span> value is returned."
   ]
  },
  {
   "cell_type": "code",
   "execution_count": 22,
   "id": "5baf546c",
   "metadata": {
    "slideshow": {
     "slide_type": "-"
    }
   },
   "outputs": [
    {
     "data": {
      "text/html": [
       "<pre style=\"white-space:pre;overflow-x:auto;line-height:normal;font-family:Menlo,'DejaVu Sans Mono',consolas,'Courier New',monospace\"><span style=\"color: #00ff00; text-decoration-color: #00ff00; font-style: italic\">True</span>\n",
       "</pre>\n"
      ],
      "text/plain": [
       "\u001b[3;92mTrue\u001b[0m\n"
      ]
     },
     "metadata": {},
     "output_type": "display_data"
    },
    {
     "data": {
      "text/html": [
       "<pre style=\"white-space:pre;overflow-x:auto;line-height:normal;font-family:Menlo,'DejaVu Sans Mono',consolas,'Courier New',monospace\"><span style=\"color: #ff0000; text-decoration-color: #ff0000; font-style: italic\">False</span>\n",
       "</pre>\n"
      ],
      "text/plain": [
       "\u001b[3;91mFalse\u001b[0m\n"
      ]
     },
     "metadata": {},
     "output_type": "display_data"
    }
   ],
   "source": [
    "# Create a dictionary of movies and ratings\n",
    "movies = {\n",
    "  'The Shawshank Redemption': 9.2,\n",
    "  'The Godfather': 9.2,\n",
    "  'The Dark Knight': 9.0,\n",
    "  '12 Angry Men': 8.9\n",
    "}\n",
    "\n",
    "print('The Godfather' in movies)\n",
    "\n",
    "print('Pulp Fiction' in movies)"
   ]
  },
  {
   "cell_type": "markdown",
   "id": "ffed673f",
   "metadata": {
    "slideshow": {
     "slide_type": "fragment"
    }
   },
   "source": [
    "The keywords <span style='color: blue'>**not in**</span> can also be used to test dictionary <span style='color: magenta'>**membership**</span> in the opposite way."
   ]
  },
  {
   "cell_type": "markdown",
   "id": "01a22fd2",
   "metadata": {
    "slideshow": {
     "slide_type": "slide"
    }
   },
   "source": [
    "The built in fuction <span style='color: blue'>**len()**</span> will return the <span style='color: magenta'>**number of keys**</span> contained in the dictionary."
   ]
  },
  {
   "cell_type": "code",
   "execution_count": 23,
   "id": "e2242bdf",
   "metadata": {
    "slideshow": {
     "slide_type": "-"
    }
   },
   "outputs": [
    {
     "data": {
      "text/html": [
       "<pre style=\"white-space:pre;overflow-x:auto;line-height:normal;font-family:Menlo,'DejaVu Sans Mono',consolas,'Courier New',monospace\"><span style=\"color: #008080; text-decoration-color: #008080; font-weight: bold\">4</span>\n",
       "</pre>\n"
      ],
      "text/plain": [
       "\u001b[1;36m4\u001b[0m\n"
      ]
     },
     "metadata": {},
     "output_type": "display_data"
    }
   ],
   "source": [
    "# Create a dictionary of movies and ratings\n",
    "movies = {\n",
    "  'The Shawshank Redemption': 9.2,\n",
    "  'The Godfather': 9.2,\n",
    "  'The Dark Knight': 9.0,\n",
    "  '12 Angry Men': 8.9\n",
    "}\n",
    "\n",
    "print(len(movies))"
   ]
  },
  {
   "cell_type": "markdown",
   "id": "fbd28ae0",
   "metadata": {
    "slideshow": {
     "slide_type": "slide"
    }
   },
   "source": [
    "The <span style='color: blue'>**sorted()**</span> function on <span style='color: blue'>**dictionaries**</span> in Python returns a <span style='color: magenta'>**new sorted list of keys or key-value pairs**</span> based on a specified criteria."
   ]
  },
  {
   "cell_type": "code",
   "execution_count": 24,
   "id": "3b80fe8a",
   "metadata": {},
   "outputs": [
    {
     "data": {
      "text/html": [
       "<pre style=\"white-space:pre;overflow-x:auto;line-height:normal;font-family:Menlo,'DejaVu Sans Mono',consolas,'Courier New',monospace\"><span style=\"font-weight: bold\">[</span><span style=\"color: #008000; text-decoration-color: #008000\">'Bulbasaur'</span>, <span style=\"color: #008000; text-decoration-color: #008000\">'Charmander'</span>, <span style=\"color: #008000; text-decoration-color: #008000\">'Eevee'</span>, <span style=\"color: #008000; text-decoration-color: #008000\">'Pikachu'</span>, <span style=\"color: #008000; text-decoration-color: #008000\">'Squirtle'</span><span style=\"font-weight: bold\">]</span>\n",
       "</pre>\n"
      ],
      "text/plain": [
       "\u001b[1m[\u001b[0m\u001b[32m'Bulbasaur'\u001b[0m, \u001b[32m'Charmander'\u001b[0m, \u001b[32m'Eevee'\u001b[0m, \u001b[32m'Pikachu'\u001b[0m, \u001b[32m'Squirtle'\u001b[0m\u001b[1m]\u001b[0m\n"
      ]
     },
     "metadata": {},
     "output_type": "display_data"
    },
    {
     "data": {
      "text/html": [
       "<pre style=\"white-space:pre;overflow-x:auto;line-height:normal;font-family:Menlo,'DejaVu Sans Mono',consolas,'Courier New',monospace\"><span style=\"font-weight: bold\">[</span><span style=\"color: #008000; text-decoration-color: #008000\">'Squirtle'</span>, <span style=\"color: #008000; text-decoration-color: #008000\">'Pikachu'</span>, <span style=\"color: #008000; text-decoration-color: #008000\">'Eevee'</span>, <span style=\"color: #008000; text-decoration-color: #008000\">'Charmander'</span>, <span style=\"color: #008000; text-decoration-color: #008000\">'Bulbasaur'</span><span style=\"font-weight: bold\">]</span>\n",
       "</pre>\n"
      ],
      "text/plain": [
       "\u001b[1m[\u001b[0m\u001b[32m'Squirtle'\u001b[0m, \u001b[32m'Pikachu'\u001b[0m, \u001b[32m'Eevee'\u001b[0m, \u001b[32m'Charmander'\u001b[0m, \u001b[32m'Bulbasaur'\u001b[0m\u001b[1m]\u001b[0m\n"
      ]
     },
     "metadata": {},
     "output_type": "display_data"
    },
    {
     "data": {
      "text/html": [
       "<pre style=\"white-space:pre;overflow-x:auto;line-height:normal;font-family:Menlo,'DejaVu Sans Mono',consolas,'Courier New',monospace\"><span style=\"font-weight: bold\">[</span><span style=\"color: #008000; text-decoration-color: #008000\">'Bulbasaur'</span>, <span style=\"color: #008000; text-decoration-color: #008000\">'Charmander'</span>, <span style=\"color: #008000; text-decoration-color: #008000\">'Squirtle'</span>, <span style=\"color: #008000; text-decoration-color: #008000\">'Pikachu'</span>, <span style=\"color: #008000; text-decoration-color: #008000\">'Eevee'</span><span style=\"font-weight: bold\">]</span>\n",
       "</pre>\n"
      ],
      "text/plain": [
       "\u001b[1m[\u001b[0m\u001b[32m'Bulbasaur'\u001b[0m, \u001b[32m'Charmander'\u001b[0m, \u001b[32m'Squirtle'\u001b[0m, \u001b[32m'Pikachu'\u001b[0m, \u001b[32m'Eevee'\u001b[0m\u001b[1m]\u001b[0m\n"
      ]
     },
     "metadata": {},
     "output_type": "display_data"
    }
   ],
   "source": [
    "# Create a populated dictionary of pokemon and their pokedex numbers\n",
    "pokemon_numbers = {\n",
    "    'Pikachu': 25,\n",
    "    'Charmander': 4,\n",
    "    'Bulbasaur': 1,\n",
    "    'Eevee': 133,\n",
    "    'Squirtle': 7\n",
    "}\n",
    "\n",
    "# Sort pokemon by name (key)\n",
    "sorted_pokemon = sorted(pokemon_numbers)\n",
    "print(sorted_pokemon)\n",
    "\n",
    "# Sort pokemon in reverse order by name (key)\n",
    "sorted_pokemon = sorted(pokemon_numbers, reverse=True)\n",
    "print(sorted_pokemon)\n",
    "\n",
    "# Sort pokemon by pokedex number (value)\n",
    "sorted_pokemon = sorted(pokemon_numbers, key=pokemon_numbers.get)\n",
    "print(sorted_pokemon)"
   ]
  },
  {
   "cell_type": "code",
   "execution_count": 25,
   "id": "a38ef220",
   "metadata": {
    "slideshow": {
     "slide_type": "slide"
    }
   },
   "outputs": [
    {
     "data": {
      "text/html": [
       "<pre style=\"white-space:pre;overflow-x:auto;line-height:normal;font-family:Menlo,'DejaVu Sans Mono',consolas,'Courier New',monospace\"><span style=\"font-weight: bold\">[</span><span style=\"color: #008080; text-decoration-color: #008080; font-weight: bold\">1</span>, <span style=\"color: #008080; text-decoration-color: #008080; font-weight: bold\">4</span>, <span style=\"color: #008080; text-decoration-color: #008080; font-weight: bold\">7</span>, <span style=\"color: #008080; text-decoration-color: #008080; font-weight: bold\">25</span>, <span style=\"color: #008080; text-decoration-color: #008080; font-weight: bold\">133</span><span style=\"font-weight: bold\">]</span>\n",
       "</pre>\n"
      ],
      "text/plain": [
       "\u001b[1m[\u001b[0m\u001b[1;36m1\u001b[0m, \u001b[1;36m4\u001b[0m, \u001b[1;36m7\u001b[0m, \u001b[1;36m25\u001b[0m, \u001b[1;36m133\u001b[0m\u001b[1m]\u001b[0m\n"
      ]
     },
     "metadata": {},
     "output_type": "display_data"
    }
   ],
   "source": [
    "# Create a populated dictionary of pokemon and their pokedex numbers\n",
    "pokemon_numbers = {\n",
    "    'Pikachu': 25,\n",
    "    'Charmander': 4,\n",
    "    'Bulbasaur': 1,\n",
    "    'Eevee': 133,\n",
    "    'Squirtle': 7\n",
    "}\n",
    "\n",
    "# Return a list of sorted pokedex numbers (values)\n",
    "sorted_values = sorted(pokemon_numbers.values())\n",
    "print(sorted_values)"
   ]
  },
  {
   "cell_type": "markdown",
   "id": "b831459a",
   "metadata": {
    "slideshow": {
     "slide_type": "slide"
    }
   },
   "source": [
    "The functions <span style='color: blue'>**min()**</span>, <span style='color: blue'>**max()**</span> and <span style='color: blue'>**sum()**</span> can be used to carry out <span style='color: blue'>**mathematical functions**</span> on dictionaries."
   ]
  },
  {
   "cell_type": "code",
   "execution_count": 26,
   "id": "941fce41",
   "metadata": {
    "slideshow": {
     "slide_type": "-"
    }
   },
   "outputs": [
    {
     "data": {
      "text/html": [
       "<pre style=\"white-space:pre;overflow-x:auto;line-height:normal;font-family:Menlo,'DejaVu Sans Mono',consolas,'Courier New',monospace\">youngest_actor = <span style=\"color: #008000; text-decoration-color: #008000\">'Christian Bale'</span>\n",
       "</pre>\n"
      ],
      "text/plain": [
       "youngest_actor = \u001b[32m'Christian Bale'\u001b[0m\n"
      ]
     },
     "metadata": {},
     "output_type": "display_data"
    },
    {
     "data": {
      "text/html": [
       "<pre style=\"white-space:pre;overflow-x:auto;line-height:normal;font-family:Menlo,'DejaVu Sans Mono',consolas,'Courier New',monospace\">oldest_actor = <span style=\"color: #008000; text-decoration-color: #008000\">'Michael Keaton'</span>\n",
       "</pre>\n"
      ],
      "text/plain": [
       "oldest_actor = \u001b[32m'Michael Keaton'\u001b[0m\n"
      ]
     },
     "metadata": {},
     "output_type": "display_data"
    },
    {
     "data": {
      "text/html": [
       "<pre style=\"white-space:pre;overflow-x:auto;line-height:normal;font-family:Menlo,'DejaVu Sans Mono',consolas,'Courier New',monospace\">total_age = <span style=\"color: #008080; text-decoration-color: #008080; font-weight: bold\">290</span>\n",
       "</pre>\n"
      ],
      "text/plain": [
       "total_age = \u001b[1;36m290\u001b[0m\n"
      ]
     },
     "metadata": {},
     "output_type": "display_data"
    }
   ],
   "source": [
    "# Create a dictionary of actors that have played Batman\n",
    "batman_actors = {\n",
    "    'Michael Keaton': 70,\n",
    "    'Val Kilmer': 62,\n",
    "    'George Clooney': 61,\n",
    "    'Christian Bale': 48,\n",
    "    'Ben Affleck': 49\n",
    "}\n",
    "\n",
    "# min() example to get the youngest Batman actor\n",
    "youngest_actor = min(batman_actors, key=batman_actors.get)\n",
    "print(f'{youngest_actor = }')\n",
    "\n",
    "# max() example to get the oldest Batman actor\n",
    "oldest_actor = max(batman_actors, key=batman_actors.get)\n",
    "print(f'{oldest_actor = }')\n",
    "\n",
    "# sum() example to get the total age of all the Batman actors\n",
    "total_age = sum(batman_actors.values())\n",
    "print(f'{total_age = }')"
   ]
  },
  {
   "cell_type": "markdown",
   "id": "a0c3714e",
   "metadata": {
    "slideshow": {
     "slide_type": "slide"
    }
   },
   "source": [
    "<span style='color: blue'>**Dictionary Comprehensions**</span>\n",
    "\n",
    "A <span style='color: blue'>**dictionary comprehension**</span> is a concise way to create a <span style='color: blue'>**new dictionary**</span> in Python. It allows you to create a <span style='color: blue'>**dictionary**</span> by specifying a set of <span style='color: magenta'>**key-value pairs**</span> using a <span style='color: magenta'>**single line of code**</span>."
   ]
  },
  {
   "cell_type": "code",
   "execution_count": 27,
   "id": "6c9978f6",
   "metadata": {
    "slideshow": {
     "slide_type": "-"
    }
   },
   "outputs": [
    {
     "data": {
      "text/html": [
       "<pre style=\"white-space:pre;overflow-x:auto;line-height:normal;font-family:Menlo,'DejaVu Sans Mono',consolas,'Courier New',monospace\"><span style=\"font-weight: bold\">{</span><span style=\"color: #008000; text-decoration-color: #008000\">'BUGS BUNNY'</span>: <span style=\"color: #008080; text-decoration-color: #008080; font-weight: bold\">40</span>, <span style=\"color: #008000; text-decoration-color: #008000\">'PORKY PIG'</span>: <span style=\"color: #008080; text-decoration-color: #008080; font-weight: bold\">35</span>, <span style=\"color: #008000; text-decoration-color: #008000\">'TWEETY BIRD'</span>: <span style=\"color: #008080; text-decoration-color: #008080; font-weight: bold\">42</span>, <span style=\"color: #008000; text-decoration-color: #008000\">'ELMER FUDD'</span>: <span style=\"color: #008080; text-decoration-color: #008080; font-weight: bold\">40</span><span style=\"font-weight: bold\">}</span>\n",
       "</pre>\n"
      ],
      "text/plain": [
       "\u001b[1m{\u001b[0m\u001b[32m'BUGS BUNNY'\u001b[0m: \u001b[1;36m40\u001b[0m, \u001b[32m'PORKY PIG'\u001b[0m: \u001b[1;36m35\u001b[0m, \u001b[32m'TWEETY BIRD'\u001b[0m: \u001b[1;36m42\u001b[0m, \u001b[32m'ELMER FUDD'\u001b[0m: \u001b[1;36m40\u001b[0m\u001b[1m}\u001b[0m\n"
      ]
     },
     "metadata": {},
     "output_type": "display_data"
    }
   ],
   "source": [
    "looney_tunes = {\n",
    "    'Bugs Bunny': 1940,\n",
    "    'Daffy Duck': 1937,\n",
    "    'Porky Pig': 1935,\n",
    "    'Tweety Bird': 1942,\n",
    "    'Elmer Fudd': 1940\n",
    "}\n",
    "\n",
    "looney_tunes = {name.upper(): year % 100 for name, year in looney_tunes.items() if name != 'Daffy Duck'}\n",
    "\n",
    "print(looney_tunes)\n"
   ]
  },
  {
   "cell_type": "markdown",
   "id": "0d0f1595",
   "metadata": {
    "slideshow": {
     "slide_type": "slide"
    }
   },
   "source": [
    "<h3 style=\"text-align: center;\">\n",
    "    <span style='color: blue'>new_dict</span> = {<span style='color: magenta'>key_expression</span>: <span style='color: magenta'>value_expression</span> for (<span style='color: blue'>key</span>, <span style='color: blue'>value</span>) in <span style='color: magenta'>iterable</span> if <span style='color: magenta'>condition</span>}\n",
    "</h3>\n",
    "\n",
    "```python\n",
    "    looney_tunes = {name.upper(): year % 100 for name, year in looney_tunes.items() if name != 'Daffy Duck'}\n",
    "```\n",
    "\n",
    "|    Term         |          Expression                 |\n",
    "|:----------------|:--------------------------------------|\n",
    "| key_expression | name.upper()                          |\n",
    "| value_expression | year % 100                         |\n",
    "| key             | name                               |\n",
    "| value           | year                                |\n",
    "| iterable       | looney_tunes (dict)                   |\n",
    "| condition      | name != 'Daffy Duck'                |\n"
   ]
  }
 ],
 "metadata": {
  "celltoolbar": "Slideshow",
  "kernelspec": {
   "display_name": "Python 3 (ipykernel)",
   "language": "python",
   "name": "python3"
  },
  "language_info": {
   "codemirror_mode": {
    "name": "ipython",
    "version": 3
   },
   "file_extension": ".py",
   "mimetype": "text/x-python",
   "name": "python",
   "nbconvert_exporter": "python",
   "pygments_lexer": "ipython3",
   "version": "3.11.1"
  }
 },
 "nbformat": 4,
 "nbformat_minor": 5
}
