{
 "cells": [
  {
   "cell_type": "code",
   "execution_count": 1,
   "id": "0adf68ec",
   "metadata": {
    "slideshow": {
     "slide_type": "skip"
    }
   },
   "outputs": [],
   "source": [
    "# !pip install rich\n",
    "from rich import print"
   ]
  },
  {
   "cell_type": "markdown",
   "id": "adb1b4d5",
   "metadata": {
    "slideshow": {
     "slide_type": "slide"
    }
   },
   "source": [
    "## <span style='color: blue'>Learn Python</span> - Dictionaries\n",
    "\n",
    "- Creating Dictionaries\n",
    "- Accessing Dictionaries\n",
    "- Modifying Key Value Pairs"
   ]
  },
  {
   "cell_type": "markdown",
   "id": "be21350f",
   "metadata": {
    "slideshow": {
     "slide_type": "slide"
    }
   },
   "source": [
    "<span style='color: blue'>**Creating Dictionaries**</span>\n",
    "\n",
    "<span style='color: blue'>**Dictionaries**</span> are a type of data structure used to store <span style='color: magenta'>**key-value pairs**</span>. They are <span style='color: magenta'>**mutable**</span>, <span style='color: magenta'>**unordered**</span>, and can be indexed using keys. They are defined using <span style='color: magenta'>**curly braces {}**</span> and <span style='color: magenta'>**colons :**</span> to separate keys from their corresponding values."
   ]
  },
  {
   "cell_type": "code",
   "execution_count": 2,
   "id": "ea6bb4db",
   "metadata": {
    "slideshow": {
     "slide_type": "fragment"
    }
   },
   "outputs": [],
   "source": [
    "# Create an empty dictionary using curly braces\n",
    "new_dict = {}\n",
    "\n",
    "# Create an empty dictionary using the dictionary constructor\n",
    "new_dict = dict()"
   ]
  },
  {
   "cell_type": "markdown",
   "id": "189086ee",
   "metadata": {
    "slideshow": {
     "slide_type": "fragment"
    }
   },
   "source": [
    "Both methods are <span style='color: magenta'>**valid**</span> for creating an empty dictionary, and the choice of which method to use may depend on <span style='color: magenta'>**personal preference**</span> or <span style='color: magenta'>**specific requirements**</span> for the code. <span style='color: blue'>**However**</span> the first method tend to be the more commonly used."
   ]
  },
  {
   "cell_type": "markdown",
   "id": "902c2c0f",
   "metadata": {
    "slideshow": {
     "slide_type": "slide"
    }
   },
   "source": [
    "It's important to keep in mind the <span style='color: magenta'>**properties**</span> of dictionaries when creating one.\n",
    "\n",
    "- Each <span style='color: blue'>**key**</span> in a dictionary must be <span style='color: magenta'>**unique**</span>, so if you try to assign a value to a key that <span style='color: magenta'>**already exists**</span>, it will <span style='color: magenta'>**overwrite**</span> the old value.<br>\n",
    "- <span style='color: blue'>**Keys**</span> must be <span style='color: magenta'>**immutable**</span>, meaning you can't use mutable objects like lists or dictionaries as keys, but can use strings, numbers, and tuples.\n",
    "- <span style='color: blue'>**Keys**</span> are <span style='color: magenta'>**unordered**</span>, so the order you define the keys doesn't necessarily match the order when iterating over the dictionary.\n"
   ]
  },
  {
   "cell_type": "code",
   "execution_count": 3,
   "id": "453458c0",
   "metadata": {
    "slideshow": {
     "slide_type": "fragment"
    }
   },
   "outputs": [
    {
     "data": {
      "text/html": [
       "<pre style=\"white-space:pre;overflow-x:auto;line-height:normal;font-family:Menlo,'DejaVu Sans Mono',consolas,'Courier New',monospace\"><span style=\"font-weight: bold\">{</span><span style=\"color: #008000; text-decoration-color: #008000\">'year'</span>: <span style=\"color: #008080; text-decoration-color: #008080; font-weight: bold\">1994</span>, <span style=\"color: #008000; text-decoration-color: #008000\">'engine'</span>: <span style=\"color: #008000; text-decoration-color: #008000\">'3.5L V8'</span>, <span style=\"color: #008000; text-decoration-color: #008000\">'horsepower'</span>: <span style=\"color: #008080; text-decoration-color: #008080; font-weight: bold\">375</span>, <span style=\"color: #008000; text-decoration-color: #008000\">'top_speed'</span>: <span style=\"color: #008080; text-decoration-color: #008080; font-weight: bold\">183</span>, <span style=\"color: #008000; text-decoration-color: #008000\">'price'</span>: <span style=\"color: #008080; text-decoration-color: #008080; font-weight: bold\">130000</span>, <span style=\"color: #008000; text-decoration-color: #008000\">'italian'</span>: <span style=\"color: #00ff00; text-decoration-color: #00ff00; font-style: italic\">True</span><span style=\"font-weight: bold\">}</span>\n",
       "</pre>\n"
      ],
      "text/plain": [
       "\u001b[1m{\u001b[0m\u001b[32m'year'\u001b[0m: \u001b[1;36m1994\u001b[0m, \u001b[32m'engine'\u001b[0m: \u001b[32m'3.5L V8'\u001b[0m, \u001b[32m'horsepower'\u001b[0m: \u001b[1;36m375\u001b[0m, \u001b[32m'top_speed'\u001b[0m: \u001b[1;36m183\u001b[0m, \u001b[32m'price'\u001b[0m: \u001b[1;36m130000\u001b[0m, \u001b[32m'italian'\u001b[0m: \u001b[3;92mTrue\u001b[0m\u001b[1m}\u001b[0m\n"
      ]
     },
     "metadata": {},
     "output_type": "display_data"
    }
   ],
   "source": [
    "# Creating a populated dictionary using curly braces and comma separators\n",
    "ferrari_355 = {\n",
    "    'year': 1994,\n",
    "    'engine': '3.5L V8',\n",
    "    'horsepower': 375,\n",
    "    'top_speed': 183,\n",
    "    'price': 130000,\n",
    "    'italian': True\n",
    "}\n",
    "\n",
    "print(ferrari_355)"
   ]
  },
  {
   "cell_type": "code",
   "execution_count": 4,
   "id": "baab57f7",
   "metadata": {
    "slideshow": {
     "slide_type": "fragment"
    }
   },
   "outputs": [
    {
     "data": {
      "text/html": [
       "<pre style=\"white-space:pre;overflow-x:auto;line-height:normal;font-family:Menlo,'DejaVu Sans Mono',consolas,'Courier New',monospace\"><span style=\"font-weight: bold\">{</span><span style=\"color: #008000; text-decoration-color: #008000\">'year'</span>: <span style=\"color: #008080; text-decoration-color: #008080; font-weight: bold\">1994</span>, <span style=\"color: #008000; text-decoration-color: #008000\">'engine'</span>: <span style=\"color: #008000; text-decoration-color: #008000\">'3.5L V8'</span>, <span style=\"color: #008000; text-decoration-color: #008000\">'horsepower'</span>: <span style=\"color: #008080; text-decoration-color: #008080; font-weight: bold\">375</span>, <span style=\"color: #008000; text-decoration-color: #008000\">'top_speed'</span>: <span style=\"color: #008080; text-decoration-color: #008080; font-weight: bold\">183</span>, <span style=\"color: #008000; text-decoration-color: #008000\">'price'</span>: <span style=\"color: #008080; text-decoration-color: #008080; font-weight: bold\">130000</span>, <span style=\"color: #008000; text-decoration-color: #008000\">'italian'</span>: <span style=\"color: #00ff00; text-decoration-color: #00ff00; font-style: italic\">True</span><span style=\"font-weight: bold\">}</span>\n",
       "</pre>\n"
      ],
      "text/plain": [
       "\u001b[1m{\u001b[0m\u001b[32m'year'\u001b[0m: \u001b[1;36m1994\u001b[0m, \u001b[32m'engine'\u001b[0m: \u001b[32m'3.5L V8'\u001b[0m, \u001b[32m'horsepower'\u001b[0m: \u001b[1;36m375\u001b[0m, \u001b[32m'top_speed'\u001b[0m: \u001b[1;36m183\u001b[0m, \u001b[32m'price'\u001b[0m: \u001b[1;36m130000\u001b[0m, \u001b[32m'italian'\u001b[0m: \u001b[3;92mTrue\u001b[0m\u001b[1m}\u001b[0m\n"
      ]
     },
     "metadata": {},
     "output_type": "display_data"
    }
   ],
   "source": [
    "# Creating a populated dictionary using the dict constructor\n",
    "ferrari_355 = dict(\n",
    "    year=1994, \n",
    "    engine='3.5L V8', \n",
    "    horsepower=375, \n",
    "    top_speed=183, \n",
    "    price=130000,\n",
    "    italian=True\n",
    ")\n",
    "\n",
    "print(ferrari_355)\n"
   ]
  },
  {
   "cell_type": "markdown",
   "id": "81ad46c8",
   "metadata": {
    "slideshow": {
     "slide_type": "slide"
    }
   },
   "source": [
    "You can create a populated <span style='color: blue'>**dictionary**</span> using the <span style='color: magenta'>**dict() constructor**</span> by casting other data types, such as a <span style='color: magenta'>**list of tuples**</span>, into a dictionary format."
   ]
  },
  {
   "cell_type": "code",
   "execution_count": 5,
   "id": "22e6e21a",
   "metadata": {
    "slideshow": {
     "slide_type": "fragment"
    }
   },
   "outputs": [
    {
     "data": {
      "text/html": [
       "<pre style=\"white-space:pre;overflow-x:auto;line-height:normal;font-family:Menlo,'DejaVu Sans Mono',consolas,'Courier New',monospace\"><span style=\"font-weight: bold\">{</span><span style=\"color: #008000; text-decoration-color: #008000\">'year'</span>: <span style=\"color: #008080; text-decoration-color: #008080; font-weight: bold\">1994</span>, <span style=\"color: #008000; text-decoration-color: #008000\">'engine'</span>: <span style=\"color: #008000; text-decoration-color: #008000\">'3.5L V8'</span>, <span style=\"color: #008000; text-decoration-color: #008000\">'horsepower'</span>: <span style=\"color: #008080; text-decoration-color: #008080; font-weight: bold\">375</span>, <span style=\"color: #008000; text-decoration-color: #008000\">'top_speed'</span>: <span style=\"color: #008080; text-decoration-color: #008080; font-weight: bold\">183</span>, <span style=\"color: #008000; text-decoration-color: #008000\">'price'</span>: <span style=\"color: #008080; text-decoration-color: #008080; font-weight: bold\">130000</span>, <span style=\"color: #008000; text-decoration-color: #008000\">'italian'</span>: <span style=\"color: #00ff00; text-decoration-color: #00ff00; font-style: italic\">True</span><span style=\"font-weight: bold\">}</span>\n",
       "</pre>\n"
      ],
      "text/plain": [
       "\u001b[1m{\u001b[0m\u001b[32m'year'\u001b[0m: \u001b[1;36m1994\u001b[0m, \u001b[32m'engine'\u001b[0m: \u001b[32m'3.5L V8'\u001b[0m, \u001b[32m'horsepower'\u001b[0m: \u001b[1;36m375\u001b[0m, \u001b[32m'top_speed'\u001b[0m: \u001b[1;36m183\u001b[0m, \u001b[32m'price'\u001b[0m: \u001b[1;36m130000\u001b[0m, \u001b[32m'italian'\u001b[0m: \u001b[3;92mTrue\u001b[0m\u001b[1m}\u001b[0m\n"
      ]
     },
     "metadata": {},
     "output_type": "display_data"
    }
   ],
   "source": [
    "# Creating a populated dictionary using other data types (list of tuples) and and dict constructor\n",
    "ferrari_355 = dict([\n",
    "    ('year', 1994),\n",
    "    ('engine', '3.5L V8'),\n",
    "    ('horsepower', 375),\n",
    "    ('top_speed', 183),\n",
    "    ('price', 130000),\n",
    "    ('italian', True)\n",
    "])\n",
    "\n",
    "print(ferrari_355)"
   ]
  },
  {
   "cell_type": "markdown",
   "id": "6a3c61b9",
   "metadata": {
    "slideshow": {
     "slide_type": "slide"
    }
   },
   "source": [
    "Using the <span style='color: magenta'>**zip()**</span> function, it's possible to create populated <span style='color: blue'>**dictionaries**</span> by combining <span style='color: magenta'>**two iterables**</span>, where one iterable contains <span style='color: blue'>**keys**</span> and the other contains corresponding <span style='color: blue'>**values**</span>."
   ]
  },
  {
   "cell_type": "code",
   "execution_count": 6,
   "id": "77c19308",
   "metadata": {
    "slideshow": {
     "slide_type": "fragment"
    }
   },
   "outputs": [
    {
     "data": {
      "text/html": [
       "<pre style=\"white-space:pre;overflow-x:auto;line-height:normal;font-family:Menlo,'DejaVu Sans Mono',consolas,'Courier New',monospace\"><span style=\"font-weight: bold\">{</span><span style=\"color: #008000; text-decoration-color: #008000\">'year'</span>: <span style=\"color: #008080; text-decoration-color: #008080; font-weight: bold\">1994</span>, <span style=\"color: #008000; text-decoration-color: #008000\">'engine'</span>: <span style=\"color: #008000; text-decoration-color: #008000\">'3.5L V8'</span>, <span style=\"color: #008000; text-decoration-color: #008000\">'horsepower'</span>: <span style=\"color: #008080; text-decoration-color: #008080; font-weight: bold\">375</span>, <span style=\"color: #008000; text-decoration-color: #008000\">'top_speed'</span>: <span style=\"color: #008080; text-decoration-color: #008080; font-weight: bold\">183</span>, <span style=\"color: #008000; text-decoration-color: #008000\">'price'</span>: <span style=\"color: #008080; text-decoration-color: #008080; font-weight: bold\">130000</span>, <span style=\"color: #008000; text-decoration-color: #008000\">'italian'</span>: <span style=\"color: #00ff00; text-decoration-color: #00ff00; font-style: italic\">True</span><span style=\"font-weight: bold\">}</span>\n",
       "</pre>\n"
      ],
      "text/plain": [
       "\u001b[1m{\u001b[0m\u001b[32m'year'\u001b[0m: \u001b[1;36m1994\u001b[0m, \u001b[32m'engine'\u001b[0m: \u001b[32m'3.5L V8'\u001b[0m, \u001b[32m'horsepower'\u001b[0m: \u001b[1;36m375\u001b[0m, \u001b[32m'top_speed'\u001b[0m: \u001b[1;36m183\u001b[0m, \u001b[32m'price'\u001b[0m: \u001b[1;36m130000\u001b[0m, \u001b[32m'italian'\u001b[0m: \u001b[3;92mTrue\u001b[0m\u001b[1m}\u001b[0m\n"
      ]
     },
     "metadata": {},
     "output_type": "display_data"
    }
   ],
   "source": [
    "# Creating a populated dictionary using the zip() function and two iterables \n",
    "keys = ['year', 'engine', 'horsepower', 'top_speed', 'price', 'italian'] # List of keys\n",
    "values = (1994, '3.5L V8', 375, 183, 130000, True) # Tuple of values\n",
    "\n",
    "ferrari_355 = dict(zip(keys, values))\n",
    "\n",
    "print(ferrari_355)"
   ]
  }
 ],
 "metadata": {
  "celltoolbar": "Slideshow",
  "kernelspec": {
   "display_name": "Python 3 (ipykernel)",
   "language": "python",
   "name": "python3"
  },
  "language_info": {
   "codemirror_mode": {
    "name": "ipython",
    "version": 3
   },
   "file_extension": ".py",
   "mimetype": "text/x-python",
   "name": "python",
   "nbconvert_exporter": "python",
   "pygments_lexer": "ipython3",
   "version": "3.11.1"
  }
 },
 "nbformat": 4,
 "nbformat_minor": 5
}
