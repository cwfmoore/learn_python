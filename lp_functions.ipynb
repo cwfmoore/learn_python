{
 "cells": [
  {
   "cell_type": "code",
   "execution_count": 1,
   "id": "6628ae16",
   "metadata": {
    "slideshow": {
     "slide_type": "skip"
    }
   },
   "outputs": [],
   "source": [
    "# !pip install rich\n",
    "from rich import print"
   ]
  },
  {
   "cell_type": "markdown",
   "id": "b7ca8c17",
   "metadata": {
    "slideshow": {
     "slide_type": "slide"
    }
   },
   "source": [
    "## <span style='color: blue'>Learn Python</span> - Functions\n",
    "\n",
    "- Introduction to Python Functions\n",
    "- Function Parameters\n",
    "- Function Return Values\n",
    "- Lambda Functions\n",
    "- Recursion\n",
    "- Function Scopes and Closures\n",
    "- Decorators\n",
    "- Built-in Functions\n",
    "- Best Practices for Writing Functions"
   ]
  },
  {
   "cell_type": "markdown",
   "id": "a8aa355f",
   "metadata": {
    "slideshow": {
     "slide_type": "fragment"
    }
   },
   "source": [
    "In Python, a <span style='color: blue'>**function**</span> is a <span style='color: magenta'>**reusable block of code**</span> that performs a <span style='color: magenta'>**specific task**</span>, defined using <span style='color: blue'>**def**</span> followed by a <span style='color: blue'>**name**</span> and <span style='color: blue'>**parameter**</span> in parentheses. \n",
    "\n",
    "It helps to break down complex programs into <span style='color: magenta'>**smaller**</span>, <span style='color: magenta'>**organized**</span>, and more <span style='color: magenta'>**manageable parts**</span>, improving code readability and modularity."
   ]
  },
  {
   "cell_type": "markdown",
   "id": "7e31a070",
   "metadata": {
    "slideshow": {
     "slide_type": "slide"
    }
   },
   "source": [
    "Here is a <span style='color: blue'>**simple example**</span> of defining a function:\n",
    "\n",
    "```python\n",
    "    def function_name(parameter_1, parameter_2):\n",
    "        return output\n",
    "```\n",
    "\n",
    "Function <span style='color: magenta'>**parameters**</span> are <span style='color: magenta'>**variables**</span> used to perform a task, and the <span style='color: magenta'>**return**</span> statement specifies the output."
   ]
  },
  {
   "cell_type": "markdown",
   "id": "5bf3de68",
   "metadata": {
    "slideshow": {
     "slide_type": "slide"
    }
   },
   "source": [
    "In this <span style='color: blue'>**working example**</span>, a function is used to <span style='color: magenta'>**sum togther**</span> two numbers passed as parameters."
   ]
  },
  {
   "cell_type": "code",
   "execution_count": 2,
   "id": "b53aea10",
   "metadata": {},
   "outputs": [
    {
     "data": {
      "text/html": [
       "<pre style=\"white-space:pre;overflow-x:auto;line-height:normal;font-family:Menlo,'DejaVu Sans Mono',consolas,'Courier New',monospace\">result = <span style=\"color: #008080; text-decoration-color: #008080; font-weight: bold\">7</span>\n",
       "</pre>\n"
      ],
      "text/plain": [
       "result = \u001b[1;36m7\u001b[0m\n"
      ]
     },
     "metadata": {},
     "output_type": "display_data"
    }
   ],
   "source": [
    "# Define a function that takes two arguments and returns their sum\n",
    "def add_numbers(x, y):\n",
    "    return x + y\n",
    "\n",
    "# Call the function and print the result\n",
    "result = add_numbers(3, 4)\n",
    "\n",
    "print(f'{result = }')"
   ]
  },
  {
   "cell_type": "markdown",
   "id": "b8971a21",
   "metadata": {
    "slideshow": {
     "slide_type": "slide"
    }
   },
   "source": [
    "<span style='color: blue'>**Function Parameters**</span>\n",
    "\n",
    "In the example the parameters are referred to as <span style='color: magenta'>positional parameters</span>, which implies that they possess the following characteristics:\n",
    "\n",
    "```python\n",
    "    def add_numbers(x, y):\n",
    "        return x + y\n",
    "```\n",
    "\n",
    "- They are <span style='color: magenta'>**mandatory**</span>. An <span style='color: magenta'>**error**</span> will be raised without them.\n",
    "- They need to be provided in the <span style='color: magenta'>**exact sequence as they are listed**</span> in the function."
   ]
  },
  {
   "cell_type": "markdown",
   "id": "5532c15c",
   "metadata": {
    "slideshow": {
     "slide_type": "slide"
    }
   },
   "source": [
    "The following example <span style='color: blue'>**calculate_total_bill**</span> function has a combination of a positional parameter and <span style='color: magenta'>**two default parameters**</span>.\n",
    "\n",
    "Default parameters are <span style='color: blue'>**pre-set values**</span> for a function, used when <span style='color: magenta'>**no argument is passed**</span> during function call."
   ]
  },
  {
   "cell_type": "code",
   "execution_count": 3,
   "id": "153108c5",
   "metadata": {},
   "outputs": [
    {
     "data": {
      "text/html": [
       "<pre style=\"white-space:pre;overflow-x:auto;line-height:normal;font-family:Menlo,'DejaVu Sans Mono',consolas,'Courier New',monospace\">total_bill = <span style=\"color: #008080; text-decoration-color: #008080; font-weight: bold\">150.0</span>\n",
       "</pre>\n"
      ],
      "text/plain": [
       "total_bill = \u001b[1;36m150.0\u001b[0m\n"
      ]
     },
     "metadata": {},
     "output_type": "display_data"
    }
   ],
   "source": [
    "# Define a function that will calulate the total bill\n",
    "def calculate_total_bill(amount, tip_percent=15, tax_percent=10):\n",
    "    tip = amount * tip_percent / 100\n",
    "    tax = amount * tax_percent / 100\n",
    "    total = amount + tip + tax\n",
    "    return total\n",
    "\n",
    "# Call the function and pass in only the mandatory positional parameter\n",
    "total_bill = calculate_total_bill(120.00)\n",
    "\n",
    "# Print the total bill\n",
    "print(f'{total_bill = }')"
   ]
  },
  {
   "cell_type": "code",
   "execution_count": 4,
   "id": "632dbd91",
   "metadata": {
    "slideshow": {
     "slide_type": "fragment"
    }
   },
   "outputs": [
    {
     "data": {
      "text/html": [
       "<pre style=\"white-space:pre;overflow-x:auto;line-height:normal;font-family:Menlo,'DejaVu Sans Mono',consolas,'Courier New',monospace\">total_bill = <span style=\"color: #008080; text-decoration-color: #008080; font-weight: bold\">162.0</span>\n",
       "</pre>\n"
      ],
      "text/plain": [
       "total_bill = \u001b[1;36m162.0\u001b[0m\n"
      ]
     },
     "metadata": {},
     "output_type": "display_data"
    }
   ],
   "source": [
    "# Call the function but this time change the tip_percent\n",
    "total_bill = calculate_total_bill(120.0, 25)\n",
    "\n",
    "# Print the total bill\n",
    "print(f'{total_bill = }')"
   ]
  },
  {
   "cell_type": "markdown",
   "id": "911e404d",
   "metadata": {
    "slideshow": {
     "slide_type": "slide"
    }
   },
   "source": [
    "In order to pass a new value for the <span style='color: blue'>**tax_percent**</span> parameter while keeping the <span style='color: blue'>**tip_percent**</span> at its <span style='color: magenta'>**default value**</span>, you would need to use a <span style='color: magenta'>**keyword parameter**</span>.\n",
    "\n",
    "These are named parameters that allow you to <span style='color: magenta'>**assign values**</span> to function arguments using the <span style='color: magenta'>**parameter name**</span>."
   ]
  },
  {
   "cell_type": "code",
   "execution_count": 5,
   "id": "05fe91e5",
   "metadata": {},
   "outputs": [
    {
     "data": {
      "text/html": [
       "<pre style=\"white-space:pre;overflow-x:auto;line-height:normal;font-family:Menlo,'DejaVu Sans Mono',consolas,'Courier New',monospace\">total_bill = <span style=\"color: #008080; text-decoration-color: #008080; font-weight: bold\">156.0</span>\n",
       "</pre>\n"
      ],
      "text/plain": [
       "total_bill = \u001b[1;36m156.0\u001b[0m\n"
      ]
     },
     "metadata": {},
     "output_type": "display_data"
    }
   ],
   "source": [
    "# Call the function but this time change the tax_percent\n",
    "total_bill = calculate_total_bill(120.0, tax_percent=15)\n",
    "\n",
    "# Print the total bill\n",
    "print(f'{total_bill = }')"
   ]
  },
  {
   "cell_type": "markdown",
   "id": "d9e1c994",
   "metadata": {
    "slideshow": {
     "slide_type": "slide"
    }
   },
   "source": [
    "Using <span style='color: blue'>**\\*args**</span> as function parameters enables a function to receive a <span style='color: magenta'>**flexible number of arguments**</span>, which are gathered as a <span style='color: blue'>**tuple**</span> inside the function."
   ]
  },
  {
   "cell_type": "code",
   "execution_count": 6,
   "id": "e9a9001e",
   "metadata": {},
   "outputs": [
    {
     "data": {
      "text/html": [
       "<pre style=\"white-space:pre;overflow-x:auto;line-height:normal;font-family:Menlo,'DejaVu Sans Mono',consolas,'Courier New',monospace\">Christopher Reeve\n",
       "</pre>\n"
      ],
      "text/plain": [
       "Christopher Reeve\n"
      ]
     },
     "metadata": {},
     "output_type": "display_data"
    },
    {
     "data": {
      "text/html": [
       "<pre style=\"white-space:pre;overflow-x:auto;line-height:normal;font-family:Menlo,'DejaVu Sans Mono',consolas,'Courier New',monospace\">Brandon Routh\n",
       "</pre>\n"
      ],
      "text/plain": [
       "Brandon Routh\n"
      ]
     },
     "metadata": {},
     "output_type": "display_data"
    },
    {
     "data": {
      "text/html": [
       "<pre style=\"white-space:pre;overflow-x:auto;line-height:normal;font-family:Menlo,'DejaVu Sans Mono',consolas,'Courier New',monospace\">Henry Cavill\n",
       "</pre>\n"
      ],
      "text/plain": [
       "Henry Cavill\n"
      ]
     },
     "metadata": {},
     "output_type": "display_data"
    }
   ],
   "source": [
    "# Define the print_args function\n",
    "def print_args(*args):\n",
    "    for arg in args:\n",
    "        print(arg)\n",
    "\n",
    "# Create a list of actors who have played Superman\n",
    "superman_actors = ['Christopher Reeve', 'Brandon Routh', 'Henry Cavill']\n",
    "\n",
    "# Call the print_args function with the list of Superman actors as arguments\n",
    "print_args(*superman_actors)"
   ]
  },
  {
   "cell_type": "markdown",
   "id": "9128182b",
   "metadata": {
    "slideshow": {
     "slide_type": "slide"
    }
   },
   "source": [
    "By defining a Python function with <span style='color: blue'>****kwargs**</span>, it becomes possible to receive a <span style='color: blue'>**dictionary**</span> of variable <span style='color: magenta'>**keyword arguments**</span>."
   ]
  },
  {
   "cell_type": "code",
   "execution_count": 7,
   "id": "920a323f",
   "metadata": {},
   "outputs": [
    {
     "data": {
      "text/html": [
       "<pre style=\"white-space:pre;overflow-x:auto;line-height:normal;font-family:Menlo,'DejaVu Sans Mono',consolas,'Courier New',monospace\">Actor: Cesar Romero, Age: <span style=\"color: #008080; text-decoration-color: #008080; font-weight: bold\">74</span>\n",
       "</pre>\n"
      ],
      "text/plain": [
       "Actor: Cesar Romero, Age: \u001b[1;36m74\u001b[0m\n"
      ]
     },
     "metadata": {},
     "output_type": "display_data"
    },
    {
     "data": {
      "text/html": [
       "<pre style=\"white-space:pre;overflow-x:auto;line-height:normal;font-family:Menlo,'DejaVu Sans Mono',consolas,'Courier New',monospace\">Actor: Jack Nicholson, Age: <span style=\"color: #008080; text-decoration-color: #008080; font-weight: bold\">84</span>\n",
       "</pre>\n"
      ],
      "text/plain": [
       "Actor: Jack Nicholson, Age: \u001b[1;36m84\u001b[0m\n"
      ]
     },
     "metadata": {},
     "output_type": "display_data"
    },
    {
     "data": {
      "text/html": [
       "<pre style=\"white-space:pre;overflow-x:auto;line-height:normal;font-family:Menlo,'DejaVu Sans Mono',consolas,'Courier New',monospace\">Actor: Heath Ledger, Age: <span style=\"color: #008080; text-decoration-color: #008080; font-weight: bold\">28</span>\n",
       "</pre>\n"
      ],
      "text/plain": [
       "Actor: Heath Ledger, Age: \u001b[1;36m28\u001b[0m\n"
      ]
     },
     "metadata": {},
     "output_type": "display_data"
    },
    {
     "data": {
      "text/html": [
       "<pre style=\"white-space:pre;overflow-x:auto;line-height:normal;font-family:Menlo,'DejaVu Sans Mono',consolas,'Courier New',monospace\">Actor: Joaquin Phoenix, Age: <span style=\"color: #008080; text-decoration-color: #008080; font-weight: bold\">47</span>\n",
       "</pre>\n"
      ],
      "text/plain": [
       "Actor: Joaquin Phoenix, Age: \u001b[1;36m47\u001b[0m\n"
      ]
     },
     "metadata": {},
     "output_type": "display_data"
    }
   ],
   "source": [
    "# Define the print **kwargs function\n",
    "def print_kwargs(**kwargs):\n",
    "    for actor, age in kwargs.items():\n",
    "        print(f'Actor: {actor}, Age: {age}')\n",
    "\n",
    "# Create a dictionary of actors who have played the Joker\n",
    "joker_actors = {\n",
    "    'Cesar Romero': 74,\n",
    "    'Jack Nicholson': 84,\n",
    "    'Heath Ledger': 28,\n",
    "    'Joaquin Phoenix': 47\n",
    "}\n",
    "\n",
    "# Call the print kwargs function with the dict of Joker actors as key-word arguments\n",
    "print_kwargs(**joker_actors)\n"
   ]
  },
  {
   "cell_type": "markdown",
   "id": "381b688c",
   "metadata": {
    "slideshow": {
     "slide_type": "slide"
    }
   },
   "source": [
    "<span style='color: blue'>**Function Return Values**</span>\n",
    "\n",
    "It is possible for a function to <span style='color: magenta'>**return more than one value**</span>. The values are returned as a <span style='color: blue'>**tuple**</span> or can be <span style='color: magenta'>**unpacked into separate variables**</span>. "
   ]
  },
  {
   "cell_type": "code",
   "execution_count": 8,
   "id": "68e5063b",
   "metadata": {},
   "outputs": [
    {
     "data": {
      "text/html": [
       "<pre style=\"white-space:pre;overflow-x:auto;line-height:normal;font-family:Menlo,'DejaVu Sans Mono',consolas,'Courier New',monospace\">returned_tuple = <span style=\"font-weight: bold\">(</span><span style=\"color: #008080; text-decoration-color: #008080; font-weight: bold\">6</span>, <span style=\"color: #008080; text-decoration-color: #008080; font-weight: bold\">10</span><span style=\"font-weight: bold\">)</span> <span style=\"font-weight: bold\">&lt;</span><span style=\"color: #ff00ff; text-decoration-color: #ff00ff; font-weight: bold\">class</span><span style=\"color: #000000; text-decoration-color: #000000\"> </span><span style=\"color: #008000; text-decoration-color: #008000\">'tuple'</span><span style=\"font-weight: bold\">&gt;</span>\n",
       "</pre>\n"
      ],
      "text/plain": [
       "returned_tuple = \u001b[1m(\u001b[0m\u001b[1;36m6\u001b[0m, \u001b[1;36m10\u001b[0m\u001b[1m)\u001b[0m \u001b[1m<\u001b[0m\u001b[1;95mclass\u001b[0m\u001b[39m \u001b[0m\u001b[32m'tuple'\u001b[0m\u001b[1m>\u001b[0m\n"
      ]
     },
     "metadata": {},
     "output_type": "display_data"
    }
   ],
   "source": [
    "# Define a function that calculates the area & perimeter of a rectangle\n",
    "def rectangle_info(length, width):\n",
    "    area = length * width\n",
    "    perimeter = 2 * (length + width)\n",
    "    return area, perimeter\n",
    "\n",
    "# Assigning the returned value to one variable will return a tuple\n",
    "returned_tuple = rectangle_info(2, 3)\n",
    "\n",
    "print(f'{returned_tuple = }', type(returned_tuple))"
   ]
  },
  {
   "cell_type": "code",
   "execution_count": 9,
   "id": "a90f767d",
   "metadata": {
    "slideshow": {
     "slide_type": "fragment"
    }
   },
   "outputs": [
    {
     "data": {
      "text/html": [
       "<pre style=\"white-space:pre;overflow-x:auto;line-height:normal;font-family:Menlo,'DejaVu Sans Mono',consolas,'Courier New',monospace\">area = <span style=\"color: #008080; text-decoration-color: #008080; font-weight: bold\">6</span>\n",
       "</pre>\n"
      ],
      "text/plain": [
       "area = \u001b[1;36m6\u001b[0m\n"
      ]
     },
     "metadata": {},
     "output_type": "display_data"
    },
    {
     "data": {
      "text/html": [
       "<pre style=\"white-space:pre;overflow-x:auto;line-height:normal;font-family:Menlo,'DejaVu Sans Mono',consolas,'Courier New',monospace\">perimeter = <span style=\"color: #008080; text-decoration-color: #008080; font-weight: bold\">10</span>\n",
       "</pre>\n"
      ],
      "text/plain": [
       "perimeter = \u001b[1;36m10\u001b[0m\n"
      ]
     },
     "metadata": {},
     "output_type": "display_data"
    }
   ],
   "source": [
    "# Unpacking the returned value in two separate values\n",
    "area, perimeter = rectangle_info(2, 3)\n",
    "\n",
    "print(f'{area = }')\n",
    "print(f'{perimeter = }')"
   ]
  },
  {
   "cell_type": "code",
   "execution_count": null,
   "id": "4c0da36b",
   "metadata": {},
   "outputs": [],
   "source": []
  }
 ],
 "metadata": {
  "celltoolbar": "Slideshow",
  "kernelspec": {
   "display_name": "Python 3 (ipykernel)",
   "language": "python",
   "name": "python3"
  },
  "language_info": {
   "codemirror_mode": {
    "name": "ipython",
    "version": 3
   },
   "file_extension": ".py",
   "mimetype": "text/x-python",
   "name": "python",
   "nbconvert_exporter": "python",
   "pygments_lexer": "ipython3",
   "version": "3.11.1"
  }
 },
 "nbformat": 4,
 "nbformat_minor": 5
}
