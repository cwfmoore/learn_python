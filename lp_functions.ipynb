{
 "cells": [
  {
   "cell_type": "code",
   "execution_count": 1,
   "id": "6628ae16",
   "metadata": {
    "slideshow": {
     "slide_type": "skip"
    }
   },
   "outputs": [],
   "source": [
    "# !pip install rich\n",
    "from rich import print"
   ]
  },
  {
   "cell_type": "markdown",
   "id": "b7ca8c17",
   "metadata": {
    "slideshow": {
     "slide_type": "slide"
    }
   },
   "source": [
    "# <span style='color: blue'>Learn Python</span> - Functions\n",
    "\n",
    "- [Introduction to Python Functions](##introduction-to-python-functions)\n",
    "- [Function Parameters](##function-parameters)\n",
    "- [Function Return Values](##function-return-values)\n",
    "- [Lambda Functions](##lambda-functions)\n",
    "- [Recursion](##recursion)\n",
    "- [Function Scopes & Closures](##function-scope-closures)\n",
    "- [Decorators](##decorators)\n",
    "- [Docstrings](##docstrings)\n",
    "- [Best Practices for Writing Functions](##best-practices)"
   ]
  },
  {
   "cell_type": "markdown",
   "id": "3d857db4",
   "metadata": {
    "slideshow": {
     "slide_type": "skip"
    }
   },
   "source": [
    "<span style='color: blue'>**Click**</span> on a link from the above menu to <span style='color: blue'>**go to that section**</span>"
   ]
  },
  {
   "cell_type": "markdown",
   "id": "a8aa355f",
   "metadata": {
    "slideshow": {
     "slide_type": "slide"
    }
   },
   "source": [
    "## <span style='color: blue'>**Introduction to Python Functions**</span> <a id='#introduction-to-python-functions'></a>\n",
    "\n",
    "In Python, a <span style='color: blue'>**function**</span> is a <span style='color: magenta'>**reusable block of code**</span> that performs a <span style='color: magenta'>**specific task**</span>, defined using <span style='color: blue'>**def**</span> followed by a <span style='color: blue'>**name**</span> and <span style='color: blue'>**parameter**</span> in parentheses. \n",
    "\n",
    "It helps to break down complex programs into <span style='color: magenta'>**smaller**</span>, <span style='color: magenta'>**organized**</span>, and more <span style='color: magenta'>**manageable parts**</span>, improving code readability and modularity."
   ]
  },
  {
   "cell_type": "markdown",
   "id": "7e31a070",
   "metadata": {
    "slideshow": {
     "slide_type": "slide"
    }
   },
   "source": [
    "Here is a <span style='color: blue'>**simple example**</span> of defining a function:\n",
    "\n",
    "```python\n",
    "    def function_name(parameter_1, parameter_2):\n",
    "        return output\n",
    "```\n",
    "\n",
    "Function <span style='color: magenta'>**parameters**</span> are <span style='color: magenta'>**variables**</span> used to perform a task, and the <span style='color: magenta'>**return**</span> statement specifies the output."
   ]
  },
  {
   "cell_type": "markdown",
   "id": "5bf3de68",
   "metadata": {
    "slideshow": {
     "slide_type": "slide"
    }
   },
   "source": [
    "In this example a <span style='color: blue'>**function**</span> is used to <span style='color: magenta'>**sum togther**</span> two numbers passed as parameters."
   ]
  },
  {
   "cell_type": "code",
   "execution_count": 2,
   "id": "b53aea10",
   "metadata": {},
   "outputs": [],
   "source": [
    "# Define a function that takes two arguments and returns their sum\n",
    "def add_numbers(x, y):\n",
    "    return x + y\n",
    "\n",
    "# Call the function and print the result\n",
    "result = add_numbers(3, 4)\n",
    "\n",
    "print(f'{result = }')"
   ]
  },
  {
   "cell_type": "markdown",
   "id": "b8971a21",
   "metadata": {
    "slideshow": {
     "slide_type": "slide"
    }
   },
   "source": [
    "## <span style='color: blue'>**Function Parameters**</span> <a id='#function-parameters'></a>\n",
    "\n",
    "In this example the parameters are referred to as <span style='color: magenta'>**positional parameters**</span>, which implies that they possess the following characteristics:\n",
    "\n",
    "```python\n",
    "    def add_numbers(x, y):\n",
    "        return x + y\n",
    "```\n",
    "\n",
    "- They are <span style='color: magenta'>**mandatory**</span>. An <span style='color: magenta'>**error**</span> will be raised without them.\n",
    "- They need to be provided in the <span style='color: magenta'>**exact sequence as they are listed**</span> in the function."
   ]
  },
  {
   "cell_type": "markdown",
   "id": "5532c15c",
   "metadata": {
    "slideshow": {
     "slide_type": "slide"
    }
   },
   "source": [
    "The following example <span style='color: blue'>**calculate_total_bill()**</span> function has a combination of a positional parameter and <span style='color: magenta'>**two default parameters**</span>.\n",
    "\n",
    "Default parameters are <span style='color: blue'>**pre-set values**</span> for a function, used when <span style='color: magenta'>**no argument is passed**</span> during function call."
   ]
  },
  {
   "cell_type": "code",
   "execution_count": 3,
   "id": "153108c5",
   "metadata": {},
   "outputs": [],
   "source": [
    "# Define a function that will calulate the total bill\n",
    "def calculate_total_bill(amount, tip_percent=15, tax_percent=10):\n",
    "    tip = amount * tip_percent / 100\n",
    "    tax = amount * tax_percent / 100\n",
    "    total = amount + tip + tax\n",
    "    return total\n",
    "\n",
    "# Call the function and pass in only the mandatory positional parameter\n",
    "total_bill = calculate_total_bill(120.00)\n",
    "\n",
    "# Print the total bill\n",
    "print(f'{total_bill = }')"
   ]
  },
  {
   "cell_type": "code",
   "execution_count": 4,
   "id": "632dbd91",
   "metadata": {
    "slideshow": {
     "slide_type": "fragment"
    }
   },
   "outputs": [],
   "source": [
    "# Call the function but this time change the tip_percent\n",
    "total_bill = calculate_total_bill(120.0, 20)\n",
    "\n",
    "# Print the total bill\n",
    "print(f'{total_bill = }')"
   ]
  },
  {
   "cell_type": "markdown",
   "id": "911e404d",
   "metadata": {
    "slideshow": {
     "slide_type": "slide"
    }
   },
   "source": [
    "In order to pass a new value for the <span style='color: blue'>**tax_percent**</span> parameter while keeping the <span style='color: blue'>**tip_percent**</span> at its <span style='color: magenta'>**default value**</span>, you would need to use a <span style='color: magenta'>**keyword parameter**</span>.\n",
    "\n",
    "These are named parameters that allow you to <span style='color: magenta'>**assign values**</span> to function arguments using the <span style='color: magenta'>**parameter name**</span>."
   ]
  },
  {
   "cell_type": "code",
   "execution_count": 5,
   "id": "05fe91e5",
   "metadata": {},
   "outputs": [],
   "source": [
    "# Call the function but this time change the tax_percent\n",
    "total_bill = calculate_total_bill(120.0, tax_percent=15)\n",
    "\n",
    "# Print the total bill\n",
    "print(f'{total_bill = }')"
   ]
  },
  {
   "cell_type": "markdown",
   "id": "d9e1c994",
   "metadata": {
    "slideshow": {
     "slide_type": "slide"
    }
   },
   "source": [
    "Using <span style='color: blue'>**\\*args**</span> as function parameters enables a function to receive a <span style='color: magenta'>**flexible number of arguments**</span>, which are gathered as a <span style='color: blue'>**tuple**</span> inside the function."
   ]
  },
  {
   "cell_type": "code",
   "execution_count": 6,
   "id": "e9a9001e",
   "metadata": {},
   "outputs": [],
   "source": [
    "# Define the print_args function\n",
    "def print_args(*args):\n",
    "    for arg in args:\n",
    "        print(arg)\n",
    "\n",
    "# Create a list of actors who have played Superman\n",
    "superman_actors = ['Christopher Reeve', 'Brandon Routh', 'Henry Cavill']\n",
    "\n",
    "# Call the print_args function with the list of Superman actors as arguments\n",
    "print_args(*superman_actors)"
   ]
  },
  {
   "cell_type": "markdown",
   "id": "9128182b",
   "metadata": {
    "slideshow": {
     "slide_type": "slide"
    }
   },
   "source": [
    "By defining a Python function with <span style='color: blue'>****kwargs**</span>, it becomes possible to receive a <span style='color: blue'>**dictionary**</span> of variable <span style='color: magenta'>**keyword arguments**</span>."
   ]
  },
  {
   "cell_type": "code",
   "execution_count": 7,
   "id": "920a323f",
   "metadata": {},
   "outputs": [],
   "source": [
    "# Define the print **kwargs function\n",
    "def print_kwargs(**kwargs):\n",
    "    for actor, age in kwargs.items():\n",
    "        print(f'Actor: {actor}, Age: {age}')\n",
    "\n",
    "# Create a dictionary of actors who have played the Joker\n",
    "joker_actors = {\n",
    "    'Cesar Romero': 74,\n",
    "    'Jack Nicholson': 84,\n",
    "    'Heath Ledger': 28,\n",
    "    'Joaquin Phoenix': 47\n",
    "}\n",
    "\n",
    "# Call the print kwargs function with the dict of Joker actors as key-word arguments\n",
    "print_kwargs(**joker_actors)\n"
   ]
  },
  {
   "cell_type": "markdown",
   "id": "381b688c",
   "metadata": {
    "slideshow": {
     "slide_type": "slide"
    }
   },
   "source": [
    "## <span style='color: blue'>**Function Return Values**</span> <a id='#function-return-values'></a>\n",
    "\n",
    "It is possible for a function to <span style='color: magenta'>**return more than one value**</span>. The values are returned as a <span style='color: blue'>**tuple**</span> or can be <span style='color: magenta'>**unpacked into separate variables**</span>. "
   ]
  },
  {
   "cell_type": "code",
   "execution_count": 8,
   "id": "68e5063b",
   "metadata": {},
   "outputs": [],
   "source": [
    "# Define a function that calculates the area & perimeter of a rectangle\n",
    "def rectangle_info(length, width):\n",
    "    area = length * width\n",
    "    perimeter = 2 * (length + width)\n",
    "    return area, perimeter\n",
    "\n",
    "# Assigning the returned value to one variable will return a tuple\n",
    "returned_tuple = rectangle_info(2, 3)\n",
    "\n",
    "print(f'{returned_tuple = }', type(returned_tuple))"
   ]
  },
  {
   "cell_type": "code",
   "execution_count": 9,
   "id": "a90f767d",
   "metadata": {
    "slideshow": {
     "slide_type": "fragment"
    }
   },
   "outputs": [],
   "source": [
    "# Unpacking the returned value in two separate values\n",
    "area, perimeter = rectangle_info(2, 3)\n",
    "\n",
    "print(f'{area = }')\n",
    "print(f'{perimeter = }')"
   ]
  },
  {
   "cell_type": "markdown",
   "id": "b3c52573",
   "metadata": {
    "slideshow": {
     "slide_type": "slide"
    }
   },
   "source": [
    "## <span style='color: blue'>**Lambda Functions**</span> <a id='#lambda-functions'></a>\n",
    "\n",
    "These are <span style='color: magenta'>**anonymous**</span> functions that can be defined and called in a <span style='color: magenta'>**single line of code**</span>, without the need for a function name or a return statement."
   ]
  },
  {
   "cell_type": "code",
   "execution_count": 10,
   "id": "14654e89",
   "metadata": {},
   "outputs": [],
   "source": [
    "# Create a lambda function check if number is even\n",
    "is_even = lambda x: x % 2 == 0\n",
    "\n",
    "# Print result\n",
    "print(is_even(2))"
   ]
  },
  {
   "cell_type": "code",
   "execution_count": 11,
   "id": "df77c694",
   "metadata": {
    "slideshow": {
     "slide_type": "fragment"
    }
   },
   "outputs": [],
   "source": [
    "# Create a list of numbers\n",
    "numbers = [1, 2, 3, 4, 5, 6, 7, 8, 9, 10]\n",
    "\n",
    "# Use lambda function to filter a list\n",
    "filtered_numbers = list(filter(lambda x: x % 2 == 0, numbers))\n",
    "\n",
    "# Print filtered list\n",
    "print(f'{filtered_numbers = }')"
   ]
  },
  {
   "cell_type": "markdown",
   "id": "ed2b06a4",
   "metadata": {
    "slideshow": {
     "slide_type": "slide"
    }
   },
   "source": [
    "## <span style='color: blue'>**Recursion**</span> <a id='#recursion'></a>\n",
    "\n",
    "This is a technique where a <span style='color: magenta'>**function calls itself to perform a task**</span>. In Python, you define a function that calls itself with modified parameters until a <span style='color: magenta'>**base case**</span> is met to prevent <span style='color: magenta'>**infinite recursion**</span>, which could crash the program."
   ]
  },
  {
   "cell_type": "markdown",
   "id": "541485d3",
   "metadata": {
    "slideshow": {
     "slide_type": "fragment"
    }
   },
   "source": [
    "The <span style='color: blue'>**[Fibonacci Sequence](https://www.mathsisfun.com/numbers/fibonacci-sequence.html)**</span> is a series of numbers in which <span style='color: magenta'>**each number is the sum of the two numbers before it**</span>, starting from 0 and 1. The following code is an example of using a recursive function to solve the <span style='color: magenta'>**nth values**</span> in the sequence.\n",
    "<span style='color: blue'>**$$0, 1, 1, 2, 3, 5, 8, 13, 21, 34$$**</span>"
   ]
  },
  {
   "cell_type": "code",
   "execution_count": 12,
   "id": "fb50eed6",
   "metadata": {},
   "outputs": [],
   "source": [
    "def fibonacci_recursion(n):\n",
    "    if n <= 1:\n",
    "        return n\n",
    "    else:\n",
    "        return fibonacci_recursion(n-1) + fibonacci_recursion(n-2)\n",
    "\n",
    "print(fibonacci_recursion(4))"
   ]
  },
  {
   "cell_type": "markdown",
   "id": "f799e8bc",
   "metadata": {
    "slideshow": {
     "slide_type": "slide"
    }
   },
   "source": [
    "<span style='color: blue'>**Recursion**</span> can be elegant but less efficient than <span style='color: blue'>**iteration**</span>. The following example function uses <span style='color: blue'>**iteration**</span> by repeatedly executing a block of code until a specific condition is met."
   ]
  },
  {
   "cell_type": "code",
   "execution_count": 13,
   "id": "2e6e0f56",
   "metadata": {},
   "outputs": [],
   "source": [
    "def fibonacci_iteration(n):\n",
    "    if n <= 1:\n",
    "        return n\n",
    "    else:\n",
    "        fib = [0, 1]\n",
    "        for i in range(2, n+1):\n",
    "            fib.append(fib[i-1] + fib[i-2])\n",
    "        return fib[n]\n",
    "\n",
    "print(fibonacci_iteration(9))"
   ]
  },
  {
   "cell_type": "code",
   "execution_count": 14,
   "id": "db2cfd54",
   "metadata": {
    "slideshow": {
     "slide_type": "fragment"
    }
   },
   "outputs": [],
   "source": [
    "# Time using recursion function \n",
    "%timeit fibonacci_recursion(9)\n",
    "\n",
    "# Time using iteration function\n",
    "%timeit fibonacci_iteration(9)"
   ]
  },
  {
   "cell_type": "markdown",
   "id": "596c503a",
   "metadata": {
    "slideshow": {
     "slide_type": "slide"
    }
   },
   "source": [
    "## <span style='color: blue'>**Function Scopes & Closures**</span> <a id='#function-scope-closures'></a>\n",
    "\n",
    "<span style='color: blue'>**Scope**</span> refers to the <span style='color: magenta'>**availability of variables to functions**</span>. Variables defined <span style='color: magenta'>**outside a function**</span> are <span style='color: magenta'>**accessible to that function**</span>, while variables defined <span style='color: magenta'>**inside the function**</span> are <span style='color: magenta'>**ONLY available within that function**</span>."
   ]
  },
  {
   "cell_type": "code",
   "execution_count": 15,
   "id": "c2305342",
   "metadata": {},
   "outputs": [],
   "source": [
    "# Create a variable outside a function\n",
    "x = 5\n",
    "\n",
    "def return_five():\n",
    "    return x\n",
    "\n",
    "# Print output of the function\n",
    "print(return_five())"
   ]
  },
  {
   "cell_type": "markdown",
   "id": "3312f685",
   "metadata": {
    "slideshow": {
     "slide_type": "fragment"
    }
   },
   "source": [
    "This is an example of a <span style='color: blue'>**global**</span> variable."
   ]
  },
  {
   "cell_type": "code",
   "execution_count": 16,
   "id": "e76edbb6",
   "metadata": {
    "slideshow": {
     "slide_type": "slide"
    }
   },
   "outputs": [],
   "source": [
    "# Create a function inside a function\n",
    "def return_five():\n",
    "    y = 5\n",
    "    return y\n",
    "\n",
    "# Try to print the variable - use try-except block to catch error\n",
    "try:\n",
    "    print(y)\n",
    "except Exception as error:\n",
    "    print(f'{error = }')"
   ]
  },
  {
   "cell_type": "markdown",
   "id": "21ce1517",
   "metadata": {
    "slideshow": {
     "slide_type": "fragment"
    }
   },
   "source": [
    "This is an example of a <span style='color: blue'>**local**</span> variable."
   ]
  },
  {
   "cell_type": "markdown",
   "id": "ba2972bb",
   "metadata": {
    "slideshow": {
     "slide_type": "slide"
    }
   },
   "source": [
    "In the event that a <span style='color: blue'>**global**</span> and <span style='color: blue'>**local**</span> variable are declared with the same name, the <span style='color: magenta'>**local variable takes priorty**</span>."
   ]
  },
  {
   "cell_type": "code",
   "execution_count": 17,
   "id": "6b8b3d4e",
   "metadata": {},
   "outputs": [],
   "source": [
    "# Create global variable\n",
    "b = 5\n",
    "\n",
    "# Create a function with a local variable\n",
    "def return_b():\n",
    "    b = 10\n",
    "    return b\n",
    "\n",
    "# Print the output\n",
    "print(f'Global: {b}')\n",
    "print(f'Local: {return_b()}')"
   ]
  },
  {
   "cell_type": "markdown",
   "id": "c0eceeb6",
   "metadata": {
    "slideshow": {
     "slide_type": "slide"
    }
   },
   "source": [
    "In this example the keyword <span style='color: blue'>**global**</span> indicates the variable being modified is the <span style='color: magenta'>**global variable x**</span>. <span style='color: blue'>**my_function()**</span> sets <span style='color: magenta'>**x to 20**</span> and <span style='color: blue'>**print(x)**</span> that is <span style='color: magenta'>**outside the function**</span> then prints the <span style='color: magenta'>**new global value of 20**</span>."
   ]
  },
  {
   "cell_type": "code",
   "execution_count": 18,
   "id": "93441457",
   "metadata": {},
   "outputs": [],
   "source": [
    "# Create a new global variable\n",
    "x = 10\n",
    "\n",
    "# Define a new function\n",
    "def my_function():\n",
    "    \n",
    "    # Use the global keyword to tell python to access the global 'x' variable\n",
    "    global x\n",
    "    \n",
    "    # Set the new value of global 'x'\n",
    "    x = 20\n",
    "\n",
    "# Call the function\n",
    "my_function()\n",
    "\n",
    "# Print 'x' from outside the function\n",
    "print(x)\n"
   ]
  },
  {
   "cell_type": "markdown",
   "id": "f75c4545",
   "metadata": {},
   "source": [
    "Prefer <span style='color: blue'>**local variables**</span> and <span style='color: blue'>**function arguments**</span> over modifying global variables inside functions, but use the latter sparingly when required."
   ]
  },
  {
   "cell_type": "markdown",
   "id": "f905dde8",
   "metadata": {
    "slideshow": {
     "slide_type": "slide"
    }
   },
   "source": [
    "Python has two built in functions called <span style='color: blue'>**globals()**</span> and <span style='color: blue'>**locals()**</span> that return <span style='color: blue'>**dictionaries**</span> containing the <span style='color: magenta'>**global & local variables**</span> and their values in the current scope.\n",
    "\n",
    "This can be valuable when <span style='color: magenta'>**debugging your code**</span>."
   ]
  },
  {
   "cell_type": "code",
   "execution_count": 19,
   "id": "238be89a",
   "metadata": {},
   "outputs": [],
   "source": [
    "# Declare a global variable\n",
    "x = 10\n",
    "\n",
    "# Define a new function\n",
    "def global_locals():\n",
    "    \n",
    "    # Declare a local variable\n",
    "    y = 20\n",
    "    \n",
    "    # Call the built-in functions globals() and locals()\n",
    "    print(f'{globals()[\"x\"] = }')\n",
    "    print(f'{locals() = }')\n",
    "\n",
    "# Call the new function\n",
    "global_locals()"
   ]
  },
  {
   "cell_type": "markdown",
   "id": "8956feaf",
   "metadata": {
    "slideshow": {
     "slide_type": "slide"
    }
   },
   "source": [
    "There is a third related keyword called <span style='color: blue'>**nonlocal**</span>, it is used to declare and access variables in an <span style='color: magenta'>**outer function**</span> within <span style='color: magenta'>**nested functions**</span>."
   ]
  },
  {
   "cell_type": "code",
   "execution_count": 20,
   "id": "d0130040",
   "metadata": {},
   "outputs": [],
   "source": [
    "x = 'global'\n",
    "\n",
    "def outer_function():\n",
    "    x = \"outer\"\n",
    "\n",
    "    def inner_function():\n",
    "        nonlocal x\n",
    "        x = \"inner\"\n",
    "\n",
    "    inner_function()\n",
    "    print(x)\n",
    "\n",
    "outer_function()"
   ]
  },
  {
   "cell_type": "markdown",
   "id": "c707dd0f",
   "metadata": {
    "slideshow": {
     "slide_type": "slide"
    }
   },
   "source": [
    "A <span style='color: blue'>**closure**</span> is a <span style='color: magenta'>**function nested within another function**</span> that can <span style='color: magenta'>**\"remember\" variables**</span> defined in the <span style='color: magenta'>**local scope**</span> of the <span style='color: magenta'>**outer function**</span>, even after the outer function has completed its execution."
   ]
  },
  {
   "cell_type": "code",
   "execution_count": 21,
   "id": "c46fec90",
   "metadata": {},
   "outputs": [],
   "source": [
    "def outer_function(x):\n",
    "    def inner_function(y):\n",
    "        return x + y\n",
    "    return inner_function\n",
    "\n",
    "func = outer_function(5)\n",
    "result = func(3)\n",
    "print(result)"
   ]
  },
  {
   "cell_type": "markdown",
   "id": "83972de6",
   "metadata": {
    "slideshow": {
     "slide_type": "fragment"
    }
   },
   "source": [
    "In this example, <span style='color: blue'>**outer_function**</span> returns <span style='color: blue'>**inner_function**</span> that takes a <span style='color: magenta'>**parameter y**</span> and adds it to the <span style='color: magenta'>**value of x**</span> that was <span style='color: magenta'>**\"closed over\"**</span>. \n",
    "\n",
    "We assign the <span style='color: magenta'>**returned function**</span> to a variable named <span style='color: blue'>**\"func\"**</span>, which can be called with an argument to return the <span style='color: magenta'>**sum of x**</span> and that argument."
   ]
  },
  {
   "cell_type": "markdown",
   "id": "7651c505",
   "metadata": {
    "slideshow": {
     "slide_type": "slide"
    }
   },
   "source": [
    "To further illustrate the concept of <span style='color: blue'>**function closures**</span>, consider the following example. \n",
    "\n",
    "Suppose we want to create a function that can <span style='color: magenta'>**keep track of how many times it has been called**</span>.\n",
    "\n",
    "<span style='color: magenta'>**Note**</span>: the use of the <span style='color: blue'>**nonlocal**</span> keyword used inside the nested function."
   ]
  },
  {
   "cell_type": "code",
   "execution_count": 22,
   "id": "3809946e",
   "metadata": {},
   "outputs": [],
   "source": [
    "# Closure example\n",
    "def counter():\n",
    "    count = 0\n",
    "    \n",
    "    def inner():\n",
    "        nonlocal count\n",
    "        count += 1\n",
    "        return count\n",
    "\n",
    "    return inner\n",
    "\n",
    "my_counter = counter()\n",
    "\n",
    "print(my_counter())\n",
    "print(my_counter())\n",
    "print(my_counter())"
   ]
  },
  {
   "cell_type": "markdown",
   "id": "3294cca4",
   "metadata": {
    "slideshow": {
     "slide_type": "slide"
    }
   },
   "source": [
    "## <span style='color: blue'>**Decorators**</span> <a id='#decorators'></a>\n",
    "\n",
    "Python <span style='color: blue'>**decorators**</span> modify the <span style='color: magenta'>**behavior of functions**</span> by adding a <span style='color: magenta'>**wrapper function**</span> around them. They take a <span style='color: magenta'>**function as an argument**</span> and <span style='color: magenta'>**return a new function**</span> that <span style='color: magenta'>**adds functionality**</span> to the original one."
   ]
  },
  {
   "cell_type": "markdown",
   "id": "cd1517b8",
   "metadata": {
    "slideshow": {
     "slide_type": "slide"
    }
   },
   "source": [
    "Lets start the example with a simple <span style='color: blue'>**function**</span> that <span style='color: magenta'>**adds two numbers together**</span>."
   ]
  },
  {
   "cell_type": "code",
   "execution_count": 23,
   "id": "af6b0c80",
   "metadata": {},
   "outputs": [],
   "source": [
    "# Function that adds two numbers\n",
    "def add(a, b):\n",
    "    return a + b\n",
    "\n",
    "print(add(2, 3))"
   ]
  },
  {
   "cell_type": "markdown",
   "id": "807a5718",
   "metadata": {
    "slideshow": {
     "slide_type": "fragment"
    }
   },
   "source": [
    "Now lets say we would like to <span style='color: magenta'>**add some functionallity**</span> where this function can check to see if the number is even or odd, <span style='color: magenta'>**without modifying the original**</span> <span style='color: blue'>**add**</span> function.\n",
    "\n",
    "We will call this function the <span style='color: blue'>**wrapper**</span> function."
   ]
  },
  {
   "cell_type": "code",
   "execution_count": 24,
   "id": "c2e5c72e",
   "metadata": {
    "slideshow": {
     "slide_type": "fragment"
    }
   },
   "outputs": [],
   "source": [
    "def wrapper(a, b):\n",
    "    if (a + b) % 2 == 0:\n",
    "        print('This number is even')\n",
    "    else:\n",
    "        print('This number is odd')\n",
    "        \n",
    "wrapper(2, 3)"
   ]
  },
  {
   "cell_type": "markdown",
   "id": "96fda323",
   "metadata": {
    "slideshow": {
     "slide_type": "slide"
    }
   },
   "source": [
    "We can write a <span style='color: magenta'>**third function**</span> that takes the <span style='color: blue'>add</span> function as a parameter and returns the wrapper function with the capabilities of <span style='color: blue'>**add**</span>. We will call this function <span style='color: blue'>**is_even**</span>."
   ]
  },
  {
   "cell_type": "code",
   "execution_count": 25,
   "id": "74f6d013",
   "metadata": {},
   "outputs": [],
   "source": [
    "# New function that take a function as a parameter and contains wrapper function\n",
    "def is_even(add_function):\n",
    "    \n",
    "    # Wrapper function now returns the passed function\n",
    "    def wrapper(a, b):\n",
    "        if (a + b) % 2 == 0:\n",
    "            print('This number is even')\n",
    "        else:\n",
    "            print('This number is odd')\n",
    "        return add_function(a, b)\n",
    "\n",
    "    return wrapper\n",
    "\n",
    "# Original add function\n",
    "def add(a, b):\n",
    "    return a + b\n",
    "\n",
    "is_even_function = is_even(add)\n",
    "\n",
    "is_even_function(2, 3)"
   ]
  },
  {
   "cell_type": "markdown",
   "id": "6c5ba082",
   "metadata": {
    "slideshow": {
     "slide_type": "slide"
    }
   },
   "source": [
    "We can used the <span style='color: magenta'>**@**</span> symbol to <span style='color: magenta'>**decorate**</span> the function to simplyfy the code."
   ]
  },
  {
   "cell_type": "code",
   "execution_count": 26,
   "id": "f8ff3a8e",
   "metadata": {},
   "outputs": [],
   "source": [
    "def is_even(add_function):\n",
    "    \n",
    "    def wrapper(a, b):\n",
    "        if (a + b) % 2 == 0:\n",
    "            print('This number is even')\n",
    "        else:\n",
    "            print('This number is odd')\n",
    "        return add_function(a, b)\n",
    "\n",
    "    return wrapper\n",
    "\n",
    "@is_even\n",
    "def add(a, b):\n",
    "    return a + b\n",
    "\n",
    "add(2, 3)"
   ]
  },
  {
   "cell_type": "markdown",
   "id": "8654965c",
   "metadata": {
    "slideshow": {
     "slide_type": "slide"
    }
   },
   "source": [
    "## <span style='color: blue'>**Docstrings**</span> <a id='#docstrings'></a>\n",
    "\n",
    "Python <span style='color: blue'>**docstrings**</span> describe code <span style='color: magenta'>**objects and their purpose**</span>, arguments, and returns for <span style='color: magenta'>**standardization**</span> and <span style='color: magenta'>**automated documentation**</span>.\n",
    "\n"
   ]
  },
  {
   "cell_type": "code",
   "execution_count": 27,
   "id": "341ae3eb",
   "metadata": {},
   "outputs": [],
   "source": [
    "def closest_joker_actor(year):\n",
    "    \"\"\"\n",
    "    Given a year, returns the name of the actor who played the Joker\n",
    "    that was born closest to that year.\n",
    "\n",
    "    Parameters:\n",
    "    year (int): The year for which to find the closest Joker actor.\n",
    "\n",
    "    Returns:\n",
    "    str: The name of the Joker actor who was born closest to the input year.\n",
    "    \"\"\"\n",
    "    \n",
    "    joker_actors = {'Cesar Romero': 1907, 'Jack Nicholson': 1937, 'Heath Ledger': 1979, 'Joaquin Phoenix': 1974}\n",
    "\n",
    "    closest_actor = None\n",
    "    min_difference = float('inf')\n",
    "    for actor, birth_year in joker_actors.items():\n",
    "        difference = abs(birth_year - year)\n",
    "        if difference < min_difference:\n",
    "            min_difference = difference\n",
    "            closest_actor = actor\n",
    "\n",
    "    return closest_actor\n",
    "\n",
    "closest_joker_actor(1971)"
   ]
  },
  {
   "cell_type": "markdown",
   "id": "1f94d5e0",
   "metadata": {
    "slideshow": {
     "slide_type": "slide"
    }
   },
   "source": [
    "By using <span style='color: blue'>**Docstrings**</span> that can be viewed by utilizing the <span style='color: blue'>**help()**</span> function or invoking the <span style='color: blue'>**__doc__**</span> method, you can offer <span style='color: magenta'>**automated documentation**</span> and assist other programmers in interpreting your code."
   ]
  },
  {
   "cell_type": "code",
   "execution_count": 28,
   "id": "8b394776",
   "metadata": {
    "scrolled": true
   },
   "outputs": [],
   "source": [
    "help(closest_joker_actor)"
   ]
  },
  {
   "cell_type": "markdown",
   "id": "d3a1cd1e",
   "metadata": {
    "slideshow": {
     "slide_type": "slide"
    }
   },
   "source": [
    "## <span style='color: blue'>**Best Practices for Writing Functions**</span> <a id='#best-practices'></a>\n",
    "\n",
    "To ensure <span style='color: magenta'>**readable**</span>, <span style='color: magenta'>**maintainable**</span>, and <span style='color: magenta'>**high-performing**</span> code, it's crucial to follow best practices when writing functions. Consider the following guidelines:"
   ]
  },
  {
   "cell_type": "markdown",
   "id": "6dd9a049",
   "metadata": {
    "slideshow": {
     "slide_type": "fragment"
    }
   },
   "source": [
    "- Function names should be <span style='color: magenta'>**brief**</span>, <span style='color: magenta'>**descriptive**</span> and in <span style='color: magenta'>**lowercase**</span>, words should be seperated by <span style='color: magenta'>**underscores**</span>.  This is known as <span style='color: magenta'>**\"snake case\"**</span>."
   ]
  },
  {
   "cell_type": "markdown",
   "id": "078636b4",
   "metadata": {
    "slideshow": {
     "slide_type": "fragment"
    }
   },
   "source": [
    "- Functions should handle <span style='color: magenta'>**only necessary data**</span> with arguments and return values. Avoid using <span style='color: magenta'>**global variables**</span> for better testability and modularity."
   ]
  },
  {
   "cell_type": "markdown",
   "id": "e1f9ef5c",
   "metadata": {
    "slideshow": {
     "slide_type": "slide"
    }
   },
   "source": [
    "- Functions should be <span style='color: magenta'>**concise**</span> and <span style='color: magenta'>**focused**</span> on a <span style='color: magenta'>**single task**</span> to increase readability and maintainability. Lengthy functions make code difficult to read and debug."
   ]
  },
  {
   "cell_type": "markdown",
   "id": "28b43a4e",
   "metadata": {
    "slideshow": {
     "slide_type": "fragment"
    }
   },
   "source": [
    "- Use <span style='color: blue'>**docstrings**</span> to <span style='color: magenta'>**document functions**</span> by describing their purpose, arguments, and return values. They help developers understand and use functions effectively."
   ]
  },
  {
   "cell_type": "markdown",
   "id": "80df7984",
   "metadata": {
    "slideshow": {
     "slide_type": "fragment"
    }
   },
   "source": [
    "- Use <span style='color: blue'>**comments**</span> clarify <span style='color: magenta'>**complex logic**</span> in functions. While essential, <span style='color: magenta'>**use them sparingly**</span> to prevent code clutter."
   ]
  }
 ],
 "metadata": {
  "celltoolbar": "Slideshow",
  "kernelspec": {
   "display_name": "Python 3 (ipykernel)",
   "language": "python",
   "name": "python3"
  },
  "language_info": {
   "codemirror_mode": {
    "name": "ipython",
    "version": 3
   },
   "file_extension": ".py",
   "mimetype": "text/x-python",
   "name": "python",
   "nbconvert_exporter": "python",
   "pygments_lexer": "ipython3",
   "version": "3.11.1"
  }
 },
 "nbformat": 4,
 "nbformat_minor": 5
}
