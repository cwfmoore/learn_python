{
 "cells": [
  {
   "cell_type": "code",
   "execution_count": 1,
   "id": "92281873",
   "metadata": {
    "slideshow": {
     "slide_type": "skip"
    }
   },
   "outputs": [],
   "source": [
    "# !pip install rich\n",
    "from rich import print"
   ]
  },
  {
   "cell_type": "markdown",
   "id": "8a83ea4e",
   "metadata": {
    "slideshow": {
     "slide_type": "slide"
    }
   },
   "source": [
    "## <span style='color: blue'>Learn Python</span> - Quotation Marks & Escape Characters\n",
    "\n",
    "Python <span style='color: blue'>**strings**</span> can be created by enclosing <span style='color: magenta'>**text**</span> in <span style='color: magenta'>**single**</span>, <span style='color: magenta'>**double**</span>, or <span style='color: magenta'>**triple quotes**</span>. They can also be created by using the <span style='color: blue'>**str() constructor**</span>."
   ]
  },
  {
   "cell_type": "code",
   "execution_count": 3,
   "id": "29541e31",
   "metadata": {
    "slideshow": {
     "slide_type": "fragment"
    }
   },
   "outputs": [],
   "source": [
    "single_quote = 'This is a string created using single quotes.'\n",
    "\n",
    "double_quote = \"This is a string created using double quotes.\"\n",
    "\n",
    "triple_quote = '''This is a string\n",
    "                 created using\n",
    "                 triple quotes.'''"
   ]
  },
  {
   "cell_type": "markdown",
   "id": "ed05000b",
   "metadata": {
    "slideshow": {
     "slide_type": "slide"
    }
   },
   "source": [
    "To use a quotation mark <span style='color: blue'>**within the string**</span> text an <span style='color: blue'>**escape character**</span> must be used. \n",
    "\n",
    "In python strings this is the <span style='color: blue'>**backslash**</span> (<span style='color: magenta'> \\\\ </span>)."
   ]
  },
  {
   "cell_type": "code",
   "execution_count": 5,
   "id": "b0facf7a",
   "metadata": {
    "slideshow": {
     "slide_type": "slide"
    }
   },
   "outputs": [
    {
     "data": {
      "text/html": [
       "<pre style=\"white-space:pre;overflow-x:auto;line-height:normal;font-family:Menlo,'DejaVu Sans Mono',consolas,'Courier New',monospace\">I have not failed. I've just found <span style=\"color: #008080; text-decoration-color: #008080; font-weight: bold\">10</span>,<span style=\"color: #008080; text-decoration-color: #008080; font-weight: bold\">000</span> ways that won't work. - Thomas Edison\n",
       "</pre>\n"
      ],
      "text/plain": [
       "I have not failed. I've just found \u001b[1;36m10\u001b[0m,\u001b[1;36m000\u001b[0m ways that won't work. - Thomas Edison\n"
      ]
     },
     "metadata": {},
     "output_type": "display_data"
    }
   ],
   "source": [
    "quote = 'I have not failed. I\\'ve just found 10,000 ways that won\\'t work. - Thomas Edison'\n",
    "\n",
    "print(quote)"
   ]
  },
  {
   "cell_type": "markdown",
   "id": "7f94b1c9",
   "metadata": {},
   "source": [
    "Python <span style='color: blue'>**escape sequences**</span> are <span style='color: magenta'>**special characters**</span> that begin with a <span style='color: blue'>**backslash**</span> and are used to represent characters that <span style='color: magenta'>**cannot be typed directly**</span> in a string."
   ]
  },
  {
   "cell_type": "markdown",
   "id": "ac0a72a7",
   "metadata": {},
   "source": [
    "| Escape Sequence | Description |\n",
    "| :---: | :--- |\n",
    "| `\\\\` | Backslash (\\) |\n",
    "| `\\'` | Single quote (') |\n",
    "| `\\\"` | Double quote (\") |\n",
    "| `\\n` | Newline |\n",
    "| `\\r` | Carriage return |\n",
    "| `\\t` | Tab |\n",
    "| `\\b` | Backspace |\n",
    "| `\\f` | Formfeed |\n",
    "| `\\ooo` | Octal value (replace `ooo` with octal value) |\n",
    "| `\\xhh` | Hexadecimal value (replace `hh` with hexadecimal value) |\n"
   ]
  },
  {
   "cell_type": "markdown",
   "id": "618f7217",
   "metadata": {
    "slideshow": {
     "slide_type": "slide"
    }
   },
   "source": [
    "<span style='color: blue'>**Newline**</span> escape sequences represent the character for a <span style='color: magenta'>**new line**</span> in a <span style='color: blue'>**string**</span>, denoted as <span style='color: magenta'>**\\n**</span> in Python."
   ]
  },
  {
   "cell_type": "code",
   "execution_count": 8,
   "id": "32bc5bdb",
   "metadata": {
    "slideshow": {
     "slide_type": "fragment"
    }
   },
   "outputs": [
    {
     "data": {
      "text/html": [
       "<pre style=\"white-space:pre;overflow-x:auto;line-height:normal;font-family:Menlo,'DejaVu Sans Mono',consolas,'Courier New',monospace\">\"I kill an ant\n",
       "and realize my three children\n",
       "have been watching.\"\n",
       "\n",
       "-Kato Shuson\n",
       "</pre>\n"
      ],
      "text/plain": [
       "\"I kill an ant\n",
       "and realize my three children\n",
       "have been watching.\"\n",
       "\n",
       "-Kato Shuson\n"
      ]
     },
     "metadata": {},
     "output_type": "display_data"
    }
   ],
   "source": [
    "quote = \"\\\"I kill an ant\\nand realize my three children\\nhave been watching.\\\"\\n\\n-Kato Shuson\"\n",
    "print(quote)\n"
   ]
  },
  {
   "cell_type": "markdown",
   "id": "07972ef3",
   "metadata": {
    "slideshow": {
     "slide_type": "slide"
    }
   },
   "source": [
    "If you need to include a <span style='color: blue'>**backslash**</span> character in your string's text, you can use <span style='color: blue'>**another backslash**</span> to precede it. For example this is useful when declaring <span style='color: magenta'>**file paths**</span>."
   ]
  },
  {
   "cell_type": "code",
   "execution_count": 10,
   "id": "52d7f891",
   "metadata": {},
   "outputs": [
    {
     "data": {
      "text/html": [
       "<pre style=\"white-space:pre;overflow-x:auto;line-height:normal;font-family:Menlo,'DejaVu Sans Mono',consolas,'Courier New',monospace\">C:\\User\\Documents\\Pictures\n",
       "</pre>\n"
      ],
      "text/plain": [
       "C:\\User\\Documents\\Pictures\n"
      ]
     },
     "metadata": {},
     "output_type": "display_data"
    }
   ],
   "source": [
    "file_path = 'C:\\\\User\\\\Documents\\\\Pictures'\n",
    "print(file_path)"
   ]
  },
  {
   "cell_type": "markdown",
   "id": "ddeb814b",
   "metadata": {
    "slideshow": {
     "slide_type": "slide"
    }
   },
   "source": [
    "You can also use the letter <span style='color: magenta'>**r**</span> before the string to make it a <span style='color: blue'>**raw string**</span>, which will <span style='color: blue'>**disregard**</span> any escape characters."
   ]
  },
  {
   "cell_type": "code",
   "execution_count": 11,
   "id": "95b0478f",
   "metadata": {},
   "outputs": [
    {
     "data": {
      "text/html": [
       "<pre style=\"white-space:pre;overflow-x:auto;line-height:normal;font-family:Menlo,'DejaVu Sans Mono',consolas,'Courier New',monospace\">C:\\User\\Documents\\Pictures\n",
       "</pre>\n"
      ],
      "text/plain": [
       "C:\\User\\Documents\\Pictures\n"
      ]
     },
     "metadata": {},
     "output_type": "display_data"
    }
   ],
   "source": [
    "file_path = r'C:\\User\\Documents\\Pictures'\n",
    "print(file_path)"
   ]
  }
 ],
 "metadata": {
  "celltoolbar": "Slideshow",
  "kernelspec": {
   "display_name": "Python 3 (ipykernel)",
   "language": "python",
   "name": "python3"
  },
  "language_info": {
   "codemirror_mode": {
    "name": "ipython",
    "version": 3
   },
   "file_extension": ".py",
   "mimetype": "text/x-python",
   "name": "python",
   "nbconvert_exporter": "python",
   "pygments_lexer": "ipython3",
   "version": "3.11.1"
  }
 },
 "nbformat": 4,
 "nbformat_minor": 5
}
